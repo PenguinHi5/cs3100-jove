{
  "nbformat": 4,
  "nbformat_minor": 0,
  "metadata": {
    "colab": {
      "name": "u0000000_asg03.ipynb",
      "provenance": []
    },
    "kernelspec": {
      "display_name": "Python 3",
      "language": "python",
      "name": "python3"
    },
    "language_info": {
      "codemirror_mode": {
        "name": "ipython",
        "version": 3
      },
      "file_extension": ".py",
      "mimetype": "text/x-python",
      "name": "python",
      "nbconvert_exporter": "python",
      "pygments_lexer": "ipython3",
      "version": "3.7.3"
    },
    "toc": {
      "colors": {
        "hover_highlight": "#DAA520",
        "running_highlight": "#FF0000",
        "selected_highlight": "#FFD700"
      },
      "moveMenuLeft": true,
      "nav_menu": {
        "height": "121px",
        "width": "252px"
      },
      "navigate_menu": true,
      "number_sections": true,
      "sideBar": true,
      "threshold": 4,
      "toc_cell": false,
      "toc_section_display": "block",
      "toc_window_display": false,
      "widenNotebook": false
    },
    "widgets": {
      "application/vnd.jupyter.widget-state+json": {
        "00cf30e0f6ce40dea29859d6b6e4e420": {
          "model_module": "@jupyter-widgets/controls",
          "model_name": "VBoxModel",
          "model_module_version": "1.5.0",
          "state": {
            "_view_name": "VBoxView",
            "_dom_classes": [],
            "_model_name": "VBoxModel",
            "_view_module": "@jupyter-widgets/controls",
            "_model_module_version": "1.5.0",
            "_view_count": null,
            "_view_module_version": "1.5.0",
            "box_style": "",
            "layout": "IPY_MODEL_53e1d74690ec4fbdbcd4e7cd8d8f4be6",
            "_model_module": "@jupyter-widgets/controls",
            "children": [
              "IPY_MODEL_43981eb10a3e4ce6a0bdf08a9adc037f",
              "IPY_MODEL_78a6c7e3dda44a32b0db083517af4b62",
              "IPY_MODEL_86740518dc054edab1fddbbd923cb94d",
              "IPY_MODEL_788f11fa010c4f398bb9976e894f2ad5"
            ]
          }
        },
        "53e1d74690ec4fbdbcd4e7cd8d8f4be6": {
          "model_module": "@jupyter-widgets/base",
          "model_name": "LayoutModel",
          "model_module_version": "1.2.0",
          "state": {
            "_view_name": "LayoutView",
            "grid_template_rows": null,
            "right": null,
            "justify_content": null,
            "_view_module": "@jupyter-widgets/base",
            "overflow": null,
            "_model_module_version": "1.2.0",
            "_view_count": null,
            "flex_flow": null,
            "width": null,
            "min_width": null,
            "border": null,
            "align_items": null,
            "bottom": null,
            "_model_module": "@jupyter-widgets/base",
            "top": null,
            "grid_column": null,
            "overflow_y": null,
            "overflow_x": null,
            "grid_auto_flow": null,
            "grid_area": null,
            "grid_template_columns": null,
            "flex": null,
            "_model_name": "LayoutModel",
            "justify_items": null,
            "grid_row": null,
            "max_height": null,
            "align_content": null,
            "visibility": null,
            "align_self": null,
            "height": null,
            "min_height": null,
            "padding": null,
            "grid_auto_rows": null,
            "grid_gap": null,
            "max_width": null,
            "order": null,
            "_view_module_version": "1.2.0",
            "grid_template_areas": null,
            "object_position": null,
            "object_fit": null,
            "grid_auto_columns": null,
            "margin": null,
            "display": null,
            "left": null
          }
        },
        "43981eb10a3e4ce6a0bdf08a9adc037f": {
          "model_module": "@jupyter-widgets/controls",
          "model_name": "HBoxModel",
          "model_module_version": "1.5.0",
          "state": {
            "_view_name": "HBoxView",
            "_dom_classes": [],
            "_model_name": "HBoxModel",
            "_view_module": "@jupyter-widgets/controls",
            "_model_module_version": "1.5.0",
            "_view_count": null,
            "_view_module_version": "1.5.0",
            "box_style": "",
            "layout": "IPY_MODEL_ecbc3c5cf14d4cf688099b9a5fb33ae3",
            "_model_module": "@jupyter-widgets/controls",
            "children": [
              "IPY_MODEL_f4009c0e937246a6a2fbd346b807d2f3",
              "IPY_MODEL_6f029fa8b88349f989c4ec5891ad9f99"
            ]
          }
        },
        "78a6c7e3dda44a32b0db083517af4b62": {
          "model_module": "@jupyter-widgets/output",
          "model_name": "OutputModel",
          "model_module_version": "1.0.0",
          "state": {
            "_view_name": "OutputView",
            "msg_id": "",
            "_dom_classes": [],
            "_model_name": "OutputModel",
            "outputs": [
              {
                "output_type": "display_data",
                "data": {
                  "text/plain": "<graphviz.files.Source at 0x7f92f0098b50>",
                  "image/svg+xml": "<?xml version=\"1.0\" encoding=\"UTF-8\" standalone=\"no\"?>\n<!DOCTYPE svg PUBLIC \"-//W3C//DTD SVG 1.1//EN\"\n \"http://www.w3.org/Graphics/SVG/1.1/DTD/svg11.dtd\">\n<!-- Generated by graphviz version 2.40.1 (20161225.0304)\n -->\n<!-- Title: %3 Pages: 1 -->\n<svg width=\"333pt\" height=\"122pt\"\n viewBox=\"0.00 0.00 332.59 122.00\" xmlns=\"http://www.w3.org/2000/svg\" xmlns:xlink=\"http://www.w3.org/1999/xlink\">\n<g id=\"graph0\" class=\"graph\" transform=\"scale(1 1) rotate(0) translate(4 117.9977)\">\n<title>%3</title>\n<polygon fill=\"#ffffff\" stroke=\"transparent\" points=\"-4,4 -4,-117.9977 328.5917,-117.9977 328.5917,4 -4,4\"/>\n<!-- EMPTY -->\n<g id=\"node1\" class=\"node\">\n<title>EMPTY</title>\n</g>\n<!-- I -->\n<g id=\"node2\" class=\"node\">\n<title>I</title>\n<ellipse fill=\"#1c86ee\" stroke=\"#000000\" cx=\"109\" cy=\"-29.9977\" rx=\"18\" ry=\"18\"/>\n<text text-anchor=\"middle\" x=\"109\" y=\"-26.2977\" font-family=\"Times,serif\" font-size=\"14.00\" fill=\"#ffffff\">I</text>\n</g>\n<!-- EMPTY&#45;&gt;I -->\n<g id=\"edge1\" class=\"edge\">\n<title>EMPTY&#45;&gt;I</title>\n<path fill=\"none\" stroke=\"#000000\" d=\"M54.3048,-29.9977C62.6909,-29.9977 71.9407,-29.9977 80.4103,-29.9977\"/>\n<polygon fill=\"#000000\" stroke=\"#000000\" points=\"80.5976,-33.4978 90.5976,-29.9977 80.5976,-26.4978 80.5976,-33.4978\"/>\n</g>\n<!-- I&#45;&gt;I -->\n<g id=\"edge2\" class=\"edge\">\n<title>I&#45;&gt;I</title>\n<path fill=\"none\" stroke=\"#000000\" d=\"M105.7643,-47.7794C105.2144,-57.3126 106.293,-65.9977 109,-65.9977 110.6496,-65.9977 111.6945,-62.7726 112.1347,-58.0958\"/>\n<polygon fill=\"#000000\" stroke=\"#000000\" points=\"115.6375,-57.8133 112.2357,-47.7794 108.6379,-57.7446 115.6375,-57.8133\"/>\n<text text-anchor=\"start\" x=\"103\" y=\"-69.7977\" font-family=\"Times,serif\" font-size=\"14.00\" fill=\"#000000\"> 0</text>\n</g>\n<!-- I&#45;&gt;I -->\n<g id=\"edge3\" class=\"edge\">\n<title>I&#45;&gt;I</title>\n<path fill=\"none\" stroke=\"#000000\" d=\"M103.6841,-47.418C100.6538,-64.7886 102.4258,-83.9977 109,-83.9977 114.2902,-83.9977 116.4708,-71.5594 115.5419,-57.6497\"/>\n<polygon fill=\"#000000\" stroke=\"#000000\" points=\"118.9808,-56.9305 114.3159,-47.418 112.0305,-57.7634 118.9808,-56.9305\"/>\n<text text-anchor=\"start\" x=\"103\" y=\"-87.7977\" font-family=\"Times,serif\" font-size=\"14.00\" fill=\"#000000\"> 1</text>\n</g>\n<!-- S1 -->\n<g id=\"node3\" class=\"node\">\n<title>S1</title>\n<ellipse fill=\"none\" stroke=\"#000000\" cx=\"195.7982\" cy=\"-29.9977\" rx=\"20.5982\" ry=\"20.5982\"/>\n<text text-anchor=\"middle\" x=\"195.7982\" y=\"-26.2977\" font-family=\"Times,serif\" font-size=\"14.00\" fill=\"#000000\">S1</text>\n</g>\n<!-- I&#45;&gt;S1 -->\n<g id=\"edge4\" class=\"edge\">\n<title>I&#45;&gt;S1</title>\n<path fill=\"none\" stroke=\"#000000\" d=\"M127.4077,-29.9977C138.2934,-29.9977 152.3613,-29.9977 164.9052,-29.9977\"/>\n<polygon fill=\"#000000\" stroke=\"#000000\" points=\"164.9803,-33.4978 174.9802,-29.9977 164.9802,-26.4978 164.9803,-33.4978\"/>\n<text text-anchor=\"start\" x=\"145\" y=\"-33.7977\" font-family=\"Times,serif\" font-size=\"14.00\" fill=\"#000000\"> 1</text>\n</g>\n<!-- F10 -->\n<g id=\"node4\" class=\"node\">\n<title>F10</title>\n<ellipse fill=\"none\" stroke=\"#000000\" cx=\"294.594\" cy=\"-29.9977\" rx=\"25.9957\" ry=\"25.9957\"/>\n<ellipse fill=\"none\" stroke=\"#000000\" cx=\"294.594\" cy=\"-29.9977\" rx=\"29.9954\" ry=\"29.9954\"/>\n<text text-anchor=\"middle\" x=\"294.594\" y=\"-26.2977\" font-family=\"Times,serif\" font-size=\"14.00\" fill=\"#000000\">F10</text>\n</g>\n<!-- S1&#45;&gt;F10 -->\n<g id=\"edge5\" class=\"edge\">\n<title>S1&#45;&gt;F10</title>\n<path fill=\"none\" stroke=\"#000000\" d=\"M216.7502,-29.9977C227.6555,-29.9977 241.3667,-29.9977 254.2314,-29.9977\"/>\n<polygon fill=\"#000000\" stroke=\"#000000\" points=\"254.2974,-33.4978 264.2974,-29.9977 254.2974,-26.4978 254.2974,-33.4978\"/>\n<text text-anchor=\"start\" x=\"234.5963\" y=\"-33.7977\" font-family=\"Times,serif\" font-size=\"14.00\" fill=\"#000000\"> 0</text>\n</g>\n</g>\n</svg>\n"
                },
                "metadata": {}
              }
            ],
            "_view_module": "@jupyter-widgets/output",
            "_model_module_version": "1.0.0",
            "_view_count": null,
            "_view_module_version": "1.0.0",
            "layout": "IPY_MODEL_cfc3732a6cc04966b9560a6e3a5af423",
            "_model_module": "@jupyter-widgets/output"
          }
        },
        "86740518dc054edab1fddbbd923cb94d": {
          "model_module": "@jupyter-widgets/output",
          "model_name": "OutputModel",
          "model_module_version": "1.0.0",
          "state": {
            "_view_name": "OutputView",
            "msg_id": "",
            "_dom_classes": [],
            "_model_name": "OutputModel",
            "outputs": [
              {
                "output_type": "display_data",
                "data": {
                  "text/plain": "<graphviz.files.Source at 0x7f92f0098c50>",
                  "image/svg+xml": "<?xml version=\"1.0\" encoding=\"UTF-8\" standalone=\"no\"?>\n<!DOCTYPE svg PUBLIC \"-//W3C//DTD SVG 1.1//EN\"\n \"http://www.w3.org/Graphics/SVG/1.1/DTD/svg11.dtd\">\n<!-- Generated by graphviz version 2.40.1 (20161225.0304)\n -->\n<!-- Title: %3 Pages: 1 -->\n<svg width=\"116pt\" height=\"47pt\"\n viewBox=\"0.00 0.00 116.00 47.00\" xmlns=\"http://www.w3.org/2000/svg\" xmlns:xlink=\"http://www.w3.org/1999/xlink\">\n<g id=\"graph0\" class=\"graph\" transform=\"scale(1 1) rotate(0) translate(4 43)\">\n<title>%3</title>\n<polygon fill=\"#ffffff\" stroke=\"transparent\" points=\"-4,4 -4,-43 112,-43 112,4 -4,4\"/>\n<!-- feed -->\n<g id=\"node1\" class=\"node\">\n<title>feed</title>\n<polygon fill=\"none\" stroke=\"#000000\" points=\"8,-3.5 8,-34.5 26,-34.5 26,-3.5 8,-3.5\"/>\n<polygon fill=\"none\" stroke=\"#000000\" points=\"26,-3.5 26,-34.5 51,-34.5 51,-3.5 26,-3.5\"/>\n<text text-anchor=\"start\" x=\"35\" y=\"-15.9\" font-family=\"Times,serif\" font-size=\"12.00\" fill=\"#000000\"> &#160;</text>\n<polygon fill=\"none\" stroke=\"#000000\" points=\"51,-3.5 51,-34.5 100,-34.5 100,-3.5 51,-3.5\"/>\n<text text-anchor=\"start\" x=\"60\" y=\"-15.9\" font-family=\"Times,serif\" font-size=\"12.00\" fill=\"#000000\">10010</text>\n</g>\n</g>\n</svg>\n"
                },
                "metadata": {}
              }
            ],
            "_view_module": "@jupyter-widgets/output",
            "_model_module_version": "1.0.0",
            "_view_count": null,
            "_view_module_version": "1.0.0",
            "layout": "IPY_MODEL_72ed7e04238e4d41b1d07fb7f5aba670",
            "_model_module": "@jupyter-widgets/output"
          }
        },
        "788f11fa010c4f398bb9976e894f2ad5": {
          "model_module": "@jupyter-widgets/controls",
          "model_name": "HBoxModel",
          "model_module_version": "1.5.0",
          "state": {
            "_view_name": "HBoxView",
            "_dom_classes": [],
            "_model_name": "HBoxModel",
            "_view_module": "@jupyter-widgets/controls",
            "_model_module_version": "1.5.0",
            "_view_count": null,
            "_view_module_version": "1.5.0",
            "box_style": "",
            "layout": "IPY_MODEL_2679bba647614341aa9ce8acf513c6c3",
            "_model_module": "@jupyter-widgets/controls",
            "children": [
              "IPY_MODEL_a4020c6a9fea453b93d28c4433c6428f",
              "IPY_MODEL_de03fc86e3414946bc347a2b7e6947f0",
              "IPY_MODEL_cccf8aa2294c40caacafc4a563dd02f4",
              "IPY_MODEL_02bb8dc851b141bab9df6e1512be8b5f"
            ]
          }
        },
        "ecbc3c5cf14d4cf688099b9a5fb33ae3": {
          "model_module": "@jupyter-widgets/base",
          "model_name": "LayoutModel",
          "model_module_version": "1.2.0",
          "state": {
            "_view_name": "LayoutView",
            "grid_template_rows": null,
            "right": null,
            "justify_content": null,
            "_view_module": "@jupyter-widgets/base",
            "overflow": null,
            "_model_module_version": "1.2.0",
            "_view_count": null,
            "flex_flow": null,
            "width": null,
            "min_width": null,
            "border": null,
            "align_items": null,
            "bottom": null,
            "_model_module": "@jupyter-widgets/base",
            "top": null,
            "grid_column": null,
            "overflow_y": null,
            "overflow_x": null,
            "grid_auto_flow": null,
            "grid_area": null,
            "grid_template_columns": null,
            "flex": null,
            "_model_name": "LayoutModel",
            "justify_items": null,
            "grid_row": null,
            "max_height": null,
            "align_content": null,
            "visibility": null,
            "align_self": null,
            "height": null,
            "min_height": null,
            "padding": null,
            "grid_auto_rows": null,
            "grid_gap": null,
            "max_width": null,
            "order": null,
            "_view_module_version": "1.2.0",
            "grid_template_areas": null,
            "object_position": null,
            "object_fit": null,
            "grid_auto_columns": null,
            "margin": null,
            "display": null,
            "left": null
          }
        },
        "f4009c0e937246a6a2fbd346b807d2f3": {
          "model_module": "@jupyter-widgets/controls",
          "model_name": "TextModel",
          "model_module_version": "1.5.0",
          "state": {
            "_view_name": "TextView",
            "style": "IPY_MODEL_9ee59c23b65b4e0dae16c3ce35c58b4a",
            "_dom_classes": [],
            "description": "Input:",
            "_model_name": "TextModel",
            "placeholder": "Sigma: {0,1}",
            "_view_module": "@jupyter-widgets/controls",
            "_model_module_version": "1.5.0",
            "value": "10010",
            "_view_count": null,
            "disabled": true,
            "_view_module_version": "1.5.0",
            "continuous_update": true,
            "description_tooltip": null,
            "_model_module": "@jupyter-widgets/controls",
            "layout": "IPY_MODEL_ff37afa2854841a8ba33e2d8eb03e11c"
          }
        },
        "6f029fa8b88349f989c4ec5891ad9f99": {
          "model_module": "@jupyter-widgets/controls",
          "model_name": "ButtonModel",
          "model_module_version": "1.5.0",
          "state": {
            "_view_name": "ButtonView",
            "style": "IPY_MODEL_e149699ef9d14b5dabaa3bbbd0f17a3c",
            "_dom_classes": [],
            "description": "Change Input",
            "_model_name": "ButtonModel",
            "button_style": "primary",
            "_view_module": "@jupyter-widgets/controls",
            "_model_module_version": "1.5.0",
            "tooltip": "",
            "_view_count": null,
            "disabled": false,
            "_view_module_version": "1.5.0",
            "layout": "IPY_MODEL_82373c6e508941d8b65323bb551d6e8f",
            "_model_module": "@jupyter-widgets/controls",
            "icon": ""
          }
        },
        "2679bba647614341aa9ce8acf513c6c3": {
          "model_module": "@jupyter-widgets/base",
          "model_name": "LayoutModel",
          "model_module_version": "1.2.0",
          "state": {
            "_view_name": "LayoutView",
            "grid_template_rows": null,
            "right": null,
            "justify_content": null,
            "_view_module": "@jupyter-widgets/base",
            "overflow": null,
            "_model_module_version": "1.2.0",
            "_view_count": null,
            "flex_flow": null,
            "width": null,
            "min_width": null,
            "border": null,
            "align_items": null,
            "bottom": null,
            "_model_module": "@jupyter-widgets/base",
            "top": null,
            "grid_column": null,
            "overflow_y": null,
            "overflow_x": null,
            "grid_auto_flow": null,
            "grid_area": null,
            "grid_template_columns": null,
            "flex": null,
            "_model_name": "LayoutModel",
            "justify_items": null,
            "grid_row": null,
            "max_height": null,
            "align_content": null,
            "visibility": null,
            "align_self": null,
            "height": null,
            "min_height": null,
            "padding": null,
            "grid_auto_rows": null,
            "grid_gap": null,
            "max_width": null,
            "order": null,
            "_view_module_version": "1.2.0",
            "grid_template_areas": null,
            "object_position": null,
            "object_fit": null,
            "grid_auto_columns": null,
            "margin": null,
            "display": null,
            "left": null
          }
        },
        "a4020c6a9fea453b93d28c4433c6428f": {
          "model_module": "@jupyter-widgets/controls",
          "model_name": "PlayModel",
          "model_module_version": "1.5.0",
          "state": {
            "_view_name": "PlayView",
            "style": "IPY_MODEL_93e3efe07f0142a692c8848607e8add8",
            "interval": 950,
            "_dom_classes": [],
            "description": "Press play",
            "_model_name": "PlayModel",
            "max": 15,
            "_view_module": "@jupyter-widgets/controls",
            "_model_module_version": "1.5.0",
            "value": 0,
            "_view_count": null,
            "disabled": false,
            "_repeat": false,
            "_view_module_version": "1.5.0",
            "show_repeat": true,
            "min": 0,
            "_playing": false,
            "step": 1,
            "description_tooltip": null,
            "_model_module": "@jupyter-widgets/controls",
            "layout": "IPY_MODEL_8f30b87044b7413891980688f9d48738"
          }
        },
        "de03fc86e3414946bc347a2b7e6947f0": {
          "model_module": "@jupyter-widgets/controls",
          "model_name": "ButtonModel",
          "model_module_version": "1.5.0",
          "state": {
            "_view_name": "ButtonView",
            "style": "IPY_MODEL_fca5e7141f9647c5a8ecdc45b48cd643",
            "_dom_classes": [],
            "description": "",
            "_model_name": "ButtonModel",
            "button_style": "",
            "_view_module": "@jupyter-widgets/controls",
            "_model_module_version": "1.5.0",
            "tooltip": "",
            "_view_count": null,
            "disabled": true,
            "_view_module_version": "1.5.0",
            "layout": "IPY_MODEL_e6144e00d0494979afb994d94d4a520b",
            "_model_module": "@jupyter-widgets/controls",
            "icon": "step-backward"
          }
        },
        "cccf8aa2294c40caacafc4a563dd02f4": {
          "model_module": "@jupyter-widgets/controls",
          "model_name": "ButtonModel",
          "model_module_version": "1.5.0",
          "state": {
            "_view_name": "ButtonView",
            "style": "IPY_MODEL_0468968ffaaf46a3ae48b60042da5887",
            "_dom_classes": [],
            "description": "",
            "_model_name": "ButtonModel",
            "button_style": "",
            "_view_module": "@jupyter-widgets/controls",
            "_model_module_version": "1.5.0",
            "tooltip": "",
            "_view_count": null,
            "disabled": false,
            "_view_module_version": "1.5.0",
            "layout": "IPY_MODEL_f3b332344fb14f26a4d3d9b8dae03720",
            "_model_module": "@jupyter-widgets/controls",
            "icon": "step-forward"
          }
        },
        "02bb8dc851b141bab9df6e1512be8b5f": {
          "model_module": "@jupyter-widgets/controls",
          "model_name": "IntSliderModel",
          "model_module_version": "1.5.0",
          "state": {
            "_view_name": "IntSliderView",
            "style": "IPY_MODEL_554635f306a2494a8e5b00c2e42bcb4b",
            "_dom_classes": [],
            "description": "Speed:",
            "step": 1,
            "_model_name": "IntSliderModel",
            "orientation": "horizontal",
            "max": 10,
            "_view_module": "@jupyter-widgets/controls",
            "_model_module_version": "1.5.0",
            "value": 1,
            "_view_count": null,
            "disabled": false,
            "_view_module_version": "1.5.0",
            "min": 1,
            "continuous_update": false,
            "readout_format": "d",
            "description_tooltip": null,
            "readout": true,
            "_model_module": "@jupyter-widgets/controls",
            "layout": "IPY_MODEL_46372ab5d8be4300ba0e10626538dbad"
          }
        },
        "9ee59c23b65b4e0dae16c3ce35c58b4a": {
          "model_module": "@jupyter-widgets/controls",
          "model_name": "DescriptionStyleModel",
          "model_module_version": "1.5.0",
          "state": {
            "_view_name": "StyleView",
            "_model_name": "DescriptionStyleModel",
            "description_width": "",
            "_view_module": "@jupyter-widgets/base",
            "_model_module_version": "1.5.0",
            "_view_count": null,
            "_view_module_version": "1.2.0",
            "_model_module": "@jupyter-widgets/controls"
          }
        },
        "ff37afa2854841a8ba33e2d8eb03e11c": {
          "model_module": "@jupyter-widgets/base",
          "model_name": "LayoutModel",
          "model_module_version": "1.2.0",
          "state": {
            "_view_name": "LayoutView",
            "grid_template_rows": null,
            "right": null,
            "justify_content": null,
            "_view_module": "@jupyter-widgets/base",
            "overflow": null,
            "_model_module_version": "1.2.0",
            "_view_count": null,
            "flex_flow": null,
            "width": "500px",
            "min_width": null,
            "border": null,
            "align_items": null,
            "bottom": null,
            "_model_module": "@jupyter-widgets/base",
            "top": null,
            "grid_column": null,
            "overflow_y": null,
            "overflow_x": null,
            "grid_auto_flow": null,
            "grid_area": null,
            "grid_template_columns": null,
            "flex": null,
            "_model_name": "LayoutModel",
            "justify_items": null,
            "grid_row": null,
            "max_height": null,
            "align_content": null,
            "visibility": null,
            "align_self": null,
            "height": null,
            "min_height": null,
            "padding": null,
            "grid_auto_rows": null,
            "grid_gap": null,
            "max_width": null,
            "order": null,
            "_view_module_version": "1.2.0",
            "grid_template_areas": null,
            "object_position": null,
            "object_fit": null,
            "grid_auto_columns": null,
            "margin": null,
            "display": null,
            "left": null
          }
        },
        "e149699ef9d14b5dabaa3bbbd0f17a3c": {
          "model_module": "@jupyter-widgets/controls",
          "model_name": "ButtonStyleModel",
          "model_module_version": "1.5.0",
          "state": {
            "_view_name": "StyleView",
            "_model_name": "ButtonStyleModel",
            "_view_module": "@jupyter-widgets/base",
            "_model_module_version": "1.5.0",
            "_view_count": null,
            "button_color": null,
            "font_weight": "",
            "_view_module_version": "1.2.0",
            "_model_module": "@jupyter-widgets/controls"
          }
        },
        "82373c6e508941d8b65323bb551d6e8f": {
          "model_module": "@jupyter-widgets/base",
          "model_name": "LayoutModel",
          "model_module_version": "1.2.0",
          "state": {
            "_view_name": "LayoutView",
            "grid_template_rows": null,
            "right": null,
            "justify_content": null,
            "_view_module": "@jupyter-widgets/base",
            "overflow": null,
            "_model_module_version": "1.2.0",
            "_view_count": null,
            "flex_flow": null,
            "width": null,
            "min_width": null,
            "border": null,
            "align_items": null,
            "bottom": null,
            "_model_module": "@jupyter-widgets/base",
            "top": null,
            "grid_column": null,
            "overflow_y": null,
            "overflow_x": null,
            "grid_auto_flow": null,
            "grid_area": null,
            "grid_template_columns": null,
            "flex": null,
            "_model_name": "LayoutModel",
            "justify_items": null,
            "grid_row": null,
            "max_height": null,
            "align_content": null,
            "visibility": null,
            "align_self": null,
            "height": null,
            "min_height": null,
            "padding": null,
            "grid_auto_rows": null,
            "grid_gap": null,
            "max_width": null,
            "order": null,
            "_view_module_version": "1.2.0",
            "grid_template_areas": null,
            "object_position": null,
            "object_fit": null,
            "grid_auto_columns": null,
            "margin": null,
            "display": null,
            "left": null
          }
        },
        "93e3efe07f0142a692c8848607e8add8": {
          "model_module": "@jupyter-widgets/controls",
          "model_name": "DescriptionStyleModel",
          "model_module_version": "1.5.0",
          "state": {
            "_view_name": "StyleView",
            "_model_name": "DescriptionStyleModel",
            "description_width": "",
            "_view_module": "@jupyter-widgets/base",
            "_model_module_version": "1.5.0",
            "_view_count": null,
            "_view_module_version": "1.2.0",
            "_model_module": "@jupyter-widgets/controls"
          }
        },
        "8f30b87044b7413891980688f9d48738": {
          "model_module": "@jupyter-widgets/base",
          "model_name": "LayoutModel",
          "model_module_version": "1.2.0",
          "state": {
            "_view_name": "LayoutView",
            "grid_template_rows": null,
            "right": null,
            "justify_content": null,
            "_view_module": "@jupyter-widgets/base",
            "overflow": null,
            "_model_module_version": "1.2.0",
            "_view_count": null,
            "flex_flow": null,
            "width": null,
            "min_width": null,
            "border": null,
            "align_items": null,
            "bottom": null,
            "_model_module": "@jupyter-widgets/base",
            "top": null,
            "grid_column": null,
            "overflow_y": null,
            "overflow_x": null,
            "grid_auto_flow": null,
            "grid_area": null,
            "grid_template_columns": null,
            "flex": null,
            "_model_name": "LayoutModel",
            "justify_items": null,
            "grid_row": null,
            "max_height": null,
            "align_content": null,
            "visibility": null,
            "align_self": null,
            "height": null,
            "min_height": null,
            "padding": null,
            "grid_auto_rows": null,
            "grid_gap": null,
            "max_width": null,
            "order": null,
            "_view_module_version": "1.2.0",
            "grid_template_areas": null,
            "object_position": null,
            "object_fit": null,
            "grid_auto_columns": null,
            "margin": null,
            "display": null,
            "left": null
          }
        },
        "fca5e7141f9647c5a8ecdc45b48cd643": {
          "model_module": "@jupyter-widgets/controls",
          "model_name": "ButtonStyleModel",
          "model_module_version": "1.5.0",
          "state": {
            "_view_name": "StyleView",
            "_model_name": "ButtonStyleModel",
            "_view_module": "@jupyter-widgets/base",
            "_model_module_version": "1.5.0",
            "_view_count": null,
            "button_color": null,
            "font_weight": "",
            "_view_module_version": "1.2.0",
            "_model_module": "@jupyter-widgets/controls"
          }
        },
        "e6144e00d0494979afb994d94d4a520b": {
          "model_module": "@jupyter-widgets/base",
          "model_name": "LayoutModel",
          "model_module_version": "1.2.0",
          "state": {
            "_view_name": "LayoutView",
            "grid_template_rows": null,
            "right": null,
            "justify_content": null,
            "_view_module": "@jupyter-widgets/base",
            "overflow": null,
            "_model_module_version": "1.2.0",
            "_view_count": null,
            "flex_flow": null,
            "width": "40px",
            "min_width": null,
            "border": null,
            "align_items": null,
            "bottom": null,
            "_model_module": "@jupyter-widgets/base",
            "top": null,
            "grid_column": null,
            "overflow_y": null,
            "overflow_x": null,
            "grid_auto_flow": null,
            "grid_area": null,
            "grid_template_columns": null,
            "flex": null,
            "_model_name": "LayoutModel",
            "justify_items": null,
            "grid_row": null,
            "max_height": null,
            "align_content": null,
            "visibility": null,
            "align_self": null,
            "height": null,
            "min_height": null,
            "padding": null,
            "grid_auto_rows": null,
            "grid_gap": null,
            "max_width": null,
            "order": null,
            "_view_module_version": "1.2.0",
            "grid_template_areas": null,
            "object_position": null,
            "object_fit": null,
            "grid_auto_columns": null,
            "margin": null,
            "display": null,
            "left": null
          }
        },
        "0468968ffaaf46a3ae48b60042da5887": {
          "model_module": "@jupyter-widgets/controls",
          "model_name": "ButtonStyleModel",
          "model_module_version": "1.5.0",
          "state": {
            "_view_name": "StyleView",
            "_model_name": "ButtonStyleModel",
            "_view_module": "@jupyter-widgets/base",
            "_model_module_version": "1.5.0",
            "_view_count": null,
            "button_color": null,
            "font_weight": "",
            "_view_module_version": "1.2.0",
            "_model_module": "@jupyter-widgets/controls"
          }
        },
        "f3b332344fb14f26a4d3d9b8dae03720": {
          "model_module": "@jupyter-widgets/base",
          "model_name": "LayoutModel",
          "model_module_version": "1.2.0",
          "state": {
            "_view_name": "LayoutView",
            "grid_template_rows": null,
            "right": null,
            "justify_content": null,
            "_view_module": "@jupyter-widgets/base",
            "overflow": null,
            "_model_module_version": "1.2.0",
            "_view_count": null,
            "flex_flow": null,
            "width": "40px",
            "min_width": null,
            "border": null,
            "align_items": null,
            "bottom": null,
            "_model_module": "@jupyter-widgets/base",
            "top": null,
            "grid_column": null,
            "overflow_y": null,
            "overflow_x": null,
            "grid_auto_flow": null,
            "grid_area": null,
            "grid_template_columns": null,
            "flex": null,
            "_model_name": "LayoutModel",
            "justify_items": null,
            "grid_row": null,
            "max_height": null,
            "align_content": null,
            "visibility": null,
            "align_self": null,
            "height": null,
            "min_height": null,
            "padding": null,
            "grid_auto_rows": null,
            "grid_gap": null,
            "max_width": null,
            "order": null,
            "_view_module_version": "1.2.0",
            "grid_template_areas": null,
            "object_position": null,
            "object_fit": null,
            "grid_auto_columns": null,
            "margin": null,
            "display": null,
            "left": null
          }
        },
        "554635f306a2494a8e5b00c2e42bcb4b": {
          "model_module": "@jupyter-widgets/controls",
          "model_name": "SliderStyleModel",
          "model_module_version": "1.5.0",
          "state": {
            "_view_name": "StyleView",
            "handle_color": null,
            "_model_name": "SliderStyleModel",
            "description_width": "",
            "_view_module": "@jupyter-widgets/base",
            "_model_module_version": "1.5.0",
            "_view_count": null,
            "_view_module_version": "1.2.0",
            "_model_module": "@jupyter-widgets/controls"
          }
        },
        "46372ab5d8be4300ba0e10626538dbad": {
          "model_module": "@jupyter-widgets/base",
          "model_name": "LayoutModel",
          "model_module_version": "1.2.0",
          "state": {
            "_view_name": "LayoutView",
            "grid_template_rows": null,
            "right": null,
            "justify_content": null,
            "_view_module": "@jupyter-widgets/base",
            "overflow": null,
            "_model_module_version": "1.2.0",
            "_view_count": null,
            "flex_flow": null,
            "width": null,
            "min_width": null,
            "border": null,
            "align_items": null,
            "bottom": null,
            "_model_module": "@jupyter-widgets/base",
            "top": null,
            "grid_column": null,
            "overflow_y": null,
            "overflow_x": null,
            "grid_auto_flow": null,
            "grid_area": null,
            "grid_template_columns": null,
            "flex": null,
            "_model_name": "LayoutModel",
            "justify_items": null,
            "grid_row": null,
            "max_height": null,
            "align_content": null,
            "visibility": null,
            "align_self": null,
            "height": null,
            "min_height": null,
            "padding": null,
            "grid_auto_rows": null,
            "grid_gap": null,
            "max_width": null,
            "order": null,
            "_view_module_version": "1.2.0",
            "grid_template_areas": null,
            "object_position": null,
            "object_fit": null,
            "grid_auto_columns": null,
            "margin": null,
            "display": null,
            "left": null
          }
        },
        "cfc3732a6cc04966b9560a6e3a5af423": {
          "model_module": "@jupyter-widgets/base",
          "model_name": "LayoutModel",
          "model_module_version": "1.2.0",
          "state": {
            "_view_name": "LayoutView",
            "grid_template_rows": null,
            "right": null,
            "justify_content": null,
            "_view_module": "@jupyter-widgets/base",
            "overflow": null,
            "_model_module_version": "1.2.0",
            "_view_count": null,
            "flex_flow": null,
            "width": null,
            "min_width": null,
            "border": null,
            "align_items": null,
            "bottom": null,
            "_model_module": "@jupyter-widgets/base",
            "top": null,
            "grid_column": null,
            "overflow_y": null,
            "overflow_x": null,
            "grid_auto_flow": null,
            "grid_area": null,
            "grid_template_columns": null,
            "flex": null,
            "_model_name": "LayoutModel",
            "justify_items": null,
            "grid_row": null,
            "max_height": null,
            "align_content": null,
            "visibility": null,
            "align_self": null,
            "height": null,
            "min_height": null,
            "padding": null,
            "grid_auto_rows": null,
            "grid_gap": null,
            "max_width": null,
            "order": null,
            "_view_module_version": "1.2.0",
            "grid_template_areas": null,
            "object_position": null,
            "object_fit": null,
            "grid_auto_columns": null,
            "margin": null,
            "display": null,
            "left": null
          }
        },
        "72ed7e04238e4d41b1d07fb7f5aba670": {
          "model_module": "@jupyter-widgets/base",
          "model_name": "LayoutModel",
          "model_module_version": "1.2.0",
          "state": {
            "_view_name": "LayoutView",
            "grid_template_rows": null,
            "right": null,
            "justify_content": null,
            "_view_module": "@jupyter-widgets/base",
            "overflow": null,
            "_model_module_version": "1.2.0",
            "_view_count": null,
            "flex_flow": null,
            "width": null,
            "min_width": null,
            "border": null,
            "align_items": null,
            "bottom": null,
            "_model_module": "@jupyter-widgets/base",
            "top": null,
            "grid_column": null,
            "overflow_y": null,
            "overflow_x": null,
            "grid_auto_flow": null,
            "grid_area": null,
            "grid_template_columns": null,
            "flex": null,
            "_model_name": "LayoutModel",
            "justify_items": null,
            "grid_row": null,
            "max_height": null,
            "align_content": null,
            "visibility": null,
            "align_self": null,
            "height": null,
            "min_height": null,
            "padding": null,
            "grid_auto_rows": null,
            "grid_gap": null,
            "max_width": null,
            "order": null,
            "_view_module_version": "1.2.0",
            "grid_template_areas": null,
            "object_position": null,
            "object_fit": null,
            "grid_auto_columns": null,
            "margin": null,
            "display": null,
            "left": null
          }
        }
      }
    }
  },
  "cells": [
    {
      "cell_type": "code",
      "metadata": {
        "id": "Ujn4sivPchF4",
        "run_control": {
          "frozen": false,
          "read_only": false
        },
        "colab": {
          "base_uri": "https://localhost:8080/",
          "height": 321
        },
        "outputId": "208cfb7e-62db-4a52-a4a8-a1c9f87b4d90"
      },
      "source": [
        "# This is a potentially helpful video from long ago... watch it if you've not, before.\n",
        "from IPython.display import YouTubeVideo\n",
        "YouTubeVideo('xjFtLF95uBc')"
      ],
      "execution_count": 1,
      "outputs": [
        {
          "output_type": "execute_result",
          "data": {
            "text/html": [
              "\n",
              "        <iframe\n",
              "            width=\"400\"\n",
              "            height=\"300\"\n",
              "            src=\"https://www.youtube.com/embed/xjFtLF95uBc\"\n",
              "            frameborder=\"0\"\n",
              "            allowfullscreen\n",
              "        ></iframe>\n",
              "        "
            ],
            "text/plain": [
              "<IPython.lib.display.YouTubeVideo at 0x7f92f770dc50>"
            ],
            "image/jpeg": "[encoded data removed]"
          },
          "metadata": {},
          "execution_count": 1
        }
      ]
    },
    {
      "cell_type": "code",
      "metadata": {
        "id": "2l3T1b5echF5",
        "run_control": {
          "frozen": false,
          "read_only": false
        },
        "scrolled": true,
        "colab": {
          "base_uri": "https://localhost:8080/"
        },
        "outputId": "b75b6e45-c382-4dbb-9f5a-491fd9672cc2"
      },
      "source": [
        "#~~~~~~~~~~~~~~~~~~~~~~~~~~~~~~~~~~~~~~~~~~~~~~~~~~~~~~~\n",
        "import sys\n",
        "\n",
        "# -- Detect if in Own Install or in Colab\n",
        "try:\n",
        "    import google.colab\n",
        "    OWN_INSTALL = False\n",
        "except:\n",
        "    OWN_INSTALL = True\n",
        "    \n",
        "if OWN_INSTALL:\n",
        "    \n",
        "  #---- Leave these definitions ON if running on laptop\n",
        "  #---- Else turn OFF by putting them between ''' ... '''\n",
        "\n",
        "  sys.path[0:0] = ['../../../../..',  '../../../../../3rdparty',  \n",
        "                   '../../../..',  '../../../../3rdparty',  \n",
        "                   '../../..',     '../../../3rdparty', \n",
        "                   '../..',        '../../3rdparty',\n",
        "                   '..',           '../3rdparty' ]\n",
        "\n",
        "else: # In colab\n",
        "  ! if [ ! -d Jove ]; then git clone https://github.com/ganeshutah/Jove Jove; fi\n",
        "  sys.path.append('./Jove')\n",
        "  sys.path.append('./Jove/jove')\n",
        "\n",
        "# -- common imports --\n",
        "from jove.DotBashers import *\n",
        "from jove.Def_md2mc  import *\n",
        "from jove.Def_NFA    import *\n",
        "from jove.Def_DFA    import *\n",
        "from jove.AnimateNFA import *\n",
        "#~~~~~~~~~~~~~~~~~~~~~~~~~~~~~~~~~~~~~~~~~~~~~~~~~~~~~~~"
      ],
      "execution_count": 2,
      "outputs": [
        {
          "output_type": "stream",
          "name": "stdout",
          "text": [
            "Cloning into 'Jove'...\n",
            "remote: Enumerating objects: 4863, done.\u001b[K\n",
            "remote: Counting objects: 100% (229/229), done.\u001b[K\n",
            "remote: Compressing objects: 100% (159/159), done.\u001b[K\n",
            "remote: Total 4863 (delta 137), reused 151 (delta 65), pack-reused 4634\u001b[K\n",
            "Receiving objects: 100% (4863/4863), 7.55 MiB | 25.44 MiB/s, done.\n",
            "Resolving deltas: 100% (3142/3142), done.\n",
            "You may use any of these help commands:\n",
            "help(ResetStNum)\n",
            "help(NxtStateStr)\n",
            "\n",
            "You may use any of these help commands:\n",
            "help(md2mc)\n",
            ".. and if you want to dig more, then ..\n",
            "help(default_line_attr)\n",
            "help(length_ok_input_items)\n",
            "help(union_line_attr_list_fld)\n",
            "help(extend_rsltdict)\n",
            "help(form_delta)\n",
            "help(get_machine_components)\n",
            "\n",
            "You may use any of these help commands:\n",
            "help(mkp_dfa)\n",
            "help(mk_dfa)\n",
            "help(totalize_dfa)\n",
            "help(addtosigma_delta)\n",
            "help(step_dfa)\n",
            "help(run_dfa)\n",
            "help(accepts_dfa)\n",
            "help(comp_dfa)\n",
            "help(union_dfa)\n",
            "help(intersect_dfa)\n",
            "help(pruneUnreach)\n",
            "help(iso_dfa)\n",
            "help(langeq_dfa)\n",
            "help(same_status)\n",
            "help(h_langeq_dfa)\n",
            "help(fixptDist)\n",
            "help(min_dfa)\n",
            "help(pairFR)\n",
            "help(state_combos)\n",
            "help(sepFinNonFin)\n",
            "help(bash_eql_classes)\n",
            "help(listminus)\n",
            "help(bash_1)\n",
            "help(mk_rep_eqc)\n",
            "help(F_of)\n",
            "help(rep_of_s)\n",
            "help(q0_of)\n",
            "help(Delta_of)\n",
            "help(mk_state_eqc_name)\n",
            "\n",
            "You may use any of these help commands:\n",
            "help(mk_nfa)\n",
            "help(totalize_nfa)\n",
            "help(step_nfa)\n",
            "help(run_nfa)\n",
            "help(ec_step_nfa)\n",
            "help(Eclosure)\n",
            "help(Echelp)\n",
            "help(accepts_nfa)\n",
            "help(nfa2dfa)\n",
            "help(n2d)\n",
            "help(inSets)\n",
            "help(rev_dfa)\n",
            "help(min_dfa_brz)\n",
            "\n",
            " \"help(AnimateNFA)\" gives you info on how to use animations with NFA \n"
          ]
        }
      ]
    },
    {
      "cell_type": "markdown",
      "metadata": {
        "id": "rDIagEWm0Meu"
      },
      "source": [
        "## Question 1:"
      ]
    },
    {
      "cell_type": "markdown",
      "metadata": {
        "id": "mRGsAaKo1Moh"
      },
      "source": [
        "### Part a:\n",
        "\n",
        "* Design an NFA for $\\{0,1\\}^* \\{1\\} \\{0\\}$. In other words, this NFA accepts strings that end in 10.\n",
        "\n",
        "* Document sufficiently to reveal the design (a comment per key line)\n",
        "\n",
        "*  Here are the required state names:\n",
        "\n",
        "    - If the initial state is also a final state, then its name must be IF, else it must be I\n",
        "\n",
        "    - After consuming a 0 or a 1, end up in state S0 or S1 (if not already accepting); else transition to F0 or F1 as appropriate\n",
        "\n",
        "    - Continue this way: that is S1 goes to S10 if non-accepting; else to F10"
      ]
    },
    {
      "cell_type": "code",
      "metadata": {
        "id": "c-uWXGDR114l"
      },
      "source": [
        "nfaEnds10 = md2mc('''\n",
        "NFA \n",
        " \n",
        "!! Repeat if it's a 0 or 1 and continue if it sees a 1\n",
        "I  : 0 -> I\n",
        "I  : 1 -> I, S1\n",
        "!! Only go to a final state if it takes a 0\n",
        "S1 : 0 -> F10\n",
        " \n",
        "''')"
      ],
      "execution_count": 4,
      "outputs": []
    },
    {
      "cell_type": "markdown",
      "metadata": {
        "id": "lIhbmcxO15Pl"
      },
      "source": [
        "### Part b: \n",
        "- Put the above NFA in animation, and note down the set of states attained\n",
        "after the DFA has seen every character in 10010. More detailed instructions follow."
      ]
    },
    {
      "cell_type": "markdown",
      "metadata": {
        "id": "Y-i834WN2IlU"
      },
      "source": [
        "#### Execute the cell below and follow the bulleted instructions\n",
        "\n",
        "- When the animation pane comes up, type in 10010 and click Animate\n",
        "\n",
        "- Then click the \">|\" button, which is for single-stepping\n",
        "\n",
        "- Note down the results as you single-step, and fill answers in 1b(ii) below"
      ]
    },
    {
      "cell_type": "code",
      "metadata": {
        "id": "HQvAtNLbchF7",
        "scrolled": false,
        "colab": {
          "base_uri": "https://localhost:8080/",
          "height": 314,
          "referenced_widgets": [
            "00cf30e0f6ce40dea29859d6b6e4e420",
            "53e1d74690ec4fbdbcd4e7cd8d8f4be6",
            "43981eb10a3e4ce6a0bdf08a9adc037f",
            "78a6c7e3dda44a32b0db083517af4b62",
            "86740518dc054edab1fddbbd923cb94d",
            "788f11fa010c4f398bb9976e894f2ad5",
            "ecbc3c5cf14d4cf688099b9a5fb33ae3",
            "f4009c0e937246a6a2fbd346b807d2f3",
            "6f029fa8b88349f989c4ec5891ad9f99",
            "2679bba647614341aa9ce8acf513c6c3",
            "a4020c6a9fea453b93d28c4433c6428f",
            "de03fc86e3414946bc347a2b7e6947f0",
            "cccf8aa2294c40caacafc4a563dd02f4",
            "02bb8dc851b141bab9df6e1512be8b5f",
            "9ee59c23b65b4e0dae16c3ce35c58b4a",
            "ff37afa2854841a8ba33e2d8eb03e11c",
            "e149699ef9d14b5dabaa3bbbd0f17a3c",
            "82373c6e508941d8b65323bb551d6e8f",
            "93e3efe07f0142a692c8848607e8add8",
            "8f30b87044b7413891980688f9d48738",
            "fca5e7141f9647c5a8ecdc45b48cd643",
            "e6144e00d0494979afb994d94d4a520b",
            "0468968ffaaf46a3ae48b60042da5887",
            "f3b332344fb14f26a4d3d9b8dae03720",
            "554635f306a2494a8e5b00c2e42bcb4b",
            "46372ab5d8be4300ba0e10626538dbad",
            "cfc3732a6cc04966b9560a6e3a5af423",
            "72ed7e04238e4d41b1d07fb7f5aba670"
          ]
        },
        "outputId": "6ff31ea9-9107-4d7c-c343-f9bee6c5abb2"
      },
      "source": [
        "AnimateNFA(nfaEnds10, FuseEdges=False)\n",
        "display(HTML('<link rel=\\\"stylesheet\\\" href=\\\"//stackpath.bootstrapcdn.com/font-awesome/4.7.0/css/font-awesome.min.css\\\"/>'))"
      ],
      "execution_count": 5,
      "outputs": [
        {
          "output_type": "display_data",
          "data": {
            "application/vnd.jupyter.widget-view+json": {
              "model_id": "00cf30e0f6ce40dea29859d6b6e4e420",
              "version_minor": 0,
              "version_major": 2
            },
            "text/plain": [
              "VBox(children=(HBox(children=(Text(value='', description='Input:', layout=Layout(width='500px'), placeholder='…"
            ]
          },
          "metadata": {}
        },
        {
          "output_type": "display_data",
          "data": {
            "text/html": [
              "<link rel=\"stylesheet\" href=\"//stackpath.bootstrapcdn.com/font-awesome/4.7.0/css/font-awesome.min.css\"/>"
            ],
            "text/plain": [
              "<IPython.core.display.HTML object>"
            ]
          },
          "metadata": {}
        }
      ]
    },
    {
      "cell_type": "markdown",
      "metadata": {
        "id": "50pO9HiP2PQq"
      },
      "source": [
        "#### Provide these answers based on single-stepping the animation (please provide it as a SET OF STATES - else we won't give you any points). "
      ]
    },
    {
      "cell_type": "markdown",
      "metadata": {
        "id": "3_dSVGMochF7"
      },
      "source": [
        "#### Choose one of these 3 options for the multiple choice part:\n",
        "##### (a) A token dropped out of the diagram (with the move on a symbol being undefined)\n",
        "##### (b) The NFA reached a final state\n",
        "##### (c) Neither \n",
        "\n",
        "### Question 1: What is the set of states before consuming any of 10010? \n",
        "##### The set of state is:  { I }\n",
        "##### Multiple choice answer: (c)\n",
        "\n",
        "### Question 2: What is the set of states AFTER consuming \"1\" and before consuming \"0010\"?\n",
        "\n",
        "### What do we mean by \"AFTER consuming '1' \" ??\n",
        "\n",
        "### There are three phases to consuming a '1' in the animation window and we will explain it now:\n",
        "\n",
        "#### 1) See that the animation has a window with 3 cells\n",
        "#### 2) When you administer the first click on the step forward or >| button,  '1' moves into the middle window. It is like a '1' in the \"mouth of the NFA\"\n",
        "#### 3) One click later , the '1' goes into the left cell and there is a \"\" in the middle, imagine that the NFA has 'chewed' the '1' and is about to \"swallow it\"\n",
        "#### 4) When the \"\" in the middle cells is also gone and the middle cell is blank, the NFA has swallowed what it was chewing, and it is traveling toward its stomach. That is when it is in a \"after consuming a 1\" state. \n",
        "\n",
        "##### The set of state is:   { I, S1 }\n",
        "##### Multiple choice answer:  (c)\n",
        "\n",
        "### Question 3: What is the set of states AFTER consuming \"10\" and before consuming \"010\"?\n",
        "##### The set of state is:  { I, F10 }\n",
        "##### Multiple choice answer: (b)\n",
        "\n",
        "### Question 4: What is the set of states AFTER consuming \"100\" and before consuming \"10\"?\n",
        "##### The set of state is:  { I }\n",
        "##### Multiple choice answer: (a)\n",
        "\n",
        "### Question 5: What is the set of states AFTER consuming \"1001\" and before consuming \"0\"?\n",
        "##### The set of state is:  { I, S1 }\n",
        "##### Multiple choice answer: (c)\n",
        "\n",
        "### Question 6: What is the set of states AFTER consuming \"10010\" entirely?\n",
        "##### The set of state is:  { I, F10 }\n",
        "##### Multiple choice answer: (b)"
      ]
    },
    {
      "cell_type": "markdown",
      "metadata": {
        "id": "7ATMvVKt4Fhk"
      },
      "source": [
        "### Part c:"
      ]
    },
    {
      "cell_type": "markdown",
      "metadata": {
        "id": "cu9d8SUa4K0j"
      },
      "source": [
        "Convert the NFA to a DFA and answer the questions below"
      ]
    },
    {
      "cell_type": "code",
      "metadata": {
        "id": "frrMz34NchF8",
        "colab": {
          "base_uri": "https://localhost:8080/",
          "height": 202
        },
        "outputId": "67d434fc-6382-4371-bb94-05037dd05eb7"
      },
      "source": [
        "#Run this cell to convert the NFA to a DFA\n",
        "dotObj_dfa(nfa2dfa(nfaEnds10, STATENAME_MAXSIZE=50), STATENAME_MAXSIZE=50)"
      ],
      "execution_count": 6,
      "outputs": [
        {
          "output_type": "execute_result",
          "data": {
            "text/plain": [
              "<graphviz.dot.Digraph at 0x7f92f08ff950>"
            ],
            "image/svg+xml": "<?xml version=\"1.0\" encoding=\"UTF-8\" standalone=\"no\"?>\n<!DOCTYPE svg PUBLIC \"-//W3C//DTD SVG 1.1//EN\"\n \"http://www.w3.org/Graphics/SVG/1.1/DTD/svg11.dtd\">\n<!-- Generated by graphviz version 2.40.1 (20161225.0304)\n -->\n<!-- Title: %3 Pages: 1 -->\n<svg width=\"364pt\" height=\"136pt\"\n viewBox=\"0.00 0.00 363.79 136.39\" xmlns=\"http://www.w3.org/2000/svg\" xmlns:xlink=\"http://www.w3.org/1999/xlink\">\n<g id=\"graph0\" class=\"graph\" transform=\"scale(1 1) rotate(0) translate(4 132.3945)\">\n<title>%3</title>\n<polygon fill=\"#ffffff\" stroke=\"transparent\" points=\"-4,4 -4,-132.3945 359.7889,-132.3945 359.7889,4 -4,4\"/>\n<!-- EMPTY -->\n<g id=\"node1\" class=\"node\">\n<title>EMPTY</title>\n</g>\n<!-- I -->\n<g id=\"node2\" class=\"node\">\n<title>I</title>\n<ellipse fill=\"none\" stroke=\"#000000\" cx=\"109\" cy=\"-20.797\" rx=\"18\" ry=\"18\"/>\n<text text-anchor=\"middle\" x=\"109\" y=\"-17.097\" font-family=\"Times,serif\" font-size=\"14.00\" fill=\"#000000\">I</text>\n</g>\n<!-- EMPTY&#45;&gt;I -->\n<g id=\"edge1\" class=\"edge\">\n<title>EMPTY&#45;&gt;I</title>\n<path fill=\"none\" stroke=\"#000000\" d=\"M54.3048,-20.797C62.6909,-20.797 71.9407,-20.797 80.4103,-20.797\"/>\n<polygon fill=\"#000000\" stroke=\"#000000\" points=\"80.5976,-24.2971 90.5976,-20.797 80.5976,-17.2971 80.5976,-24.2971\"/>\n</g>\n<!-- I&#45;&gt;I -->\n<g id=\"edge2\" class=\"edge\">\n<title>I&#45;&gt;I</title>\n<path fill=\"none\" stroke=\"#000000\" d=\"M102.6208,-37.8343C101.3189,-47.6549 103.4453,-56.797 109,-56.797 112.4717,-56.797 114.6042,-53.2259 115.3975,-48.1499\"/>\n<polygon fill=\"#000000\" stroke=\"#000000\" points=\"118.8971,-47.828 115.3792,-37.8343 111.8971,-47.8405 118.8971,-47.828\"/>\n<text text-anchor=\"middle\" x=\"109\" y=\"-60.597\" font-family=\"Times,serif\" font-size=\"14.00\" fill=\"#000000\">0 </text>\n</g>\n<!-- I_S1 -->\n<g id=\"node3\" class=\"node\">\n<title>I_S1</title>\n<ellipse fill=\"none\" stroke=\"#000000\" cx=\"203.5975\" cy=\"-66.797\" rx=\"28.6953\" ry=\"28.6953\"/>\n<text text-anchor=\"middle\" x=\"203.5975\" y=\"-63.097\" font-family=\"Times,serif\" font-size=\"14.00\" fill=\"#000000\">I_S1</text>\n</g>\n<!-- I&#45;&gt;I_S1 -->\n<g id=\"edge3\" class=\"edge\">\n<title>I&#45;&gt;I_S1</title>\n<path fill=\"none\" stroke=\"#000000\" d=\"M125.4776,-28.8096C137.2888,-34.553 153.6416,-42.5049 168.3345,-49.6497\"/>\n<polygon fill=\"#000000\" stroke=\"#000000\" points=\"167.162,-52.9713 177.6857,-54.1969 170.2232,-46.6762 167.162,-52.9713\"/>\n<text text-anchor=\"middle\" x=\"151\" y=\"-47.597\" font-family=\"Times,serif\" font-size=\"14.00\" fill=\"#000000\">1 </text>\n</g>\n<!-- I_S1&#45;&gt;I_S1 -->\n<g id=\"edge5\" class=\"edge\">\n<title>I_S1&#45;&gt;I_S1</title>\n<path fill=\"none\" stroke=\"#000000\" d=\"M193.8855,-94.0789C193.4539,-104.6271 196.6912,-113.3945 203.5975,-113.3945 208.0218,-113.3945 210.9404,-109.7963 212.3532,-104.4369\"/>\n<polygon fill=\"#000000\" stroke=\"#000000\" points=\"215.8753,-104.3583 213.3094,-94.0789 208.9049,-103.7148 215.8753,-104.3583\"/>\n<text text-anchor=\"middle\" x=\"203.5975\" y=\"-117.1945\" font-family=\"Times,serif\" font-size=\"14.00\" fill=\"#000000\">1 </text>\n</g>\n<!-- F10_I -->\n<g id=\"node4\" class=\"node\">\n<title>F10_I</title>\n<ellipse fill=\"none\" stroke=\"#000000\" cx=\"317.9919\" cy=\"-37.797\" rx=\"33.6165\" ry=\"33.6165\"/>\n<ellipse fill=\"none\" stroke=\"#000000\" cx=\"317.9919\" cy=\"-37.797\" rx=\"37.5951\" ry=\"37.5951\"/>\n<text text-anchor=\"middle\" x=\"317.9919\" y=\"-34.097\" font-family=\"Times,serif\" font-size=\"14.00\" fill=\"#000000\">F10_I</text>\n</g>\n<!-- I_S1&#45;&gt;F10_I -->\n<g id=\"edge4\" class=\"edge\">\n<title>I_S1&#45;&gt;F10_I</title>\n<path fill=\"none\" stroke=\"#000000\" d=\"M231.6972,-60.9272C241.3903,-58.806 252.2972,-56.3115 262.1949,-53.797 265.3204,-53.003 268.5363,-52.1574 271.7713,-51.2857\"/>\n<polygon fill=\"#000000\" stroke=\"#000000\" points=\"272.7498,-54.6466 281.4617,-48.6171 270.8913,-47.8978 272.7498,-54.6466\"/>\n<text text-anchor=\"middle\" x=\"256.1949\" y=\"-60.597\" font-family=\"Times,serif\" font-size=\"14.00\" fill=\"#000000\">0 </text>\n</g>\n<!-- F10_I&#45;&gt;I -->\n<g id=\"edge6\" class=\"edge\">\n<title>F10_I&#45;&gt;I</title>\n<path fill=\"none\" stroke=\"#000000\" d=\"M282.1339,-25.4121C266.9309,-20.7803 248.8975,-16.0891 232.1949,-13.797 207.011,-10.341 200.3845,-12.4546 175,-13.797 162.4903,-14.4585 148.7024,-15.8207 136.9782,-17.169\"/>\n<polygon fill=\"#000000\" stroke=\"#000000\" points=\"136.3975,-13.7136 126.8871,-18.383 137.2336,-20.6635 136.3975,-13.7136\"/>\n<text text-anchor=\"middle\" x=\"203.5975\" y=\"-17.597\" font-family=\"Times,serif\" font-size=\"14.00\" fill=\"#000000\">0 </text>\n</g>\n<!-- F10_I&#45;&gt;I_S1 -->\n<g id=\"edge7\" class=\"edge\">\n<title>F10_I&#45;&gt;I_S1</title>\n<path fill=\"none\" stroke=\"#000000\" d=\"M280.4571,-31.5968C270.447,-31.1627 259.7596,-31.8291 250.1949,-34.797 244.5507,-36.5484 238.9835,-39.2465 233.7693,-42.349\"/>\n<polygon fill=\"#000000\" stroke=\"#000000\" points=\"231.817,-39.4439 225.3764,-47.8564 235.6573,-45.2964 231.817,-39.4439\"/>\n<text text-anchor=\"middle\" x=\"256.1949\" y=\"-38.597\" font-family=\"Times,serif\" font-size=\"14.00\" fill=\"#000000\">1 </text>\n</g>\n</g>\n</svg>\n"
          },
          "metadata": {},
          "execution_count": 6
        }
      ]
    },
    {
      "cell_type": "markdown",
      "metadata": {
        "id": "GlYfeJCcchF8"
      },
      "source": [
        "#### Question 1: What is the state the DFA is in after 10010?\n",
        "##### Answer: F10_I\n",
        "\n",
        "### Question-2: What is the set of states NFA is in after 10010? Express as a set of states of the NFA.\n",
        "\n",
        "##### Answer:  { I, F10 }\n",
        "\n",
        "### Question 3: Do the above match, in the sense that the set of states that the NFA finds itself, when converted to a DFA state by inserting the underscores (\"_\") matches the DFA state?\n",
        "\n",
        "##### Answer:  Yes they match \n",
        "\n",
        "### Question 4: Provide the reason why they do/don't match:\n",
        "\n",
        "##### Answer:  They match because the NFA is always in the I state (because it loops back to itself in both the 0 and 1 case) and it also must be in the F10 state in order for the NFA to accept it as it is the only final state. Thus it makes sense for the DFA to have a final state of I and F10 combined."
      ]
    },
    {
      "cell_type": "markdown",
      "metadata": {
        "id": "UxSTniCF4sqA"
      },
      "source": [
        "## Question 2:"
      ]
    },
    {
      "cell_type": "markdown",
      "metadata": {
        "id": "9JAr5AXkchF9"
      },
      "source": [
        "### A tutorial on Concatenating NFA\n",
        "Please watch this video:\n",
        "\n",
        "To watch the video separately in Youtube in large size, \n",
        "visit https://youtu.be/VWyOT1uYfIc\n",
        "\n",
        "Otherwise just run the command below!"
      ]
    },
    {
      "cell_type": "code",
      "metadata": {
        "id": "XYrXR8ODchF9",
        "colab": {
          "base_uri": "https://localhost:8080/",
          "height": 321
        },
        "outputId": "a1562bad-541e-4589-87eb-ce897af519c6"
      },
      "source": [
        "# NFA Concatenation\n",
        "from IPython.display import YouTubeVideo\n",
        "YouTubeVideo('VWyOT1uYfIc')"
      ],
      "execution_count": 8,
      "outputs": [
        {
          "output_type": "execute_result",
          "data": {
            "text/html": [
              "\n",
              "        <iframe\n",
              "            width=\"400\"\n",
              "            height=\"300\"\n",
              "            src=\"https://www.youtube.com/embed/VWyOT1uYfIc\"\n",
              "            frameborder=\"0\"\n",
              "            allowfullscreen\n",
              "        ></iframe>\n",
              "        "
            ],
            "text/plain": [
              "<IPython.lib.display.YouTubeVideo at 0x7f92f0295410>"
            ],
            "image/jpeg": "[encoded data removed]"
          },
          "metadata": {},
          "execution_count": 8
        }
      ]
    },
    {
      "cell_type": "markdown",
      "metadata": {
        "id": "qPA-9aSZ4wyx"
      },
      "source": [
        "### Part a:\n",
        "- Design an NFA for $\\{\\varepsilon, 0\\}$ \n",
        "- It will be a 2-state NFA with an IF state and a final state (call that final state \"F2\" )"
      ]
    },
    {
      "cell_type": "code",
      "metadata": {
        "id": "AYEMTDbachF9"
      },
      "source": [
        "nfaEps0 = md2mc('''\n",
        "NFA \n",
        " \n",
        "IF : 0 -> F2\n",
        "\n",
        "''')"
      ],
      "execution_count": 9,
      "outputs": []
    },
    {
      "cell_type": "code",
      "metadata": {
        "id": "f7Je9_I9chF9",
        "colab": {
          "base_uri": "https://localhost:8080/",
          "height": 98
        },
        "outputId": "fda2f478-d6b6-4b11-dc87-ed879e997f6b"
      },
      "source": [
        "dotObj_nfa(nfaEps0)"
      ],
      "execution_count": 12,
      "outputs": [
        {
          "output_type": "execute_result",
          "data": {
            "text/plain": [
              "<graphviz.dot.Digraph at 0x7f92f015ac90>"
            ],
            "image/svg+xml": "<?xml version=\"1.0\" encoding=\"UTF-8\" standalone=\"no\"?>\n<!DOCTYPE svg PUBLIC \"-//W3C//DTD SVG 1.1//EN\"\n \"http://www.w3.org/Graphics/SVG/1.1/DTD/svg11.dtd\">\n<!-- Generated by graphviz version 2.40.1 (20161225.0304)\n -->\n<!-- Title: %3 Pages: 1 -->\n<svg width=\"242pt\" height=\"58pt\"\n viewBox=\"0.00 0.00 242.29 57.60\" xmlns=\"http://www.w3.org/2000/svg\" xmlns:xlink=\"http://www.w3.org/1999/xlink\">\n<g id=\"graph0\" class=\"graph\" transform=\"scale(1 1) rotate(0) translate(4 53.5963)\">\n<title>%3</title>\n<polygon fill=\"#ffffff\" stroke=\"transparent\" points=\"-4,4 -4,-53.5963 238.293,-53.5963 238.293,4 -4,4\"/>\n<!-- EMPTY -->\n<g id=\"node1\" class=\"node\">\n<title>EMPTY</title>\n</g>\n<!-- IF -->\n<g id=\"node2\" class=\"node\">\n<title>IF</title>\n<ellipse fill=\"none\" stroke=\"#000000\" cx=\"113.8483\" cy=\"-24.7982\" rx=\"18.724\" ry=\"18.724\"/>\n<ellipse fill=\"none\" stroke=\"#000000\" cx=\"113.8483\" cy=\"-24.7982\" rx=\"22.6977\" ry=\"22.6977\"/>\n<text text-anchor=\"middle\" x=\"113.8483\" y=\"-21.0982\" font-family=\"Times,serif\" font-size=\"14.00\" fill=\"#000000\">IF</text>\n</g>\n<!-- EMPTY&#45;&gt;IF -->\n<g id=\"edge1\" class=\"edge\">\n<title>EMPTY&#45;&gt;IF</title>\n<path fill=\"none\" stroke=\"#000000\" d=\"M54.0033,-24.7982C62.5212,-24.7982 72.0276,-24.7982 80.9112,-24.7982\"/>\n<polygon fill=\"#000000\" stroke=\"#000000\" points=\"80.9572,-28.2983 90.9572,-24.7982 80.9572,-21.2983 80.9572,-28.2983\"/>\n</g>\n<!-- F2 -->\n<g id=\"node3\" class=\"node\">\n<title>F2</title>\n<ellipse fill=\"none\" stroke=\"#000000\" cx=\"209.4948\" cy=\"-24.7982\" rx=\"20.6302\" ry=\"20.6302\"/>\n<ellipse fill=\"none\" stroke=\"#000000\" cx=\"209.4948\" cy=\"-24.7982\" rx=\"24.5979\" ry=\"24.5979\"/>\n<text text-anchor=\"middle\" x=\"209.4948\" y=\"-21.0982\" font-family=\"Times,serif\" font-size=\"14.00\" fill=\"#000000\">F2</text>\n</g>\n<!-- IF&#45;&gt;F2 -->\n<g id=\"edge2\" class=\"edge\">\n<title>IF&#45;&gt;F2</title>\n<path fill=\"none\" stroke=\"#000000\" d=\"M137.0017,-24.7982C148.2318,-24.7982 161.9613,-24.7982 174.4394,-24.7982\"/>\n<polygon fill=\"#000000\" stroke=\"#000000\" points=\"174.5444,-28.2983 184.5444,-24.7982 174.5443,-21.2983 174.5444,-28.2983\"/>\n<text text-anchor=\"middle\" x=\"160.6967\" y=\"-28.5982\" font-family=\"Times,serif\" font-size=\"14.00\" fill=\"#000000\">0 </text>\n</g>\n</g>\n</svg>\n"
          },
          "metadata": {},
          "execution_count": 12
        }
      ]
    },
    {
      "cell_type": "markdown",
      "metadata": {
        "id": "Z7LgHlIBf44z"
      },
      "source": [
        "### Part b: "
      ]
    },
    {
      "cell_type": "markdown",
      "metadata": {
        "id": "PCE53giWchF-"
      },
      "source": [
        "* Concatenate nfaEnds10 and nfaEps0 to obtain nfaEnds10Eps0. \n",
        "\n",
        "* Here is how the concatenation must be documented in the space below:\n",
        "\n",
        "* Put the transitions that came from \"nfaEnds10\" in the designated vacant space below. Make suitable state-name changes as described below.\n",
        "\n",
        "* Put the right number of epsilon-labeled Bridge Transitions connecting the final states of the first NFA (which would no longer be final) with the initial states of the second NFA (which would no longer be initial). \n",
        "\n",
        "* Put the transitions that came from nfaEps0 after that\n",
        "\n",
        "* Given that the first NFA potentially \"lost\" some final states while the second NFA \"lost\" some initial states, make suitable state name changes\n",
        "\n",
        "  - E.g. an Fx state may become an Sx state, for some 'x'\n",
        "  \n",
        "  - E.g. an IFy state may become an Fy state, for some 'y'\n"
      ]
    },
    {
      "cell_type": "markdown",
      "metadata": {
        "id": "woXQFm4TchF-"
      },
      "source": [
        "### Part c: \n",
        "- Define the concatenation NFA below.\n"
      ]
    },
    {
      "cell_type": "code",
      "metadata": {
        "id": "BZzwB3GtchF-",
        "run_control": {
          "frozen": false,
          "read_only": false
        }
      },
      "source": [
        "# Here is the resulting NFA\n",
        "\n",
        "nfaEnds10Eps0 = md2mc('''\n",
        "NFA  \n",
        "\n",
        "!! == nfaEnds10 transitions below, with suitable modifications ==\n",
        "\n",
        "!! Repeat if it's a 0 or 1 and continue if it sees a 1\n",
        "I  : 0 -> I\n",
        "I  : 1 -> I, S1\n",
        "!! Only go to a final state if it takes a 0\n",
        "S1 : 0 -> S10\n",
        " \n",
        " \n",
        " !! -- Document the transition changes in the above list as follows, within comments --\n",
        " \n",
        " !! The original transition was S1 : 0 -> F10\n",
        " !! This was changed to S1 : 0 -> S10 because the state is not final\n",
        " \n",
        "   \n",
        " \n",
        " !! == Bridge takes to the initial state of the second NFA is below ==\n",
        " S10 : '' -> F\n",
        " \n",
        " !! The initial state of the second NFA was IF\n",
        " !! We change it suitably as follows to F\n",
        " \n",
        " \n",
        " !! == nfaEps0 transitions below, with suitable modifications ==\n",
        " F : 0 -> F2\n",
        " \n",
        " \n",
        "''')"
      ],
      "execution_count": 16,
      "outputs": []
    },
    {
      "cell_type": "markdown",
      "metadata": {
        "id": "_REraVK1chF_"
      },
      "source": [
        "### Part d: \n",
        "- Draw the concat NFA and convert to a DFA\n",
        "- Run the THREE commands below, and then move on to answer problem 3 \n",
        "based on the results you observe from these commands\n"
      ]
    },
    {
      "cell_type": "code",
      "metadata": {
        "id": "CiAqoF-TchF_",
        "colab": {
          "base_uri": "https://localhost:8080/",
          "height": 178
        },
        "outputId": "306d255b-a0aa-43f7-a179-3c7635600abe"
      },
      "source": [
        "# command-1\n",
        "dotObj_nfa(nfaEnds10Eps0)"
      ],
      "execution_count": 17,
      "outputs": [
        {
          "output_type": "execute_result",
          "data": {
            "text/plain": [
              "<graphviz.dot.Digraph at 0x7f92f008d890>"
            ],
            "image/svg+xml": "<?xml version=\"1.0\" encoding=\"UTF-8\" standalone=\"no\"?>\n<!DOCTYPE svg PUBLIC \"-//W3C//DTD SVG 1.1//EN\"\n \"http://www.w3.org/Graphics/SVG/1.1/DTD/svg11.dtd\">\n<!-- Generated by graphviz version 2.40.1 (20161225.0304)\n -->\n<!-- Title: %3 Pages: 1 -->\n<svg width=\"511pt\" height=\"118pt\"\n viewBox=\"0.00 0.00 511.19 118.00\" xmlns=\"http://www.w3.org/2000/svg\" xmlns:xlink=\"http://www.w3.org/1999/xlink\">\n<g id=\"graph0\" class=\"graph\" transform=\"scale(1 1) rotate(0) translate(4 113.9977)\">\n<title>%3</title>\n<polygon fill=\"#ffffff\" stroke=\"transparent\" points=\"-4,4 -4,-113.9977 507.188,-113.9977 507.188,4 -4,4\"/>\n<!-- EMPTY -->\n<g id=\"node1\" class=\"node\">\n<title>EMPTY</title>\n</g>\n<!-- I -->\n<g id=\"node2\" class=\"node\">\n<title>I</title>\n<ellipse fill=\"none\" stroke=\"#000000\" cx=\"109\" cy=\"-25.9977\" rx=\"18\" ry=\"18\"/>\n<text text-anchor=\"middle\" x=\"109\" y=\"-22.2977\" font-family=\"Times,serif\" font-size=\"14.00\" fill=\"#000000\">I</text>\n</g>\n<!-- EMPTY&#45;&gt;I -->\n<g id=\"edge1\" class=\"edge\">\n<title>EMPTY&#45;&gt;I</title>\n<path fill=\"none\" stroke=\"#000000\" d=\"M54.3048,-25.9977C62.6909,-25.9977 71.9407,-25.9977 80.4103,-25.9977\"/>\n<polygon fill=\"#000000\" stroke=\"#000000\" points=\"80.5976,-29.4978 90.5976,-25.9977 80.5976,-22.4978 80.5976,-29.4978\"/>\n</g>\n<!-- I&#45;&gt;I -->\n<g id=\"edge2\" class=\"edge\">\n<title>I&#45;&gt;I</title>\n<path fill=\"none\" stroke=\"#000000\" d=\"M105.7643,-43.7794C105.2144,-53.3126 106.293,-61.9977 109,-61.9977 110.6496,-61.9977 111.6945,-58.7726 112.1347,-54.0958\"/>\n<polygon fill=\"#000000\" stroke=\"#000000\" points=\"115.6375,-53.8133 112.2357,-43.7794 108.6379,-53.7446 115.6375,-53.8133\"/>\n<text text-anchor=\"middle\" x=\"109\" y=\"-65.7977\" font-family=\"Times,serif\" font-size=\"14.00\" fill=\"#000000\">0 </text>\n</g>\n<!-- I&#45;&gt;I -->\n<g id=\"edge3\" class=\"edge\">\n<title>I&#45;&gt;I</title>\n<path fill=\"none\" stroke=\"#000000\" d=\"M103.6841,-43.418C100.6538,-60.7886 102.4258,-79.9977 109,-79.9977 114.2902,-79.9977 116.4708,-67.5594 115.5419,-53.6497\"/>\n<polygon fill=\"#000000\" stroke=\"#000000\" points=\"118.9808,-52.9305 114.3159,-43.418 112.0305,-53.7634 118.9808,-52.9305\"/>\n<text text-anchor=\"middle\" x=\"109\" y=\"-83.7977\" font-family=\"Times,serif\" font-size=\"14.00\" fill=\"#000000\">1 </text>\n</g>\n<!-- S1 -->\n<g id=\"node4\" class=\"node\">\n<title>S1</title>\n<ellipse fill=\"none\" stroke=\"#000000\" cx=\"195.7982\" cy=\"-25.9977\" rx=\"20.5982\" ry=\"20.5982\"/>\n<text text-anchor=\"middle\" x=\"195.7982\" y=\"-22.2977\" font-family=\"Times,serif\" font-size=\"14.00\" fill=\"#000000\">S1</text>\n</g>\n<!-- I&#45;&gt;S1 -->\n<g id=\"edge4\" class=\"edge\">\n<title>I&#45;&gt;S1</title>\n<path fill=\"none\" stroke=\"#000000\" d=\"M127.4077,-25.9977C138.2934,-25.9977 152.3613,-25.9977 164.9052,-25.9977\"/>\n<polygon fill=\"#000000\" stroke=\"#000000\" points=\"164.9803,-29.4978 174.9802,-25.9977 164.9802,-22.4978 164.9803,-29.4978\"/>\n<text text-anchor=\"middle\" x=\"151\" y=\"-29.7977\" font-family=\"Times,serif\" font-size=\"14.00\" fill=\"#000000\">1 </text>\n</g>\n<!-- S10 -->\n<g id=\"node3\" class=\"node\">\n<title>S10</title>\n<ellipse fill=\"none\" stroke=\"#000000\" cx=\"290.594\" cy=\"-25.9977\" rx=\"25.9954\" ry=\"25.9954\"/>\n<text text-anchor=\"middle\" x=\"290.594\" y=\"-22.2977\" font-family=\"Times,serif\" font-size=\"14.00\" fill=\"#000000\">S10</text>\n</g>\n<!-- F -->\n<g id=\"node5\" class=\"node\">\n<title>F</title>\n<ellipse fill=\"none\" stroke=\"#000000\" cx=\"383.5917\" cy=\"-25.9977\" rx=\"18\" ry=\"18\"/>\n<ellipse fill=\"none\" stroke=\"#000000\" cx=\"383.5917\" cy=\"-25.9977\" rx=\"22\" ry=\"22\"/>\n<text text-anchor=\"middle\" x=\"383.5917\" y=\"-22.2977\" font-family=\"Times,serif\" font-size=\"14.00\" fill=\"#000000\">F</text>\n</g>\n<!-- S10&#45;&gt;F -->\n<g id=\"edge6\" class=\"edge\">\n<title>S10&#45;&gt;F</title>\n<path fill=\"none\" stroke=\"#000000\" d=\"M316.9947,-25.9977C327.6565,-25.9977 340.0641,-25.9977 351.2602,-25.9977\"/>\n<polygon fill=\"#000000\" stroke=\"#000000\" points=\"351.5268,-29.4978 361.5268,-25.9977 351.5267,-22.4978 351.5268,-29.4978\"/>\n<text text-anchor=\"middle\" x=\"339.0917\" y=\"-29.7977\" font-family=\"Times,serif\" font-size=\"14.00\" fill=\"#000000\">&#39;&#39; </text>\n</g>\n<!-- S1&#45;&gt;S10 -->\n<g id=\"edge5\" class=\"edge\">\n<title>S1&#45;&gt;S10</title>\n<path fill=\"none\" stroke=\"#000000\" d=\"M216.8364,-25.9977C227.8309,-25.9977 241.5999,-25.9977 254.2549,-25.9977\"/>\n<polygon fill=\"#000000\" stroke=\"#000000\" points=\"254.5378,-29.4978 264.5378,-25.9977 254.5378,-22.4978 254.5378,-29.4978\"/>\n<text text-anchor=\"middle\" x=\"240.5963\" y=\"-29.7977\" font-family=\"Times,serif\" font-size=\"14.00\" fill=\"#000000\">0 </text>\n</g>\n<!-- F2 -->\n<g id=\"node6\" class=\"node\">\n<title>F2</title>\n<ellipse fill=\"none\" stroke=\"#000000\" cx=\"478.3899\" cy=\"-25.9977\" rx=\"20.6302\" ry=\"20.6302\"/>\n<ellipse fill=\"none\" stroke=\"#000000\" cx=\"478.3899\" cy=\"-25.9977\" rx=\"24.5979\" ry=\"24.5979\"/>\n<text text-anchor=\"middle\" x=\"478.3899\" y=\"-22.2977\" font-family=\"Times,serif\" font-size=\"14.00\" fill=\"#000000\">F2</text>\n</g>\n<!-- F&#45;&gt;F2 -->\n<g id=\"edge7\" class=\"edge\">\n<title>F&#45;&gt;F2</title>\n<path fill=\"none\" stroke=\"#000000\" d=\"M406.0575,-25.9977C417.1791,-25.9977 430.8608,-25.9977 443.3208,-25.9977\"/>\n<polygon fill=\"#000000\" stroke=\"#000000\" points=\"443.4169,-29.4978 453.4169,-25.9977 443.4169,-22.4978 443.4169,-29.4978\"/>\n<text text-anchor=\"middle\" x=\"429.5917\" y=\"-29.7977\" font-family=\"Times,serif\" font-size=\"14.00\" fill=\"#000000\">0 </text>\n</g>\n</g>\n</svg>\n"
          },
          "metadata": {},
          "execution_count": 17
        }
      ]
    },
    {
      "cell_type": "code",
      "metadata": {
        "id": "FnaBzZn6chGA",
        "colab": {
          "base_uri": "https://localhost:8080/",
          "height": 268
        },
        "outputId": "7a0b22ba-e5e8-4d79-bec3-ef75bb2b1f7a"
      },
      "source": [
        "# command-2\n",
        "\n",
        "dotObj_dfa(nfa2dfa(nfaEnds10Eps0, STATENAME_MAXSIZE=50), STATENAME_MAXSIZE=50)"
      ],
      "execution_count": 18,
      "outputs": [
        {
          "output_type": "execute_result",
          "data": {
            "text/plain": [
              "<graphviz.dot.Digraph at 0x7f92f01b8a50>"
            ],
            "image/svg+xml": "<?xml version=\"1.0\" encoding=\"UTF-8\" standalone=\"no\"?>\n<!DOCTYPE svg PUBLIC \"-//W3C//DTD SVG 1.1//EN\"\n \"http://www.w3.org/Graphics/SVG/1.1/DTD/svg11.dtd\">\n<!-- Generated by graphviz version 2.40.1 (20161225.0304)\n -->\n<!-- Title: %3 Pages: 1 -->\n<svg width=\"498pt\" height=\"185pt\"\n viewBox=\"0.00 0.00 497.78 185.20\" xmlns=\"http://www.w3.org/2000/svg\" xmlns:xlink=\"http://www.w3.org/1999/xlink\">\n<g id=\"graph0\" class=\"graph\" transform=\"scale(1 1) rotate(0) translate(4 181.1961)\">\n<title>%3</title>\n<polygon fill=\"#ffffff\" stroke=\"transparent\" points=\"-4,4 -4,-181.1961 493.782,-181.1961 493.782,4 -4,4\"/>\n<!-- EMPTY -->\n<g id=\"node1\" class=\"node\">\n<title>EMPTY</title>\n</g>\n<!-- I -->\n<g id=\"node2\" class=\"node\">\n<title>I</title>\n<ellipse fill=\"none\" stroke=\"#000000\" cx=\"109\" cy=\"-18\" rx=\"18\" ry=\"18\"/>\n<text text-anchor=\"middle\" x=\"109\" y=\"-14.3\" font-family=\"Times,serif\" font-size=\"14.00\" fill=\"#000000\">I</text>\n</g>\n<!-- EMPTY&#45;&gt;I -->\n<g id=\"edge1\" class=\"edge\">\n<title>EMPTY&#45;&gt;I</title>\n<path fill=\"none\" stroke=\"#000000\" d=\"M54.3048,-18C62.6909,-18 71.9407,-18 80.4103,-18\"/>\n<polygon fill=\"#000000\" stroke=\"#000000\" points=\"80.5976,-21.5001 90.5976,-18 80.5976,-14.5001 80.5976,-21.5001\"/>\n</g>\n<!-- I&#45;&gt;I -->\n<g id=\"edge2\" class=\"edge\">\n<title>I&#45;&gt;I</title>\n<path fill=\"none\" stroke=\"#000000\" d=\"M102.6208,-35.0373C101.3189,-44.8579 103.4453,-54 109,-54 112.4717,-54 114.6042,-50.4289 115.3975,-45.3529\"/>\n<polygon fill=\"#000000\" stroke=\"#000000\" points=\"118.8971,-45.031 115.3792,-35.0373 111.8971,-45.0435 118.8971,-45.031\"/>\n<text text-anchor=\"middle\" x=\"109\" y=\"-57.8\" font-family=\"Times,serif\" font-size=\"14.00\" fill=\"#000000\">0 </text>\n</g>\n<!-- I_S1 -->\n<g id=\"node3\" class=\"node\">\n<title>I_S1</title>\n<ellipse fill=\"none\" stroke=\"#000000\" cx=\"203.5975\" cy=\"-70\" rx=\"28.6953\" ry=\"28.6953\"/>\n<text text-anchor=\"middle\" x=\"203.5975\" y=\"-66.3\" font-family=\"Times,serif\" font-size=\"14.00\" fill=\"#000000\">I_S1</text>\n</g>\n<!-- I&#45;&gt;I_S1 -->\n<g id=\"edge3\" class=\"edge\">\n<title>I&#45;&gt;I_S1</title>\n<path fill=\"none\" stroke=\"#000000\" d=\"M125.0472,-26.8211C137.0954,-33.444 154.0404,-42.7586 169.1093,-51.0419\"/>\n<polygon fill=\"#000000\" stroke=\"#000000\" points=\"167.7395,-54.2829 178.1888,-56.0329 171.1115,-48.1485 167.7395,-54.2829\"/>\n<text text-anchor=\"middle\" x=\"151\" y=\"-47.8\" font-family=\"Times,serif\" font-size=\"14.00\" fill=\"#000000\">1 </text>\n</g>\n<!-- I_S1&#45;&gt;I_S1 -->\n<g id=\"edge5\" class=\"edge\">\n<title>I_S1&#45;&gt;I_S1</title>\n<path fill=\"none\" stroke=\"#000000\" d=\"M193.8855,-97.2819C193.4539,-107.8301 196.6912,-116.5975 203.5975,-116.5975 208.0218,-116.5975 210.9404,-112.9993 212.3532,-107.6399\"/>\n<polygon fill=\"#000000\" stroke=\"#000000\" points=\"215.8753,-107.5613 213.3094,-97.2819 208.9049,-106.9178 215.8753,-107.5613\"/>\n<text text-anchor=\"middle\" x=\"203.5975\" y=\"-120.3975\" font-family=\"Times,serif\" font-size=\"14.00\" fill=\"#000000\">1 </text>\n</g>\n<!-- F_I_S10 -->\n<g id=\"node5\" class=\"node\">\n<title>F_I_S10</title>\n<ellipse fill=\"none\" stroke=\"#000000\" cx=\"328.391\" cy=\"-129\" rx=\"44.3766\" ry=\"44.3766\"/>\n<ellipse fill=\"none\" stroke=\"#000000\" cx=\"328.391\" cy=\"-129\" rx=\"48.393\" ry=\"48.393\"/>\n<text text-anchor=\"middle\" x=\"328.391\" y=\"-125.3\" font-family=\"Times,serif\" font-size=\"14.00\" fill=\"#000000\">F_I_S10</text>\n</g>\n<!-- I_S1&#45;&gt;F_I_S10 -->\n<g id=\"edge4\" class=\"edge\">\n<title>I_S1&#45;&gt;F_I_S10</title>\n<path fill=\"none\" stroke=\"#000000\" d=\"M225.8777,-88.4935C233.2896,-94.0213 241.8017,-99.7376 250.1949,-104 257.0751,-107.494 264.5425,-110.6282 272.0412,-113.3987\"/>\n<polygon fill=\"#000000\" stroke=\"#000000\" points=\"270.9194,-116.7142 281.5143,-116.713 273.2312,-110.1069 270.9194,-116.7142\"/>\n<text text-anchor=\"middle\" x=\"256.1949\" y=\"-111.8\" font-family=\"Times,serif\" font-size=\"14.00\" fill=\"#000000\">0 </text>\n</g>\n<!-- F2_I -->\n<g id=\"node4\" class=\"node\">\n<title>F2_I</title>\n<ellipse fill=\"none\" stroke=\"#000000\" cx=\"457.1845\" cy=\"-48\" rx=\"28.6832\" ry=\"28.6832\"/>\n<ellipse fill=\"none\" stroke=\"#000000\" cx=\"457.1845\" cy=\"-48\" rx=\"32.6952\" ry=\"32.6952\"/>\n<text text-anchor=\"middle\" x=\"457.1845\" y=\"-44.3\" font-family=\"Times,serif\" font-size=\"14.00\" fill=\"#000000\">F2_I</text>\n</g>\n<!-- F2_I&#45;&gt;I -->\n<g id=\"edge8\" class=\"edge\">\n<title>F2_I&#45;&gt;I</title>\n<path fill=\"none\" stroke=\"#000000\" d=\"M424.4912,-45.1831C356.6076,-39.3342 201.382,-25.9597 137.3859,-20.4458\"/>\n<polygon fill=\"#000000\" stroke=\"#000000\" points=\"137.4933,-16.9421 127.2297,-19.5707 136.8923,-23.9163 137.4933,-16.9421\"/>\n<text text-anchor=\"middle\" x=\"256.1949\" y=\"-34.8\" font-family=\"Times,serif\" font-size=\"14.00\" fill=\"#000000\">0 </text>\n</g>\n<!-- F2_I&#45;&gt;I_S1 -->\n<g id=\"edge9\" class=\"edge\">\n<title>F2_I&#45;&gt;I_S1</title>\n<path fill=\"none\" stroke=\"#000000\" d=\"M424.4721,-48.5159C388.8812,-49.3445 330.3509,-51.4878 280.1949,-57 267.6253,-58.3814 253.9894,-60.4945 241.754,-62.6181\"/>\n<polygon fill=\"#000000\" stroke=\"#000000\" points=\"241.0868,-59.1818 231.8597,-64.3885 242.3199,-66.0723 241.0868,-59.1818\"/>\n<text text-anchor=\"middle\" x=\"328.391\" y=\"-60.8\" font-family=\"Times,serif\" font-size=\"14.00\" fill=\"#000000\">1 </text>\n</g>\n<!-- F_I_S10&#45;&gt;I_S1 -->\n<g id=\"edge7\" class=\"edge\">\n<title>F_I_S10&#45;&gt;I_S1</title>\n<path fill=\"none\" stroke=\"#000000\" d=\"M289.7376,-100.1982C280.992,-94.5788 271.5248,-89.151 262.1949,-85 255.8131,-82.1606 248.7917,-79.7841 241.894,-77.8216\"/>\n<polygon fill=\"#000000\" stroke=\"#000000\" points=\"242.5245,-74.3691 231.9653,-75.2368 240.7609,-81.1434 242.5245,-74.3691\"/>\n<text text-anchor=\"middle\" x=\"256.1949\" y=\"-88.8\" font-family=\"Times,serif\" font-size=\"14.00\" fill=\"#000000\">1 </text>\n</g>\n<!-- F_I_S10&#45;&gt;F2_I -->\n<g id=\"edge6\" class=\"edge\">\n<title>F_I_S10&#45;&gt;F2_I</title>\n<path fill=\"none\" stroke=\"#000000\" d=\"M369.4962,-103.1484C386.0188,-92.7571 404.9056,-80.8789 420.909,-70.8142\"/>\n<polygon fill=\"#000000\" stroke=\"#000000\" points=\"422.8681,-73.7168 429.4698,-65.4302 419.1414,-67.7912 422.8681,-73.7168\"/>\n<text text-anchor=\"middle\" x=\"400.5871\" y=\"-89.8\" font-family=\"Times,serif\" font-size=\"14.00\" fill=\"#000000\">0 </text>\n</g>\n</g>\n</svg>\n"
          },
          "metadata": {},
          "execution_count": 18
        }
      ]
    },
    {
      "cell_type": "code",
      "metadata": {
        "id": "hazGkpuVchGA",
        "run_control": {
          "frozen": false,
          "read_only": false
        },
        "colab": {
          "base_uri": "https://localhost:8080/"
        },
        "outputId": "84be73ef-9a42-4af8-9917-b6abd52ed06b"
      },
      "source": [
        "# Let us see its internal representation -- this may give you hints for answering your question\n",
        "\n",
        "# \n",
        "\n",
        "nfaEnds10Eps0"
      ],
      "execution_count": 19,
      "outputs": [
        {
          "output_type": "execute_result",
          "data": {
            "text/plain": [
              "{'Delta': {('F', '0'): {'F2'},\n",
              "  ('I', '0'): {'I'},\n",
              "  ('I', '1'): {'I', 'S1'},\n",
              "  ('S1', '0'): {'S10'},\n",
              "  ('S10', ''): {'F'}},\n",
              " 'F': {'F', 'F2'},\n",
              " 'Q': {'F', 'F2', 'I', 'S1', 'S10'},\n",
              " 'Q0': {'I'},\n",
              " 'Sigma': {'0', '1'}}"
            ]
          },
          "metadata": {},
          "execution_count": 19
        }
      ]
    },
    {
      "cell_type": "markdown",
      "metadata": {
        "id": "iUK68D5b6GH6"
      },
      "source": [
        "## Question 3:"
      ]
    },
    {
      "cell_type": "markdown",
      "metadata": {
        "id": "N7Cf9KQW6Jyz"
      },
      "source": [
        "- After converting the NFA nfaEnds10Eps0 to a DFA, we see new states and new state transitions. Explain the NFA2DFA algorithm by explaining the reason of the appearance of every state and their state transition.\n",
        "- For example: \n",
        "  - Explains why state X shows up after converting the NFA to DFA.\n",
        "  - Explain the state transition of state X to its neighbor states.\n",
        "  \n",
        "Here is a likely explanation (a few examples shown)\n",
        "\n",
        "\n",
        "* State ... in the DFA came from the NFA state ... after e-closure of the set of states .... This Eclosure results in ... . And state ... goes back to itself after a ...\n",
        "\n",
        "* Use suitable variants of this style of explaining each of the DFA transitions.\n",
        "\n",
        "* Use as many bullets as needed\n",
        "\n",
        "* === YOUR ANSWER BELOW ===\n",
        "\n",
        "*  State I in the DFA came from the NFA state I. A 0 transition results in this state looping back to itself as in the NFA and a 1 transition results in it looping back to itself as well as moving to the state S1 in the NFA which after e-closure of the set of states {I, S1} points to state I_S1\n",
        "\n",
        "* State I_S1 in the DFA came from the NFA set of states {I, S1}. A 1 transition results in I in the NFA to loop back to itself as well as transition to S1 and the previous S1 state is essentially dropped, similarly in the DFA it just loops back to I_S1 because they are still the only set of states. A 0 transition in the NFA results in I looping back to itself as well as transition to S10 which is then sent right to state F due to the epsilon, similarly in the DFA it transitions to the F_I_S10 state.\n",
        "\n",
        "* State F_I_S10 in the DFA came from the NFA set of states { I, F } and is a final state because it contains one of the NFA equivalent's final states F. The reason it is F_I_S10 instead of F_I is because when the NFA reaches S10 the epsilon instantly transitions it to the F state. A 0 transition results in the states { I, F2 } where the I state in the NFA to loop back to itself as well as F moving to F2 in the NFA, similarly the DFA transitions to state F2_I which matches because those are the 2 active states in the NFA. A 1 transition results in the states { I, S1 } in the NFA because I loops back to itself and transitions to S1 while F has nowhere to go and is dropped, similarly the DFA transitions to I_S1 which matches the set of active states in the NFA.\n",
        "\n",
        "* State F2_I in the DFA came from the NFA set of states { I, F2 } and is a final state because it contains one of the NFA equivalent's final states F2. A 0 transition results in the state I in the NFA because I loops back to itself and F2 has nowhere to go so it is dropped, similarly the DFA transitions to I which matches because it is also the only active state in the NFA equivalent. A 1 transition results in the set of states { I, S1 } in the NFA because I loops back to itself and transitions to S1 and F2 has nowhere to go so it is dropped, similarly the DFA transitions to I_S1 which matches the set of active states in the NFA."
      ]
    },
    {
      "cell_type": "markdown",
      "metadata": {
        "id": "u0KM6o1c7HzY"
      },
      "source": [
        "## Question 4:"
      ]
    },
    {
      "cell_type": "markdown",
      "metadata": {
        "id": "SJM1F3gt7Wta"
      },
      "source": [
        "### Brzozowski's minimization"
      ]
    },
    {
      "cell_type": "markdown",
      "metadata": {
        "id": "OZbe3pcr7ZqX"
      },
      "source": [
        "A DFA can be minimized simply by following the steps below (also refers to section 7.7). In this problem, you will practice those steps on an initial bloated DFA given to you.\n",
        "\n",
        "The steps are these:\n",
        "\n",
        "1. Reverse the given DFA, say DFA_bloated, to obtain an NFA called NFA1 (use the rev_dfa function)\n",
        "\n",
        "2. Determinize NFA1 to obtain a DFA called DFA2\n",
        "\n",
        "3. Reverse DFA2 to obtain another NFA, say NFA2\n",
        "\n",
        "4. Determinize NFA2 to obtain the final minimized DFA, say DFA_min\n",
        "\n",
        "Given a DFA_bloated below:"
      ]
    },
    {
      "cell_type": "code",
      "metadata": {
        "id": "aL6wOndVchGB"
      },
      "source": [
        "\n",
        "DFA_bloated = md2mc('''\n",
        "\n",
        "DFA\n",
        "\n",
        "IS1: a -> Temp\n",
        "IS1: b -> FS3\n",
        "\n",
        "Temp: a -> FS2\n",
        "Temp: b -> FS3\n",
        "\n",
        "FS2: a -> S4\n",
        "FS2: b -> S5\n",
        "\n",
        "FS3: a -> S5\n",
        "FS3: b -> S4\n",
        "\n",
        "S4: a|b -> FS6\n",
        "S5: a|b -> FS6\n",
        "\n",
        "FS6: a|b -> FS6\n",
        "\n",
        "''')"
      ],
      "execution_count": 20,
      "outputs": []
    },
    {
      "cell_type": "code",
      "metadata": {
        "id": "1SJCJTkzchGC",
        "colab": {
          "base_uri": "https://localhost:8080/",
          "height": 260
        },
        "outputId": "d650f759-7e35-4915-ecd7-5dd9a4012c17"
      },
      "source": [
        "dotObj_dfa(DFA_bloated)"
      ],
      "execution_count": 21,
      "outputs": [
        {
          "output_type": "execute_result",
          "data": {
            "text/plain": [
              "<graphviz.dot.Digraph at 0x7f92f0094590>"
            ],
            "image/svg+xml": "<?xml version=\"1.0\" encoding=\"UTF-8\" standalone=\"no\"?>\n<!DOCTYPE svg PUBLIC \"-//W3C//DTD SVG 1.1//EN\"\n \"http://www.w3.org/Graphics/SVG/1.1/DTD/svg11.dtd\">\n<!-- Generated by graphviz version 2.40.1 (20161225.0304)\n -->\n<!-- Title: %3 Pages: 1 -->\n<svg width=\"566pt\" height=\"179pt\"\n viewBox=\"0.00 0.00 566.28 179.30\" xmlns=\"http://www.w3.org/2000/svg\" xmlns:xlink=\"http://www.w3.org/1999/xlink\">\n<g id=\"graph0\" class=\"graph\" transform=\"scale(1 1) rotate(0) translate(4 175.2953)\">\n<title>%3</title>\n<polygon fill=\"#ffffff\" stroke=\"transparent\" points=\"-4,4 -4,-175.2953 562.2768,-175.2953 562.2768,4 -4,4\"/>\n<!-- EMPTY -->\n<g id=\"node1\" class=\"node\">\n<title>EMPTY</title>\n</g>\n<!-- IS1 -->\n<g id=\"node3\" class=\"node\">\n<title>IS1</title>\n<ellipse fill=\"none\" stroke=\"#000000\" cx=\"115.0479\" cy=\"-46.6476\" rx=\"24.0958\" ry=\"24.0958\"/>\n<text text-anchor=\"middle\" x=\"115.0479\" y=\"-42.9476\" font-family=\"Times,serif\" font-size=\"14.00\" fill=\"#000000\">IS1</text>\n</g>\n<!-- EMPTY&#45;&gt;IS1 -->\n<g id=\"edge1\" class=\"edge\">\n<title>EMPTY&#45;&gt;IS1</title>\n<path fill=\"none\" stroke=\"#000000\" d=\"M54.3763,-46.6476C62.7026,-46.6476 71.9607,-46.6476 80.6861,-46.6476\"/>\n<polygon fill=\"#000000\" stroke=\"#000000\" points=\"80.9666,-50.1477 90.9666,-46.6476 80.9665,-43.1477 80.9666,-50.1477\"/>\n</g>\n<!-- Temp -->\n<g id=\"node2\" class=\"node\">\n<title>Temp</title>\n<ellipse fill=\"none\" stroke=\"#000000\" cx=\"217.5928\" cy=\"-95.6476\" rx=\"32.4942\" ry=\"32.4942\"/>\n<text text-anchor=\"middle\" x=\"217.5928\" y=\"-91.9476\" font-family=\"Times,serif\" font-size=\"14.00\" fill=\"#000000\">Temp</text>\n</g>\n<!-- FS3 -->\n<g id=\"node6\" class=\"node\">\n<title>FS3</title>\n<ellipse fill=\"none\" stroke=\"#000000\" cx=\"328.7376\" cy=\"-30.6476\" rx=\"26.7766\" ry=\"26.7766\"/>\n<ellipse fill=\"none\" stroke=\"#000000\" cx=\"328.7376\" cy=\"-30.6476\" rx=\"30.796\" ry=\"30.796\"/>\n<text text-anchor=\"middle\" x=\"328.7376\" y=\"-26.9476\" font-family=\"Times,serif\" font-size=\"14.00\" fill=\"#000000\">FS3</text>\n</g>\n<!-- Temp&#45;&gt;FS3 -->\n<g id=\"edge5\" class=\"edge\">\n<title>Temp&#45;&gt;FS3</title>\n<path fill=\"none\" stroke=\"#000000\" d=\"M245.9269,-79.0772C260.3356,-70.6507 277.9898,-60.3261 293.2906,-51.3778\"/>\n<polygon fill=\"#000000\" stroke=\"#000000\" points=\"295.12,-54.3626 301.9853,-46.293 291.5862,-48.3201 295.12,-54.3626\"/>\n<text text-anchor=\"middle\" x=\"274.09\" y=\"-69.4476\" font-family=\"Times,serif\" font-size=\"14.00\" fill=\"#000000\">b </text>\n</g>\n<!-- FS2 -->\n<g id=\"node7\" class=\"node\">\n<title>FS2</title>\n<ellipse fill=\"none\" stroke=\"#000000\" cx=\"328.7376\" cy=\"-109.6476\" rx=\"26.7766\" ry=\"26.7766\"/>\n<ellipse fill=\"none\" stroke=\"#000000\" cx=\"328.7376\" cy=\"-109.6476\" rx=\"30.796\" ry=\"30.796\"/>\n<text text-anchor=\"middle\" x=\"328.7376\" y=\"-105.9476\" font-family=\"Times,serif\" font-size=\"14.00\" fill=\"#000000\">FS2</text>\n</g>\n<!-- Temp&#45;&gt;FS2 -->\n<g id=\"edge4\" class=\"edge\">\n<title>Temp&#45;&gt;FS2</title>\n<path fill=\"none\" stroke=\"#000000\" d=\"M250.0393,-99.7347C261.8529,-101.2227 275.3636,-102.9245 287.8171,-104.4932\"/>\n<polygon fill=\"#000000\" stroke=\"#000000\" points=\"287.6099,-107.9947 297.969,-105.772 288.4848,-101.0496 287.6099,-107.9947\"/>\n<text text-anchor=\"middle\" x=\"274.09\" y=\"-106.4476\" font-family=\"Times,serif\" font-size=\"14.00\" fill=\"#000000\">a </text>\n</g>\n<!-- IS1&#45;&gt;Temp -->\n<g id=\"edge2\" class=\"edge\">\n<title>IS1&#45;&gt;Temp</title>\n<path fill=\"none\" stroke=\"#000000\" d=\"M136.795,-57.0393C149.0447,-62.8927 164.7053,-70.3759 178.9719,-77.193\"/>\n<polygon fill=\"#000000\" stroke=\"#000000\" points=\"177.5641,-80.3993 188.0959,-81.5529 180.5821,-74.0834 177.5641,-80.3993\"/>\n<text text-anchor=\"middle\" x=\"162.0957\" y=\"-75.4476\" font-family=\"Times,serif\" font-size=\"14.00\" fill=\"#000000\">a </text>\n</g>\n<!-- IS1&#45;&gt;FS3 -->\n<g id=\"edge3\" class=\"edge\">\n<title>IS1&#45;&gt;FS3</title>\n<path fill=\"none\" stroke=\"#000000\" d=\"M139.0185,-44.0306C152.5382,-42.6102 169.747,-40.895 185.0957,-39.6476 219.6976,-36.8357 259.0506,-34.425 287.8057,-32.8083\"/>\n<polygon fill=\"#000000\" stroke=\"#000000\" points=\"288.1007,-36.2974 297.8917,-32.2493 287.7133,-29.3082 288.1007,-36.2974\"/>\n<text text-anchor=\"middle\" x=\"217.5928\" y=\"-43.4476\" font-family=\"Times,serif\" font-size=\"14.00\" fill=\"#000000\">b </text>\n</g>\n<!-- S4 -->\n<g id=\"node4\" class=\"node\">\n<title>S4</title>\n<ellipse fill=\"none\" stroke=\"#000000\" cx=\"428.1834\" cy=\"-108.6476\" rx=\"20.5982\" ry=\"20.5982\"/>\n<text text-anchor=\"middle\" x=\"428.1834\" y=\"-104.9476\" font-family=\"Times,serif\" font-size=\"14.00\" fill=\"#000000\">S4</text>\n</g>\n<!-- FS6 -->\n<g id=\"node8\" class=\"node\">\n<title>FS6</title>\n<ellipse fill=\"none\" stroke=\"#000000\" cx=\"527.6292\" cy=\"-74.6476\" rx=\"26.7766\" ry=\"26.7766\"/>\n<ellipse fill=\"none\" stroke=\"#000000\" cx=\"527.6292\" cy=\"-74.6476\" rx=\"30.796\" ry=\"30.796\"/>\n<text text-anchor=\"middle\" x=\"527.6292\" y=\"-70.9476\" font-family=\"Times,serif\" font-size=\"14.00\" fill=\"#000000\">FS6</text>\n</g>\n<!-- S4&#45;&gt;FS6 -->\n<g id=\"edge10\" class=\"edge\">\n<title>S4&#45;&gt;FS6</title>\n<path fill=\"none\" stroke=\"#000000\" d=\"M448.8987,-112.077C458.2905,-112.8719 469.4108,-112.7328 478.9815,-109.6476 485.0903,-107.6785 491.0797,-104.6261 496.6527,-101.1268\"/>\n<polygon fill=\"#000000\" stroke=\"#000000\" points=\"498.7806,-103.9109 505.0247,-95.3515 494.8058,-98.1489 498.7806,-103.9109\"/>\n<text text-anchor=\"middle\" x=\"472.9815\" y=\"-115.4476\" font-family=\"Times,serif\" font-size=\"14.00\" fill=\"#000000\">a </text>\n</g>\n<!-- S4&#45;&gt;FS6 -->\n<g id=\"edge11\" class=\"edge\">\n<title>S4&#45;&gt;FS6</title>\n<path fill=\"none\" stroke=\"#000000\" d=\"M446.8475,-99.1772C453.1436,-96.2021 460.276,-93.0662 466.9815,-90.6476 473.5885,-88.2646 480.7162,-86.0667 487.6827,-84.1119\"/>\n<polygon fill=\"#000000\" stroke=\"#000000\" points=\"488.9416,-87.3981 497.6947,-81.4286 487.1295,-80.6367 488.9416,-87.3981\"/>\n<text text-anchor=\"middle\" x=\"472.9815\" y=\"-94.4476\" font-family=\"Times,serif\" font-size=\"14.00\" fill=\"#000000\">b </text>\n</g>\n<!-- S5 -->\n<g id=\"node5\" class=\"node\">\n<title>S5</title>\n<ellipse fill=\"none\" stroke=\"#000000\" cx=\"428.1834\" cy=\"-40.6476\" rx=\"20.5982\" ry=\"20.5982\"/>\n<text text-anchor=\"middle\" x=\"428.1834\" y=\"-36.9476\" font-family=\"Times,serif\" font-size=\"14.00\" fill=\"#000000\">S5</text>\n</g>\n<!-- S5&#45;&gt;FS6 -->\n<g id=\"edge12\" class=\"edge\">\n<title>S5&#45;&gt;FS6</title>\n<path fill=\"none\" stroke=\"#000000\" d=\"M448.3077,-47.528C459.9078,-51.4941 474.8872,-56.6154 488.6991,-61.3376\"/>\n<polygon fill=\"#000000\" stroke=\"#000000\" points=\"487.8905,-64.76 498.485,-64.6834 490.1551,-58.1365 487.8905,-64.76\"/>\n<text text-anchor=\"middle\" x=\"472.9815\" y=\"-61.4476\" font-family=\"Times,serif\" font-size=\"14.00\" fill=\"#000000\">a </text>\n</g>\n<!-- S5&#45;&gt;FS6 -->\n<g id=\"edge13\" class=\"edge\">\n<title>S5&#45;&gt;FS6</title>\n<path fill=\"none\" stroke=\"#000000\" d=\"M448.4422,-34.7397C457.9439,-32.9472 469.2832,-32.24 478.9815,-35.6476 485.706,-38.0103 492.1895,-41.7376 498.1112,-45.9712\"/>\n<polygon fill=\"#000000\" stroke=\"#000000\" points=\"496.3206,-49.0151 506.3479,-52.4363 500.6426,-43.5087 496.3206,-49.0151\"/>\n<text text-anchor=\"middle\" x=\"472.9815\" y=\"-39.4476\" font-family=\"Times,serif\" font-size=\"14.00\" fill=\"#000000\">b </text>\n</g>\n<!-- FS3&#45;&gt;S4 -->\n<g id=\"edge9\" class=\"edge\">\n<title>FS3&#45;&gt;S4</title>\n<path fill=\"none\" stroke=\"#000000\" d=\"M359.0583,-35.2208C369.4158,-37.8788 380.5932,-42.0653 389.3852,-48.6476 395.6168,-53.313 405.0636,-67.8254 413.0752,-81.4082\"/>\n<polygon fill=\"#000000\" stroke=\"#000000\" points=\"410.0542,-83.1758 418.0846,-90.0869 416.1168,-79.6764 410.0542,-83.1758\"/>\n<text text-anchor=\"middle\" x=\"383.3852\" y=\"-52.4476\" font-family=\"Times,serif\" font-size=\"14.00\" fill=\"#000000\">b </text>\n</g>\n<!-- FS3&#45;&gt;S5 -->\n<g id=\"edge8\" class=\"edge\">\n<title>FS3&#45;&gt;S5</title>\n<path fill=\"none\" stroke=\"#000000\" d=\"M356.3334,-16.837C366.7408,-13.3373 378.6544,-11.3845 389.3852,-14.6476 394.3962,-16.1714 399.3485,-18.5815 403.9528,-21.3336\"/>\n<polygon fill=\"#000000\" stroke=\"#000000\" points=\"402.0409,-24.2655 412.3018,-26.9045 405.9262,-18.4427 402.0409,-24.2655\"/>\n<text text-anchor=\"middle\" x=\"383.3852\" y=\"-18.4476\" font-family=\"Times,serif\" font-size=\"14.00\" fill=\"#000000\">a </text>\n</g>\n<!-- FS2&#45;&gt;S4 -->\n<g id=\"edge6\" class=\"edge\">\n<title>FS2&#45;&gt;S4</title>\n<path fill=\"none\" stroke=\"#000000\" d=\"M359.3861,-109.3394C371.392,-109.2187 385.1468,-109.0804 397.1863,-108.9593\"/>\n<polygon fill=\"#000000\" stroke=\"#000000\" points=\"397.2735,-112.4587 407.2378,-108.8583 397.203,-105.4591 397.2735,-112.4587\"/>\n<text text-anchor=\"middle\" x=\"383.3852\" y=\"-112.4476\" font-family=\"Times,serif\" font-size=\"14.00\" fill=\"#000000\">a </text>\n</g>\n<!-- FS2&#45;&gt;S5 -->\n<g id=\"edge7\" class=\"edge\">\n<title>FS2&#45;&gt;S5</title>\n<path fill=\"none\" stroke=\"#000000\" d=\"M354.1233,-92.0865C364.9875,-84.566 377.8124,-75.6817 389.3852,-67.6476 393.6574,-64.6818 398.1921,-61.5297 402.5976,-58.4653\"/>\n<polygon fill=\"#000000\" stroke=\"#000000\" points=\"404.598,-61.3374 410.807,-52.7526 400.5996,-55.5917 404.598,-61.3374\"/>\n<text text-anchor=\"middle\" x=\"383.3852\" y=\"-80.4476\" font-family=\"Times,serif\" font-size=\"14.00\" fill=\"#000000\">b </text>\n</g>\n<!-- FS6&#45;&gt;FS6 -->\n<g id=\"edge14\" class=\"edge\">\n<title>FS6&#45;&gt;FS6</title>\n<path fill=\"none\" stroke=\"#000000\" d=\"M522.5667,-105.0524C522.5667,-115.1873 524.2542,-123.2953 527.6292,-123.2953 529.7386,-123.2953 531.1888,-120.1281 531.9798,-115.2784\"/>\n<polygon fill=\"#000000\" stroke=\"#000000\" points=\"535.4886,-115.2714 532.6917,-105.0524 528.5055,-114.7852 535.4886,-115.2714\"/>\n<text text-anchor=\"middle\" x=\"527.6292\" y=\"-127.0953\" font-family=\"Times,serif\" font-size=\"14.00\" fill=\"#000000\">a </text>\n</g>\n<!-- FS6&#45;&gt;FS6 -->\n<g id=\"edge15\" class=\"edge\">\n<title>FS6&#45;&gt;FS6</title>\n<path fill=\"none\" stroke=\"#000000\" d=\"M518.3051,-104.1134C515.8727,-123.0605 518.9807,-141.2953 527.6292,-141.2953 534.7236,-141.2953 538.0898,-129.0248 537.7278,-114.1564\"/>\n<polygon fill=\"#000000\" stroke=\"#000000\" points=\"541.2119,-113.8146 536.9533,-104.1134 534.2327,-114.3529 541.2119,-113.8146\"/>\n<text text-anchor=\"middle\" x=\"527.6292\" y=\"-145.0953\" font-family=\"Times,serif\" font-size=\"14.00\" fill=\"#000000\">b </text>\n</g>\n</g>\n</svg>\n"
          },
          "metadata": {},
          "execution_count": 21
        }
      ]
    },
    {
      "cell_type": "markdown",
      "metadata": {
        "id": "KC3OV6sbchGD"
      },
      "source": [
        "### Part a: Reverse the above DFA"
      ]
    },
    {
      "cell_type": "code",
      "metadata": {
        "id": "mErYqdkGchGD",
        "colab": {
          "base_uri": "https://localhost:8080/"
        },
        "outputId": "908cdaea-56b3-4a99-8d3c-9a538e37d5b8"
      },
      "source": [
        "help(rev_dfa)"
      ],
      "execution_count": 22,
      "outputs": [
        {
          "output_type": "stream",
          "name": "stdout",
          "text": [
            "Help on function rev_dfa in module jove.Def_NFA:\n",
            "\n",
            "rev_dfa(D)\n",
            "    In : D = a partially consistent DFA without any unreachable states.\n",
            "    Out: A consistent NFA whose language is D's language reversed.\n",
            "\n"
          ]
        }
      ]
    },
    {
      "cell_type": "code",
      "metadata": {
        "id": "PRTxx_3rchGE"
      },
      "source": [
        "# Reverse DFA_bloated here\n",
        "NFA1 =  rev_dfa(DFA_bloated)\n",
        "\n",
        " "
      ],
      "execution_count": 23,
      "outputs": []
    },
    {
      "cell_type": "code",
      "metadata": {
        "id": "TFIZ9qDmchGE",
        "colab": {
          "base_uri": "https://localhost:8080/",
          "height": 256
        },
        "outputId": "95907016-b158-42dd-8305-5201a008891e"
      },
      "source": [
        "dotObj_nfa(NFA1)"
      ],
      "execution_count": 24,
      "outputs": [
        {
          "output_type": "execute_result",
          "data": {
            "text/plain": [
              "<graphviz.dot.Digraph at 0x7f92f004fb90>"
            ],
            "image/svg+xml": "<?xml version=\"1.0\" encoding=\"UTF-8\" standalone=\"no\"?>\n<!DOCTYPE svg PUBLIC \"-//W3C//DTD SVG 1.1//EN\"\n \"http://www.w3.org/Graphics/SVG/1.1/DTD/svg11.dtd\">\n<!-- Generated by graphviz version 2.40.1 (20161225.0304)\n -->\n<!-- Title: %3 Pages: 1 -->\n<svg width=\"558pt\" height=\"176pt\"\n viewBox=\"0.00 0.00 558.28 176.27\" xmlns=\"http://www.w3.org/2000/svg\" xmlns:xlink=\"http://www.w3.org/1999/xlink\">\n<g id=\"graph0\" class=\"graph\" transform=\"scale(1 1) rotate(0) translate(4 172.2732)\">\n<title>%3</title>\n<polygon fill=\"#ffffff\" stroke=\"transparent\" points=\"-4,4 -4,-172.2732 554.2768,-172.2732 554.2768,4 -4,4\"/>\n<!-- EMPTY -->\n<g id=\"node1\" class=\"node\">\n<title>EMPTY</title>\n</g>\n<!-- FS3 -->\n<g id=\"node4\" class=\"node\">\n<title>FS3</title>\n<ellipse fill=\"none\" stroke=\"#000000\" cx=\"308.5392\" cy=\"-126.3179\" rx=\"26.7961\" ry=\"26.7961\"/>\n<text text-anchor=\"middle\" x=\"308.5392\" y=\"-122.6179\" font-family=\"Times,serif\" font-size=\"14.00\" fill=\"#000000\">FS3</text>\n</g>\n<!-- EMPTY&#45;&gt;FS3 -->\n<g id=\"edge1\" class=\"edge\">\n<title>EMPTY&#45;&gt;FS3</title>\n<path fill=\"none\" stroke=\"#000000\" d=\"M32.2719,-68.3467C40.4207,-92.5041 58.62,-134.4086 91,-152.3179 149.4517,-184.6473 230.0795,-160.386 274.9515,-141.9618\"/>\n<polygon fill=\"#000000\" stroke=\"#000000\" points=\"276.3904,-145.1534 284.2286,-138.0251 273.6559,-138.7095 276.3904,-145.1534\"/>\n</g>\n<!-- FS6 -->\n<g id=\"node6\" class=\"node\">\n<title>FS6</title>\n<ellipse fill=\"none\" stroke=\"#000000\" cx=\"117.6476\" cy=\"-50.3179\" rx=\"26.7961\" ry=\"26.7961\"/>\n<text text-anchor=\"middle\" x=\"117.6476\" y=\"-46.6179\" font-family=\"Times,serif\" font-size=\"14.00\" fill=\"#000000\">FS6</text>\n</g>\n<!-- EMPTY&#45;&gt;FS6 -->\n<g id=\"edge3\" class=\"edge\">\n<title>EMPTY&#45;&gt;FS6</title>\n<path fill=\"none\" stroke=\"#000000\" d=\"M54.1973,-50.3179C62.5185,-50.3179 71.8156,-50.3179 80.6723,-50.3179\"/>\n<polygon fill=\"#000000\" stroke=\"#000000\" points=\"80.782,-53.818 90.7819,-50.3179 80.7819,-46.818 80.782,-53.818\"/>\n</g>\n<!-- FS2 -->\n<g id=\"node7\" class=\"node\">\n<title>FS2</title>\n<ellipse fill=\"none\" stroke=\"#000000\" cx=\"308.5392\" cy=\"-44.3179\" rx=\"26.7961\" ry=\"26.7961\"/>\n<text text-anchor=\"middle\" x=\"308.5392\" y=\"-40.6179\" font-family=\"Times,serif\" font-size=\"14.00\" fill=\"#000000\">FS2</text>\n</g>\n<!-- EMPTY&#45;&gt;FS2 -->\n<g id=\"edge2\" class=\"edge\">\n<title>EMPTY&#45;&gt;FS2</title>\n<path fill=\"none\" stroke=\"#000000\" d=\"M52.5187,-32.1987C63.7689,-25.2343 77.4857,-18.0612 91,-14.3179 165.0833,6.2026 190.568,3.7706 263.8916,-19.3179 268.3005,-20.7062 272.7616,-22.5629 277.0715,-24.6402\"/>\n<polygon fill=\"#000000\" stroke=\"#000000\" points=\"275.7078,-27.8778 286.1862,-29.4441 278.9716,-21.6852 275.7078,-27.8778\"/>\n</g>\n<!-- S5 -->\n<g id=\"node2\" class=\"node\">\n<title>S5</title>\n<ellipse fill=\"none\" stroke=\"#000000\" cx=\"213.0934\" cy=\"-46.3179\" rx=\"20.5982\" ry=\"20.5982\"/>\n<text text-anchor=\"middle\" x=\"213.0934\" y=\"-42.6179\" font-family=\"Times,serif\" font-size=\"14.00\" fill=\"#000000\">S5</text>\n</g>\n<!-- S5&#45;&gt;FS3 -->\n<g id=\"edge5\" class=\"edge\">\n<title>S5&#45;&gt;FS3</title>\n<path fill=\"none\" stroke=\"#000000\" d=\"M234.0773,-47.7106C243.8498,-49.2072 255.2068,-52.2364 263.8916,-58.3179 270.9511,-63.2613 281.4272,-78.9467 290.4577,-94.0081\"/>\n<polygon fill=\"#000000\" stroke=\"#000000\" points=\"287.4899,-95.8661 295.5709,-102.718 293.5266,-92.3222 287.4899,-95.8661\"/>\n<text text-anchor=\"middle\" x=\"257.8916\" y=\"-62.1179\" font-family=\"Times,serif\" font-size=\"14.00\" fill=\"#000000\">a </text>\n</g>\n<!-- S5&#45;&gt;FS2 -->\n<g id=\"edge4\" class=\"edge\">\n<title>S5&#45;&gt;FS2</title>\n<path fill=\"none\" stroke=\"#000000\" d=\"M230.031,-34.1995C236.5441,-30.2342 244.2546,-26.3324 251.8916,-24.3179 259.9932,-22.1807 268.5886,-23.3545 276.57,-25.9716\"/>\n<polygon fill=\"#000000\" stroke=\"#000000\" points=\"275.3438,-29.251 285.9266,-29.7542 277.9674,-22.7613 275.3438,-29.251\"/>\n<text text-anchor=\"middle\" x=\"257.8916\" y=\"-28.1179\" font-family=\"Times,serif\" font-size=\"14.00\" fill=\"#000000\">b </text>\n</g>\n<!-- Temp -->\n<g id=\"node3\" class=\"node\">\n<title>Temp</title>\n<ellipse fill=\"none\" stroke=\"#000000\" cx=\"415.684\" cy=\"-58.3179\" rx=\"32.4942\" ry=\"32.4942\"/>\n<text text-anchor=\"middle\" x=\"415.684\" y=\"-54.6179\" font-family=\"Times,serif\" font-size=\"14.00\" fill=\"#000000\">Temp</text>\n</g>\n<!-- IS1 -->\n<g id=\"node8\" class=\"node\">\n<title>IS1</title>\n<ellipse fill=\"none\" stroke=\"#000000\" cx=\"522.229\" cy=\"-92.3179\" rx=\"24.089\" ry=\"24.089\"/>\n<ellipse fill=\"none\" stroke=\"#000000\" cx=\"522.229\" cy=\"-92.3179\" rx=\"28.0958\" ry=\"28.0958\"/>\n<text text-anchor=\"middle\" x=\"522.229\" y=\"-88.6179\" font-family=\"Times,serif\" font-size=\"14.00\" fill=\"#000000\">IS1</text>\n</g>\n<!-- Temp&#45;&gt;IS1 -->\n<g id=\"edge6\" class=\"edge\">\n<title>Temp&#45;&gt;IS1</title>\n<path fill=\"none\" stroke=\"#000000\" d=\"M446.7876,-68.2435C458.9041,-72.11 472.8828,-76.5708 485.4902,-80.594\"/>\n<polygon fill=\"#000000\" stroke=\"#000000\" points=\"484.6545,-84.0012 495.2453,-83.707 486.7826,-77.3325 484.6545,-84.0012\"/>\n<text text-anchor=\"middle\" x=\"471.1811\" y=\"-82.1179\" font-family=\"Times,serif\" font-size=\"14.00\" fill=\"#000000\">a </text>\n</g>\n<!-- FS3&#45;&gt;Temp -->\n<g id=\"edge7\" class=\"edge\">\n<title>FS3&#45;&gt;Temp</title>\n<path fill=\"none\" stroke=\"#000000\" d=\"M331.2012,-111.4849C338.2303,-106.9148 346.0139,-101.8849 353.1869,-97.3179 361.5942,-91.9649 370.6743,-86.2569 379.2386,-80.9061\"/>\n<polygon fill=\"#000000\" stroke=\"#000000\" points=\"381.2928,-83.75 387.9269,-75.4892 377.5893,-77.8099 381.2928,-83.75\"/>\n<text text-anchor=\"middle\" x=\"359.1869\" y=\"-101.1179\" font-family=\"Times,serif\" font-size=\"14.00\" fill=\"#000000\">b </text>\n</g>\n<!-- FS3&#45;&gt;IS1 -->\n<g id=\"edge8\" class=\"edge\">\n<title>FS3&#45;&gt;IS1</title>\n<path fill=\"none\" stroke=\"#000000\" d=\"M335.1711,-122.0805C372.6905,-116.1108 441.3085,-105.193 484.1915,-98.37\"/>\n<polygon fill=\"#000000\" stroke=\"#000000\" points=\"484.9164,-101.7987 494.2422,-96.7708 483.8164,-94.8857 484.9164,-101.7987\"/>\n<text text-anchor=\"middle\" x=\"415.684\" y=\"-119.1179\" font-family=\"Times,serif\" font-size=\"14.00\" fill=\"#000000\">b </text>\n</g>\n<!-- S4 -->\n<g id=\"node5\" class=\"node\">\n<title>S4</title>\n<ellipse fill=\"none\" stroke=\"#000000\" cx=\"213.0934\" cy=\"-106.3179\" rx=\"20.5982\" ry=\"20.5982\"/>\n<text text-anchor=\"middle\" x=\"213.0934\" y=\"-102.6179\" font-family=\"Times,serif\" font-size=\"14.00\" fill=\"#000000\">S4</text>\n</g>\n<!-- S4&#45;&gt;FS3 -->\n<g id=\"edge9\" class=\"edge\">\n<title>S4&#45;&gt;FS3</title>\n<path fill=\"none\" stroke=\"#000000\" d=\"M233.6007,-111.2208C239.4959,-112.5906 245.9402,-114.0502 251.8916,-115.3179 258.3862,-116.7012 265.3151,-118.1057 272.0181,-119.4275\"/>\n<polygon fill=\"#000000\" stroke=\"#000000\" points=\"271.7861,-122.9479 282.2705,-121.4218 273.1228,-116.0767 271.7861,-122.9479\"/>\n<text text-anchor=\"middle\" x=\"257.8916\" y=\"-122.1179\" font-family=\"Times,serif\" font-size=\"14.00\" fill=\"#000000\">b </text>\n</g>\n<!-- S4&#45;&gt;FS2 -->\n<g id=\"edge10\" class=\"edge\">\n<title>S4&#45;&gt;FS2</title>\n<path fill=\"none\" stroke=\"#000000\" d=\"M231.7458,-96.3595C241.489,-90.9861 253.5124,-84.0827 263.8916,-77.3179 268.8577,-74.0811 274.0145,-70.4949 278.9838,-66.9141\"/>\n<polygon fill=\"#000000\" stroke=\"#000000\" points=\"281.1118,-69.6938 287.1028,-60.9555 276.9701,-64.0505 281.1118,-69.6938\"/>\n<text text-anchor=\"middle\" x=\"257.8916\" y=\"-88.1179\" font-family=\"Times,serif\" font-size=\"14.00\" fill=\"#000000\">a </text>\n</g>\n<!-- FS6&#45;&gt;S5 -->\n<g id=\"edge13\" class=\"edge\">\n<title>FS6&#45;&gt;S5</title>\n<path fill=\"none\" stroke=\"#000000\" d=\"M136.9811,-31.8501C144.3252,-26.0291 153.1405,-20.3339 162.2953,-17.3179 172.382,-13.9948 182.7048,-18.2262 191.3876,-24.3946\"/>\n<polygon fill=\"#000000\" stroke=\"#000000\" points=\"189.1854,-27.115 199.1486,-30.7186 193.6073,-21.6884 189.1854,-27.115\"/>\n<text text-anchor=\"middle\" x=\"168.2953\" y=\"-21.1179\" font-family=\"Times,serif\" font-size=\"14.00\" fill=\"#000000\">b </text>\n</g>\n<!-- FS6&#45;&gt;S5 -->\n<g id=\"edge16\" class=\"edge\">\n<title>FS6&#45;&gt;S5</title>\n<path fill=\"none\" stroke=\"#000000\" d=\"M144.4886,-49.193C156.1735,-48.7033 169.9389,-48.1264 182.0606,-47.6184\"/>\n<polygon fill=\"#000000\" stroke=\"#000000\" points=\"182.3517,-51.1094 192.1963,-47.1936 182.0585,-44.1155 182.3517,-51.1094\"/>\n<text text-anchor=\"middle\" x=\"168.2953\" y=\"-53.1179\" font-family=\"Times,serif\" font-size=\"14.00\" fill=\"#000000\">a </text>\n</g>\n<!-- FS6&#45;&gt;S4 -->\n<g id=\"edge12\" class=\"edge\">\n<title>FS6&#45;&gt;S4</title>\n<path fill=\"none\" stroke=\"#000000\" d=\"M140.7524,-63.8739C154.4201,-71.893 171.7977,-82.0888 186.0951,-90.4774\"/>\n<polygon fill=\"#000000\" stroke=\"#000000\" points=\"184.5797,-93.6462 194.9759,-95.6879 188.122,-87.6086 184.5797,-93.6462\"/>\n<text text-anchor=\"middle\" x=\"168.2953\" y=\"-88.1179\" font-family=\"Times,serif\" font-size=\"14.00\" fill=\"#000000\">b </text>\n</g>\n<!-- FS6&#45;&gt;S4 -->\n<g id=\"edge15\" class=\"edge\">\n<title>FS6&#45;&gt;S4</title>\n<path fill=\"none\" stroke=\"#000000\" d=\"M130.9445,-73.5449C138.5963,-84.5944 149.2824,-96.7917 162.2953,-103.3179 168.3069,-106.3328 175.235,-107.8199 182.0031,-108.4213\"/>\n<polygon fill=\"#000000\" stroke=\"#000000\" points=\"182.2523,-111.9302 192.3521,-108.7295 182.4607,-104.9333 182.2523,-111.9302\"/>\n<text text-anchor=\"middle\" x=\"168.2953\" y=\"-111.1179\" font-family=\"Times,serif\" font-size=\"14.00\" fill=\"#000000\">a </text>\n</g>\n<!-- FS6&#45;&gt;FS6 -->\n<g id=\"edge11\" class=\"edge\">\n<title>FS6&#45;&gt;FS6</title>\n<path fill=\"none\" stroke=\"#000000\" d=\"M113.5317,-76.9029C113.3968,-86.8103 114.7687,-94.9655 117.6476,-94.9655 119.447,-94.9655 120.6576,-91.7799 121.2797,-86.9718\"/>\n<polygon fill=\"#000000\" stroke=\"#000000\" points=\"124.7794,-87.0594 121.7636,-76.9029 117.7875,-86.7233 124.7794,-87.0594\"/>\n<text text-anchor=\"middle\" x=\"117.6476\" y=\"-98.7655\" font-family=\"Times,serif\" font-size=\"14.00\" fill=\"#000000\">b </text>\n</g>\n<!-- FS6&#45;&gt;FS6 -->\n<g id=\"edge14\" class=\"edge\">\n<title>FS6&#45;&gt;FS6</title>\n<path fill=\"none\" stroke=\"#000000\" d=\"M110.2859,-76.0585C107.889,-94.548 110.3429,-112.9655 117.6476,-112.9655 123.5827,-112.9655 126.3155,-100.8071 125.846,-86.3303\"/>\n<polygon fill=\"#000000\" stroke=\"#000000\" points=\"129.3097,-85.7413 125.0094,-76.0585 122.3328,-86.3097 129.3097,-85.7413\"/>\n<text text-anchor=\"middle\" x=\"117.6476\" y=\"-116.7655\" font-family=\"Times,serif\" font-size=\"14.00\" fill=\"#000000\">a </text>\n</g>\n<!-- FS2&#45;&gt;Temp -->\n<g id=\"edge17\" class=\"edge\">\n<title>FS2&#45;&gt;Temp</title>\n<path fill=\"none\" stroke=\"#000000\" d=\"M335.0244,-47.7785C346.5644,-49.2864 360.38,-51.0916 373.2893,-52.7784\"/>\n<polygon fill=\"#000000\" stroke=\"#000000\" points=\"373.018,-56.2726 383.3872,-54.0978 373.925,-49.3316 373.018,-56.2726\"/>\n<text text-anchor=\"middle\" x=\"359.1869\" y=\"-55.1179\" font-family=\"Times,serif\" font-size=\"14.00\" fill=\"#000000\">a </text>\n</g>\n</g>\n</svg>\n"
          },
          "metadata": {},
          "execution_count": 24
        }
      ]
    },
    {
      "cell_type": "markdown",
      "metadata": {
        "id": "i3z_4SNxfyYm"
      },
      "source": [
        "### Part b: Check that NFA1 is indeed the reverse of DFA_bloated"
      ]
    },
    {
      "cell_type": "markdown",
      "metadata": {
        "id": "wMFFSS0UchGE"
      },
      "source": [
        "Note: \"aabba\" is in DFA_bloated's language but its reversal (i.e. \"abbaa\") is in NFA1's language\n",
        "\n",
        "#### Which path does abbaa take in being accepted by NFA1 ?\n",
        "\n",
        "\n",
        "* == YOUR ANSWER BELOW ==\n",
        "\n",
        "* Starting from State { FS6, FS3, FS2 }\n",
        "\n",
        "* The next state after 'a' is { FS6, S4, S5, Temp }\n",
        "\n",
        "* The next state after 'b' is { FS6, FS3, FS2, S4, S5 }\n",
        "\n",
        "* The next state after 'b' is { FS6, FS3, FS2, S4, S5, Temp, IS1 }\n",
        "\n",
        "* The next state after 'a' is { FS6, FS3, FS2, S4, S5, Temp, IS1 }\n",
        "\n",
        "* The next state after 'a' is { FS6, FS3, FS2, S4, S5, Temp, IS1 }  -- which is a final state, because it contains a \"double-circled state\". It is possible that this state name does not begin with \"F\" because since we reversed the initial DFA, some \"I\" states would now be a final state. This is OK.\n",
        "\n"
      ]
    },
    {
      "cell_type": "markdown",
      "metadata": {
        "id": "OJ7YfwVdchGE"
      },
      "source": [
        "### Part c: Determinize NFA1 to obtain DFA2"
      ]
    },
    {
      "cell_type": "code",
      "metadata": {
        "id": "S9NCKwaQchGE",
        "colab": {
          "base_uri": "https://localhost:8080/"
        },
        "outputId": "919230f5-0577-47c1-908d-6409cae1dd5f"
      },
      "source": [
        "help(nfa2dfa)"
      ],
      "execution_count": 26,
      "outputs": [
        {
          "output_type": "stream",
          "name": "stdout",
          "text": [
            "Help on function nfa2dfa in module jove.Def_NFA:\n",
            "\n",
            "nfa2dfa(N, STATENAME_MAXSIZE=20)\n",
            "    In : N (consistent NFA), and optional STATENAME_MAXSIZE\n",
            "         for the generated DFA states\n",
            "    Out: A consistent DFA that is language-equivalent to N.\n",
            "\n"
          ]
        }
      ]
    },
    {
      "cell_type": "code",
      "metadata": {
        "id": "rsAlpHIKchGF"
      },
      "source": [
        "DFA2 = nfa2dfa(NFA1, STATENAME_MAXSIZE=20)\n",
        " "
      ],
      "execution_count": 27,
      "outputs": []
    },
    {
      "cell_type": "code",
      "metadata": {
        "id": "OVQHj1W_chGF",
        "colab": {
          "base_uri": "https://localhost:8080/",
          "height": 241
        },
        "outputId": "ad7e2123-3cfa-41c4-8625-08292934385e"
      },
      "source": [
        "dotObj_dfa(DFA2)"
      ],
      "execution_count": 28,
      "outputs": [
        {
          "output_type": "execute_result",
          "data": {
            "text/plain": [
              "<graphviz.dot.Digraph at 0x7f92f0055690>"
            ],
            "image/svg+xml": "<?xml version=\"1.0\" encoding=\"UTF-8\" standalone=\"no\"?>\n<!DOCTYPE svg PUBLIC \"-//W3C//DTD SVG 1.1//EN\"\n \"http://www.w3.org/Graphics/SVG/1.1/DTD/svg11.dtd\">\n<!-- Generated by graphviz version 2.40.1 (20161225.0304)\n -->\n<!-- Title: %3 Pages: 1 -->\n<svg width=\"547pt\" height=\"165pt\"\n viewBox=\"0.00 0.00 546.98 164.80\" xmlns=\"http://www.w3.org/2000/svg\" xmlns:xlink=\"http://www.w3.org/1999/xlink\">\n<g id=\"graph0\" class=\"graph\" transform=\"scale(1 1) rotate(0) translate(4 160.7958)\">\n<title>%3</title>\n<polygon fill=\"#ffffff\" stroke=\"transparent\" points=\"-4,4 -4,-160.7958 542.9792,-160.7958 542.9792,4 -4,4\"/>\n<!-- EMPTY -->\n<g id=\"node1\" class=\"node\">\n<title>EMPTY</title>\n</g>\n<!-- St4 -->\n<g id=\"node4\" class=\"node\">\n<title>St4</title>\n<ellipse fill=\"none\" stroke=\"#000000\" cx=\"114.3979\" cy=\"-61.3979\" rx=\"23.2963\" ry=\"23.2963\"/>\n<text text-anchor=\"middle\" x=\"114.3979\" y=\"-57.6979\" font-family=\"Times,serif\" font-size=\"14.00\" fill=\"#000000\">St4</text>\n</g>\n<!-- EMPTY&#45;&gt;St4 -->\n<g id=\"edge1\" class=\"edge\">\n<title>EMPTY&#45;&gt;St4</title>\n<path fill=\"none\" stroke=\"#000000\" d=\"M54.1742,-61.3979C62.5103,-61.3979 71.7873,-61.3979 80.5137,-61.3979\"/>\n<polygon fill=\"#000000\" stroke=\"#000000\" points=\"80.7846,-64.898 90.7846,-61.3979 80.7845,-57.898 80.7846,-64.898\"/>\n</g>\n<!-- St3 -->\n<g id=\"node2\" class=\"node\">\n<title>St3</title>\n<ellipse fill=\"none\" stroke=\"#000000\" cx=\"315.9896\" cy=\"-102.3979\" rx=\"23.2963\" ry=\"23.2963\"/>\n<text text-anchor=\"middle\" x=\"315.9896\" y=\"-98.6979\" font-family=\"Times,serif\" font-size=\"14.00\" fill=\"#000000\">St3</text>\n</g>\n<!-- St2 -->\n<g id=\"node5\" class=\"node\">\n<title>St2</title>\n<ellipse fill=\"none\" stroke=\"#000000\" cx=\"412.7855\" cy=\"-60.3979\" rx=\"23.2963\" ry=\"23.2963\"/>\n<text text-anchor=\"middle\" x=\"412.7855\" y=\"-56.6979\" font-family=\"Times,serif\" font-size=\"14.00\" fill=\"#000000\">St2</text>\n</g>\n<!-- St3&#45;&gt;St2 -->\n<g id=\"edge9\" class=\"edge\">\n<title>St3&#45;&gt;St2</title>\n<path fill=\"none\" stroke=\"#000000\" d=\"M337.4718,-93.0768C350.4143,-87.4609 367.1224,-80.2113 381.5119,-73.9676\"/>\n<polygon fill=\"#000000\" stroke=\"#000000\" points=\"383.2482,-77.0296 391.0287,-69.8383 380.4618,-70.608 383.2482,-77.0296\"/>\n<text text-anchor=\"middle\" x=\"366.3875\" y=\"-86.1979\" font-family=\"Times,serif\" font-size=\"14.00\" fill=\"#000000\">a </text>\n</g>\n<!-- St0 -->\n<g id=\"node8\" class=\"node\">\n<title>St0</title>\n<ellipse fill=\"none\" stroke=\"#000000\" cx=\"511.5813\" cy=\"-63.3979\" rx=\"23.3111\" ry=\"23.3111\"/>\n<ellipse fill=\"none\" stroke=\"#000000\" cx=\"511.5813\" cy=\"-63.3979\" rx=\"27.2962\" ry=\"27.2962\"/>\n<text text-anchor=\"middle\" x=\"511.5813\" y=\"-59.6979\" font-family=\"Times,serif\" font-size=\"14.00\" fill=\"#000000\">St0</text>\n</g>\n<!-- St3&#45;&gt;St0 -->\n<g id=\"edge8\" class=\"edge\">\n<title>St3&#45;&gt;St0</title>\n<path fill=\"none\" stroke=\"#000000\" d=\"M339.4706,-102.5959C349.3398,-102.5179 360.9345,-102.2153 371.3875,-101.3979 400.3737,-99.1315 407.9751,-99.4425 436.1834,-92.3979 449.9616,-88.957 452.9148,-86.46 466.1834,-81.3979 469.451,-80.1513 472.8444,-78.8391 476.238,-77.5147\"/>\n<polygon fill=\"#000000\" stroke=\"#000000\" points=\"477.673,-80.7114 485.6988,-73.7949 475.1115,-74.1969 477.673,-80.7114\"/>\n<text text-anchor=\"middle\" x=\"412.7855\" y=\"-103.1979\" font-family=\"Times,serif\" font-size=\"14.00\" fill=\"#000000\">b </text>\n</g>\n<!-- St6 -->\n<g id=\"node3\" class=\"node\">\n<title>St6</title>\n<ellipse fill=\"none\" stroke=\"#000000\" cx=\"213.1938\" cy=\"-96.3979\" rx=\"23.2963\" ry=\"23.2963\"/>\n<text text-anchor=\"middle\" x=\"213.1938\" y=\"-92.6979\" font-family=\"Times,serif\" font-size=\"14.00\" fill=\"#000000\">St6</text>\n</g>\n<!-- St6&#45;&gt;St3 -->\n<g id=\"edge6\" class=\"edge\">\n<title>St6&#45;&gt;St3</title>\n<path fill=\"none\" stroke=\"#000000\" d=\"M236.7772,-97.7744C250.228,-98.5595 267.3157,-99.5569 282.1744,-100.4242\"/>\n<polygon fill=\"#000000\" stroke=\"#000000\" points=\"282.3289,-103.9391 292.5159,-101.0278 282.7369,-96.951 282.3289,-103.9391\"/>\n<text text-anchor=\"middle\" x=\"264.5917\" y=\"-103.1979\" font-family=\"Times,serif\" font-size=\"14.00\" fill=\"#000000\">b </text>\n</g>\n<!-- St1 -->\n<g id=\"node7\" class=\"node\">\n<title>St1</title>\n<ellipse fill=\"none\" stroke=\"#000000\" cx=\"315.9896\" cy=\"-27.3979\" rx=\"23.3111\" ry=\"23.3111\"/>\n<ellipse fill=\"none\" stroke=\"#000000\" cx=\"315.9896\" cy=\"-27.3979\" rx=\"27.2962\" ry=\"27.2962\"/>\n<text text-anchor=\"middle\" x=\"315.9896\" y=\"-23.6979\" font-family=\"Times,serif\" font-size=\"14.00\" fill=\"#000000\">St1</text>\n</g>\n<!-- St6&#45;&gt;St1 -->\n<g id=\"edge7\" class=\"edge\">\n<title>St6&#45;&gt;St1</title>\n<path fill=\"none\" stroke=\"#000000\" d=\"M233.249,-83.7566C244.3317,-76.6993 258.3044,-67.6836 270.5917,-59.3979 275.2887,-56.2306 280.2208,-52.8317 285.0327,-49.4743\"/>\n<polygon fill=\"#000000\" stroke=\"#000000\" points=\"287.3168,-52.1471 293.4877,-43.5348 283.293,-46.4192 287.3168,-52.1471\"/>\n<text text-anchor=\"middle\" x=\"264.5917\" y=\"-70.1979\" font-family=\"Times,serif\" font-size=\"14.00\" fill=\"#000000\">a </text>\n</g>\n<!-- St4&#45;&gt;St6 -->\n<g id=\"edge3\" class=\"edge\">\n<title>St4&#45;&gt;St6</title>\n<path fill=\"none\" stroke=\"#000000\" d=\"M136.8162,-69.34C149.9532,-73.9939 166.7624,-79.9489 181.2655,-85.0868\"/>\n<polygon fill=\"#000000\" stroke=\"#000000\" points=\"180.2694,-88.447 190.8642,-88.4873 182.607,-81.8488 180.2694,-88.447\"/>\n<text text-anchor=\"middle\" x=\"161.7958\" y=\"-83.1979\" font-family=\"Times,serif\" font-size=\"14.00\" fill=\"#000000\">a </text>\n</g>\n<!-- St5 -->\n<g id=\"node6\" class=\"node\">\n<title>St5</title>\n<ellipse fill=\"none\" stroke=\"#000000\" cx=\"213.1938\" cy=\"-27.3979\" rx=\"23.3111\" ry=\"23.3111\"/>\n<ellipse fill=\"none\" stroke=\"#000000\" cx=\"213.1938\" cy=\"-27.3979\" rx=\"27.2962\" ry=\"27.2962\"/>\n<text text-anchor=\"middle\" x=\"213.1938\" y=\"-23.6979\" font-family=\"Times,serif\" font-size=\"14.00\" fill=\"#000000\">St5</text>\n</g>\n<!-- St4&#45;&gt;St5 -->\n<g id=\"edge2\" class=\"edge\">\n<title>St4&#45;&gt;St5</title>\n<path fill=\"none\" stroke=\"#000000\" d=\"M136.8162,-53.6828C148.819,-49.5521 163.8873,-44.3665 177.4614,-39.695\"/>\n<polygon fill=\"#000000\" stroke=\"#000000\" points=\"178.6994,-42.9705 187.0161,-36.4068 176.4214,-36.3515 178.6994,-42.9705\"/>\n<text text-anchor=\"middle\" x=\"161.7958\" y=\"-51.1979\" font-family=\"Times,serif\" font-size=\"14.00\" fill=\"#000000\">b </text>\n</g>\n<!-- St2&#45;&gt;St0 -->\n<g id=\"edge14\" class=\"edge\">\n<title>St2&#45;&gt;St0</title>\n<path fill=\"none\" stroke=\"#000000\" d=\"M436.1987,-61.1089C447.4326,-61.45 461.173,-61.8672 473.8312,-62.2516\"/>\n<polygon fill=\"#000000\" stroke=\"#000000\" points=\"474.0292,-65.7592 484.1309,-62.5644 474.2418,-58.7624 474.0292,-65.7592\"/>\n<text text-anchor=\"middle\" x=\"460.1834\" y=\"-66.1979\" font-family=\"Times,serif\" font-size=\"14.00\" fill=\"#000000\">b </text>\n</g>\n<!-- St2&#45;&gt;St0 -->\n<g id=\"edge15\" class=\"edge\">\n<title>St2&#45;&gt;St0</title>\n<path fill=\"none\" stroke=\"#000000\" d=\"M433.3195,-48.6203C443.1407,-44.3456 455.1399,-41.0731 466.1834,-43.3979 470.0549,-44.2129 473.9988,-45.3794 477.8644,-46.7451\"/>\n<polygon fill=\"#000000\" stroke=\"#000000\" points=\"476.6406,-50.0249 487.2264,-50.463 479.2243,-43.5191 476.6406,-50.0249\"/>\n<text text-anchor=\"middle\" x=\"460.1834\" y=\"-47.1979\" font-family=\"Times,serif\" font-size=\"14.00\" fill=\"#000000\">a </text>\n</g>\n<!-- St5&#45;&gt;St3 -->\n<g id=\"edge4\" class=\"edge\">\n<title>St5&#45;&gt;St3</title>\n<path fill=\"none\" stroke=\"#000000\" d=\"M240.7655,-29.5908C250.7832,-31.3919 261.7932,-34.624 270.5917,-40.3979 272.4794,-41.6367 285.0697,-58.9087 296.5133,-74.9075\"/>\n<polygon fill=\"#000000\" stroke=\"#000000\" points=\"293.6751,-76.9556 302.3303,-83.066 299.3747,-72.8918 293.6751,-76.9556\"/>\n<text text-anchor=\"middle\" x=\"264.5917\" y=\"-44.1979\" font-family=\"Times,serif\" font-size=\"14.00\" fill=\"#000000\">b </text>\n</g>\n<!-- St5&#45;&gt;St1 -->\n<g id=\"edge5\" class=\"edge\">\n<title>St5&#45;&gt;St1</title>\n<path fill=\"none\" stroke=\"#000000\" d=\"M236.2287,-12.5147C246.5481,-7.5437 258.9852,-3.8435 270.5917,-6.3979 274.4877,-7.2554 278.4472,-8.4813 282.3221,-9.9158\"/>\n<polygon fill=\"#000000\" stroke=\"#000000\" points=\"281.1182,-13.2058 291.6952,-13.8204 283.8101,-6.7441 281.1182,-13.2058\"/>\n<text text-anchor=\"middle\" x=\"264.5917\" y=\"-10.1979\" font-family=\"Times,serif\" font-size=\"14.00\" fill=\"#000000\">a </text>\n</g>\n<!-- St1&#45;&gt;St2 -->\n<g id=\"edge11\" class=\"edge\">\n<title>St1&#45;&gt;St2</title>\n<path fill=\"none\" stroke=\"#000000\" d=\"M341.9291,-36.2413C353.8598,-40.3088 368.13,-45.1738 380.7271,-49.4685\"/>\n<polygon fill=\"#000000\" stroke=\"#000000\" points=\"379.7998,-52.8501 390.3943,-52.7642 382.0586,-46.2245 379.7998,-52.8501\"/>\n<text text-anchor=\"middle\" x=\"366.3875\" y=\"-50.1979\" font-family=\"Times,serif\" font-size=\"14.00\" fill=\"#000000\">a </text>\n</g>\n<!-- St1&#45;&gt;St0 -->\n<g id=\"edge10\" class=\"edge\">\n<title>St1&#45;&gt;St0</title>\n<path fill=\"none\" stroke=\"#000000\" d=\"M342.3181,-18.3283C367.0369,-11.207 404.8055,-3.9392 436.1834,-13.3979 453.0838,-18.4924 469.6762,-28.7499 482.9741,-38.6554\"/>\n<polygon fill=\"#000000\" stroke=\"#000000\" points=\"481.1641,-41.6815 491.2071,-45.0562 485.4606,-36.1552 481.1641,-41.6815\"/>\n<text text-anchor=\"middle\" x=\"412.7855\" y=\"-17.1979\" font-family=\"Times,serif\" font-size=\"14.00\" fill=\"#000000\">b </text>\n</g>\n<!-- St0&#45;&gt;St0 -->\n<g id=\"edge12\" class=\"edge\">\n<title>St0&#45;&gt;St0</title>\n<path fill=\"none\" stroke=\"#000000\" d=\"M506.9041,-90.4297C506.7508,-100.5036 508.3098,-108.7958 511.5813,-108.7958 513.626,-108.7958 515.0018,-105.5567 515.7086,-100.6679\"/>\n<polygon fill=\"#000000\" stroke=\"#000000\" points=\"519.217,-100.6031 516.2585,-90.4297 512.2271,-100.2276 519.217,-100.6031\"/>\n<text text-anchor=\"middle\" x=\"511.5813\" y=\"-112.5958\" font-family=\"Times,serif\" font-size=\"14.00\" fill=\"#000000\">b </text>\n</g>\n<!-- St0&#45;&gt;St0 -->\n<g id=\"edge13\" class=\"edge\">\n<title>St0&#45;&gt;St0</title>\n<path fill=\"none\" stroke=\"#000000\" d=\"M503.1682,-89.777C500.525,-108.3764 503.3294,-126.7958 511.5813,-126.7958 518.286,-126.7958 521.3945,-114.6361 520.9067,-100.1\"/>\n<polygon fill=\"#000000\" stroke=\"#000000\" points=\"524.3612,-99.4301 519.9944,-89.777 517.3884,-100.0463 524.3612,-99.4301\"/>\n<text text-anchor=\"middle\" x=\"511.5813\" y=\"-130.5958\" font-family=\"Times,serif\" font-size=\"14.00\" fill=\"#000000\">a </text>\n</g>\n</g>\n</svg>\n"
          },
          "metadata": {},
          "execution_count": 28
        }
      ]
    },
    {
      "cell_type": "markdown",
      "metadata": {
        "id": "hTEvZTXochGF"
      },
      "source": [
        "### Part d: Reverse DFA2 to obtain NFA3"
      ]
    },
    {
      "cell_type": "code",
      "metadata": {
        "id": "oG3pT6fGchGF"
      },
      "source": [
        "NFA3 = rev_dfa(DFA2)\n",
        " "
      ],
      "execution_count": 29,
      "outputs": []
    },
    {
      "cell_type": "code",
      "metadata": {
        "id": "rnFeP4-_chGF",
        "colab": {
          "base_uri": "https://localhost:8080/",
          "height": 296
        },
        "outputId": "b39bf300-3db4-442c-a825-c5988d7ac386"
      },
      "source": [
        "dotObj_nfa(NFA3)"
      ],
      "execution_count": 30,
      "outputs": [
        {
          "output_type": "execute_result",
          "data": {
            "text/plain": [
              "<graphviz.dot.Digraph at 0x7f92f0025350>"
            ],
            "image/svg+xml": "<?xml version=\"1.0\" encoding=\"UTF-8\" standalone=\"no\"?>\n<!DOCTYPE svg PUBLIC \"-//W3C//DTD SVG 1.1//EN\"\n \"http://www.w3.org/Graphics/SVG/1.1/DTD/svg11.dtd\">\n<!-- Generated by graphviz version 2.40.1 (20161225.0304)\n -->\n<!-- Title: %3 Pages: 1 -->\n<svg width=\"531pt\" height=\"206pt\"\n viewBox=\"0.00 0.00 530.98 205.59\" xmlns=\"http://www.w3.org/2000/svg\" xmlns:xlink=\"http://www.w3.org/1999/xlink\">\n<g id=\"graph0\" class=\"graph\" transform=\"scale(1 1) rotate(0) translate(4 201.594)\">\n<title>%3</title>\n<polygon fill=\"#ffffff\" stroke=\"transparent\" points=\"-4,4 -4,-201.594 526.9792,-201.594 526.9792,4 -4,4\"/>\n<!-- EMPTY -->\n<g id=\"node1\" class=\"node\">\n<title>EMPTY</title>\n</g>\n<!-- St5 -->\n<g id=\"node2\" class=\"node\">\n<title>St5</title>\n<ellipse fill=\"none\" stroke=\"#000000\" cx=\"396.7855\" cy=\"-39\" rx=\"23.2963\" ry=\"23.2963\"/>\n<text text-anchor=\"middle\" x=\"396.7855\" y=\"-35.3\" font-family=\"Times,serif\" font-size=\"14.00\" fill=\"#000000\">St5</text>\n</g>\n<!-- EMPTY&#45;&gt;St5 -->\n<g id=\"edge1\" class=\"edge\">\n<title>EMPTY&#45;&gt;St5</title>\n<path fill=\"none\" stroke=\"#000000\" d=\"M35.4614,-66.9737C48.5687,-42.0227 76.2993,0 114.3979,0 114.3979,0 114.3979,0 301.9896,0 325.7389,0 350.4884,-10.5984 368.7413,-20.7454\"/>\n<polygon fill=\"#000000\" stroke=\"#000000\" points=\"366.9989,-23.7809 377.4002,-25.7964 370.526,-17.7344 366.9989,-23.7809\"/>\n</g>\n<!-- St0 -->\n<g id=\"node5\" class=\"node\">\n<title>St0</title>\n<ellipse fill=\"none\" stroke=\"#000000\" cx=\"114.3979\" cy=\"-85\" rx=\"23.2963\" ry=\"23.2963\"/>\n<text text-anchor=\"middle\" x=\"114.3979\" y=\"-81.3\" font-family=\"Times,serif\" font-size=\"14.00\" fill=\"#000000\">St0</text>\n</g>\n<!-- EMPTY&#45;&gt;St0 -->\n<g id=\"edge3\" class=\"edge\">\n<title>EMPTY&#45;&gt;St0</title>\n<path fill=\"none\" stroke=\"#000000\" d=\"M54.1742,-85C62.5103,-85 71.7873,-85 80.5137,-85\"/>\n<polygon fill=\"#000000\" stroke=\"#000000\" points=\"80.7846,-88.5001 90.7846,-85 80.7845,-81.5001 80.7846,-88.5001\"/>\n</g>\n<!-- St1 -->\n<g id=\"node7\" class=\"node\">\n<title>St1</title>\n<ellipse fill=\"none\" stroke=\"#000000\" cx=\"301.9896\" cy=\"-153\" rx=\"23.2963\" ry=\"23.2963\"/>\n<text text-anchor=\"middle\" x=\"301.9896\" y=\"-149.3\" font-family=\"Times,serif\" font-size=\"14.00\" fill=\"#000000\">St1</text>\n</g>\n<!-- EMPTY&#45;&gt;St1 -->\n<g id=\"edge2\" class=\"edge\">\n<title>EMPTY&#45;&gt;St1</title>\n<path fill=\"none\" stroke=\"#000000\" d=\"M32.7745,-103.1404C41.3025,-126.4922 59.7265,-166.0718 91,-183 149.1085,-214.4539 228.8235,-187.4226 271.7198,-168.1987\"/>\n<polygon fill=\"#000000\" stroke=\"#000000\" points=\"273.4426,-171.258 281.0461,-163.8798 270.5011,-164.906 273.4426,-171.258\"/>\n</g>\n<!-- St4 -->\n<g id=\"node8\" class=\"node\">\n<title>St4</title>\n<ellipse fill=\"none\" stroke=\"#000000\" cx=\"495.5813\" cy=\"-71\" rx=\"23.3111\" ry=\"23.3111\"/>\n<ellipse fill=\"none\" stroke=\"#000000\" cx=\"495.5813\" cy=\"-71\" rx=\"27.2962\" ry=\"27.2962\"/>\n<text text-anchor=\"middle\" x=\"495.5813\" y=\"-67.3\" font-family=\"Times,serif\" font-size=\"14.00\" fill=\"#000000\">St4</text>\n</g>\n<!-- St5&#45;&gt;St4 -->\n<g id=\"edge4\" class=\"edge\">\n<title>St5&#45;&gt;St4</title>\n<path fill=\"none\" stroke=\"#000000\" d=\"M419.2038,-46.2613C431.2065,-50.149 446.2748,-55.0296 459.8489,-59.4263\"/>\n<polygon fill=\"#000000\" stroke=\"#000000\" points=\"458.8117,-62.7693 469.4037,-62.5211 460.9688,-56.1099 458.8117,-62.7693\"/>\n<text text-anchor=\"middle\" x=\"444.1834\" y=\"-59.8\" font-family=\"Times,serif\" font-size=\"14.00\" fill=\"#000000\">b </text>\n</g>\n<!-- St2 -->\n<g id=\"node3\" class=\"node\">\n<title>St2</title>\n<ellipse fill=\"none\" stroke=\"#000000\" cx=\"209.1938\" cy=\"-102\" rx=\"23.2963\" ry=\"23.2963\"/>\n<text text-anchor=\"middle\" x=\"209.1938\" y=\"-98.3\" font-family=\"Times,serif\" font-size=\"14.00\" fill=\"#000000\">St2</text>\n</g>\n<!-- St3 -->\n<g id=\"node6\" class=\"node\">\n<title>St3</title>\n<ellipse fill=\"none\" stroke=\"#000000\" cx=\"301.9896\" cy=\"-64\" rx=\"23.2963\" ry=\"23.2963\"/>\n<text text-anchor=\"middle\" x=\"301.9896\" y=\"-60.3\" font-family=\"Times,serif\" font-size=\"14.00\" fill=\"#000000\">St3</text>\n</g>\n<!-- St2&#45;&gt;St3 -->\n<g id=\"edge5\" class=\"edge\">\n<title>St2&#45;&gt;St3</title>\n<path fill=\"none\" stroke=\"#000000\" d=\"M231.1851,-92.9945C242.9728,-88.1675 257.6986,-82.1372 270.6632,-76.8282\"/>\n<polygon fill=\"#000000\" stroke=\"#000000\" points=\"272.2284,-79.9694 280.1562,-72.9408 269.5756,-73.4915 272.2284,-79.9694\"/>\n<text text-anchor=\"middle\" x=\"255.5917\" y=\"-87.8\" font-family=\"Times,serif\" font-size=\"14.00\" fill=\"#000000\">a </text>\n</g>\n<!-- St2&#45;&gt;St1 -->\n<g id=\"edge6\" class=\"edge\">\n<title>St2&#45;&gt;St1</title>\n<path fill=\"none\" stroke=\"#000000\" d=\"M229.7882,-113.3186C242.2827,-120.1855 258.4377,-129.0641 272.2975,-136.6814\"/>\n<polygon fill=\"#000000\" stroke=\"#000000\" points=\"271.0033,-139.9639 281.4528,-141.7131 274.3749,-133.8293 271.0033,-139.9639\"/>\n<text text-anchor=\"middle\" x=\"255.5917\" y=\"-132.8\" font-family=\"Times,serif\" font-size=\"14.00\" fill=\"#000000\">a </text>\n</g>\n<!-- St6 -->\n<g id=\"node4\" class=\"node\">\n<title>St6</title>\n<ellipse fill=\"none\" stroke=\"#000000\" cx=\"396.7855\" cy=\"-104\" rx=\"23.2963\" ry=\"23.2963\"/>\n<text text-anchor=\"middle\" x=\"396.7855\" y=\"-100.3\" font-family=\"Times,serif\" font-size=\"14.00\" fill=\"#000000\">St6</text>\n</g>\n<!-- St6&#45;&gt;St4 -->\n<g id=\"edge7\" class=\"edge\">\n<title>St6&#45;&gt;St4</title>\n<path fill=\"none\" stroke=\"#000000\" d=\"M419.2038,-96.5118C431.2065,-92.5026 446.2748,-87.4695 459.8489,-82.9354\"/>\n<polygon fill=\"#000000\" stroke=\"#000000\" points=\"461.0277,-86.2318 469.4037,-79.7439 458.8099,-79.5924 461.0277,-86.2318\"/>\n<text text-anchor=\"middle\" x=\"444.1834\" y=\"-92.8\" font-family=\"Times,serif\" font-size=\"14.00\" fill=\"#000000\">a </text>\n</g>\n<!-- St0&#45;&gt;St2 -->\n<g id=\"edge11\" class=\"edge\">\n<title>St0&#45;&gt;St2</title>\n<path fill=\"none\" stroke=\"#000000\" d=\"M136.4443,-93.682C142.6159,-95.7739 149.3898,-97.7606 155.7958,-99 162.1372,-100.2269 168.975,-101.0085 175.5712,-101.4963\"/>\n<polygon fill=\"#000000\" stroke=\"#000000\" points=\"175.4567,-104.9952 185.6318,-102.0427 175.8364,-98.0055 175.4567,-104.9952\"/>\n<text text-anchor=\"middle\" x=\"161.7958\" y=\"-103.8\" font-family=\"Times,serif\" font-size=\"14.00\" fill=\"#000000\">b </text>\n</g>\n<!-- St0&#45;&gt;St2 -->\n<g id=\"edge13\" class=\"edge\">\n<title>St0&#45;&gt;St2</title>\n<path fill=\"none\" stroke=\"#000000\" d=\"M137.2566,-79.5198C146.8058,-78.088 157.948,-77.5458 167.7958,-80 171.9716,-81.0406 176.1885,-82.5899 180.2513,-84.3934\"/>\n<polygon fill=\"#000000\" stroke=\"#000000\" points=\"178.8498,-87.6056 189.3599,-88.9428 181.9777,-81.3433 178.8498,-87.6056\"/>\n<text text-anchor=\"middle\" x=\"161.7958\" y=\"-83.8\" font-family=\"Times,serif\" font-size=\"14.00\" fill=\"#000000\">a </text>\n</g>\n<!-- St0&#45;&gt;St0 -->\n<g id=\"edge9\" class=\"edge\">\n<title>St0&#45;&gt;St0</title>\n<path fill=\"none\" stroke=\"#000000\" d=\"M110.6809,-108.4068C110.4245,-118.1439 111.6635,-126.3979 114.3979,-126.3979 116.0642,-126.3979 117.1752,-123.3329 117.7309,-118.735\"/>\n<polygon fill=\"#000000\" stroke=\"#000000\" points=\"121.2408,-118.53 118.115,-108.4068 114.2456,-118.2698 121.2408,-118.53\"/>\n<text text-anchor=\"middle\" x=\"114.3979\" y=\"-130.1979\" font-family=\"Times,serif\" font-size=\"14.00\" fill=\"#000000\">b </text>\n</g>\n<!-- St0&#45;&gt;St0 -->\n<g id=\"edge12\" class=\"edge\">\n<title>St0&#45;&gt;St0</title>\n<path fill=\"none\" stroke=\"#000000\" d=\"M107.9526,-107.5497C105.3745,-125.6814 107.5229,-144.3979 114.3979,-144.3979 119.9839,-144.3979 122.4495,-132.0421 121.7949,-117.6833\"/>\n<polygon fill=\"#000000\" stroke=\"#000000\" points=\"125.263,-117.1786 120.8432,-107.5497 118.2937,-117.8332 125.263,-117.1786\"/>\n<text text-anchor=\"middle\" x=\"114.3979\" y=\"-148.1979\" font-family=\"Times,serif\" font-size=\"14.00\" fill=\"#000000\">a </text>\n</g>\n<!-- St0&#45;&gt;St3 -->\n<g id=\"edge8\" class=\"edge\">\n<title>St0&#45;&gt;St3</title>\n<path fill=\"none\" stroke=\"#000000\" d=\"M134.9386,-73.786C148.8407,-66.8539 167.8708,-58.6129 185.7958,-55 213.4876,-49.4186 245.5349,-52.6021 268.9503,-56.6502\"/>\n<polygon fill=\"#000000\" stroke=\"#000000\" points=\"268.5812,-60.1419 279.0546,-58.5427 269.8698,-53.2615 268.5812,-60.1419\"/>\n<text text-anchor=\"middle\" x=\"209.1938\" y=\"-58.8\" font-family=\"Times,serif\" font-size=\"14.00\" fill=\"#000000\">b </text>\n</g>\n<!-- St0&#45;&gt;St1 -->\n<g id=\"edge10\" class=\"edge\">\n<title>St0&#45;&gt;St1</title>\n<path fill=\"none\" stroke=\"#000000\" d=\"M131.8632,-100.8123C139.0071,-106.8819 147.526,-113.6335 155.7958,-119 190.0659,-141.2388 237.1909,-148.9906 268.5728,-151.6588\"/>\n<polygon fill=\"#000000\" stroke=\"#000000\" points=\"268.344,-155.1513 278.5706,-152.3824 268.8493,-148.1696 268.344,-155.1513\"/>\n<text text-anchor=\"middle\" x=\"209.1938\" y=\"-149.8\" font-family=\"Times,serif\" font-size=\"14.00\" fill=\"#000000\">b </text>\n</g>\n<!-- St3&#45;&gt;St5 -->\n<g id=\"edge15\" class=\"edge\">\n<title>St3&#45;&gt;St5</title>\n<path fill=\"none\" stroke=\"#000000\" d=\"M321.2867,-50.1052C327.9635,-46.0538 335.7056,-42.1431 343.3875,-40 349.6588,-38.2505 356.5072,-37.3855 363.1443,-37.0514\"/>\n<polygon fill=\"#000000\" stroke=\"#000000\" points=\"363.3357,-40.5492 373.2868,-36.9126 363.2399,-33.5499 363.3357,-40.5492\"/>\n<text text-anchor=\"middle\" x=\"349.3875\" y=\"-43.8\" font-family=\"Times,serif\" font-size=\"14.00\" fill=\"#000000\">b </text>\n</g>\n<!-- St3&#45;&gt;St6 -->\n<g id=\"edge14\" class=\"edge\">\n<title>St3&#45;&gt;St6</title>\n<path fill=\"none\" stroke=\"#000000\" d=\"M325.1069,-68.4414C334.6977,-70.6952 345.8012,-73.8494 355.3875,-78 359.9194,-79.9622 364.5299,-82.3756 368.9491,-84.9337\"/>\n<polygon fill=\"#000000\" stroke=\"#000000\" points=\"367.3127,-88.0361 377.665,-90.2898 370.9776,-82.0722 367.3127,-88.0361\"/>\n<text text-anchor=\"middle\" x=\"349.3875\" y=\"-81.8\" font-family=\"Times,serif\" font-size=\"14.00\" fill=\"#000000\">b </text>\n</g>\n<!-- St1&#45;&gt;St5 -->\n<g id=\"edge17\" class=\"edge\">\n<title>St1&#45;&gt;St5</title>\n<path fill=\"none\" stroke=\"#000000\" d=\"M317.9883,-135.7048C328.7805,-123.874 343.2176,-107.7259 355.3875,-93 362.516,-84.3744 370.0372,-74.7386 376.6845,-66.0211\"/>\n<polygon fill=\"#000000\" stroke=\"#000000\" points=\"379.5052,-68.0938 382.7485,-58.0075 373.9232,-63.8698 379.5052,-68.0938\"/>\n<text text-anchor=\"middle\" x=\"349.3875\" y=\"-109.8\" font-family=\"Times,serif\" font-size=\"14.00\" fill=\"#000000\">a </text>\n</g>\n<!-- St1&#45;&gt;St6 -->\n<g id=\"edge16\" class=\"edge\">\n<title>St1&#45;&gt;St6</title>\n<path fill=\"none\" stroke=\"#000000\" d=\"M324.2353,-144.9118C333.9867,-141.0936 345.4497,-136.2291 355.3875,-131 359.8061,-128.6751 364.3547,-126.0121 368.7461,-123.285\"/>\n<polygon fill=\"#000000\" stroke=\"#000000\" points=\"370.9326,-126.04 377.4469,-117.6845 367.1439,-120.1539 370.9326,-126.04\"/>\n<text text-anchor=\"middle\" x=\"349.3875\" y=\"-139.8\" font-family=\"Times,serif\" font-size=\"14.00\" fill=\"#000000\">a </text>\n</g>\n</g>\n</svg>\n"
          },
          "metadata": {},
          "execution_count": 30
        }
      ]
    },
    {
      "cell_type": "markdown",
      "metadata": {
        "id": "tFF5zbF7chGG"
      },
      "source": [
        "### Part e:  Determinize NFA3 to obtain DFA_min\n"
      ]
    },
    {
      "cell_type": "code",
      "metadata": {
        "id": "iDt8h9M4chGG"
      },
      "source": [
        "DFA_min = nfa2dfa(NFA3, STATENAME_MAXSIZE=20)\n",
        " "
      ],
      "execution_count": 31,
      "outputs": []
    },
    {
      "cell_type": "code",
      "metadata": {
        "id": "c-h5kF2RchGK",
        "colab": {
          "base_uri": "https://localhost:8080/",
          "height": 210
        },
        "outputId": "96c9be19-f68f-4f52-d73b-9ecd878fe310"
      },
      "source": [
        "dotObj_dfa(DFA_min)"
      ],
      "execution_count": 32,
      "outputs": [
        {
          "output_type": "execute_result",
          "data": {
            "text/plain": [
              "<graphviz.dot.Digraph at 0x7f92f001a090>"
            ],
            "image/svg+xml": "<?xml version=\"1.0\" encoding=\"UTF-8\" standalone=\"no\"?>\n<!DOCTYPE svg PUBLIC \"-//W3C//DTD SVG 1.1//EN\"\n \"http://www.w3.org/Graphics/SVG/1.1/DTD/svg11.dtd\">\n<!-- Generated by graphviz version 2.40.1 (20161225.0304)\n -->\n<!-- Title: %3 Pages: 1 -->\n<svg width=\"539pt\" height=\"142pt\"\n viewBox=\"0.00 0.00 538.98 141.80\" xmlns=\"http://www.w3.org/2000/svg\" xmlns:xlink=\"http://www.w3.org/1999/xlink\">\n<g id=\"graph0\" class=\"graph\" transform=\"scale(1 1) rotate(0) translate(4 137.7958)\">\n<title>%3</title>\n<polygon fill=\"#ffffff\" stroke=\"transparent\" points=\"-4,4 -4,-137.7958 534.9792,-137.7958 534.9792,4 -4,4\"/>\n<!-- EMPTY -->\n<g id=\"node1\" class=\"node\">\n<title>EMPTY</title>\n</g>\n<!-- St3 -->\n<g id=\"node2\" class=\"node\">\n<title>St3</title>\n<ellipse fill=\"none\" stroke=\"#000000\" cx=\"114.3979\" cy=\"-23.3979\" rx=\"23.2963\" ry=\"23.2963\"/>\n<text text-anchor=\"middle\" x=\"114.3979\" y=\"-19.6979\" font-family=\"Times,serif\" font-size=\"14.00\" fill=\"#000000\">St3</text>\n</g>\n<!-- EMPTY&#45;&gt;St3 -->\n<g id=\"edge1\" class=\"edge\">\n<title>EMPTY&#45;&gt;St3</title>\n<path fill=\"none\" stroke=\"#000000\" d=\"M54.1742,-23.3979C62.5103,-23.3979 71.7873,-23.3979 80.5137,-23.3979\"/>\n<polygon fill=\"#000000\" stroke=\"#000000\" points=\"80.7846,-26.898 90.7846,-23.3979 80.7845,-19.898 80.7846,-26.898\"/>\n</g>\n<!-- St4 -->\n<g id=\"node3\" class=\"node\">\n<title>St4</title>\n<ellipse fill=\"none\" stroke=\"#000000\" cx=\"207.1938\" cy=\"-63.3979\" rx=\"23.2963\" ry=\"23.2963\"/>\n<text text-anchor=\"middle\" x=\"207.1938\" y=\"-59.6979\" font-family=\"Times,serif\" font-size=\"14.00\" fill=\"#000000\">St4</text>\n</g>\n<!-- St3&#45;&gt;St4 -->\n<g id=\"edge3\" class=\"edge\">\n<title>St3&#45;&gt;St4</title>\n<path fill=\"none\" stroke=\"#000000\" d=\"M135.9204,-32.6753C147.8976,-37.8381 163.0147,-44.3544 176.2414,-50.0558\"/>\n<polygon fill=\"#000000\" stroke=\"#000000\" points=\"174.8979,-53.2879 185.4666,-54.0323 177.6689,-46.8597 174.8979,-53.2879\"/>\n<text text-anchor=\"middle\" x=\"160.7958\" y=\"-48.1979\" font-family=\"Times,serif\" font-size=\"14.00\" fill=\"#000000\">a </text>\n</g>\n<!-- St1 -->\n<g id=\"node5\" class=\"node\">\n<title>St1</title>\n<ellipse fill=\"none\" stroke=\"#000000\" cx=\"305.9896\" cy=\"-40.3979\" rx=\"23.3111\" ry=\"23.3111\"/>\n<ellipse fill=\"none\" stroke=\"#000000\" cx=\"305.9896\" cy=\"-40.3979\" rx=\"27.2962\" ry=\"27.2962\"/>\n<text text-anchor=\"middle\" x=\"305.9896\" y=\"-36.6979\" font-family=\"Times,serif\" font-size=\"14.00\" fill=\"#000000\">St1</text>\n</g>\n<!-- St3&#45;&gt;St1 -->\n<g id=\"edge2\" class=\"edge\">\n<title>St3&#45;&gt;St1</title>\n<path fill=\"none\" stroke=\"#000000\" d=\"M137.6828,-19.0895C161.2399,-15.4104 198.6402,-11.4353 230.5917,-16.3979 243.9804,-18.4774 258.2446,-22.5172 270.7221,-26.698\"/>\n<polygon fill=\"#000000\" stroke=\"#000000\" points=\"269.7001,-30.0484 280.295,-30.0464 272.0114,-23.4409 269.7001,-30.0484\"/>\n<text text-anchor=\"middle\" x=\"207.1938\" y=\"-20.1979\" font-family=\"Times,serif\" font-size=\"14.00\" fill=\"#000000\">b </text>\n</g>\n<!-- St4&#45;&gt;St1 -->\n<g id=\"edge6\" class=\"edge\">\n<title>St4&#45;&gt;St1</title>\n<path fill=\"none\" stroke=\"#000000\" d=\"M230.5156,-61.4077C239.9366,-60.3278 250.8615,-58.7234 260.5917,-56.3979 263.9444,-55.5966 267.3954,-54.6381 270.8259,-53.5939\"/>\n<polygon fill=\"#000000\" stroke=\"#000000\" points=\"271.9236,-56.9174 280.341,-50.4834 269.7485,-50.2639 271.9236,-56.9174\"/>\n<text text-anchor=\"middle\" x=\"254.5917\" y=\"-62.1979\" font-family=\"Times,serif\" font-size=\"14.00\" fill=\"#000000\">b </text>\n</g>\n<!-- St4&#45;&gt;St1 -->\n<g id=\"edge7\" class=\"edge\">\n<title>St4&#45;&gt;St1</title>\n<path fill=\"none\" stroke=\"#000000\" d=\"M225.903,-48.5416C232.6593,-44.0493 240.5992,-39.6996 248.5917,-37.3979 254.9473,-35.5676 261.8595,-34.8862 268.614,-34.8814\"/>\n<polygon fill=\"#000000\" stroke=\"#000000\" points=\"268.8443,-38.3958 278.9958,-35.363 269.1688,-31.4033 268.8443,-38.3958\"/>\n<text text-anchor=\"middle\" x=\"254.5917\" y=\"-41.1979\" font-family=\"Times,serif\" font-size=\"14.00\" fill=\"#000000\">a </text>\n</g>\n<!-- St2 -->\n<g id=\"node4\" class=\"node\">\n<title>St2</title>\n<ellipse fill=\"none\" stroke=\"#000000\" cx=\"404.7855\" cy=\"-40.3979\" rx=\"23.2963\" ry=\"23.2963\"/>\n<text text-anchor=\"middle\" x=\"404.7855\" y=\"-36.6979\" font-family=\"Times,serif\" font-size=\"14.00\" fill=\"#000000\">St2</text>\n</g>\n<!-- St0 -->\n<g id=\"node6\" class=\"node\">\n<title>St0</title>\n<ellipse fill=\"none\" stroke=\"#000000\" cx=\"503.5813\" cy=\"-40.3979\" rx=\"23.3111\" ry=\"23.3111\"/>\n<ellipse fill=\"none\" stroke=\"#000000\" cx=\"503.5813\" cy=\"-40.3979\" rx=\"27.2962\" ry=\"27.2962\"/>\n<text text-anchor=\"middle\" x=\"503.5813\" y=\"-36.6979\" font-family=\"Times,serif\" font-size=\"14.00\" fill=\"#000000\">St0</text>\n</g>\n<!-- St2&#45;&gt;St0 -->\n<g id=\"edge8\" class=\"edge\">\n<title>St2&#45;&gt;St0</title>\n<path fill=\"none\" stroke=\"#000000\" d=\"M428.1987,-40.3979C439.4326,-40.3979 453.173,-40.3979 465.8312,-40.3979\"/>\n<polygon fill=\"#000000\" stroke=\"#000000\" points=\"466.1309,-43.898 476.1309,-40.3979 466.1309,-36.898 466.1309,-43.898\"/>\n<text text-anchor=\"middle\" x=\"452.1834\" y=\"-44.1979\" font-family=\"Times,serif\" font-size=\"14.00\" fill=\"#000000\">b </text>\n</g>\n<!-- St2&#45;&gt;St0 -->\n<g id=\"edge9\" class=\"edge\">\n<title>St2&#45;&gt;St0</title>\n<path fill=\"none\" stroke=\"#000000\" d=\"M425.2357,-28.908C431.7302,-25.8418 439.0758,-22.9511 446.1834,-21.3979 454.1148,-19.6647 462.4928,-20.7131 470.3237,-23.0205\"/>\n<polygon fill=\"#000000\" stroke=\"#000000\" points=\"469.2814,-26.3658 479.8754,-26.502 471.6786,-19.7891 469.2814,-26.3658\"/>\n<text text-anchor=\"middle\" x=\"452.1834\" y=\"-25.1979\" font-family=\"Times,serif\" font-size=\"14.00\" fill=\"#000000\">a </text>\n</g>\n<!-- St1&#45;&gt;St2 -->\n<g id=\"edge4\" class=\"edge\">\n<title>St1&#45;&gt;St2</title>\n<path fill=\"none\" stroke=\"#000000\" d=\"M333.5098,-40.3979C345.0796,-40.3979 358.6561,-40.3979 370.8385,-40.3979\"/>\n<polygon fill=\"#000000\" stroke=\"#000000\" points=\"371.0998,-43.898 381.0998,-40.3979 371.0998,-36.898 371.0998,-43.898\"/>\n<text text-anchor=\"middle\" x=\"357.3875\" y=\"-44.1979\" font-family=\"Times,serif\" font-size=\"14.00\" fill=\"#000000\">b </text>\n</g>\n<!-- St1&#45;&gt;St2 -->\n<g id=\"edge5\" class=\"edge\">\n<title>St1&#45;&gt;St2</title>\n<path fill=\"none\" stroke=\"#000000\" d=\"M329.6955,-26.502C339.9236,-22.0943 352.1074,-18.933 363.3875,-21.3979 367.2745,-22.2473 371.2327,-23.4967 375.0839,-24.9561\"/>\n<polygon fill=\"#000000\" stroke=\"#000000\" points=\"373.7642,-28.1983 384.3353,-28.908 376.5141,-21.761 373.7642,-28.1983\"/>\n<text text-anchor=\"middle\" x=\"357.3875\" y=\"-25.1979\" font-family=\"Times,serif\" font-size=\"14.00\" fill=\"#000000\">a </text>\n</g>\n<!-- St0&#45;&gt;St0 -->\n<g id=\"edge10\" class=\"edge\">\n<title>St0&#45;&gt;St0</title>\n<path fill=\"none\" stroke=\"#000000\" d=\"M498.9041,-67.4297C498.7508,-77.5036 500.3098,-85.7958 503.5813,-85.7958 505.626,-85.7958 507.0018,-82.5567 507.7086,-77.6679\"/>\n<polygon fill=\"#000000\" stroke=\"#000000\" points=\"511.217,-77.6031 508.2585,-67.4297 504.2271,-77.2276 511.217,-77.6031\"/>\n<text text-anchor=\"middle\" x=\"503.5813\" y=\"-89.5958\" font-family=\"Times,serif\" font-size=\"14.00\" fill=\"#000000\">b </text>\n</g>\n<!-- St0&#45;&gt;St0 -->\n<g id=\"edge11\" class=\"edge\">\n<title>St0&#45;&gt;St0</title>\n<path fill=\"none\" stroke=\"#000000\" d=\"M495.1682,-66.777C492.525,-85.3764 495.3294,-103.7958 503.5813,-103.7958 510.286,-103.7958 513.3945,-91.6361 512.9067,-77.1\"/>\n<polygon fill=\"#000000\" stroke=\"#000000\" points=\"516.3612,-76.4301 511.9944,-66.777 509.3884,-77.0463 516.3612,-76.4301\"/>\n<text text-anchor=\"middle\" x=\"503.5813\" y=\"-107.5958\" font-family=\"Times,serif\" font-size=\"14.00\" fill=\"#000000\">a </text>\n</g>\n</g>\n</svg>\n"
          },
          "metadata": {},
          "execution_count": 32
        }
      ]
    },
    {
      "cell_type": "markdown",
      "metadata": {
        "id": "peMOcRZSchGK"
      },
      "source": [
        "### Part f: Check that DFA_min and DFA_bloated have the same language but are not isomorphic"
      ]
    },
    {
      "cell_type": "code",
      "metadata": {
        "id": "e1emRps2chGK",
        "colab": {
          "base_uri": "https://localhost:8080/"
        },
        "outputId": "a8737527-94ca-48cd-b856-a14000888308"
      },
      "source": [
        "help(langeq_dfa)"
      ],
      "execution_count": 33,
      "outputs": [
        {
          "output_type": "stream",
          "name": "stdout",
          "text": [
            "Help on function langeq_dfa in module jove.Def_DFA:\n",
            "\n",
            "langeq_dfa(D1, D2, gen_counterex=False)\n",
            "    Given consistent and total DFAs D1 and D2,\n",
            "    check whether they are language-equivalent. \n",
            "    gen_counterex is a flag that triggers the\n",
            "     printing of a counter-example showing the\n",
            "     pairs that were marched in tandem till a\n",
            "     difference was found.\n",
            "     \n",
            "    Two DFAs are language-equivalent if they \n",
            "    accept the same set of strings. We determine\n",
            "    this through a joint depth-first walk of the \n",
            "    two DFAs until we detect a difference (return\n",
            "    False then) or all pairs of states have been\n",
            "    visited (return True then).\n",
            "\n"
          ]
        }
      ]
    },
    {
      "cell_type": "code",
      "metadata": {
        "id": "EAZGEUEQchGK",
        "colab": {
          "base_uri": "https://localhost:8080/"
        },
        "outputId": "97bfc490-8507-48a5-9629-4e5b3d5a141e"
      },
      "source": [
        "help(iso_dfa)"
      ],
      "execution_count": 34,
      "outputs": [
        {
          "output_type": "stream",
          "name": "stdout",
          "text": [
            "Help on function iso_dfa in module jove.Def_DFA:\n",
            "\n",
            "iso_dfa(D1, D2)\n",
            "    Given consistent and total DFAs D1 and D2,\n",
            "    check whether they are isomorphic. Two DFAs\n",
            "    are isomorphic if they have the same number\n",
            "    of states and are language-equivalent. (One would\n",
            "    then be able to match-up state for state and transition\n",
            "    for transition.)\n",
            "\n"
          ]
        }
      ]
    },
    {
      "cell_type": "code",
      "metadata": {
        "id": "vgV0OicpchGL",
        "colab": {
          "base_uri": "https://localhost:8080/"
        },
        "outputId": "9da13260-2974-4ec1-9e99-827c56445949"
      },
      "source": [
        "# ...SHOW THAT DFA_bloated and DFA_min HAVE THE SAME LANGUAGE by using langeq_dfa function ...\n",
        "langeq_dfa(DFA_min, DFA_bloated)"
      ],
      "execution_count": 35,
      "outputs": [
        {
          "output_type": "execute_result",
          "data": {
            "text/plain": [
              "True"
            ]
          },
          "metadata": {},
          "execution_count": 35
        }
      ]
    },
    {
      "cell_type": "code",
      "metadata": {
        "id": "Alk9z_sVchGL",
        "colab": {
          "base_uri": "https://localhost:8080/"
        },
        "outputId": "6f51221d-6068-41af-a37b-a8f9dcdab616"
      },
      "source": [
        "#...SHOW THAT DFA_bloated and DFA_min are NOT isomorphic by using iso_dfa function ...\n",
        "iso_dfa(DFA_min, DFA_bloated)"
      ],
      "execution_count": 36,
      "outputs": [
        {
          "output_type": "execute_result",
          "data": {
            "text/plain": [
              "False"
            ]
          },
          "metadata": {},
          "execution_count": 36
        }
      ]
    },
    {
      "cell_type": "code",
      "metadata": {
        "id": "nflMG9HachGL"
      },
      "source": [
        "DFA_min_alt = min_dfa(DFA_bloated)"
      ],
      "execution_count": 37,
      "outputs": []
    },
    {
      "cell_type": "code",
      "metadata": {
        "id": "3aeA1kqVchGL",
        "colab": {
          "base_uri": "https://localhost:8080/",
          "height": 210
        },
        "outputId": "63d53bfa-ef6d-43a2-ffe2-7a2e78a63048"
      },
      "source": [
        "dotObj_dfa(DFA_min)"
      ],
      "execution_count": 38,
      "outputs": [
        {
          "output_type": "execute_result",
          "data": {
            "text/plain": [
              "<graphviz.dot.Digraph at 0x7f92ebea88d0>"
            ],
            "image/svg+xml": "<?xml version=\"1.0\" encoding=\"UTF-8\" standalone=\"no\"?>\n<!DOCTYPE svg PUBLIC \"-//W3C//DTD SVG 1.1//EN\"\n \"http://www.w3.org/Graphics/SVG/1.1/DTD/svg11.dtd\">\n<!-- Generated by graphviz version 2.40.1 (20161225.0304)\n -->\n<!-- Title: %3 Pages: 1 -->\n<svg width=\"539pt\" height=\"142pt\"\n viewBox=\"0.00 0.00 538.98 141.80\" xmlns=\"http://www.w3.org/2000/svg\" xmlns:xlink=\"http://www.w3.org/1999/xlink\">\n<g id=\"graph0\" class=\"graph\" transform=\"scale(1 1) rotate(0) translate(4 137.7958)\">\n<title>%3</title>\n<polygon fill=\"#ffffff\" stroke=\"transparent\" points=\"-4,4 -4,-137.7958 534.9792,-137.7958 534.9792,4 -4,4\"/>\n<!-- EMPTY -->\n<g id=\"node1\" class=\"node\">\n<title>EMPTY</title>\n</g>\n<!-- St3 -->\n<g id=\"node2\" class=\"node\">\n<title>St3</title>\n<ellipse fill=\"none\" stroke=\"#000000\" cx=\"114.3979\" cy=\"-23.3979\" rx=\"23.2963\" ry=\"23.2963\"/>\n<text text-anchor=\"middle\" x=\"114.3979\" y=\"-19.6979\" font-family=\"Times,serif\" font-size=\"14.00\" fill=\"#000000\">St3</text>\n</g>\n<!-- EMPTY&#45;&gt;St3 -->\n<g id=\"edge1\" class=\"edge\">\n<title>EMPTY&#45;&gt;St3</title>\n<path fill=\"none\" stroke=\"#000000\" d=\"M54.1742,-23.3979C62.5103,-23.3979 71.7873,-23.3979 80.5137,-23.3979\"/>\n<polygon fill=\"#000000\" stroke=\"#000000\" points=\"80.7846,-26.898 90.7846,-23.3979 80.7845,-19.898 80.7846,-26.898\"/>\n</g>\n<!-- St4 -->\n<g id=\"node3\" class=\"node\">\n<title>St4</title>\n<ellipse fill=\"none\" stroke=\"#000000\" cx=\"207.1938\" cy=\"-63.3979\" rx=\"23.2963\" ry=\"23.2963\"/>\n<text text-anchor=\"middle\" x=\"207.1938\" y=\"-59.6979\" font-family=\"Times,serif\" font-size=\"14.00\" fill=\"#000000\">St4</text>\n</g>\n<!-- St3&#45;&gt;St4 -->\n<g id=\"edge3\" class=\"edge\">\n<title>St3&#45;&gt;St4</title>\n<path fill=\"none\" stroke=\"#000000\" d=\"M135.9204,-32.6753C147.8976,-37.8381 163.0147,-44.3544 176.2414,-50.0558\"/>\n<polygon fill=\"#000000\" stroke=\"#000000\" points=\"174.8979,-53.2879 185.4666,-54.0323 177.6689,-46.8597 174.8979,-53.2879\"/>\n<text text-anchor=\"middle\" x=\"160.7958\" y=\"-48.1979\" font-family=\"Times,serif\" font-size=\"14.00\" fill=\"#000000\">a </text>\n</g>\n<!-- St1 -->\n<g id=\"node5\" class=\"node\">\n<title>St1</title>\n<ellipse fill=\"none\" stroke=\"#000000\" cx=\"305.9896\" cy=\"-40.3979\" rx=\"23.3111\" ry=\"23.3111\"/>\n<ellipse fill=\"none\" stroke=\"#000000\" cx=\"305.9896\" cy=\"-40.3979\" rx=\"27.2962\" ry=\"27.2962\"/>\n<text text-anchor=\"middle\" x=\"305.9896\" y=\"-36.6979\" font-family=\"Times,serif\" font-size=\"14.00\" fill=\"#000000\">St1</text>\n</g>\n<!-- St3&#45;&gt;St1 -->\n<g id=\"edge2\" class=\"edge\">\n<title>St3&#45;&gt;St1</title>\n<path fill=\"none\" stroke=\"#000000\" d=\"M137.6828,-19.0895C161.2399,-15.4104 198.6402,-11.4353 230.5917,-16.3979 243.9804,-18.4774 258.2446,-22.5172 270.7221,-26.698\"/>\n<polygon fill=\"#000000\" stroke=\"#000000\" points=\"269.7001,-30.0484 280.295,-30.0464 272.0114,-23.4409 269.7001,-30.0484\"/>\n<text text-anchor=\"middle\" x=\"207.1938\" y=\"-20.1979\" font-family=\"Times,serif\" font-size=\"14.00\" fill=\"#000000\">b </text>\n</g>\n<!-- St4&#45;&gt;St1 -->\n<g id=\"edge6\" class=\"edge\">\n<title>St4&#45;&gt;St1</title>\n<path fill=\"none\" stroke=\"#000000\" d=\"M230.5156,-61.4077C239.9366,-60.3278 250.8615,-58.7234 260.5917,-56.3979 263.9444,-55.5966 267.3954,-54.6381 270.8259,-53.5939\"/>\n<polygon fill=\"#000000\" stroke=\"#000000\" points=\"271.9236,-56.9174 280.341,-50.4834 269.7485,-50.2639 271.9236,-56.9174\"/>\n<text text-anchor=\"middle\" x=\"254.5917\" y=\"-62.1979\" font-family=\"Times,serif\" font-size=\"14.00\" fill=\"#000000\">b </text>\n</g>\n<!-- St4&#45;&gt;St1 -->\n<g id=\"edge7\" class=\"edge\">\n<title>St4&#45;&gt;St1</title>\n<path fill=\"none\" stroke=\"#000000\" d=\"M225.903,-48.5416C232.6593,-44.0493 240.5992,-39.6996 248.5917,-37.3979 254.9473,-35.5676 261.8595,-34.8862 268.614,-34.8814\"/>\n<polygon fill=\"#000000\" stroke=\"#000000\" points=\"268.8443,-38.3958 278.9958,-35.363 269.1688,-31.4033 268.8443,-38.3958\"/>\n<text text-anchor=\"middle\" x=\"254.5917\" y=\"-41.1979\" font-family=\"Times,serif\" font-size=\"14.00\" fill=\"#000000\">a </text>\n</g>\n<!-- St2 -->\n<g id=\"node4\" class=\"node\">\n<title>St2</title>\n<ellipse fill=\"none\" stroke=\"#000000\" cx=\"404.7855\" cy=\"-40.3979\" rx=\"23.2963\" ry=\"23.2963\"/>\n<text text-anchor=\"middle\" x=\"404.7855\" y=\"-36.6979\" font-family=\"Times,serif\" font-size=\"14.00\" fill=\"#000000\">St2</text>\n</g>\n<!-- St0 -->\n<g id=\"node6\" class=\"node\">\n<title>St0</title>\n<ellipse fill=\"none\" stroke=\"#000000\" cx=\"503.5813\" cy=\"-40.3979\" rx=\"23.3111\" ry=\"23.3111\"/>\n<ellipse fill=\"none\" stroke=\"#000000\" cx=\"503.5813\" cy=\"-40.3979\" rx=\"27.2962\" ry=\"27.2962\"/>\n<text text-anchor=\"middle\" x=\"503.5813\" y=\"-36.6979\" font-family=\"Times,serif\" font-size=\"14.00\" fill=\"#000000\">St0</text>\n</g>\n<!-- St2&#45;&gt;St0 -->\n<g id=\"edge8\" class=\"edge\">\n<title>St2&#45;&gt;St0</title>\n<path fill=\"none\" stroke=\"#000000\" d=\"M428.1987,-40.3979C439.4326,-40.3979 453.173,-40.3979 465.8312,-40.3979\"/>\n<polygon fill=\"#000000\" stroke=\"#000000\" points=\"466.1309,-43.898 476.1309,-40.3979 466.1309,-36.898 466.1309,-43.898\"/>\n<text text-anchor=\"middle\" x=\"452.1834\" y=\"-44.1979\" font-family=\"Times,serif\" font-size=\"14.00\" fill=\"#000000\">b </text>\n</g>\n<!-- St2&#45;&gt;St0 -->\n<g id=\"edge9\" class=\"edge\">\n<title>St2&#45;&gt;St0</title>\n<path fill=\"none\" stroke=\"#000000\" d=\"M425.2357,-28.908C431.7302,-25.8418 439.0758,-22.9511 446.1834,-21.3979 454.1148,-19.6647 462.4928,-20.7131 470.3237,-23.0205\"/>\n<polygon fill=\"#000000\" stroke=\"#000000\" points=\"469.2814,-26.3658 479.8754,-26.502 471.6786,-19.7891 469.2814,-26.3658\"/>\n<text text-anchor=\"middle\" x=\"452.1834\" y=\"-25.1979\" font-family=\"Times,serif\" font-size=\"14.00\" fill=\"#000000\">a </text>\n</g>\n<!-- St1&#45;&gt;St2 -->\n<g id=\"edge4\" class=\"edge\">\n<title>St1&#45;&gt;St2</title>\n<path fill=\"none\" stroke=\"#000000\" d=\"M333.5098,-40.3979C345.0796,-40.3979 358.6561,-40.3979 370.8385,-40.3979\"/>\n<polygon fill=\"#000000\" stroke=\"#000000\" points=\"371.0998,-43.898 381.0998,-40.3979 371.0998,-36.898 371.0998,-43.898\"/>\n<text text-anchor=\"middle\" x=\"357.3875\" y=\"-44.1979\" font-family=\"Times,serif\" font-size=\"14.00\" fill=\"#000000\">b </text>\n</g>\n<!-- St1&#45;&gt;St2 -->\n<g id=\"edge5\" class=\"edge\">\n<title>St1&#45;&gt;St2</title>\n<path fill=\"none\" stroke=\"#000000\" d=\"M329.6955,-26.502C339.9236,-22.0943 352.1074,-18.933 363.3875,-21.3979 367.2745,-22.2473 371.2327,-23.4967 375.0839,-24.9561\"/>\n<polygon fill=\"#000000\" stroke=\"#000000\" points=\"373.7642,-28.1983 384.3353,-28.908 376.5141,-21.761 373.7642,-28.1983\"/>\n<text text-anchor=\"middle\" x=\"357.3875\" y=\"-25.1979\" font-family=\"Times,serif\" font-size=\"14.00\" fill=\"#000000\">a </text>\n</g>\n<!-- St0&#45;&gt;St0 -->\n<g id=\"edge10\" class=\"edge\">\n<title>St0&#45;&gt;St0</title>\n<path fill=\"none\" stroke=\"#000000\" d=\"M498.9041,-67.4297C498.7508,-77.5036 500.3098,-85.7958 503.5813,-85.7958 505.626,-85.7958 507.0018,-82.5567 507.7086,-77.6679\"/>\n<polygon fill=\"#000000\" stroke=\"#000000\" points=\"511.217,-77.6031 508.2585,-67.4297 504.2271,-77.2276 511.217,-77.6031\"/>\n<text text-anchor=\"middle\" x=\"503.5813\" y=\"-89.5958\" font-family=\"Times,serif\" font-size=\"14.00\" fill=\"#000000\">b </text>\n</g>\n<!-- St0&#45;&gt;St0 -->\n<g id=\"edge11\" class=\"edge\">\n<title>St0&#45;&gt;St0</title>\n<path fill=\"none\" stroke=\"#000000\" d=\"M495.1682,-66.777C492.525,-85.3764 495.3294,-103.7958 503.5813,-103.7958 510.286,-103.7958 513.3945,-91.6361 512.9067,-77.1\"/>\n<polygon fill=\"#000000\" stroke=\"#000000\" points=\"516.3612,-76.4301 511.9944,-66.777 509.3884,-77.0463 516.3612,-76.4301\"/>\n<text text-anchor=\"middle\" x=\"503.5813\" y=\"-107.5958\" font-family=\"Times,serif\" font-size=\"14.00\" fill=\"#000000\">a </text>\n</g>\n</g>\n</svg>\n"
          },
          "metadata": {},
          "execution_count": 38
        }
      ]
    },
    {
      "cell_type": "code",
      "metadata": {
        "id": "IkggfEAPchGL",
        "colab": {
          "base_uri": "https://localhost:8080/",
          "height": 216
        },
        "outputId": "6667102e-767a-4ab6-9f98-22d5b3306ef6"
      },
      "source": [
        "dotObj_dfa(DFA_min_alt)"
      ],
      "execution_count": 39,
      "outputs": [
        {
          "output_type": "execute_result",
          "data": {
            "text/plain": [
              "<graphviz.dot.Digraph at 0x7f92ebeb5410>"
            ],
            "image/svg+xml": "<?xml version=\"1.0\" encoding=\"UTF-8\" standalone=\"no\"?>\n<!DOCTYPE svg PUBLIC \"-//W3C//DTD SVG 1.1//EN\"\n \"http://www.w3.org/Graphics/SVG/1.1/DTD/svg11.dtd\">\n<!-- Generated by graphviz version 2.40.1 (20161225.0304)\n -->\n<!-- Title: %3 Pages: 1 -->\n<svg width=\"566pt\" height=\"146pt\"\n viewBox=\"0.00 0.00 566.28 145.70\" xmlns=\"http://www.w3.org/2000/svg\" xmlns:xlink=\"http://www.w3.org/1999/xlink\">\n<g id=\"graph0\" class=\"graph\" transform=\"scale(1 1) rotate(0) translate(4 141.6955)\">\n<title>%3</title>\n<polygon fill=\"#ffffff\" stroke=\"transparent\" points=\"-4,4 -4,-141.6955 562.2768,-141.6955 562.2768,4 -4,4\"/>\n<!-- EMPTY -->\n<g id=\"node1\" class=\"node\">\n<title>EMPTY</title>\n</g>\n<!-- IS1 -->\n<g id=\"node3\" class=\"node\">\n<title>IS1</title>\n<ellipse fill=\"none\" stroke=\"#000000\" cx=\"115.0479\" cy=\"-24.0479\" rx=\"24.0958\" ry=\"24.0958\"/>\n<text text-anchor=\"middle\" x=\"115.0479\" y=\"-20.3479\" font-family=\"Times,serif\" font-size=\"14.00\" fill=\"#000000\">IS1</text>\n</g>\n<!-- EMPTY&#45;&gt;IS1 -->\n<g id=\"edge1\" class=\"edge\">\n<title>EMPTY&#45;&gt;IS1</title>\n<path fill=\"none\" stroke=\"#000000\" d=\"M54.3763,-24.0479C62.7026,-24.0479 71.9607,-24.0479 80.6861,-24.0479\"/>\n<polygon fill=\"#000000\" stroke=\"#000000\" points=\"80.9666,-27.548 90.9666,-24.0479 80.9665,-20.548 80.9666,-27.548\"/>\n</g>\n<!-- Temp -->\n<g id=\"node2\" class=\"node\">\n<title>Temp</title>\n<ellipse fill=\"none\" stroke=\"#000000\" cx=\"217.5928\" cy=\"-73.0479\" rx=\"32.4942\" ry=\"32.4942\"/>\n<text text-anchor=\"middle\" x=\"217.5928\" y=\"-69.3479\" font-family=\"Times,serif\" font-size=\"14.00\" fill=\"#000000\">Temp</text>\n</g>\n<!-- FS3 -->\n<g id=\"node5\" class=\"node\">\n<title>FS3</title>\n<ellipse fill=\"none\" stroke=\"#000000\" cx=\"328.7376\" cy=\"-41.0479\" rx=\"26.7766\" ry=\"26.7766\"/>\n<ellipse fill=\"none\" stroke=\"#000000\" cx=\"328.7376\" cy=\"-41.0479\" rx=\"30.796\" ry=\"30.796\"/>\n<text text-anchor=\"middle\" x=\"328.7376\" y=\"-37.3479\" font-family=\"Times,serif\" font-size=\"14.00\" fill=\"#000000\">FS3</text>\n</g>\n<!-- Temp&#45;&gt;FS3 -->\n<g id=\"edge4\" class=\"edge\">\n<title>Temp&#45;&gt;FS3</title>\n<path fill=\"none\" stroke=\"#000000\" d=\"M249.1785,-65.4004C259.1098,-62.8785 270.0917,-59.9683 280.09,-57.0479 283.2476,-56.1255 286.5087,-55.1356 289.7774,-54.1168\"/>\n<polygon fill=\"#000000\" stroke=\"#000000\" points=\"291.0466,-57.3858 299.5104,-51.0129 288.9197,-50.7167 291.0466,-57.3858\"/>\n<text text-anchor=\"middle\" x=\"274.09\" y=\"-63.8479\" font-family=\"Times,serif\" font-size=\"14.00\" fill=\"#000000\">a </text>\n</g>\n<!-- Temp&#45;&gt;FS3 -->\n<g id=\"edge5\" class=\"edge\">\n<title>Temp&#45;&gt;FS3</title>\n<path fill=\"none\" stroke=\"#000000\" d=\"M242.1967,-51.5977C249.9659,-46.0892 258.9273,-40.9128 268.09,-38.0479 274.5797,-36.0187 281.6492,-35.2025 288.5942,-35.1168\"/>\n<polygon fill=\"#000000\" stroke=\"#000000\" points=\"288.4851,-38.615 298.5986,-35.4578 288.7236,-31.6191 288.4851,-38.615\"/>\n<text text-anchor=\"middle\" x=\"274.09\" y=\"-41.8479\" font-family=\"Times,serif\" font-size=\"14.00\" fill=\"#000000\">b </text>\n</g>\n<!-- IS1&#45;&gt;Temp -->\n<g id=\"edge2\" class=\"edge\">\n<title>IS1&#45;&gt;Temp</title>\n<path fill=\"none\" stroke=\"#000000\" d=\"M136.795,-34.4395C149.0447,-40.2929 164.7053,-47.7761 178.9719,-54.5933\"/>\n<polygon fill=\"#000000\" stroke=\"#000000\" points=\"177.5641,-57.7996 188.0959,-58.9531 180.5821,-51.4836 177.5641,-57.7996\"/>\n<text text-anchor=\"middle\" x=\"162.0957\" y=\"-51.8479\" font-family=\"Times,serif\" font-size=\"14.00\" fill=\"#000000\">a </text>\n</g>\n<!-- IS1&#45;&gt;FS3 -->\n<g id=\"edge3\" class=\"edge\">\n<title>IS1&#45;&gt;FS3</title>\n<path fill=\"none\" stroke=\"#000000\" d=\"M139.0926,-19.9286C166.2073,-15.9481 211.5459,-11.2977 250.09,-17.0479 263.4593,-19.0424 277.6982,-22.8448 290.3344,-26.8449\"/>\n<polygon fill=\"#000000\" stroke=\"#000000\" points=\"289.4843,-30.25 300.0776,-30.0645 291.6807,-23.6035 289.4843,-30.25\"/>\n<text text-anchor=\"middle\" x=\"217.5928\" y=\"-20.8479\" font-family=\"Times,serif\" font-size=\"14.00\" fill=\"#000000\">b </text>\n</g>\n<!-- S4 -->\n<g id=\"node4\" class=\"node\">\n<title>S4</title>\n<ellipse fill=\"none\" stroke=\"#000000\" cx=\"428.1834\" cy=\"-41.0479\" rx=\"20.5982\" ry=\"20.5982\"/>\n<text text-anchor=\"middle\" x=\"428.1834\" y=\"-37.3479\" font-family=\"Times,serif\" font-size=\"14.00\" fill=\"#000000\">S4</text>\n</g>\n<!-- FS6 -->\n<g id=\"node6\" class=\"node\">\n<title>FS6</title>\n<ellipse fill=\"none\" stroke=\"#000000\" cx=\"527.6292\" cy=\"-41.0479\" rx=\"26.7766\" ry=\"26.7766\"/>\n<ellipse fill=\"none\" stroke=\"#000000\" cx=\"527.6292\" cy=\"-41.0479\" rx=\"30.796\" ry=\"30.796\"/>\n<text text-anchor=\"middle\" x=\"527.6292\" y=\"-37.3479\" font-family=\"Times,serif\" font-size=\"14.00\" fill=\"#000000\">FS6</text>\n</g>\n<!-- S4&#45;&gt;FS6 -->\n<g id=\"edge8\" class=\"edge\">\n<title>S4&#45;&gt;FS6</title>\n<path fill=\"none\" stroke=\"#000000\" d=\"M449.2733,-41.0479C460.1604,-41.0479 473.8256,-41.0479 486.6825,-41.0479\"/>\n<polygon fill=\"#000000\" stroke=\"#000000\" points=\"486.7516,-44.548 496.7515,-41.0479 486.7515,-37.548 486.7516,-44.548\"/>\n<text text-anchor=\"middle\" x=\"472.9815\" y=\"-44.8479\" font-family=\"Times,serif\" font-size=\"14.00\" fill=\"#000000\">a </text>\n</g>\n<!-- S4&#45;&gt;FS6 -->\n<g id=\"edge9\" class=\"edge\">\n<title>S4&#45;&gt;FS6</title>\n<path fill=\"none\" stroke=\"#000000\" d=\"M446.0949,-30.1652C452.4572,-26.8802 459.8211,-23.707 466.9815,-22.0479 474.8417,-20.2266 483.1598,-20.996 491.033,-23.0248\"/>\n<polygon fill=\"#000000\" stroke=\"#000000\" points=\"490.1075,-26.4042 500.6997,-26.1678 492.272,-19.7472 490.1075,-26.4042\"/>\n<text text-anchor=\"middle\" x=\"472.9815\" y=\"-25.8479\" font-family=\"Times,serif\" font-size=\"14.00\" fill=\"#000000\">b </text>\n</g>\n<!-- FS3&#45;&gt;S4 -->\n<g id=\"edge6\" class=\"edge\">\n<title>FS3&#45;&gt;S4</title>\n<path fill=\"none\" stroke=\"#000000\" d=\"M359.3861,-41.0479C371.392,-41.0479 385.1468,-41.0479 397.1863,-41.0479\"/>\n<polygon fill=\"#000000\" stroke=\"#000000\" points=\"397.2378,-44.548 407.2378,-41.0479 397.2377,-37.548 397.2378,-44.548\"/>\n<text text-anchor=\"middle\" x=\"383.3852\" y=\"-44.8479\" font-family=\"Times,serif\" font-size=\"14.00\" fill=\"#000000\">a </text>\n</g>\n<!-- FS3&#45;&gt;S4 -->\n<g id=\"edge7\" class=\"edge\">\n<title>FS3&#45;&gt;S4</title>\n<path fill=\"none\" stroke=\"#000000\" d=\"M355.6671,-26.1678C366.1011,-22.1077 378.2063,-19.4576 389.3852,-22.0479 393.3011,-22.9552 397.2778,-24.3154 401.1183,-25.899\"/>\n<polygon fill=\"#000000\" stroke=\"#000000\" points=\"399.7294,-29.1131 410.2718,-30.1652 402.6865,-22.7684 399.7294,-29.1131\"/>\n<text text-anchor=\"middle\" x=\"383.3852\" y=\"-25.8479\" font-family=\"Times,serif\" font-size=\"14.00\" fill=\"#000000\">b </text>\n</g>\n<!-- FS6&#45;&gt;FS6 -->\n<g id=\"edge10\" class=\"edge\">\n<title>FS6&#45;&gt;FS6</title>\n<path fill=\"none\" stroke=\"#000000\" d=\"M522.5667,-71.4526C522.5667,-81.5876 524.2542,-89.6955 527.6292,-89.6955 529.7386,-89.6955 531.1888,-86.5283 531.9798,-81.6786\"/>\n<polygon fill=\"#000000\" stroke=\"#000000\" points=\"535.4886,-81.6716 532.6917,-71.4526 528.5055,-81.1854 535.4886,-81.6716\"/>\n<text text-anchor=\"middle\" x=\"527.6292\" y=\"-93.4955\" font-family=\"Times,serif\" font-size=\"14.00\" fill=\"#000000\">a </text>\n</g>\n<!-- FS6&#45;&gt;FS6 -->\n<g id=\"edge11\" class=\"edge\">\n<title>FS6&#45;&gt;FS6</title>\n<path fill=\"none\" stroke=\"#000000\" d=\"M518.3051,-70.5136C515.8727,-89.4607 518.9807,-107.6955 527.6292,-107.6955 534.7236,-107.6955 538.0898,-95.4251 537.7278,-80.5566\"/>\n<polygon fill=\"#000000\" stroke=\"#000000\" points=\"541.2119,-80.2148 536.9533,-70.5136 534.2327,-80.7531 541.2119,-80.2148\"/>\n<text text-anchor=\"middle\" x=\"527.6292\" y=\"-111.4955\" font-family=\"Times,serif\" font-size=\"14.00\" fill=\"#000000\">b </text>\n</g>\n</g>\n</svg>\n"
          },
          "metadata": {},
          "execution_count": 39
        }
      ]
    },
    {
      "cell_type": "code",
      "metadata": {
        "id": "CltElnv7chGM",
        "colab": {
          "base_uri": "https://localhost:8080/"
        },
        "outputId": "eb48e8f0-8c18-41f8-e179-2217ca8f206a"
      },
      "source": [
        "help(iso_dfa)"
      ],
      "execution_count": 40,
      "outputs": [
        {
          "output_type": "stream",
          "name": "stdout",
          "text": [
            "Help on function iso_dfa in module jove.Def_DFA:\n",
            "\n",
            "iso_dfa(D1, D2)\n",
            "    Given consistent and total DFAs D1 and D2,\n",
            "    check whether they are isomorphic. Two DFAs\n",
            "    are isomorphic if they have the same number\n",
            "    of states and are language-equivalent. (One would\n",
            "    then be able to match-up state for state and transition\n",
            "    for transition.)\n",
            "\n"
          ]
        }
      ]
    },
    {
      "cell_type": "code",
      "metadata": {
        "id": "w6__tQVBchGM",
        "colab": {
          "base_uri": "https://localhost:8080/"
        },
        "outputId": "10f8b535-f894-4765-c9f7-d989118c72f6"
      },
      "source": [
        "\"...SHOW THAT DFA_min and DFA_min_alt are isomorphic by using iso_dfa function...\"\n",
        "\n",
        "iso_dfa(DFA_min, DFA_min_alt)\n"
      ],
      "execution_count": 42,
      "outputs": [
        {
          "output_type": "execute_result",
          "data": {
            "text/plain": [
              "True"
            ]
          },
          "metadata": {},
          "execution_count": 42
        }
      ]
    },
    {
      "cell_type": "markdown",
      "metadata": {
        "id": "ZQFEYyjachGM"
      },
      "source": [
        "### Here are some notes to understand Brzozowski's method\n",
        "\n",
        "* If you are given a DFA \"D1\", a minimal DFA for \"reverse(D1)\" is obtained by \"reverse followed by determinize\"\n",
        "\n",
        "* But since we are interested in the minimal DFA for \"D1\" (and not reverse(D1)), we do these steps again!\n",
        "\n",
        "* Hence the algorithm becomes \"reverse THEN determinize THEN reverse THEN determinize\""
      ]
    }
  ]
}