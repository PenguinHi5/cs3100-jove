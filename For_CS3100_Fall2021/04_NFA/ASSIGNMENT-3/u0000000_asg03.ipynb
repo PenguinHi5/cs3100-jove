{
  "nbformat": 4,
  "nbformat_minor": 0,
  "metadata": {
    "colab": {
      "name": "u0000000_asg03.ipynb",
      "provenance": []
    },
    "kernelspec": {
      "display_name": "Python 3",
      "language": "python",
      "name": "python3"
    },
    "language_info": {
      "codemirror_mode": {
        "name": "ipython",
        "version": 3
      },
      "file_extension": ".py",
      "mimetype": "text/x-python",
      "name": "python",
      "nbconvert_exporter": "python",
      "pygments_lexer": "ipython3",
      "version": "3.7.3"
    },
    "toc": {
      "colors": {
        "hover_highlight": "#DAA520",
        "running_highlight": "#FF0000",
        "selected_highlight": "#FFD700"
      },
      "moveMenuLeft": true,
      "nav_menu": {
        "height": "121px",
        "width": "252px"
      },
      "navigate_menu": true,
      "number_sections": true,
      "sideBar": true,
      "threshold": 4,
      "toc_cell": false,
      "toc_section_display": "block",
      "toc_window_display": false,
      "widenNotebook": false
    }
  },
  "cells": [
    {
      "cell_type": "code",
      "metadata": {
        "id": "Ujn4sivPchF4",
        "run_control": {
          "frozen": false,
          "read_only": false
        }
      },
      "source": [
        "# This is a potentially helpful video from long ago... watch it if you've not, before.\n",
        "from IPython.display import YouTubeVideo\n",
        "YouTubeVideo('xjFtLF95uBc')"
      ],
      "execution_count": null,
      "outputs": []
    },
    {
      "cell_type": "code",
      "metadata": {
        "id": "2l3T1b5echF5",
        "run_control": {
          "frozen": false,
          "read_only": false
        },
        "scrolled": true
      },
      "source": [
        "#~~~~~~~~~~~~~~~~~~~~~~~~~~~~~~~~~~~~~~~~~~~~~~~~~~~~~~~\n",
        "import sys\n",
        "\n",
        "# -- Detect if in Own Install or in Colab\n",
        "try:\n",
        "    import google.colab\n",
        "    OWN_INSTALL = False\n",
        "except:\n",
        "    OWN_INSTALL = True\n",
        "    \n",
        "if OWN_INSTALL:\n",
        "    \n",
        "  #---- Leave these definitions ON if running on laptop\n",
        "  #---- Else turn OFF by putting them between ''' ... '''\n",
        "\n",
        "  sys.path[0:0] = ['../../../../..',  '../../../../../3rdparty',  \n",
        "                   '../../../..',  '../../../../3rdparty',  \n",
        "                   '../../..',     '../../../3rdparty', \n",
        "                   '../..',        '../../3rdparty',\n",
        "                   '..',           '../3rdparty' ]\n",
        "\n",
        "else: # In colab\n",
        "  ! if [ ! -d Jove ]; then git clone https://github.com/ganeshutah/Jove Jove; fi\n",
        "  sys.path.append('./Jove')\n",
        "  sys.path.append('./Jove/jove')\n",
        "\n",
        "# -- common imports --\n",
        "from jove.DotBashers import *\n",
        "from jove.Def_md2mc  import *\n",
        "from jove.Def_NFA    import *\n",
        "from jove.Def_DFA    import *\n",
        "from jove.AnimateNFA import *\n",
        "#~~~~~~~~~~~~~~~~~~~~~~~~~~~~~~~~~~~~~~~~~~~~~~~~~~~~~~~"
      ],
      "execution_count": null,
      "outputs": []
    },
    {
      "cell_type": "markdown",
      "metadata": {
        "id": "rDIagEWm0Meu"
      },
      "source": [
        "## Question 1:"
      ]
    },
    {
      "cell_type": "markdown",
      "metadata": {
        "id": "mRGsAaKo1Moh"
      },
      "source": [
        "### Part a:\n",
        "\n",
        "* Design an NFA for $\\{0,1\\}^* \\{1\\} \\{0\\}$. In other words, this NFA accepts strings that end in 10.\n",
        "\n",
        "* Document sufficiently to reveal the design (a comment per key line)\n",
        "\n",
        "*  Here are the required state names:\n",
        "\n",
        "    - If the initial state is also a final state, then its name must be IF, else it must be I\n",
        "\n",
        "    - After consuming a 0 or a 1, end up in state S0 or S1 (if not already accepting); else transition to F0 or F1 as appropriate\n",
        "\n",
        "    - Continue this way: that is S1 goes to S10 if non-accepting; else to F10"
      ]
    },
    {
      "cell_type": "code",
      "metadata": {
        "id": "c-uWXGDR114l"
      },
      "source": [
        "nfaEnds10 = md2mc('''\n",
        "NFA \n",
        " \n",
        "!!-- Your NFA Design below --\n",
        " \n",
        "''')"
      ],
      "execution_count": null,
      "outputs": []
    },
    {
      "cell_type": "markdown",
      "metadata": {
        "id": "lIhbmcxO15Pl"
      },
      "source": [
        "### Part b: \n",
        "- Put the above NFA in animation, and note down the set of states attained\n",
        "after the DFA has seen every character in 10010. More detailed instructions follow."
      ]
    },
    {
      "cell_type": "markdown",
      "metadata": {
        "id": "Y-i834WN2IlU"
      },
      "source": [
        "#### Execute the cell below and follow the bulleted instructions\n",
        "\n",
        "- When the animation pane comes up, type in 10010 and click Animate\n",
        "\n",
        "- Then click the \">|\" button, which is for single-stepping\n",
        "\n",
        "- Note down the results as you single-step, and fill answers in 1b(ii) below"
      ]
    },
    {
      "cell_type": "code",
      "metadata": {
        "id": "HQvAtNLbchF7",
        "scrolled": false
      },
      "source": [
        "AnimateNFA(nfaEnds10, FuseEdges=False)\n",
        "display(HTML('<link rel=\\\"stylesheet\\\" href=\\\"//stackpath.bootstrapcdn.com/font-awesome/4.7.0/css/font-awesome.min.css\\\"/>'))"
      ],
      "execution_count": null,
      "outputs": []
    },
    {
      "cell_type": "markdown",
      "metadata": {
        "id": "50pO9HiP2PQq"
      },
      "source": [
        "#### Provide these answers based on single-stepping the animation (please provide it as a SET OF STATES - else we won't give you any points). "
      ]
    },
    {
      "cell_type": "markdown",
      "metadata": {
        "id": "3_dSVGMochF7"
      },
      "source": [
        "#### Choose one of these 3 options for the multiple choice part:\n",
        "##### (a) A token dropped out of the diagram (with the move on a symbol being undefined)\n",
        "##### (b) The NFA reached a final state\n",
        "##### (c) Neither \n",
        "\n",
        "### Question 1: What is the set of states before consuming any of 10010? \n",
        "##### The set of state is:  { ... }\n",
        "##### Multiple choice answer: ... the answer template (a), (b) or (c) above, suitably filled in\n",
        "\n",
        "### Question 2: What is the set of states AFTER consuming \"1\" and before consuming \"0010\"?\n",
        "\n",
        "### What do we mean by \"AFTER consuming '1' \" ??\n",
        "\n",
        "### There are three phases to consuming a '1' in the animation window and we will explain it now:\n",
        "\n",
        "#### 1) See that the animation has a window with 3 cells\n",
        "#### 2) When you administer the first click on the step forward or >| button,  '1' moves into the middle window. It is like a '1' in the \"mouth of the NFA\"\n",
        "#### 3) One click later , the '1' goes into the left cell and there is a \"\" in the middle, imagine that the NFA has 'chewed' the '1' and is about to \"swallow it\"\n",
        "#### 4) When the \"\" in the middle cells is also gone and the middle cell is blank, the NFA has swallowed what it was chewing, and it is traveling toward its stomach. That is when it is in a \"after consuming a 1\" state. \n",
        "\n",
        "##### The set of state is:   { ... }\n",
        "##### Multiple choice answer:  ...\n",
        "\n",
        "### Question 3: What is the set of states AFTER consuming \"10\" and before consuming \"010\"?\n",
        "##### The set of state is:  { ... }\n",
        "##### Multiple choice answer: ....\n",
        "\n",
        "### Question 4: What is the set of states AFTER consuming \"100\" and before consuming \"10\"?\n",
        "##### The set of state is:  {...}\n",
        "##### Multiple choice answer: ...\n",
        "\n",
        "### Question 5: What is the set of states AFTER consuming \"1001\" and before consuming \"0\"?\n",
        "##### The set of state is:  {...}\n",
        "##### Multiple choice answer: ....\n",
        "\n",
        "### Question 6: What is the set of states AFTER consuming \"10010\" entirely?\n",
        "##### The set of state is:  { ... }\n",
        "##### Multiple choice answer: ..."
      ]
    },
    {
      "cell_type": "markdown",
      "metadata": {
        "id": "7ATMvVKt4Fhk"
      },
      "source": [
        "### Part c:"
      ]
    },
    {
      "cell_type": "markdown",
      "metadata": {
        "id": "cu9d8SUa4K0j"
      },
      "source": [
        "Convert the NFA to a DFA and answer the questions below"
      ]
    },
    {
      "cell_type": "code",
      "metadata": {
        "id": "frrMz34NchF8"
      },
      "source": [
        "#Run this cell to convert the NFA to a DFA\n",
        "dotObj_dfa(nfa2dfa(nfaEnds10, STATENAME_MAXSIZE=50), STATENAME_MAXSIZE=50)"
      ],
      "execution_count": null,
      "outputs": []
    },
    {
      "cell_type": "markdown",
      "metadata": {
        "id": "GlYfeJCcchF8"
      },
      "source": [
        "#### Question 1: What is the state the DFA is in after 10010?\n",
        "##### Answer: .... provide answer here ...\n",
        "\n",
        "### Question-2: What is the set of states NFA is in after 10010? Express as a set of states of the NFA.\n",
        "\n",
        "##### Answer:  { ... }\n",
        "\n",
        "### Question 3: Do the above match, in the sense that the set of states that the NFA finds itself, when converted to a DFA state by inserting the underscores (\"_\") matches the DFA state?\n",
        "\n",
        "##### Answer:  ... answer ... \n",
        "\n",
        "### Question 4: Provide the reason why they do/don't match:\n",
        "\n",
        "##### Answer:  ... refer to the subset construction algorithm in your answer ... "
      ]
    },
    {
      "cell_type": "markdown",
      "metadata": {
        "id": "UxSTniCF4sqA"
      },
      "source": [
        "## Question 2:"
      ]
    },
    {
      "cell_type": "markdown",
      "metadata": {
        "id": "9JAr5AXkchF9"
      },
      "source": [
        "### A tutorial on Concatenating NFA\n",
        "Please watch this video:\n",
        "\n",
        "To watch the video separately in Youtube in large size, \n",
        "visit https://youtu.be/VWyOT1uYfIc\n",
        "\n",
        "Otherwise just run the command below!"
      ]
    },
    {
      "cell_type": "code",
      "metadata": {
        "id": "XYrXR8ODchF9"
      },
      "source": [
        "# NFA Concatenation\n",
        "from IPython.display import YouTubeVideo\n",
        "YouTubeVideo('VWyOT1uYfIc')"
      ],
      "execution_count": null,
      "outputs": []
    },
    {
      "cell_type": "markdown",
      "metadata": {
        "id": "qPA-9aSZ4wyx"
      },
      "source": [
        "### Part a:\n",
        "- Design an NFA for $\\{\\varepsilon, 0\\}$ \n",
        "- It will be a 2-state NFA with an IF state and a final state (call that final state \"F2\" )"
      ]
    },
    {
      "cell_type": "code",
      "metadata": {
        "id": "AYEMTDbachF9"
      },
      "source": [
        "nfaEps0 = md2mc('''\n",
        "NFA \n",
        " \n",
        "!! -- Define your NFA below --\n",
        "\n",
        "''')"
      ],
      "execution_count": null,
      "outputs": []
    },
    {
      "cell_type": "code",
      "metadata": {
        "id": "f7Je9_I9chF9"
      },
      "source": [
        "dotObj_nfa(nfaEps0)"
      ],
      "execution_count": null,
      "outputs": []
    },
    {
      "cell_type": "markdown",
      "metadata": {
        "id": "Z7LgHlIBf44z"
      },
      "source": [
        "### Part b: "
      ]
    },
    {
      "cell_type": "markdown",
      "metadata": {
        "id": "PCE53giWchF-"
      },
      "source": [
        "* Concatenate nfaEnds10 and nfaEps0 to obtain nfaEnds10Eps0. \n",
        "\n",
        "* Here is how the concatenation must be documented in the space below:\n",
        "\n",
        "* Put the transitions that came from \"nfaEnds10\" in the designated vacant space below. Make suitable state-name changes as described below.\n",
        "\n",
        "* Put the right number of epsilon-labeled Bridge Transitions connecting the final states of the first NFA (which would no longer be final) with the initial states of the second NFA (which would no longer be initial). \n",
        "\n",
        "* Put the transitions that came from nfaEps0 after that\n",
        "\n",
        "* Given that the first NFA potentially \"lost\" some final states while the second NFA \"lost\" some initial states, make suitable state name changes\n",
        "\n",
        "  - E.g. an Fx state may become an Sx state, for some 'x'\n",
        "  \n",
        "  - E.g. an IFy state may become an Fy state, for some 'y'\n"
      ]
    },
    {
      "cell_type": "markdown",
      "metadata": {
        "id": "woXQFm4TchF-"
      },
      "source": [
        "### Part c: \n",
        "- Define the concatenation NFA below.\n"
      ]
    },
    {
      "cell_type": "code",
      "metadata": {
        "id": "BZzwB3GtchF-",
        "run_control": {
          "frozen": false,
          "read_only": false
        }
      },
      "source": [
        "# Here is the resulting NFA\n",
        "\n",
        "nfaEnds10Eps0 = md2mc('''\n",
        "NFA  \n",
        "\n",
        "!! == nfaEnds10 transitions below, with suitable modifications ==\n",
        "\n",
        " \n",
        " \n",
        " !! -- Document the transition changes in the above list as follows, within comments --\n",
        " \n",
        " !! The original transition was ...\n",
        " !! This was changed to ... because some states are/are not   final / non-final  ...\n",
        " \n",
        "   \n",
        " \n",
        " !! == Bridge takes to the initial state of the second NFA is below ==\n",
        " \n",
        " \n",
        " !! The initial state of the second NFA was ...\n",
        " !! We change it suitably as follows ...\n",
        " \n",
        " \n",
        " !! == nfaEps0 transitions below, with suitable modifications ==\n",
        " \n",
        " \n",
        " \n",
        "''')"
      ],
      "execution_count": null,
      "outputs": []
    },
    {
      "cell_type": "markdown",
      "metadata": {
        "id": "_REraVK1chF_"
      },
      "source": [
        "### Part d: \n",
        "- Draw the concat NFA and convert to a DFA\n",
        "- Run the THREE commands below, and then move on to answer problem 3 \n",
        "based on the results you observe from these commands\n"
      ]
    },
    {
      "cell_type": "code",
      "metadata": {
        "id": "CiAqoF-TchF_"
      },
      "source": [
        "# command-1\n",
        "dotObj_nfa(nfaEnds10Eps0)"
      ],
      "execution_count": null,
      "outputs": []
    },
    {
      "cell_type": "code",
      "metadata": {
        "id": "FnaBzZn6chGA"
      },
      "source": [
        "# command-2\n",
        "\n",
        "dotObj_dfa(nfa2dfa(nfaEnds10Eps0, STATENAME_MAXSIZE=50), STATENAME_MAXSIZE=50)"
      ],
      "execution_count": null,
      "outputs": []
    },
    {
      "cell_type": "code",
      "metadata": {
        "id": "hazGkpuVchGA",
        "run_control": {
          "frozen": false,
          "read_only": false
        }
      },
      "source": [
        "# Let us see its internal representation -- this may give you hints for answering your question\n",
        "\n",
        "# \n",
        "\n",
        "nfaEnds10Eps0"
      ],
      "execution_count": null,
      "outputs": []
    },
    {
      "cell_type": "markdown",
      "metadata": {
        "id": "iUK68D5b6GH6"
      },
      "source": [
        "## Question 3:"
      ]
    },
    {
      "cell_type": "markdown",
      "metadata": {
        "id": "N7Cf9KQW6Jyz"
      },
      "source": [
        "- After converting the NFA nfaEnds10Eps0 to a DFA, we see new states and new state transitions. Explain the NFA2DFA algorithm by explaining the reason of the appearance of every state and their state transition.\n",
        "- For example: \n",
        "  - Explains why state X shows up after converting the NFA to DFA.\n",
        "  - Explain the state transition of state X to its neighbor states.\n",
        "  \n",
        "Here is a likely explanation (a few examples shown)\n",
        "\n",
        "\n",
        "* State ... in the DFA came from the NFA state ... after e-closure of the set of states .... This Eclosure results in ... . And state ... goes back to itself after a ...\n",
        "\n",
        "* Use suitable variants of this style of explaining each of the DFA transitions.\n",
        "\n",
        "* Use as many bullets as needed\n",
        "\n",
        "* === YOUR ANSWER BELOW ===\n",
        "\n",
        "*  "
      ]
    },
    {
      "cell_type": "markdown",
      "metadata": {
        "id": "u0KM6o1c7HzY"
      },
      "source": [
        "## Question 4:"
      ]
    },
    {
      "cell_type": "markdown",
      "metadata": {
        "id": "SJM1F3gt7Wta"
      },
      "source": [
        "### Brzozowski's minimization"
      ]
    },
    {
      "cell_type": "markdown",
      "metadata": {
        "id": "OZbe3pcr7ZqX"
      },
      "source": [
        "A DFA can be minimized simply by following the steps below (also refers to section 7.7). In this problem, you will practice those steps on an initial bloated DFA given to you.\n",
        "\n",
        "The steps are these:\n",
        "\n",
        "1. Reverse the given DFA, say DFA_bloated, to obtain an NFA called NFA1 (use the rev_dfa function)\n",
        "\n",
        "2. Determinize NFA1 to obtain a DFA called DFA2\n",
        "\n",
        "3. Reverse DFA2 to obtain another NFA, say NFA2\n",
        "\n",
        "4. Determinize NFA2 to obtain the final minimized DFA, say DFA_min\n",
        "\n",
        "Given a DFA_bloated below:"
      ]
    },
    {
      "cell_type": "code",
      "metadata": {
        "id": "aL6wOndVchGB"
      },
      "source": [
        "\n",
        "DFA_bloated = md2mc('''\n",
        "\n",
        "DFA\n",
        "\n",
        "IS1: a -> Temp\n",
        "IS1: b -> FS3\n",
        "\n",
        "Temp: a -> FS2\n",
        "Temp: b -> FS3\n",
        "\n",
        "FS2: a -> S4\n",
        "FS2: b -> S5\n",
        "\n",
        "FS3: a -> S5\n",
        "FS3: b -> S4\n",
        "\n",
        "S4: a|b -> FS6\n",
        "S5: a|b -> FS6\n",
        "\n",
        "FS6: a|b -> FS6\n",
        "\n",
        "''')"
      ],
      "execution_count": null,
      "outputs": []
    },
    {
      "cell_type": "code",
      "metadata": {
        "id": "1SJCJTkzchGC"
      },
      "source": [
        "dotObj_dfa(DFA_bloated)"
      ],
      "execution_count": null,
      "outputs": []
    },
    {
      "cell_type": "markdown",
      "metadata": {
        "id": "KC3OV6sbchGD"
      },
      "source": [
        "### Part a: Reverse the above DFA"
      ]
    },
    {
      "cell_type": "code",
      "metadata": {
        "id": "mErYqdkGchGD"
      },
      "source": [
        "help(rev_dfa)"
      ],
      "execution_count": null,
      "outputs": []
    },
    {
      "cell_type": "code",
      "metadata": {
        "id": "PRTxx_3rchGE"
      },
      "source": [
        "# Reverse DFA_bloated here\n",
        "NFA1 =  \"... OBTAIN THE REVERSE OF DFA_bloated by running the rev_dfa command... \"\n",
        "\n",
        " "
      ],
      "execution_count": null,
      "outputs": []
    },
    {
      "cell_type": "code",
      "metadata": {
        "id": "TFIZ9qDmchGE"
      },
      "source": [
        "dotObj_nfa(NFA1)"
      ],
      "execution_count": null,
      "outputs": []
    },
    {
      "cell_type": "markdown",
      "metadata": {
        "id": "i3z_4SNxfyYm"
      },
      "source": [
        "### Part b: Check that NFA1 is indeed the reverse of DFA_bloated"
      ]
    },
    {
      "cell_type": "markdown",
      "metadata": {
        "id": "wMFFSS0UchGE"
      },
      "source": [
        "Note: \"aabba\" is in DFA_bloated's language but its reversal (i.e. \"abbaa\") is in NFA1's language\n",
        "\n",
        "#### Which path does abbaa take in being accepted by NFA1 ?\n",
        "\n",
        "\n",
        "* == YOUR ANSWER BELOW ==\n",
        "\n",
        "* Starting from State { ... }\n",
        "\n",
        "* The next state after 'a' is { ... }\n",
        "\n",
        "* The next state after 'b' is { ... }\n",
        "\n",
        "* The next state after 'b' is { ... }\n",
        "\n",
        "* The next state after 'a' is { ... }\n",
        "\n",
        "* The next state after 'a' is ...  { ... }  -- which is a final state, because it contains a \"double-circled state\". It is possible that this state name does not begin with \"F\" because since we reversed the initial DFA, some \"I\" states would now be a final state. This is OK.\n",
        "\n"
      ]
    },
    {
      "cell_type": "markdown",
      "metadata": {
        "id": "OJ7YfwVdchGE"
      },
      "source": [
        "### Part c: Determinize NFA1 to obtain DFA2"
      ]
    },
    {
      "cell_type": "code",
      "metadata": {
        "id": "S9NCKwaQchGE"
      },
      "source": [
        "help(nfa2dfa)"
      ],
      "execution_count": null,
      "outputs": []
    },
    {
      "cell_type": "code",
      "metadata": {
        "id": "rsAlpHIKchGF"
      },
      "source": [
        "DFA2 = \"...DETERMINIZE NFA1 to obtain DFA2 ...\"\n",
        " "
      ],
      "execution_count": null,
      "outputs": []
    },
    {
      "cell_type": "code",
      "metadata": {
        "id": "OVQHj1W_chGF"
      },
      "source": [
        "dotObj_dfa(DFA2)"
      ],
      "execution_count": null,
      "outputs": []
    },
    {
      "cell_type": "markdown",
      "metadata": {
        "id": "hTEvZTXochGF"
      },
      "source": [
        "### Part d: Reverse DFA2 to obtain NFA3"
      ]
    },
    {
      "cell_type": "code",
      "metadata": {
        "id": "oG3pT6fGchGF"
      },
      "source": [
        "NFA3 = \"... REVERSE DFA2 to obtain NFA3 ...\"\n",
        " "
      ],
      "execution_count": null,
      "outputs": []
    },
    {
      "cell_type": "code",
      "metadata": {
        "id": "rnFeP4-_chGF"
      },
      "source": [
        "dotObj_nfa(NFA3)"
      ],
      "execution_count": null,
      "outputs": []
    },
    {
      "cell_type": "markdown",
      "metadata": {
        "id": "tFF5zbF7chGG"
      },
      "source": [
        "### Part e:  Determinize NFA3 to obtain DFA_min\n"
      ]
    },
    {
      "cell_type": "code",
      "metadata": {
        "id": "iDt8h9M4chGG"
      },
      "source": [
        "DFA_min = \"... DETERMINIZE NFA3 via the nfa2dfa command to obtain the desired min DFA....\"\n",
        " "
      ],
      "execution_count": null,
      "outputs": []
    },
    {
      "cell_type": "code",
      "metadata": {
        "id": "c-h5kF2RchGK"
      },
      "source": [
        "dotObj_dfa(DFA_min)"
      ],
      "execution_count": null,
      "outputs": []
    },
    {
      "cell_type": "markdown",
      "metadata": {
        "id": "peMOcRZSchGK"
      },
      "source": [
        "### Part f: Check that DFA_min and DFA_bloated have the same language but are not isomorphic"
      ]
    },
    {
      "cell_type": "code",
      "metadata": {
        "id": "e1emRps2chGK"
      },
      "source": [
        "help(langeq_dfa)"
      ],
      "execution_count": null,
      "outputs": []
    },
    {
      "cell_type": "code",
      "metadata": {
        "id": "EAZGEUEQchGK"
      },
      "source": [
        "help(iso_dfa)"
      ],
      "execution_count": null,
      "outputs": []
    },
    {
      "cell_type": "code",
      "metadata": {
        "id": "vgV0OicpchGL"
      },
      "source": [
        "...SHOW THAT DFA_bloated and DFA_min HAVE THE SAME LANGUAGE by using langeq_dfa function ..."
      ],
      "execution_count": null,
      "outputs": []
    },
    {
      "cell_type": "code",
      "metadata": {
        "id": "Alk9z_sVchGL"
      },
      "source": [
        "...SHOW THAT DFA_bloated and DFA_min are NOT isomorphic by using iso_dfa function ..."
      ],
      "execution_count": null,
      "outputs": []
    },
    {
      "cell_type": "code",
      "metadata": {
        "id": "nflMG9HachGL"
      },
      "source": [
        "DFA_min_alt = min_dfa(DFA_bloated)"
      ],
      "execution_count": null,
      "outputs": []
    },
    {
      "cell_type": "code",
      "metadata": {
        "id": "3aeA1kqVchGL"
      },
      "source": [
        "dotObj_dfa(DFA_min)"
      ],
      "execution_count": null,
      "outputs": []
    },
    {
      "cell_type": "code",
      "metadata": {
        "id": "IkggfEAPchGL"
      },
      "source": [
        "dotObj_dfa(DFA_min_alt)"
      ],
      "execution_count": null,
      "outputs": []
    },
    {
      "cell_type": "code",
      "metadata": {
        "id": "CltElnv7chGM"
      },
      "source": [
        "help(iso_dfa)"
      ],
      "execution_count": null,
      "outputs": []
    },
    {
      "cell_type": "code",
      "metadata": {
        "id": "w6__tQVBchGM"
      },
      "source": [
        "\"...SHOW THAT DFA_min and DFA_min_alt are isomorphic by using iso_dfa function...\"\n",
        "\n",
        "... invoke the iso_dfa call here ...\n"
      ],
      "execution_count": null,
      "outputs": []
    },
    {
      "cell_type": "markdown",
      "metadata": {
        "id": "ZQFEYyjachGM"
      },
      "source": [
        "### Here are some notes to understand Brzozowski's method\n",
        "\n",
        "* If you are given a DFA \"D1\", a minimal DFA for \"reverse(D1)\" is obtained by \"reverse followed by determinize\"\n",
        "\n",
        "* But since we are interested in the minimal DFA for \"D1\" (and not reverse(D1)), we do these steps again!\n",
        "\n",
        "* Hence the algorithm becomes \"reverse THEN determinize THEN reverse THEN determinize\""
      ]
    }
  ]
}