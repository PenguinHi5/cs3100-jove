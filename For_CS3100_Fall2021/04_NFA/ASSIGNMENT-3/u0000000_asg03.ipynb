{
  "nbformat": 4,
  "nbformat_minor": 0,
  "metadata": {
    "colab": {
      "name": "u0000000_asg03.ipynb",
      "provenance": []
    },
    "kernelspec": {
      "display_name": "Python 3",
      "language": "python",
      "name": "python3"
    },
    "language_info": {
      "codemirror_mode": {
        "name": "ipython",
        "version": 3
      },
      "file_extension": ".py",
      "mimetype": "text/x-python",
      "name": "python",
      "nbconvert_exporter": "python",
      "pygments_lexer": "ipython3",
      "version": "3.7.3"
    },
    "toc": {
      "colors": {
        "hover_highlight": "#DAA520",
        "running_highlight": "#FF0000",
        "selected_highlight": "#FFD700"
      },
      "moveMenuLeft": true,
      "nav_menu": {
        "height": "121px",
        "width": "252px"
      },
      "navigate_menu": true,
      "number_sections": true,
      "sideBar": true,
      "threshold": 4,
      "toc_cell": false,
      "toc_section_display": "block",
      "toc_window_display": false,
      "widenNotebook": false
    },
    "widgets": {
      "application/vnd.jupyter.widget-state+json": {
        "00cf30e0f6ce40dea29859d6b6e4e420": {
          "model_module": "@jupyter-widgets/controls",
          "model_name": "VBoxModel",
          "model_module_version": "1.5.0",
          "state": {
            "_view_name": "VBoxView",
            "_dom_classes": [],
            "_model_name": "VBoxModel",
            "_view_module": "@jupyter-widgets/controls",
            "_model_module_version": "1.5.0",
            "_view_count": null,
            "_view_module_version": "1.5.0",
            "box_style": "",
            "layout": "IPY_MODEL_53e1d74690ec4fbdbcd4e7cd8d8f4be6",
            "_model_module": "@jupyter-widgets/controls",
            "children": [
              "IPY_MODEL_43981eb10a3e4ce6a0bdf08a9adc037f",
              "IPY_MODEL_78a6c7e3dda44a32b0db083517af4b62",
              "IPY_MODEL_86740518dc054edab1fddbbd923cb94d",
              "IPY_MODEL_788f11fa010c4f398bb9976e894f2ad5"
            ]
          }
        },
        "53e1d74690ec4fbdbcd4e7cd8d8f4be6": {
          "model_module": "@jupyter-widgets/base",
          "model_name": "LayoutModel",
          "model_module_version": "1.2.0",
          "state": {
            "_view_name": "LayoutView",
            "grid_template_rows": null,
            "right": null,
            "justify_content": null,
            "_view_module": "@jupyter-widgets/base",
            "overflow": null,
            "_model_module_version": "1.2.0",
            "_view_count": null,
            "flex_flow": null,
            "width": null,
            "min_width": null,
            "border": null,
            "align_items": null,
            "bottom": null,
            "_model_module": "@jupyter-widgets/base",
            "top": null,
            "grid_column": null,
            "overflow_y": null,
            "overflow_x": null,
            "grid_auto_flow": null,
            "grid_area": null,
            "grid_template_columns": null,
            "flex": null,
            "_model_name": "LayoutModel",
            "justify_items": null,
            "grid_row": null,
            "max_height": null,
            "align_content": null,
            "visibility": null,
            "align_self": null,
            "height": null,
            "min_height": null,
            "padding": null,
            "grid_auto_rows": null,
            "grid_gap": null,
            "max_width": null,
            "order": null,
            "_view_module_version": "1.2.0",
            "grid_template_areas": null,
            "object_position": null,
            "object_fit": null,
            "grid_auto_columns": null,
            "margin": null,
            "display": null,
            "left": null
          }
        },
        "43981eb10a3e4ce6a0bdf08a9adc037f": {
          "model_module": "@jupyter-widgets/controls",
          "model_name": "HBoxModel",
          "model_module_version": "1.5.0",
          "state": {
            "_view_name": "HBoxView",
            "_dom_classes": [],
            "_model_name": "HBoxModel",
            "_view_module": "@jupyter-widgets/controls",
            "_model_module_version": "1.5.0",
            "_view_count": null,
            "_view_module_version": "1.5.0",
            "box_style": "",
            "layout": "IPY_MODEL_ecbc3c5cf14d4cf688099b9a5fb33ae3",
            "_model_module": "@jupyter-widgets/controls",
            "children": [
              "IPY_MODEL_f4009c0e937246a6a2fbd346b807d2f3",
              "IPY_MODEL_6f029fa8b88349f989c4ec5891ad9f99"
            ]
          }
        },
        "78a6c7e3dda44a32b0db083517af4b62": {
          "model_module": "@jupyter-widgets/output",
          "model_name": "OutputModel",
          "model_module_version": "1.0.0",
          "state": {
            "_view_name": "OutputView",
            "msg_id": "",
            "_dom_classes": [],
            "_model_name": "OutputModel",
            "outputs": [
              {
                "output_type": "display_data",
                "data": {
                  "text/plain": "<graphviz.files.Source at 0x7f92f01ca3d0>",
                  "image/svg+xml": "<?xml version=\"1.0\" encoding=\"UTF-8\" standalone=\"no\"?>\n<!DOCTYPE svg PUBLIC \"-//W3C//DTD SVG 1.1//EN\"\n \"http://www.w3.org/Graphics/SVG/1.1/DTD/svg11.dtd\">\n<!-- Generated by graphviz version 2.40.1 (20161225.0304)\n -->\n<!-- Title: %3 Pages: 1 -->\n<svg width=\"333pt\" height=\"122pt\"\n viewBox=\"0.00 0.00 332.59 122.00\" xmlns=\"http://www.w3.org/2000/svg\" xmlns:xlink=\"http://www.w3.org/1999/xlink\">\n<g id=\"graph0\" class=\"graph\" transform=\"scale(1 1) rotate(0) translate(4 117.9977)\">\n<title>%3</title>\n<polygon fill=\"#ffffff\" stroke=\"transparent\" points=\"-4,4 -4,-117.9977 328.5917,-117.9977 328.5917,4 -4,4\"/>\n<!-- EMPTY -->\n<g id=\"node1\" class=\"node\">\n<title>EMPTY</title>\n</g>\n<!-- I -->\n<g id=\"node2\" class=\"node\">\n<title>I</title>\n<ellipse fill=\"#66cd00\" stroke=\"#000000\" cx=\"109\" cy=\"-29.9977\" rx=\"18\" ry=\"18\"/>\n<text text-anchor=\"middle\" x=\"109\" y=\"-26.2977\" font-family=\"Times,serif\" font-size=\"14.00\" fill=\"#ffffff\">I</text>\n</g>\n<!-- EMPTY&#45;&gt;I -->\n<g id=\"edge1\" class=\"edge\">\n<title>EMPTY&#45;&gt;I</title>\n<path fill=\"none\" stroke=\"#000000\" d=\"M54.3048,-29.9977C62.6909,-29.9977 71.9407,-29.9977 80.4103,-29.9977\"/>\n<polygon fill=\"#000000\" stroke=\"#000000\" points=\"80.5976,-33.4978 90.5976,-29.9977 80.5976,-26.4978 80.5976,-33.4978\"/>\n</g>\n<!-- I&#45;&gt;I -->\n<g id=\"edge2\" class=\"edge\">\n<title>I&#45;&gt;I</title>\n<path fill=\"none\" stroke=\"#000000\" d=\"M105.7643,-47.7794C105.2144,-57.3126 106.293,-65.9977 109,-65.9977 110.6496,-65.9977 111.6945,-62.7726 112.1347,-58.0958\"/>\n<polygon fill=\"#000000\" stroke=\"#000000\" points=\"115.6375,-57.8133 112.2357,-47.7794 108.6379,-57.7446 115.6375,-57.8133\"/>\n<text text-anchor=\"start\" x=\"103\" y=\"-69.7977\" font-family=\"Times,serif\" font-size=\"14.00\" fill=\"#000000\"> 0</text>\n</g>\n<!-- I&#45;&gt;I -->\n<g id=\"edge3\" class=\"edge\">\n<title>I&#45;&gt;I</title>\n<path fill=\"none\" stroke=\"#000000\" d=\"M103.6841,-47.418C100.6538,-64.7886 102.4258,-83.9977 109,-83.9977 114.2902,-83.9977 116.4708,-71.5594 115.5419,-57.6497\"/>\n<polygon fill=\"#000000\" stroke=\"#000000\" points=\"118.9808,-56.9305 114.3159,-47.418 112.0305,-57.7634 118.9808,-56.9305\"/>\n<text text-anchor=\"start\" x=\"103\" y=\"-87.7977\" font-family=\"Times,serif\" font-size=\"14.00\" fill=\"#000000\"> 1</text>\n</g>\n<!-- S1 -->\n<g id=\"node3\" class=\"node\">\n<title>S1</title>\n<ellipse fill=\"none\" stroke=\"#000000\" cx=\"195.7982\" cy=\"-29.9977\" rx=\"20.5982\" ry=\"20.5982\"/>\n<text text-anchor=\"middle\" x=\"195.7982\" y=\"-26.2977\" font-family=\"Times,serif\" font-size=\"14.00\" fill=\"#000000\">S1</text>\n</g>\n<!-- I&#45;&gt;S1 -->\n<g id=\"edge4\" class=\"edge\">\n<title>I&#45;&gt;S1</title>\n<path fill=\"none\" stroke=\"#000000\" d=\"M127.4077,-29.9977C138.2934,-29.9977 152.3613,-29.9977 164.9052,-29.9977\"/>\n<polygon fill=\"#000000\" stroke=\"#000000\" points=\"164.9803,-33.4978 174.9802,-29.9977 164.9802,-26.4978 164.9803,-33.4978\"/>\n<text text-anchor=\"start\" x=\"145\" y=\"-33.7977\" font-family=\"Times,serif\" font-size=\"14.00\" fill=\"#000000\"> 1</text>\n</g>\n<!-- F10 -->\n<g id=\"node4\" class=\"node\">\n<title>F10</title>\n<ellipse fill=\"#66cd00\" stroke=\"#000000\" cx=\"294.594\" cy=\"-29.9977\" rx=\"25.9957\" ry=\"25.9957\"/>\n<ellipse fill=\"none\" stroke=\"#000000\" cx=\"294.594\" cy=\"-29.9977\" rx=\"29.9954\" ry=\"29.9954\"/>\n<text text-anchor=\"middle\" x=\"294.594\" y=\"-26.2977\" font-family=\"Times,serif\" font-size=\"14.00\" fill=\"#ffffff\">F10</text>\n</g>\n<!-- S1&#45;&gt;F10 -->\n<g id=\"edge5\" class=\"edge\">\n<title>S1&#45;&gt;F10</title>\n<path fill=\"none\" stroke=\"#000000\" d=\"M216.7502,-29.9977C227.6555,-29.9977 241.3667,-29.9977 254.2314,-29.9977\"/>\n<polygon fill=\"#000000\" stroke=\"#000000\" points=\"254.2974,-33.4978 264.2974,-29.9977 254.2974,-26.4978 254.2974,-33.4978\"/>\n<text text-anchor=\"start\" x=\"234.5963\" y=\"-33.7977\" font-family=\"Times,serif\" font-size=\"14.00\" fill=\"#000000\"> 0</text>\n</g>\n</g>\n</svg>\n"
                },
                "metadata": {}
              }
            ],
            "_view_module": "@jupyter-widgets/output",
            "_model_module_version": "1.0.0",
            "_view_count": null,
            "_view_module_version": "1.0.0",
            "layout": "IPY_MODEL_cfc3732a6cc04966b9560a6e3a5af423",
            "_model_module": "@jupyter-widgets/output"
          }
        },
        "86740518dc054edab1fddbbd923cb94d": {
          "model_module": "@jupyter-widgets/output",
          "model_name": "OutputModel",
          "model_module_version": "1.0.0",
          "state": {
            "_view_name": "OutputView",
            "msg_id": "",
            "_dom_classes": [],
            "_model_name": "OutputModel",
            "outputs": [
              {
                "output_type": "display_data",
                "data": {
                  "text/plain": "<graphviz.files.Source at 0x7f92f01ca590>",
                  "image/svg+xml": "<?xml version=\"1.0\" encoding=\"UTF-8\" standalone=\"no\"?>\n<!DOCTYPE svg PUBLIC \"-//W3C//DTD SVG 1.1//EN\"\n \"http://www.w3.org/Graphics/SVG/1.1/DTD/svg11.dtd\">\n<!-- Generated by graphviz version 2.40.1 (20161225.0304)\n -->\n<!-- Title: %3 Pages: 1 -->\n<svg width=\"116pt\" height=\"47pt\"\n viewBox=\"0.00 0.00 116.00 47.00\" xmlns=\"http://www.w3.org/2000/svg\" xmlns:xlink=\"http://www.w3.org/1999/xlink\">\n<g id=\"graph0\" class=\"graph\" transform=\"scale(1 1) rotate(0) translate(4 43)\">\n<title>%3</title>\n<polygon fill=\"#ffffff\" stroke=\"transparent\" points=\"-4,4 -4,-43 112,-43 112,4 -4,4\"/>\n<!-- feed -->\n<g id=\"node1\" class=\"node\">\n<title>feed</title>\n<polygon fill=\"none\" stroke=\"#000000\" points=\"8,-3.5 8,-34.5 57,-34.5 57,-3.5 8,-3.5\"/>\n<text text-anchor=\"start\" x=\"17\" y=\"-15.9\" font-family=\"Times,serif\" font-size=\"12.00\" fill=\"#000000\">10010</text>\n<polygon fill=\"none\" stroke=\"#000000\" points=\"57,-3.5 57,-34.5 82,-34.5 82,-3.5 57,-3.5\"/>\n<text text-anchor=\"start\" x=\"66\" y=\"-15.9\" font-family=\"Times,serif\" font-size=\"12.00\" fill=\"#000000\"> &#160;</text>\n<polygon fill=\"none\" stroke=\"#000000\" points=\"82,-3.5 82,-34.5 100,-34.5 100,-3.5 82,-3.5\"/>\n</g>\n</g>\n</svg>\n"
                },
                "metadata": {}
              }
            ],
            "_view_module": "@jupyter-widgets/output",
            "_model_module_version": "1.0.0",
            "_view_count": null,
            "_view_module_version": "1.0.0",
            "layout": "IPY_MODEL_72ed7e04238e4d41b1d07fb7f5aba670",
            "_model_module": "@jupyter-widgets/output"
          }
        },
        "788f11fa010c4f398bb9976e894f2ad5": {
          "model_module": "@jupyter-widgets/controls",
          "model_name": "HBoxModel",
          "model_module_version": "1.5.0",
          "state": {
            "_view_name": "HBoxView",
            "_dom_classes": [],
            "_model_name": "HBoxModel",
            "_view_module": "@jupyter-widgets/controls",
            "_model_module_version": "1.5.0",
            "_view_count": null,
            "_view_module_version": "1.5.0",
            "box_style": "",
            "layout": "IPY_MODEL_2679bba647614341aa9ce8acf513c6c3",
            "_model_module": "@jupyter-widgets/controls",
            "children": [
              "IPY_MODEL_a4020c6a9fea453b93d28c4433c6428f",
              "IPY_MODEL_de03fc86e3414946bc347a2b7e6947f0",
              "IPY_MODEL_cccf8aa2294c40caacafc4a563dd02f4",
              "IPY_MODEL_02bb8dc851b141bab9df6e1512be8b5f"
            ]
          }
        },
        "ecbc3c5cf14d4cf688099b9a5fb33ae3": {
          "model_module": "@jupyter-widgets/base",
          "model_name": "LayoutModel",
          "model_module_version": "1.2.0",
          "state": {
            "_view_name": "LayoutView",
            "grid_template_rows": null,
            "right": null,
            "justify_content": null,
            "_view_module": "@jupyter-widgets/base",
            "overflow": null,
            "_model_module_version": "1.2.0",
            "_view_count": null,
            "flex_flow": null,
            "width": null,
            "min_width": null,
            "border": null,
            "align_items": null,
            "bottom": null,
            "_model_module": "@jupyter-widgets/base",
            "top": null,
            "grid_column": null,
            "overflow_y": null,
            "overflow_x": null,
            "grid_auto_flow": null,
            "grid_area": null,
            "grid_template_columns": null,
            "flex": null,
            "_model_name": "LayoutModel",
            "justify_items": null,
            "grid_row": null,
            "max_height": null,
            "align_content": null,
            "visibility": null,
            "align_self": null,
            "height": null,
            "min_height": null,
            "padding": null,
            "grid_auto_rows": null,
            "grid_gap": null,
            "max_width": null,
            "order": null,
            "_view_module_version": "1.2.0",
            "grid_template_areas": null,
            "object_position": null,
            "object_fit": null,
            "grid_auto_columns": null,
            "margin": null,
            "display": null,
            "left": null
          }
        },
        "f4009c0e937246a6a2fbd346b807d2f3": {
          "model_module": "@jupyter-widgets/controls",
          "model_name": "TextModel",
          "model_module_version": "1.5.0",
          "state": {
            "_view_name": "TextView",
            "style": "IPY_MODEL_9ee59c23b65b4e0dae16c3ce35c58b4a",
            "_dom_classes": [],
            "description": "Input:",
            "_model_name": "TextModel",
            "placeholder": "Sigma: {0,1}",
            "_view_module": "@jupyter-widgets/controls",
            "_model_module_version": "1.5.0",
            "value": "10010",
            "_view_count": null,
            "disabled": true,
            "_view_module_version": "1.5.0",
            "continuous_update": true,
            "description_tooltip": null,
            "_model_module": "@jupyter-widgets/controls",
            "layout": "IPY_MODEL_ff37afa2854841a8ba33e2d8eb03e11c"
          }
        },
        "6f029fa8b88349f989c4ec5891ad9f99": {
          "model_module": "@jupyter-widgets/controls",
          "model_name": "ButtonModel",
          "model_module_version": "1.5.0",
          "state": {
            "_view_name": "ButtonView",
            "style": "IPY_MODEL_e149699ef9d14b5dabaa3bbbd0f17a3c",
            "_dom_classes": [],
            "description": "Change Input",
            "_model_name": "ButtonModel",
            "button_style": "primary",
            "_view_module": "@jupyter-widgets/controls",
            "_model_module_version": "1.5.0",
            "tooltip": "",
            "_view_count": null,
            "disabled": false,
            "_view_module_version": "1.5.0",
            "layout": "IPY_MODEL_82373c6e508941d8b65323bb551d6e8f",
            "_model_module": "@jupyter-widgets/controls",
            "icon": ""
          }
        },
        "2679bba647614341aa9ce8acf513c6c3": {
          "model_module": "@jupyter-widgets/base",
          "model_name": "LayoutModel",
          "model_module_version": "1.2.0",
          "state": {
            "_view_name": "LayoutView",
            "grid_template_rows": null,
            "right": null,
            "justify_content": null,
            "_view_module": "@jupyter-widgets/base",
            "overflow": null,
            "_model_module_version": "1.2.0",
            "_view_count": null,
            "flex_flow": null,
            "width": null,
            "min_width": null,
            "border": null,
            "align_items": null,
            "bottom": null,
            "_model_module": "@jupyter-widgets/base",
            "top": null,
            "grid_column": null,
            "overflow_y": null,
            "overflow_x": null,
            "grid_auto_flow": null,
            "grid_area": null,
            "grid_template_columns": null,
            "flex": null,
            "_model_name": "LayoutModel",
            "justify_items": null,
            "grid_row": null,
            "max_height": null,
            "align_content": null,
            "visibility": null,
            "align_self": null,
            "height": null,
            "min_height": null,
            "padding": null,
            "grid_auto_rows": null,
            "grid_gap": null,
            "max_width": null,
            "order": null,
            "_view_module_version": "1.2.0",
            "grid_template_areas": null,
            "object_position": null,
            "object_fit": null,
            "grid_auto_columns": null,
            "margin": null,
            "display": null,
            "left": null
          }
        },
        "a4020c6a9fea453b93d28c4433c6428f": {
          "model_module": "@jupyter-widgets/controls",
          "model_name": "PlayModel",
          "model_module_version": "1.5.0",
          "state": {
            "_view_name": "PlayView",
            "style": "IPY_MODEL_93e3efe07f0142a692c8848607e8add8",
            "interval": 950,
            "_dom_classes": [],
            "description": "Press play",
            "_model_name": "PlayModel",
            "max": 15,
            "_view_module": "@jupyter-widgets/controls",
            "_model_module_version": "1.5.0",
            "value": 15,
            "_view_count": null,
            "disabled": false,
            "_repeat": false,
            "_view_module_version": "1.5.0",
            "show_repeat": true,
            "min": 0,
            "_playing": false,
            "step": 1,
            "description_tooltip": null,
            "_model_module": "@jupyter-widgets/controls",
            "layout": "IPY_MODEL_8f30b87044b7413891980688f9d48738"
          }
        },
        "de03fc86e3414946bc347a2b7e6947f0": {
          "model_module": "@jupyter-widgets/controls",
          "model_name": "ButtonModel",
          "model_module_version": "1.5.0",
          "state": {
            "_view_name": "ButtonView",
            "style": "IPY_MODEL_fca5e7141f9647c5a8ecdc45b48cd643",
            "_dom_classes": [],
            "description": "",
            "_model_name": "ButtonModel",
            "button_style": "",
            "_view_module": "@jupyter-widgets/controls",
            "_model_module_version": "1.5.0",
            "tooltip": "",
            "_view_count": null,
            "disabled": false,
            "_view_module_version": "1.5.0",
            "layout": "IPY_MODEL_e6144e00d0494979afb994d94d4a520b",
            "_model_module": "@jupyter-widgets/controls",
            "icon": "step-backward"
          }
        },
        "cccf8aa2294c40caacafc4a563dd02f4": {
          "model_module": "@jupyter-widgets/controls",
          "model_name": "ButtonModel",
          "model_module_version": "1.5.0",
          "state": {
            "_view_name": "ButtonView",
            "style": "IPY_MODEL_0468968ffaaf46a3ae48b60042da5887",
            "_dom_classes": [],
            "description": "",
            "_model_name": "ButtonModel",
            "button_style": "",
            "_view_module": "@jupyter-widgets/controls",
            "_model_module_version": "1.5.0",
            "tooltip": "",
            "_view_count": null,
            "disabled": true,
            "_view_module_version": "1.5.0",
            "layout": "IPY_MODEL_f3b332344fb14f26a4d3d9b8dae03720",
            "_model_module": "@jupyter-widgets/controls",
            "icon": "step-forward"
          }
        },
        "02bb8dc851b141bab9df6e1512be8b5f": {
          "model_module": "@jupyter-widgets/controls",
          "model_name": "IntSliderModel",
          "model_module_version": "1.5.0",
          "state": {
            "_view_name": "IntSliderView",
            "style": "IPY_MODEL_554635f306a2494a8e5b00c2e42bcb4b",
            "_dom_classes": [],
            "description": "Speed:",
            "step": 1,
            "_model_name": "IntSliderModel",
            "orientation": "horizontal",
            "max": 10,
            "_view_module": "@jupyter-widgets/controls",
            "_model_module_version": "1.5.0",
            "value": 1,
            "_view_count": null,
            "disabled": false,
            "_view_module_version": "1.5.0",
            "min": 1,
            "continuous_update": false,
            "readout_format": "d",
            "description_tooltip": null,
            "readout": true,
            "_model_module": "@jupyter-widgets/controls",
            "layout": "IPY_MODEL_46372ab5d8be4300ba0e10626538dbad"
          }
        },
        "9ee59c23b65b4e0dae16c3ce35c58b4a": {
          "model_module": "@jupyter-widgets/controls",
          "model_name": "DescriptionStyleModel",
          "model_module_version": "1.5.0",
          "state": {
            "_view_name": "StyleView",
            "_model_name": "DescriptionStyleModel",
            "description_width": "",
            "_view_module": "@jupyter-widgets/base",
            "_model_module_version": "1.5.0",
            "_view_count": null,
            "_view_module_version": "1.2.0",
            "_model_module": "@jupyter-widgets/controls"
          }
        },
        "ff37afa2854841a8ba33e2d8eb03e11c": {
          "model_module": "@jupyter-widgets/base",
          "model_name": "LayoutModel",
          "model_module_version": "1.2.0",
          "state": {
            "_view_name": "LayoutView",
            "grid_template_rows": null,
            "right": null,
            "justify_content": null,
            "_view_module": "@jupyter-widgets/base",
            "overflow": null,
            "_model_module_version": "1.2.0",
            "_view_count": null,
            "flex_flow": null,
            "width": "500px",
            "min_width": null,
            "border": null,
            "align_items": null,
            "bottom": null,
            "_model_module": "@jupyter-widgets/base",
            "top": null,
            "grid_column": null,
            "overflow_y": null,
            "overflow_x": null,
            "grid_auto_flow": null,
            "grid_area": null,
            "grid_template_columns": null,
            "flex": null,
            "_model_name": "LayoutModel",
            "justify_items": null,
            "grid_row": null,
            "max_height": null,
            "align_content": null,
            "visibility": null,
            "align_self": null,
            "height": null,
            "min_height": null,
            "padding": null,
            "grid_auto_rows": null,
            "grid_gap": null,
            "max_width": null,
            "order": null,
            "_view_module_version": "1.2.0",
            "grid_template_areas": null,
            "object_position": null,
            "object_fit": null,
            "grid_auto_columns": null,
            "margin": null,
            "display": null,
            "left": null
          }
        },
        "e149699ef9d14b5dabaa3bbbd0f17a3c": {
          "model_module": "@jupyter-widgets/controls",
          "model_name": "ButtonStyleModel",
          "model_module_version": "1.5.0",
          "state": {
            "_view_name": "StyleView",
            "_model_name": "ButtonStyleModel",
            "_view_module": "@jupyter-widgets/base",
            "_model_module_version": "1.5.0",
            "_view_count": null,
            "button_color": null,
            "font_weight": "",
            "_view_module_version": "1.2.0",
            "_model_module": "@jupyter-widgets/controls"
          }
        },
        "82373c6e508941d8b65323bb551d6e8f": {
          "model_module": "@jupyter-widgets/base",
          "model_name": "LayoutModel",
          "model_module_version": "1.2.0",
          "state": {
            "_view_name": "LayoutView",
            "grid_template_rows": null,
            "right": null,
            "justify_content": null,
            "_view_module": "@jupyter-widgets/base",
            "overflow": null,
            "_model_module_version": "1.2.0",
            "_view_count": null,
            "flex_flow": null,
            "width": null,
            "min_width": null,
            "border": null,
            "align_items": null,
            "bottom": null,
            "_model_module": "@jupyter-widgets/base",
            "top": null,
            "grid_column": null,
            "overflow_y": null,
            "overflow_x": null,
            "grid_auto_flow": null,
            "grid_area": null,
            "grid_template_columns": null,
            "flex": null,
            "_model_name": "LayoutModel",
            "justify_items": null,
            "grid_row": null,
            "max_height": null,
            "align_content": null,
            "visibility": null,
            "align_self": null,
            "height": null,
            "min_height": null,
            "padding": null,
            "grid_auto_rows": null,
            "grid_gap": null,
            "max_width": null,
            "order": null,
            "_view_module_version": "1.2.0",
            "grid_template_areas": null,
            "object_position": null,
            "object_fit": null,
            "grid_auto_columns": null,
            "margin": null,
            "display": null,
            "left": null
          }
        },
        "93e3efe07f0142a692c8848607e8add8": {
          "model_module": "@jupyter-widgets/controls",
          "model_name": "DescriptionStyleModel",
          "model_module_version": "1.5.0",
          "state": {
            "_view_name": "StyleView",
            "_model_name": "DescriptionStyleModel",
            "description_width": "",
            "_view_module": "@jupyter-widgets/base",
            "_model_module_version": "1.5.0",
            "_view_count": null,
            "_view_module_version": "1.2.0",
            "_model_module": "@jupyter-widgets/controls"
          }
        },
        "8f30b87044b7413891980688f9d48738": {
          "model_module": "@jupyter-widgets/base",
          "model_name": "LayoutModel",
          "model_module_version": "1.2.0",
          "state": {
            "_view_name": "LayoutView",
            "grid_template_rows": null,
            "right": null,
            "justify_content": null,
            "_view_module": "@jupyter-widgets/base",
            "overflow": null,
            "_model_module_version": "1.2.0",
            "_view_count": null,
            "flex_flow": null,
            "width": null,
            "min_width": null,
            "border": null,
            "align_items": null,
            "bottom": null,
            "_model_module": "@jupyter-widgets/base",
            "top": null,
            "grid_column": null,
            "overflow_y": null,
            "overflow_x": null,
            "grid_auto_flow": null,
            "grid_area": null,
            "grid_template_columns": null,
            "flex": null,
            "_model_name": "LayoutModel",
            "justify_items": null,
            "grid_row": null,
            "max_height": null,
            "align_content": null,
            "visibility": null,
            "align_self": null,
            "height": null,
            "min_height": null,
            "padding": null,
            "grid_auto_rows": null,
            "grid_gap": null,
            "max_width": null,
            "order": null,
            "_view_module_version": "1.2.0",
            "grid_template_areas": null,
            "object_position": null,
            "object_fit": null,
            "grid_auto_columns": null,
            "margin": null,
            "display": null,
            "left": null
          }
        },
        "fca5e7141f9647c5a8ecdc45b48cd643": {
          "model_module": "@jupyter-widgets/controls",
          "model_name": "ButtonStyleModel",
          "model_module_version": "1.5.0",
          "state": {
            "_view_name": "StyleView",
            "_model_name": "ButtonStyleModel",
            "_view_module": "@jupyter-widgets/base",
            "_model_module_version": "1.5.0",
            "_view_count": null,
            "button_color": null,
            "font_weight": "",
            "_view_module_version": "1.2.0",
            "_model_module": "@jupyter-widgets/controls"
          }
        },
        "e6144e00d0494979afb994d94d4a520b": {
          "model_module": "@jupyter-widgets/base",
          "model_name": "LayoutModel",
          "model_module_version": "1.2.0",
          "state": {
            "_view_name": "LayoutView",
            "grid_template_rows": null,
            "right": null,
            "justify_content": null,
            "_view_module": "@jupyter-widgets/base",
            "overflow": null,
            "_model_module_version": "1.2.0",
            "_view_count": null,
            "flex_flow": null,
            "width": "40px",
            "min_width": null,
            "border": null,
            "align_items": null,
            "bottom": null,
            "_model_module": "@jupyter-widgets/base",
            "top": null,
            "grid_column": null,
            "overflow_y": null,
            "overflow_x": null,
            "grid_auto_flow": null,
            "grid_area": null,
            "grid_template_columns": null,
            "flex": null,
            "_model_name": "LayoutModel",
            "justify_items": null,
            "grid_row": null,
            "max_height": null,
            "align_content": null,
            "visibility": null,
            "align_self": null,
            "height": null,
            "min_height": null,
            "padding": null,
            "grid_auto_rows": null,
            "grid_gap": null,
            "max_width": null,
            "order": null,
            "_view_module_version": "1.2.0",
            "grid_template_areas": null,
            "object_position": null,
            "object_fit": null,
            "grid_auto_columns": null,
            "margin": null,
            "display": null,
            "left": null
          }
        },
        "0468968ffaaf46a3ae48b60042da5887": {
          "model_module": "@jupyter-widgets/controls",
          "model_name": "ButtonStyleModel",
          "model_module_version": "1.5.0",
          "state": {
            "_view_name": "StyleView",
            "_model_name": "ButtonStyleModel",
            "_view_module": "@jupyter-widgets/base",
            "_model_module_version": "1.5.0",
            "_view_count": null,
            "button_color": null,
            "font_weight": "",
            "_view_module_version": "1.2.0",
            "_model_module": "@jupyter-widgets/controls"
          }
        },
        "f3b332344fb14f26a4d3d9b8dae03720": {
          "model_module": "@jupyter-widgets/base",
          "model_name": "LayoutModel",
          "model_module_version": "1.2.0",
          "state": {
            "_view_name": "LayoutView",
            "grid_template_rows": null,
            "right": null,
            "justify_content": null,
            "_view_module": "@jupyter-widgets/base",
            "overflow": null,
            "_model_module_version": "1.2.0",
            "_view_count": null,
            "flex_flow": null,
            "width": "40px",
            "min_width": null,
            "border": null,
            "align_items": null,
            "bottom": null,
            "_model_module": "@jupyter-widgets/base",
            "top": null,
            "grid_column": null,
            "overflow_y": null,
            "overflow_x": null,
            "grid_auto_flow": null,
            "grid_area": null,
            "grid_template_columns": null,
            "flex": null,
            "_model_name": "LayoutModel",
            "justify_items": null,
            "grid_row": null,
            "max_height": null,
            "align_content": null,
            "visibility": null,
            "align_self": null,
            "height": null,
            "min_height": null,
            "padding": null,
            "grid_auto_rows": null,
            "grid_gap": null,
            "max_width": null,
            "order": null,
            "_view_module_version": "1.2.0",
            "grid_template_areas": null,
            "object_position": null,
            "object_fit": null,
            "grid_auto_columns": null,
            "margin": null,
            "display": null,
            "left": null
          }
        },
        "554635f306a2494a8e5b00c2e42bcb4b": {
          "model_module": "@jupyter-widgets/controls",
          "model_name": "SliderStyleModel",
          "model_module_version": "1.5.0",
          "state": {
            "_view_name": "StyleView",
            "handle_color": null,
            "_model_name": "SliderStyleModel",
            "description_width": "",
            "_view_module": "@jupyter-widgets/base",
            "_model_module_version": "1.5.0",
            "_view_count": null,
            "_view_module_version": "1.2.0",
            "_model_module": "@jupyter-widgets/controls"
          }
        },
        "46372ab5d8be4300ba0e10626538dbad": {
          "model_module": "@jupyter-widgets/base",
          "model_name": "LayoutModel",
          "model_module_version": "1.2.0",
          "state": {
            "_view_name": "LayoutView",
            "grid_template_rows": null,
            "right": null,
            "justify_content": null,
            "_view_module": "@jupyter-widgets/base",
            "overflow": null,
            "_model_module_version": "1.2.0",
            "_view_count": null,
            "flex_flow": null,
            "width": null,
            "min_width": null,
            "border": null,
            "align_items": null,
            "bottom": null,
            "_model_module": "@jupyter-widgets/base",
            "top": null,
            "grid_column": null,
            "overflow_y": null,
            "overflow_x": null,
            "grid_auto_flow": null,
            "grid_area": null,
            "grid_template_columns": null,
            "flex": null,
            "_model_name": "LayoutModel",
            "justify_items": null,
            "grid_row": null,
            "max_height": null,
            "align_content": null,
            "visibility": null,
            "align_self": null,
            "height": null,
            "min_height": null,
            "padding": null,
            "grid_auto_rows": null,
            "grid_gap": null,
            "max_width": null,
            "order": null,
            "_view_module_version": "1.2.0",
            "grid_template_areas": null,
            "object_position": null,
            "object_fit": null,
            "grid_auto_columns": null,
            "margin": null,
            "display": null,
            "left": null
          }
        },
        "cfc3732a6cc04966b9560a6e3a5af423": {
          "model_module": "@jupyter-widgets/base",
          "model_name": "LayoutModel",
          "model_module_version": "1.2.0",
          "state": {
            "_view_name": "LayoutView",
            "grid_template_rows": null,
            "right": null,
            "justify_content": null,
            "_view_module": "@jupyter-widgets/base",
            "overflow": null,
            "_model_module_version": "1.2.0",
            "_view_count": null,
            "flex_flow": null,
            "width": null,
            "min_width": null,
            "border": null,
            "align_items": null,
            "bottom": null,
            "_model_module": "@jupyter-widgets/base",
            "top": null,
            "grid_column": null,
            "overflow_y": null,
            "overflow_x": null,
            "grid_auto_flow": null,
            "grid_area": null,
            "grid_template_columns": null,
            "flex": null,
            "_model_name": "LayoutModel",
            "justify_items": null,
            "grid_row": null,
            "max_height": null,
            "align_content": null,
            "visibility": null,
            "align_self": null,
            "height": null,
            "min_height": null,
            "padding": null,
            "grid_auto_rows": null,
            "grid_gap": null,
            "max_width": null,
            "order": null,
            "_view_module_version": "1.2.0",
            "grid_template_areas": null,
            "object_position": null,
            "object_fit": null,
            "grid_auto_columns": null,
            "margin": null,
            "display": null,
            "left": null
          }
        },
        "72ed7e04238e4d41b1d07fb7f5aba670": {
          "model_module": "@jupyter-widgets/base",
          "model_name": "LayoutModel",
          "model_module_version": "1.2.0",
          "state": {
            "_view_name": "LayoutView",
            "grid_template_rows": null,
            "right": null,
            "justify_content": null,
            "_view_module": "@jupyter-widgets/base",
            "overflow": null,
            "_model_module_version": "1.2.0",
            "_view_count": null,
            "flex_flow": null,
            "width": null,
            "min_width": null,
            "border": null,
            "align_items": null,
            "bottom": null,
            "_model_module": "@jupyter-widgets/base",
            "top": null,
            "grid_column": null,
            "overflow_y": null,
            "overflow_x": null,
            "grid_auto_flow": null,
            "grid_area": null,
            "grid_template_columns": null,
            "flex": null,
            "_model_name": "LayoutModel",
            "justify_items": null,
            "grid_row": null,
            "max_height": null,
            "align_content": null,
            "visibility": null,
            "align_self": null,
            "height": null,
            "min_height": null,
            "padding": null,
            "grid_auto_rows": null,
            "grid_gap": null,
            "max_width": null,
            "order": null,
            "_view_module_version": "1.2.0",
            "grid_template_areas": null,
            "object_position": null,
            "object_fit": null,
            "grid_auto_columns": null,
            "margin": null,
            "display": null,
            "left": null
          }
        }
      }
    }
  },
  "cells": [
    {
      "cell_type": "code",
      "metadata": {
        "id": "Ujn4sivPchF4",
        "run_control": {
          "frozen": false,
          "read_only": false
        },
        "colab": {
          "base_uri": "https://localhost:8080/",
          "height": 321
        },
        "outputId": "208cfb7e-62db-4a52-a4a8-a1c9f87b4d90"
      },
      "source": [
        "# This is a potentially helpful video from long ago... watch it if you've not, before.\n",
        "from IPython.display import YouTubeVideo\n",
        "YouTubeVideo('xjFtLF95uBc')"
      ],
      "execution_count": 1,
      "outputs": [
        {
          "output_type": "execute_result",
          "data": {
            "text/html": [
              "\n",
              "        <iframe\n",
              "            width=\"400\"\n",
              "            height=\"300\"\n",
              "            src=\"https://www.youtube.com/embed/xjFtLF95uBc\"\n",
              "            frameborder=\"0\"\n",
              "            allowfullscreen\n",
              "        ></iframe>\n",
              "        "
            ],
            "text/plain": [
              "<IPython.lib.display.YouTubeVideo at 0x7f92f770dc50>"
            ],
            "image/jpeg": "[encoded data removed]"
          },
          "metadata": {},
          "execution_count": 1
        }
      ]
    },
    {
      "cell_type": "code",
      "metadata": {
        "id": "2l3T1b5echF5",
        "run_control": {
          "frozen": false,
          "read_only": false
        },
        "scrolled": true,
        "colab": {
          "base_uri": "https://localhost:8080/"
        },
        "outputId": "b75b6e45-c382-4dbb-9f5a-491fd9672cc2"
      },
      "source": [
        "#~~~~~~~~~~~~~~~~~~~~~~~~~~~~~~~~~~~~~~~~~~~~~~~~~~~~~~~\n",
        "import sys\n",
        "\n",
        "# -- Detect if in Own Install or in Colab\n",
        "try:\n",
        "    import google.colab\n",
        "    OWN_INSTALL = False\n",
        "except:\n",
        "    OWN_INSTALL = True\n",
        "    \n",
        "if OWN_INSTALL:\n",
        "    \n",
        "  #---- Leave these definitions ON if running on laptop\n",
        "  #---- Else turn OFF by putting them between ''' ... '''\n",
        "\n",
        "  sys.path[0:0] = ['../../../../..',  '../../../../../3rdparty',  \n",
        "                   '../../../..',  '../../../../3rdparty',  \n",
        "                   '../../..',     '../../../3rdparty', \n",
        "                   '../..',        '../../3rdparty',\n",
        "                   '..',           '../3rdparty' ]\n",
        "\n",
        "else: # In colab\n",
        "  ! if [ ! -d Jove ]; then git clone https://github.com/ganeshutah/Jove Jove; fi\n",
        "  sys.path.append('./Jove')\n",
        "  sys.path.append('./Jove/jove')\n",
        "\n",
        "# -- common imports --\n",
        "from jove.DotBashers import *\n",
        "from jove.Def_md2mc  import *\n",
        "from jove.Def_NFA    import *\n",
        "from jove.Def_DFA    import *\n",
        "from jove.AnimateNFA import *\n",
        "#~~~~~~~~~~~~~~~~~~~~~~~~~~~~~~~~~~~~~~~~~~~~~~~~~~~~~~~"
      ],
      "execution_count": 2,
      "outputs": [
        {
          "output_type": "stream",
          "name": "stdout",
          "text": [
            "Cloning into 'Jove'...\n",
            "remote: Enumerating objects: 4863, done.\u001b[K\n",
            "remote: Counting objects: 100% (229/229), done.\u001b[K\n",
            "remote: Compressing objects: 100% (159/159), done.\u001b[K\n",
            "remote: Total 4863 (delta 137), reused 151 (delta 65), pack-reused 4634\u001b[K\n",
            "Receiving objects: 100% (4863/4863), 7.55 MiB | 25.44 MiB/s, done.\n",
            "Resolving deltas: 100% (3142/3142), done.\n",
            "You may use any of these help commands:\n",
            "help(ResetStNum)\n",
            "help(NxtStateStr)\n",
            "\n",
            "You may use any of these help commands:\n",
            "help(md2mc)\n",
            ".. and if you want to dig more, then ..\n",
            "help(default_line_attr)\n",
            "help(length_ok_input_items)\n",
            "help(union_line_attr_list_fld)\n",
            "help(extend_rsltdict)\n",
            "help(form_delta)\n",
            "help(get_machine_components)\n",
            "\n",
            "You may use any of these help commands:\n",
            "help(mkp_dfa)\n",
            "help(mk_dfa)\n",
            "help(totalize_dfa)\n",
            "help(addtosigma_delta)\n",
            "help(step_dfa)\n",
            "help(run_dfa)\n",
            "help(accepts_dfa)\n",
            "help(comp_dfa)\n",
            "help(union_dfa)\n",
            "help(intersect_dfa)\n",
            "help(pruneUnreach)\n",
            "help(iso_dfa)\n",
            "help(langeq_dfa)\n",
            "help(same_status)\n",
            "help(h_langeq_dfa)\n",
            "help(fixptDist)\n",
            "help(min_dfa)\n",
            "help(pairFR)\n",
            "help(state_combos)\n",
            "help(sepFinNonFin)\n",
            "help(bash_eql_classes)\n",
            "help(listminus)\n",
            "help(bash_1)\n",
            "help(mk_rep_eqc)\n",
            "help(F_of)\n",
            "help(rep_of_s)\n",
            "help(q0_of)\n",
            "help(Delta_of)\n",
            "help(mk_state_eqc_name)\n",
            "\n",
            "You may use any of these help commands:\n",
            "help(mk_nfa)\n",
            "help(totalize_nfa)\n",
            "help(step_nfa)\n",
            "help(run_nfa)\n",
            "help(ec_step_nfa)\n",
            "help(Eclosure)\n",
            "help(Echelp)\n",
            "help(accepts_nfa)\n",
            "help(nfa2dfa)\n",
            "help(n2d)\n",
            "help(inSets)\n",
            "help(rev_dfa)\n",
            "help(min_dfa_brz)\n",
            "\n",
            " \"help(AnimateNFA)\" gives you info on how to use animations with NFA \n"
          ]
        }
      ]
    },
    {
      "cell_type": "markdown",
      "metadata": {
        "id": "rDIagEWm0Meu"
      },
      "source": [
        "## Question 1:"
      ]
    },
    {
      "cell_type": "markdown",
      "metadata": {
        "id": "mRGsAaKo1Moh"
      },
      "source": [
        "### Part a:\n",
        "\n",
        "* Design an NFA for $\\{0,1\\}^* \\{1\\} \\{0\\}$. In other words, this NFA accepts strings that end in 10.\n",
        "\n",
        "* Document sufficiently to reveal the design (a comment per key line)\n",
        "\n",
        "*  Here are the required state names:\n",
        "\n",
        "    - If the initial state is also a final state, then its name must be IF, else it must be I\n",
        "\n",
        "    - After consuming a 0 or a 1, end up in state S0 or S1 (if not already accepting); else transition to F0 or F1 as appropriate\n",
        "\n",
        "    - Continue this way: that is S1 goes to S10 if non-accepting; else to F10"
      ]
    },
    {
      "cell_type": "code",
      "metadata": {
        "id": "c-uWXGDR114l"
      },
      "source": [
        "nfaEnds10 = md2mc('''\n",
        "NFA \n",
        " \n",
        "!! Repeat if it's a 0 or 1 and continue if it sees a 1\n",
        "I  : 0 -> I\n",
        "I  : 1 -> I, S1\n",
        "!! Only go to a final state if it takes a 0\n",
        "S1 : 0 -> F10\n",
        " \n",
        "''')"
      ],
      "execution_count": 4,
      "outputs": []
    },
    {
      "cell_type": "markdown",
      "metadata": {
        "id": "lIhbmcxO15Pl"
      },
      "source": [
        "### Part b: \n",
        "- Put the above NFA in animation, and note down the set of states attained\n",
        "after the DFA has seen every character in 10010. More detailed instructions follow."
      ]
    },
    {
      "cell_type": "markdown",
      "metadata": {
        "id": "Y-i834WN2IlU"
      },
      "source": [
        "#### Execute the cell below and follow the bulleted instructions\n",
        "\n",
        "- When the animation pane comes up, type in 10010 and click Animate\n",
        "\n",
        "- Then click the \">|\" button, which is for single-stepping\n",
        "\n",
        "- Note down the results as you single-step, and fill answers in 1b(ii) below"
      ]
    },
    {
      "cell_type": "code",
      "metadata": {
        "id": "HQvAtNLbchF7",
        "scrolled": false,
        "colab": {
          "base_uri": "https://localhost:8080/",
          "height": 314,
          "referenced_widgets": [
            "00cf30e0f6ce40dea29859d6b6e4e420",
            "53e1d74690ec4fbdbcd4e7cd8d8f4be6",
            "43981eb10a3e4ce6a0bdf08a9adc037f",
            "78a6c7e3dda44a32b0db083517af4b62",
            "86740518dc054edab1fddbbd923cb94d",
            "788f11fa010c4f398bb9976e894f2ad5",
            "ecbc3c5cf14d4cf688099b9a5fb33ae3",
            "f4009c0e937246a6a2fbd346b807d2f3",
            "6f029fa8b88349f989c4ec5891ad9f99",
            "2679bba647614341aa9ce8acf513c6c3",
            "a4020c6a9fea453b93d28c4433c6428f",
            "de03fc86e3414946bc347a2b7e6947f0",
            "cccf8aa2294c40caacafc4a563dd02f4",
            "02bb8dc851b141bab9df6e1512be8b5f",
            "9ee59c23b65b4e0dae16c3ce35c58b4a",
            "ff37afa2854841a8ba33e2d8eb03e11c",
            "e149699ef9d14b5dabaa3bbbd0f17a3c",
            "82373c6e508941d8b65323bb551d6e8f",
            "93e3efe07f0142a692c8848607e8add8",
            "8f30b87044b7413891980688f9d48738",
            "fca5e7141f9647c5a8ecdc45b48cd643",
            "e6144e00d0494979afb994d94d4a520b",
            "0468968ffaaf46a3ae48b60042da5887",
            "f3b332344fb14f26a4d3d9b8dae03720",
            "554635f306a2494a8e5b00c2e42bcb4b",
            "46372ab5d8be4300ba0e10626538dbad",
            "cfc3732a6cc04966b9560a6e3a5af423",
            "72ed7e04238e4d41b1d07fb7f5aba670"
          ]
        },
        "outputId": "6ff31ea9-9107-4d7c-c343-f9bee6c5abb2"
      },
      "source": [
        "AnimateNFA(nfaEnds10, FuseEdges=False)\n",
        "display(HTML('<link rel=\\\"stylesheet\\\" href=\\\"//stackpath.bootstrapcdn.com/font-awesome/4.7.0/css/font-awesome.min.css\\\"/>'))"
      ],
      "execution_count": 5,
      "outputs": [
        {
          "output_type": "display_data",
          "data": {
            "application/vnd.jupyter.widget-view+json": {
              "model_id": "00cf30e0f6ce40dea29859d6b6e4e420",
              "version_minor": 0,
              "version_major": 2
            },
            "text/plain": [
              "VBox(children=(HBox(children=(Text(value='', description='Input:', layout=Layout(width='500px'), placeholder='…"
            ]
          },
          "metadata": {}
        },
        {
          "output_type": "display_data",
          "data": {
            "text/html": [
              "<link rel=\"stylesheet\" href=\"//stackpath.bootstrapcdn.com/font-awesome/4.7.0/css/font-awesome.min.css\"/>"
            ],
            "text/plain": [
              "<IPython.core.display.HTML object>"
            ]
          },
          "metadata": {}
        }
      ]
    },
    {
      "cell_type": "markdown",
      "metadata": {
        "id": "50pO9HiP2PQq"
      },
      "source": [
        "#### Provide these answers based on single-stepping the animation (please provide it as a SET OF STATES - else we won't give you any points). "
      ]
    },
    {
      "cell_type": "markdown",
      "metadata": {
        "id": "3_dSVGMochF7"
      },
      "source": [
        "#### Choose one of these 3 options for the multiple choice part:\n",
        "##### (a) A token dropped out of the diagram (with the move on a symbol being undefined)\n",
        "##### (b) The NFA reached a final state\n",
        "##### (c) Neither \n",
        "\n",
        "### Question 1: What is the set of states before consuming any of 10010? \n",
        "##### The set of state is:  { I }\n",
        "##### Multiple choice answer: (c)\n",
        "\n",
        "### Question 2: What is the set of states AFTER consuming \"1\" and before consuming \"0010\"?\n",
        "\n",
        "### What do we mean by \"AFTER consuming '1' \" ??\n",
        "\n",
        "### There are three phases to consuming a '1' in the animation window and we will explain it now:\n",
        "\n",
        "#### 1) See that the animation has a window with 3 cells\n",
        "#### 2) When you administer the first click on the step forward or >| button,  '1' moves into the middle window. It is like a '1' in the \"mouth of the NFA\"\n",
        "#### 3) One click later , the '1' goes into the left cell and there is a \"\" in the middle, imagine that the NFA has 'chewed' the '1' and is about to \"swallow it\"\n",
        "#### 4) When the \"\" in the middle cells is also gone and the middle cell is blank, the NFA has swallowed what it was chewing, and it is traveling toward its stomach. That is when it is in a \"after consuming a 1\" state. \n",
        "\n",
        "##### The set of state is:   { I, S1 }\n",
        "##### Multiple choice answer:  (c)\n",
        "\n",
        "### Question 3: What is the set of states AFTER consuming \"10\" and before consuming \"010\"?\n",
        "##### The set of state is:  { I, F10 }\n",
        "##### Multiple choice answer: (b)\n",
        "\n",
        "### Question 4: What is the set of states AFTER consuming \"100\" and before consuming \"10\"?\n",
        "##### The set of state is:  { I }\n",
        "##### Multiple choice answer: (a)\n",
        "\n",
        "### Question 5: What is the set of states AFTER consuming \"1001\" and before consuming \"0\"?\n",
        "##### The set of state is:  { I, S1 }\n",
        "##### Multiple choice answer: (c)\n",
        "\n",
        "### Question 6: What is the set of states AFTER consuming \"10010\" entirely?\n",
        "##### The set of state is:  { I, F10 }\n",
        "##### Multiple choice answer: (b)"
      ]
    },
    {
      "cell_type": "markdown",
      "metadata": {
        "id": "7ATMvVKt4Fhk"
      },
      "source": [
        "### Part c:"
      ]
    },
    {
      "cell_type": "markdown",
      "metadata": {
        "id": "cu9d8SUa4K0j"
      },
      "source": [
        "Convert the NFA to a DFA and answer the questions below"
      ]
    },
    {
      "cell_type": "code",
      "metadata": {
        "id": "frrMz34NchF8"
      },
      "source": [
        "#Run this cell to convert the NFA to a DFA\n",
        "dotObj_dfa(nfa2dfa(nfaEnds10, STATENAME_MAXSIZE=50), STATENAME_MAXSIZE=50)"
      ],
      "execution_count": null,
      "outputs": []
    },
    {
      "cell_type": "markdown",
      "metadata": {
        "id": "GlYfeJCcchF8"
      },
      "source": [
        "#### Question 1: What is the state the DFA is in after 10010?\n",
        "##### Answer: .... provide answer here ...\n",
        "\n",
        "### Question-2: What is the set of states NFA is in after 10010? Express as a set of states of the NFA.\n",
        "\n",
        "##### Answer:  { ... }\n",
        "\n",
        "### Question 3: Do the above match, in the sense that the set of states that the NFA finds itself, when converted to a DFA state by inserting the underscores (\"_\") matches the DFA state?\n",
        "\n",
        "##### Answer:  ... answer ... \n",
        "\n",
        "### Question 4: Provide the reason why they do/don't match:\n",
        "\n",
        "##### Answer:  ... refer to the subset construction algorithm in your answer ... "
      ]
    },
    {
      "cell_type": "markdown",
      "metadata": {
        "id": "UxSTniCF4sqA"
      },
      "source": [
        "## Question 2:"
      ]
    },
    {
      "cell_type": "markdown",
      "metadata": {
        "id": "9JAr5AXkchF9"
      },
      "source": [
        "### A tutorial on Concatenating NFA\n",
        "Please watch this video:\n",
        "\n",
        "To watch the video separately in Youtube in large size, \n",
        "visit https://youtu.be/VWyOT1uYfIc\n",
        "\n",
        "Otherwise just run the command below!"
      ]
    },
    {
      "cell_type": "code",
      "metadata": {
        "id": "XYrXR8ODchF9"
      },
      "source": [
        "# NFA Concatenation\n",
        "from IPython.display import YouTubeVideo\n",
        "YouTubeVideo('VWyOT1uYfIc')"
      ],
      "execution_count": null,
      "outputs": []
    },
    {
      "cell_type": "markdown",
      "metadata": {
        "id": "qPA-9aSZ4wyx"
      },
      "source": [
        "### Part a:\n",
        "- Design an NFA for $\\{\\varepsilon, 0\\}$ \n",
        "- It will be a 2-state NFA with an IF state and a final state (call that final state \"F2\" )"
      ]
    },
    {
      "cell_type": "code",
      "metadata": {
        "id": "AYEMTDbachF9"
      },
      "source": [
        "nfaEps0 = md2mc('''\n",
        "NFA \n",
        " \n",
        "!! -- Define your NFA below --\n",
        "\n",
        "''')"
      ],
      "execution_count": null,
      "outputs": []
    },
    {
      "cell_type": "code",
      "metadata": {
        "id": "f7Je9_I9chF9"
      },
      "source": [
        "dotObj_nfa(nfaEps0)"
      ],
      "execution_count": null,
      "outputs": []
    },
    {
      "cell_type": "markdown",
      "metadata": {
        "id": "Z7LgHlIBf44z"
      },
      "source": [
        "### Part b: "
      ]
    },
    {
      "cell_type": "markdown",
      "metadata": {
        "id": "PCE53giWchF-"
      },
      "source": [
        "* Concatenate nfaEnds10 and nfaEps0 to obtain nfaEnds10Eps0. \n",
        "\n",
        "* Here is how the concatenation must be documented in the space below:\n",
        "\n",
        "* Put the transitions that came from \"nfaEnds10\" in the designated vacant space below. Make suitable state-name changes as described below.\n",
        "\n",
        "* Put the right number of epsilon-labeled Bridge Transitions connecting the final states of the first NFA (which would no longer be final) with the initial states of the second NFA (which would no longer be initial). \n",
        "\n",
        "* Put the transitions that came from nfaEps0 after that\n",
        "\n",
        "* Given that the first NFA potentially \"lost\" some final states while the second NFA \"lost\" some initial states, make suitable state name changes\n",
        "\n",
        "  - E.g. an Fx state may become an Sx state, for some 'x'\n",
        "  \n",
        "  - E.g. an IFy state may become an Fy state, for some 'y'\n"
      ]
    },
    {
      "cell_type": "markdown",
      "metadata": {
        "id": "woXQFm4TchF-"
      },
      "source": [
        "### Part c: \n",
        "- Define the concatenation NFA below.\n"
      ]
    },
    {
      "cell_type": "code",
      "metadata": {
        "id": "BZzwB3GtchF-",
        "run_control": {
          "frozen": false,
          "read_only": false
        }
      },
      "source": [
        "# Here is the resulting NFA\n",
        "\n",
        "nfaEnds10Eps0 = md2mc('''\n",
        "NFA  \n",
        "\n",
        "!! == nfaEnds10 transitions below, with suitable modifications ==\n",
        "\n",
        " \n",
        " \n",
        " !! -- Document the transition changes in the above list as follows, within comments --\n",
        " \n",
        " !! The original transition was ...\n",
        " !! This was changed to ... because some states are/are not   final / non-final  ...\n",
        " \n",
        "   \n",
        " \n",
        " !! == Bridge takes to the initial state of the second NFA is below ==\n",
        " \n",
        " \n",
        " !! The initial state of the second NFA was ...\n",
        " !! We change it suitably as follows ...\n",
        " \n",
        " \n",
        " !! == nfaEps0 transitions below, with suitable modifications ==\n",
        " \n",
        " \n",
        " \n",
        "''')"
      ],
      "execution_count": null,
      "outputs": []
    },
    {
      "cell_type": "markdown",
      "metadata": {
        "id": "_REraVK1chF_"
      },
      "source": [
        "### Part d: \n",
        "- Draw the concat NFA and convert to a DFA\n",
        "- Run the THREE commands below, and then move on to answer problem 3 \n",
        "based on the results you observe from these commands\n"
      ]
    },
    {
      "cell_type": "code",
      "metadata": {
        "id": "CiAqoF-TchF_"
      },
      "source": [
        "# command-1\n",
        "dotObj_nfa(nfaEnds10Eps0)"
      ],
      "execution_count": null,
      "outputs": []
    },
    {
      "cell_type": "code",
      "metadata": {
        "id": "FnaBzZn6chGA"
      },
      "source": [
        "# command-2\n",
        "\n",
        "dotObj_dfa(nfa2dfa(nfaEnds10Eps0, STATENAME_MAXSIZE=50), STATENAME_MAXSIZE=50)"
      ],
      "execution_count": null,
      "outputs": []
    },
    {
      "cell_type": "code",
      "metadata": {
        "id": "hazGkpuVchGA",
        "run_control": {
          "frozen": false,
          "read_only": false
        }
      },
      "source": [
        "# Let us see its internal representation -- this may give you hints for answering your question\n",
        "\n",
        "# \n",
        "\n",
        "nfaEnds10Eps0"
      ],
      "execution_count": null,
      "outputs": []
    },
    {
      "cell_type": "markdown",
      "metadata": {
        "id": "iUK68D5b6GH6"
      },
      "source": [
        "## Question 3:"
      ]
    },
    {
      "cell_type": "markdown",
      "metadata": {
        "id": "N7Cf9KQW6Jyz"
      },
      "source": [
        "- After converting the NFA nfaEnds10Eps0 to a DFA, we see new states and new state transitions. Explain the NFA2DFA algorithm by explaining the reason of the appearance of every state and their state transition.\n",
        "- For example: \n",
        "  - Explains why state X shows up after converting the NFA to DFA.\n",
        "  - Explain the state transition of state X to its neighbor states.\n",
        "  \n",
        "Here is a likely explanation (a few examples shown)\n",
        "\n",
        "\n",
        "* State ... in the DFA came from the NFA state ... after e-closure of the set of states .... This Eclosure results in ... . And state ... goes back to itself after a ...\n",
        "\n",
        "* Use suitable variants of this style of explaining each of the DFA transitions.\n",
        "\n",
        "* Use as many bullets as needed\n",
        "\n",
        "* === YOUR ANSWER BELOW ===\n",
        "\n",
        "*  "
      ]
    },
    {
      "cell_type": "markdown",
      "metadata": {
        "id": "u0KM6o1c7HzY"
      },
      "source": [
        "## Question 4:"
      ]
    },
    {
      "cell_type": "markdown",
      "metadata": {
        "id": "SJM1F3gt7Wta"
      },
      "source": [
        "### Brzozowski's minimization"
      ]
    },
    {
      "cell_type": "markdown",
      "metadata": {
        "id": "OZbe3pcr7ZqX"
      },
      "source": [
        "A DFA can be minimized simply by following the steps below (also refers to section 7.7). In this problem, you will practice those steps on an initial bloated DFA given to you.\n",
        "\n",
        "The steps are these:\n",
        "\n",
        "1. Reverse the given DFA, say DFA_bloated, to obtain an NFA called NFA1 (use the rev_dfa function)\n",
        "\n",
        "2. Determinize NFA1 to obtain a DFA called DFA2\n",
        "\n",
        "3. Reverse DFA2 to obtain another NFA, say NFA2\n",
        "\n",
        "4. Determinize NFA2 to obtain the final minimized DFA, say DFA_min\n",
        "\n",
        "Given a DFA_bloated below:"
      ]
    },
    {
      "cell_type": "code",
      "metadata": {
        "id": "aL6wOndVchGB"
      },
      "source": [
        "\n",
        "DFA_bloated = md2mc('''\n",
        "\n",
        "DFA\n",
        "\n",
        "IS1: a -> Temp\n",
        "IS1: b -> FS3\n",
        "\n",
        "Temp: a -> FS2\n",
        "Temp: b -> FS3\n",
        "\n",
        "FS2: a -> S4\n",
        "FS2: b -> S5\n",
        "\n",
        "FS3: a -> S5\n",
        "FS3: b -> S4\n",
        "\n",
        "S4: a|b -> FS6\n",
        "S5: a|b -> FS6\n",
        "\n",
        "FS6: a|b -> FS6\n",
        "\n",
        "''')"
      ],
      "execution_count": null,
      "outputs": []
    },
    {
      "cell_type": "code",
      "metadata": {
        "id": "1SJCJTkzchGC"
      },
      "source": [
        "dotObj_dfa(DFA_bloated)"
      ],
      "execution_count": null,
      "outputs": []
    },
    {
      "cell_type": "markdown",
      "metadata": {
        "id": "KC3OV6sbchGD"
      },
      "source": [
        "### Part a: Reverse the above DFA"
      ]
    },
    {
      "cell_type": "code",
      "metadata": {
        "id": "mErYqdkGchGD"
      },
      "source": [
        "help(rev_dfa)"
      ],
      "execution_count": null,
      "outputs": []
    },
    {
      "cell_type": "code",
      "metadata": {
        "id": "PRTxx_3rchGE"
      },
      "source": [
        "# Reverse DFA_bloated here\n",
        "NFA1 =  \"... OBTAIN THE REVERSE OF DFA_bloated by running the rev_dfa command... \"\n",
        "\n",
        " "
      ],
      "execution_count": null,
      "outputs": []
    },
    {
      "cell_type": "code",
      "metadata": {
        "id": "TFIZ9qDmchGE"
      },
      "source": [
        "dotObj_nfa(NFA1)"
      ],
      "execution_count": null,
      "outputs": []
    },
    {
      "cell_type": "markdown",
      "metadata": {
        "id": "i3z_4SNxfyYm"
      },
      "source": [
        "### Part b: Check that NFA1 is indeed the reverse of DFA_bloated"
      ]
    },
    {
      "cell_type": "markdown",
      "metadata": {
        "id": "wMFFSS0UchGE"
      },
      "source": [
        "Note: \"aabba\" is in DFA_bloated's language but its reversal (i.e. \"abbaa\") is in NFA1's language\n",
        "\n",
        "#### Which path does abbaa take in being accepted by NFA1 ?\n",
        "\n",
        "\n",
        "* == YOUR ANSWER BELOW ==\n",
        "\n",
        "* Starting from State { ... }\n",
        "\n",
        "* The next state after 'a' is { ... }\n",
        "\n",
        "* The next state after 'b' is { ... }\n",
        "\n",
        "* The next state after 'b' is { ... }\n",
        "\n",
        "* The next state after 'a' is { ... }\n",
        "\n",
        "* The next state after 'a' is ...  { ... }  -- which is a final state, because it contains a \"double-circled state\". It is possible that this state name does not begin with \"F\" because since we reversed the initial DFA, some \"I\" states would now be a final state. This is OK.\n",
        "\n"
      ]
    },
    {
      "cell_type": "markdown",
      "metadata": {
        "id": "OJ7YfwVdchGE"
      },
      "source": [
        "### Part c: Determinize NFA1 to obtain DFA2"
      ]
    },
    {
      "cell_type": "code",
      "metadata": {
        "id": "S9NCKwaQchGE"
      },
      "source": [
        "help(nfa2dfa)"
      ],
      "execution_count": null,
      "outputs": []
    },
    {
      "cell_type": "code",
      "metadata": {
        "id": "rsAlpHIKchGF"
      },
      "source": [
        "DFA2 = \"...DETERMINIZE NFA1 to obtain DFA2 ...\"\n",
        " "
      ],
      "execution_count": null,
      "outputs": []
    },
    {
      "cell_type": "code",
      "metadata": {
        "id": "OVQHj1W_chGF"
      },
      "source": [
        "dotObj_dfa(DFA2)"
      ],
      "execution_count": null,
      "outputs": []
    },
    {
      "cell_type": "markdown",
      "metadata": {
        "id": "hTEvZTXochGF"
      },
      "source": [
        "### Part d: Reverse DFA2 to obtain NFA3"
      ]
    },
    {
      "cell_type": "code",
      "metadata": {
        "id": "oG3pT6fGchGF"
      },
      "source": [
        "NFA3 = \"... REVERSE DFA2 to obtain NFA3 ...\"\n",
        " "
      ],
      "execution_count": null,
      "outputs": []
    },
    {
      "cell_type": "code",
      "metadata": {
        "id": "rnFeP4-_chGF"
      },
      "source": [
        "dotObj_nfa(NFA3)"
      ],
      "execution_count": null,
      "outputs": []
    },
    {
      "cell_type": "markdown",
      "metadata": {
        "id": "tFF5zbF7chGG"
      },
      "source": [
        "### Part e:  Determinize NFA3 to obtain DFA_min\n"
      ]
    },
    {
      "cell_type": "code",
      "metadata": {
        "id": "iDt8h9M4chGG"
      },
      "source": [
        "DFA_min = \"... DETERMINIZE NFA3 via the nfa2dfa command to obtain the desired min DFA....\"\n",
        " "
      ],
      "execution_count": null,
      "outputs": []
    },
    {
      "cell_type": "code",
      "metadata": {
        "id": "c-h5kF2RchGK"
      },
      "source": [
        "dotObj_dfa(DFA_min)"
      ],
      "execution_count": null,
      "outputs": []
    },
    {
      "cell_type": "markdown",
      "metadata": {
        "id": "peMOcRZSchGK"
      },
      "source": [
        "### Part f: Check that DFA_min and DFA_bloated have the same language but are not isomorphic"
      ]
    },
    {
      "cell_type": "code",
      "metadata": {
        "id": "e1emRps2chGK"
      },
      "source": [
        "help(langeq_dfa)"
      ],
      "execution_count": null,
      "outputs": []
    },
    {
      "cell_type": "code",
      "metadata": {
        "id": "EAZGEUEQchGK"
      },
      "source": [
        "help(iso_dfa)"
      ],
      "execution_count": null,
      "outputs": []
    },
    {
      "cell_type": "code",
      "metadata": {
        "id": "vgV0OicpchGL"
      },
      "source": [
        "...SHOW THAT DFA_bloated and DFA_min HAVE THE SAME LANGUAGE by using langeq_dfa function ..."
      ],
      "execution_count": null,
      "outputs": []
    },
    {
      "cell_type": "code",
      "metadata": {
        "id": "Alk9z_sVchGL"
      },
      "source": [
        "...SHOW THAT DFA_bloated and DFA_min are NOT isomorphic by using iso_dfa function ..."
      ],
      "execution_count": null,
      "outputs": []
    },
    {
      "cell_type": "code",
      "metadata": {
        "id": "nflMG9HachGL"
      },
      "source": [
        "DFA_min_alt = min_dfa(DFA_bloated)"
      ],
      "execution_count": null,
      "outputs": []
    },
    {
      "cell_type": "code",
      "metadata": {
        "id": "3aeA1kqVchGL"
      },
      "source": [
        "dotObj_dfa(DFA_min)"
      ],
      "execution_count": null,
      "outputs": []
    },
    {
      "cell_type": "code",
      "metadata": {
        "id": "IkggfEAPchGL"
      },
      "source": [
        "dotObj_dfa(DFA_min_alt)"
      ],
      "execution_count": null,
      "outputs": []
    },
    {
      "cell_type": "code",
      "metadata": {
        "id": "CltElnv7chGM"
      },
      "source": [
        "help(iso_dfa)"
      ],
      "execution_count": null,
      "outputs": []
    },
    {
      "cell_type": "code",
      "metadata": {
        "id": "w6__tQVBchGM"
      },
      "source": [
        "\"...SHOW THAT DFA_min and DFA_min_alt are isomorphic by using iso_dfa function...\"\n",
        "\n",
        "... invoke the iso_dfa call here ...\n"
      ],
      "execution_count": null,
      "outputs": []
    },
    {
      "cell_type": "markdown",
      "metadata": {
        "id": "ZQFEYyjachGM"
      },
      "source": [
        "### Here are some notes to understand Brzozowski's method\n",
        "\n",
        "* If you are given a DFA \"D1\", a minimal DFA for \"reverse(D1)\" is obtained by \"reverse followed by determinize\"\n",
        "\n",
        "* But since we are interested in the minimal DFA for \"D1\" (and not reverse(D1)), we do these steps again!\n",
        "\n",
        "* Hence the algorithm becomes \"reverse THEN determinize THEN reverse THEN determinize\""
      ]
    }
  ]
}