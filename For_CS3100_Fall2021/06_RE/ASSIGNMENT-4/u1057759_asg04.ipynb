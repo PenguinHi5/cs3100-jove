{
  "nbformat": 4,
  "nbformat_minor": 0,
  "metadata": {
    "colab": {
      "name": "u1234567_asg4_Prob1234.ipynb",
      "provenance": []
    },
    "kernelspec": {
      "display_name": "Python 3",
      "language": "python",
      "name": "python3"
    },
    "language_info": {
      "codemirror_mode": {
        "name": "ipython",
        "version": 3
      },
      "file_extension": ".py",
      "mimetype": "text/x-python",
      "name": "python",
      "nbconvert_exporter": "python",
      "pygments_lexer": "ipython3",
      "version": "3.8.5"
    },
    "toc": {
      "colors": {
        "hover_highlight": "#DAA520",
        "running_highlight": "#FF0000",
        "selected_highlight": "#FFD700"
      },
      "moveMenuLeft": true,
      "nav_menu": {
        "height": "121px",
        "width": "252px"
      },
      "navigate_menu": true,
      "number_sections": true,
      "sideBar": true,
      "threshold": 4,
      "toc_cell": false,
      "toc_section_display": "block",
      "toc_window_display": false,
      "widenNotebook": false
    }
  },
  "cells": [
    {
      "cell_type": "markdown",
      "metadata": {
        "id": "F6evhB5n1FaV"
      },
      "source": [
        "## Assignment 04 Summary\n",
        "\n",
        "There are four questions with the details given below.\n",
        "\n",
        "* Question 1: nfa2dfa and related exercises\n",
        "\n",
        "* Question 2: Understanding DFA utilities\n",
        "\n",
        "* Question 3: Understanding re2nfa\n",
        "\n",
        "* Question 4: Understanding del_gnfa_states\n",
        "\n",
        "## All required answers are indicated by tags \" {Answer cells below}\" sprinkled throughout this notebook. This means that you must fill those cells below with your answer. This is to guide you to locate where questions are being asked. Even if I don't provide this tag everywhere (impossible), there will be explicit questions in the notebook which you are supposed to answer.\n"
      ]
    },
    {
      "cell_type": "markdown",
      "metadata": {
        "id": "1an9nmMw1Fac",
        "run_control": {
          "frozen": false,
          "read_only": false
        }
      },
      "source": [
        "# Imports\n"
      ]
    },
    {
      "cell_type": "code",
      "metadata": {
        "id": "y863_jSu1Fad",
        "run_control": {
          "frozen": false,
          "read_only": false
        },
        "scrolled": true
      },
      "source": [
        "#~~~~~~~~~~~~~~~~~~~~~~~~~~~~~~~~~~~~~~~~~~~~~~~~~~~~~~~\n",
        "import sys\n",
        "\n",
        "# -- Detect if in Own Install or in Colab\n",
        "try:\n",
        "    import google.colab\n",
        "    OWN_INSTALL = False\n",
        "except:\n",
        "    OWN_INSTALL = True\n",
        "    \n",
        "if OWN_INSTALL:\n",
        "    \n",
        "  #---- Leave these definitions ON if running on laptop\n",
        "  #---- Else turn OFF by putting them between ''' ... '''\n",
        "\n",
        "  sys.path[0:0] = ['../../../../..',  '../../../../../3rdparty',  \n",
        "                   '../../../..',  '../../../../3rdparty',  \n",
        "                   '../../..',     '../../../3rdparty', \n",
        "                   '../..',        '../../3rdparty',\n",
        "                   '..',           '../3rdparty' ]\n",
        "\n",
        "else: # In colab\n",
        "  ! if [ ! -d Jove ]; then git clone https://github.com/ganeshutah/Jove Jove; fi\n",
        "  sys.path.append('./Jove')\n",
        "  sys.path.append('./Jove/jove')\n",
        "\n",
        "# -- common imports --\n",
        "from jove.DotBashers import *\n",
        "from jove.Def_md2mc  import *\n",
        "from jove.Def_NFA    import *\n",
        "from jove.Def_DFA    import *\n",
        "from jove.Def_NFA2RE import *\n",
        "from jove.Def_RE2NFA import *\n",
        "from jove.AnimateNFA import *\n",
        "#~~~~~~~~~~~~~~~~~~~~~~~~~~~~~~~~~~~~~~~~~~~~~~~~~~~~~~~"
      ],
      "execution_count": null,
      "outputs": []
    },
    {
      "cell_type": "markdown",
      "metadata": {
        "id": "BzOCjuwm1Fae"
      },
      "source": [
        "## Question 1: nfa2dfa and related exercises\n",
        "\n",
        "    * Take a given nfa called nfa1 (below).\n",
        "    \n",
        "    * Now convert nfa1 to dfa1, applying the subset construction algorithm. Part of this construction has been done for you to tell you the state-naming conventions to be followed. Finish the rest of the work as per these state naming conventions.\n",
        "    \n",
        "    * Now apply Brzozowski's minimization to dfa1 as a one-line expression involving the appropriate Jove functions (find out from the book). Show a line (or two) of code showing the Brzozowski algorithm and its function calls used in a line (or two). Call the result min_dfa1. You should not need more than 1-2 lines but keep it short (exceeding by a few lines is fine).\n",
        "    \n",
        "    * Now show that dfa1 and min_dfa1 are language-equivalent but not isomorphic. Refer to https://en.wikipedia.org/wiki/Graph_isomorphism and first define isomorphism clearly in a few bullets, explaining (using the graphs G and H provided in the Wikipedia article) why those \"different-looking graphs\" are isomorphic. Then explain why dfa1 and min_dfa1 fail the isomorphism test by arguing whether a function similar to \"f\" in this Wikipedia article exists or not."
      ]
    },
    {
      "cell_type": "markdown",
      "metadata": {
        "id": "cz6nOPhGiqqG"
      },
      "source": [
        "## The NFA nfa1 is below"
      ]
    },
    {
      "cell_type": "code",
      "metadata": {
        "id": "tnc6tDJT1Faf"
      },
      "source": [
        "# Given NFA\n",
        "\n",
        "nfa1 = md2mc('''NFA\n",
        "I1 : '' -> B\n",
        "I1 : a  -> I2\n",
        "\n",
        "I2 : c  -> F3\n",
        "I2 : b  -> B\n",
        "\n",
        "B : a  -> B\n",
        "B : b  -> F4\n",
        "B : c  -> F3\n",
        "\n",
        "\n",
        "''')\n"
      ],
      "execution_count": null,
      "outputs": []
    },
    {
      "cell_type": "markdown",
      "metadata": {
        "id": "GwSLibAzcdUV"
      },
      "source": [
        "### {Answer cells below - show the NFA}"
      ]
    },
    {
      "cell_type": "code",
      "metadata": {
        "id": "kV7jblE21Fag"
      },
      "source": [
        "dotObj_nfa(nfa1)"
      ],
      "execution_count": null,
      "outputs": []
    },
    {
      "cell_type": "markdown",
      "metadata": {
        "id": "MK49D5ehhjR7"
      },
      "source": [
        "### Convert the given NFA to a DFA by hand. List the steps you made in bullet points.\n",
        "\n",
        "### Part of the answer is filled in. Fill the missing parts shown as [fill here] below."
      ]
    },
    {
      "cell_type": "markdown",
      "metadata": {
        "id": "WuZlWXazcdUX"
      },
      "source": [
        "### {Answer cells below -  list the steps that obtain the DFA - some parts given - fill the rest}\n",
        "\n",
        "I say \"FILL HERE\" below. Fill those."
      ]
    },
    {
      "cell_type": "markdown",
      "metadata": {
        "id": "SD_eNEMIh3Oc"
      },
      "source": [
        "Answer:  \n",
        "\n",
        "\n",
        "* Let EC stand for EClosure and BH denote {}\n",
        "*\n",
        "* Let us write sets of states separated by underscores. Thus {A,B} will be written A_B\n",
        "*\n",
        "* Let us sort these. Thus we won't write {B,A} or B_A. Rather we will write {A,B} or A_B\n",
        "\n",
        "* AND\n",
        "*\n",
        "* in a DFA state if some state is initial, please write \"i_\" before it, and similarly \"f_\" before a final state. Also if a state is initial plus final, name it such that it begins with \"if_\". This gives a hint to Jove that the newly created state is initial or final or both. \n",
        "\n",
        "\n",
        "*\n",
        "*  Now, we are going to notate it here informally, supplying the reasons, before we re-type it in Jove syntax below\n",
        "*\n",
        "* According to these conventions,  EC( I1_I2 ) = i_B_I1_I2\n",
        "*\n",
        "* Upon seeing an 'a', i_B_I1_I2 goes to B_I2 {FILL HERE the details as to why. An example fill-in is as follows}\n",
        "*\n",
        "*  B  upon an \"a\" goes to ...fill...\n",
        "*  I1 upon an \"a\" goes to ...fill...\n",
        "*  I2 upon an \"a\" goes to ...fill...\n",
        "*  Their union is {B, I2} and EClosure does not change anything.\n",
        "* Thus      i_B_I1_I2 --a--> ...fill...  \n",
        "*   \n",
        "* Provide a similar degree of detail for two other moves. Then fill the rest quickly as rough notes, below.\n",
        "*\n",
        "*\n",
        "* Similarly i_B_I1_I2 --b-->   {FILL HERE the details as to why}\n",
        "*           i_B_I1_I2 --c-->     ...fill...\n",
        " \n",
        "* Now       B_I2    --a-->         ...fill...\n",
        "\n",
        "* and       B_I2    --b-->     ...fill...\n",
        "\n",
        "* and       B_I2    --c-->      ...fill...\n",
        "* \n",
        "* Now       f_B_F4    --a--> ...fill...\n",
        "* \n",
        "*           f_B_F4    --b--> ...fill...\n",
        "*\n",
        "*           f_B_F4    --c--> ...fill...\n",
        "*\n",
        "*           B --a--> ...fill...\n",
        "*           B --b--> ...fill...\n",
        "*           B --c--> ...fill...\n",
        "*\n",
        "*           f_F3 --a,b,c--> BH\n",
        "* \n",
        "*           f_F4 --a,b,c--> ...fill...\n",
        "*\n",
        "\n",
        "  "
      ]
    },
    {
      "cell_type": "markdown",
      "metadata": {
        "id": "y2JgLd1rcdUY"
      },
      "source": [
        "### NOW, enter the dfa1 design below, according to the subset construction algorithm steps that were documented above"
      ]
    },
    {
      "cell_type": "markdown",
      "metadata": {
        "id": "xGICIIGXcdUY"
      },
      "source": [
        "### {Answer cells below - Jove code for dfa1 below}"
      ]
    },
    {
      "cell_type": "code",
      "metadata": {
        "id": "CMDNIlBA1Fah"
      },
      "source": [
        "# DFA of nfa1\n",
        "\n",
        "dfa1 = md2mc('''DFA\n",
        "\n",
        "i_B_I1_I2 : a -> B_I2    !! {FILL HERE} the DFA moves, writing short comments almost per-line  \n",
        "i_B_I1_I2 : b -> ....\n",
        "\n",
        "... FILL ALL THIS NOW ....\n",
        "\n",
        "\n",
        "''')"
      ],
      "execution_count": null,
      "outputs": []
    },
    {
      "cell_type": "markdown",
      "metadata": {
        "id": "_liG9znDcdUY"
      },
      "source": [
        "### {Answer cells below - show the dfa1 diagram}"
      ]
    },
    {
      "cell_type": "code",
      "metadata": {
        "id": "0RbZ4_-o1Fai"
      },
      "source": [
        "dotObj_dfa(dfa1)"
      ],
      "execution_count": null,
      "outputs": []
    },
    {
      "cell_type": "markdown",
      "metadata": {
        "id": "wZ3SafjkcdUZ"
      },
      "source": [
        "### Obtain min_dfa1 through Brzozowski's algorithm's function calls applied to dfa1"
      ]
    },
    {
      "cell_type": "markdown",
      "metadata": {
        "id": "7FOvHShNcdUZ"
      },
      "source": [
        "### {Answer cells below - show the Brzozowski minimization commands and display min_dfa1}"
      ]
    },
    {
      "cell_type": "code",
      "metadata": {
        "id": "gVgiSMUMcdUZ"
      },
      "source": [
        "min_dfa1 = ... FILL THIS ..."
      ],
      "execution_count": null,
      "outputs": []
    },
    {
      "cell_type": "code",
      "metadata": {
        "id": "hd3KVdNxcdUZ"
      },
      "source": [
        "dotObj_dfa(min_dfa1, FuseEdges=True)"
      ],
      "execution_count": null,
      "outputs": []
    },
    {
      "cell_type": "markdown",
      "metadata": {
        "id": "OEc8ZBuVcdUa"
      },
      "source": [
        "### Now, check for language equivalence and isomorphism."
      ]
    },
    {
      "cell_type": "markdown",
      "metadata": {
        "id": "YYKKEDWXcdUa"
      },
      "source": [
        "### {Answer cells below - show checks for langeq_dfa and iso_dfa}"
      ]
    },
    {
      "cell_type": "code",
      "metadata": {
        "id": "hnsvbU3DcdUa"
      },
      "source": [
        "langeq_dfa(dfa1, min_dfa1)"
      ],
      "execution_count": null,
      "outputs": []
    },
    {
      "cell_type": "code",
      "metadata": {
        "id": "HKmwXLXxcdUa"
      },
      "source": [
        "iso_dfa(dfa1, min_dfa1)"
      ],
      "execution_count": null,
      "outputs": []
    },
    {
      "cell_type": "markdown",
      "metadata": {
        "id": "r7MBkfk0cdUa"
      },
      "source": [
        "### Here, document isomorphism, describing the Wikipedia article's notion of isomorphism between two graphs G and H. Explain why such a function \"f\" that establishes the isomorphism does not exist between dfa1 and min_dfa1"
      ]
    },
    {
      "cell_type": "markdown",
      "metadata": {
        "id": "xxDGqb6XcdUa"
      },
      "source": [
        "### {Answer cells below - answer questions on language equivalence and isomorphism}"
      ]
    },
    {
      "cell_type": "markdown",
      "metadata": {
        "id": "AXsgKTEUcdUa"
      },
      "source": [
        "* Answer steps below\n",
        "*\n",
        "* Why are these DFA language equivalent? Do a few checks by hand on six strings in numeric order\n",
        "*\n",
        "*\n",
        "* Why are these DFA not isomorphic? Why does such an \"f\" function as in the Wikipedia article not exist? Provide reasons in a few steps\n",
        "*\n",
        "*\n",
        "*"
      ]
    },
    {
      "cell_type": "markdown",
      "metadata": {
        "id": "58T3ixS0mQDT"
      },
      "source": [
        "## Question 2: Understanding DFA utilities"
      ]
    },
    {
      "cell_type": "markdown",
      "metadata": {
        "id": "baAM1MLXcdUb"
      },
      "source": [
        "### {Answer cells below - describe the Jove functions requested}"
      ]
    },
    {
      "cell_type": "markdown",
      "metadata": {
        "id": "K3jtxhvpmjxE"
      },
      "source": [
        "\n",
        "* Learn about a few DFA utilities such as totalize_dfa and dotObj_dfa_w_bh. Understand the behavior of comp_dfa. Use \"help(...)\" and read the documentation. Explanations of your understanding to be provided below under \"Part a\".\n",
        "    \n",
        "* \n",
        "\n",
        "* Extract an RE by inspecting nfa1 and write it down as RE1_hand. Do this under \"Part b\" below.\n",
        "    \n",
        "*\n",
        "\n",
        "* Understand the function del_gnfa_states via its help command. Do this under \"Part c\" below."
      ]
    },
    {
      "cell_type": "markdown",
      "metadata": {
        "id": "F7rx4MpDcdUb"
      },
      "source": [
        "### {Answer cells below -  Do the steps below and then obtain pdfa1 and display it}"
      ]
    },
    {
      "cell_type": "markdown",
      "metadata": {
        "id": "KfUW_PBz1Fak"
      },
      "source": [
        "### Part a: \n",
        "\n",
        "* First remove all BH moves from dfa1, calling it the \"partial dfa1\" or pdfa1. Display the DFA using dotObj_dfa_w_bh(...).\n",
        "\n",
        "\n",
        "* Then apply the totalize command and save the result in tot_pdfa1. Display the DFA using dotObj_dfa_w_bh(...). Use the \"FuseEdges\" option. \n",
        "\n",
        "* \n",
        "\n",
        "* What difference do you observe in the displayed DFA after \"totalize\"? Write in a few sentences in the space below."
      ]
    },
    {
      "cell_type": "code",
      "metadata": {
        "id": "gqrEm6QOcdUb"
      },
      "source": [
        "# DFA of nfa1\n",
        "\n",
        "pdfa1 = md2mc('''DFA\n",
        "\n",
        "... FILL THIS ... ESSENTAILLY dfa1 WITH BH MOVES REMOVED ...\n",
        "\n",
        "\n",
        "''')"
      ],
      "execution_count": null,
      "outputs": []
    },
    {
      "cell_type": "code",
      "metadata": {
        "id": "V2V0-JjZcdUb"
      },
      "source": [
        "dotObj_dfa_w_bh(pdfa1)"
      ],
      "execution_count": null,
      "outputs": []
    },
    {
      "cell_type": "markdown",
      "metadata": {
        "id": "N8R1XwwRcdUb"
      },
      "source": [
        "### {Answer cells below - answer questions about comp_dfa}"
      ]
    },
    {
      "cell_type": "markdown",
      "metadata": {
        "id": "MDUv5sNwcdUc"
      },
      "source": [
        "## Understanding comp_dfa\n",
        "\n",
        "Complementing a DFA is supported by the function comp_dfa. Complement pdfa1 using this command and assign it to comp_pdfa1. Compare the result of displaying comp_pdfa1 , pdfa1 and tot_pdfa1. What differences do you see? Explain in 3 bullets.\n",
        "\n",
        "* pdfa1 and tot_pdfa1 have these similarities and differences: {Briefly describe}\n",
        "\n",
        "*\n",
        "\n",
        "* comp_pdfa1 and tot_pdfa1 have these similarities and differences: {Briefly describe}\n",
        "\n",
        "*\n",
        " \n",
        "* comp_pdfa1 and pdfa1 have these similarities and differences: {Briefly describe}"
      ]
    },
    {
      "cell_type": "code",
      "metadata": {
        "id": "u4M2SMO5cdUc"
      },
      "source": [
        "comp_pdfa1 = comp_dfa(pdfa1)"
      ],
      "execution_count": null,
      "outputs": []
    },
    {
      "cell_type": "code",
      "metadata": {
        "id": "cYaDPJ5FcdUc"
      },
      "source": [
        "dotObj_dfa_w_bh(comp_dfa(pdfa1), FuseEdges=\"True\")"
      ],
      "execution_count": null,
      "outputs": []
    },
    {
      "cell_type": "code",
      "metadata": {
        "id": "Vq0a77k-1Fal"
      },
      "source": [
        "tot_pdfa1 = totalize_dfa(pdfa1)"
      ],
      "execution_count": null,
      "outputs": []
    },
    {
      "cell_type": "code",
      "metadata": {
        "id": "JE2ftkbKcdUc"
      },
      "source": [
        "dotObj_dfa_w_bh(tot_pdfa1, FuseEdges=True)"
      ],
      "execution_count": null,
      "outputs": []
    },
    {
      "cell_type": "markdown",
      "metadata": {
        "id": "gAGEONPJ1Fav"
      },
      "source": [
        "## Question 3: understanding re2nfa\n",
        "\n",
        "### nfa1 is repeated below for your convenience"
      ]
    },
    {
      "cell_type": "code",
      "metadata": {
        "id": "hTILatfGcdUc"
      },
      "source": [
        "# Given NFA\n",
        "\n",
        "nfa1 = md2mc('''NFA\n",
        "I1 : '' -> B\n",
        "I1 : a  -> I2\n",
        "\n",
        "I2 : c  -> F3\n",
        "I2 : b  -> B\n",
        "\n",
        "B : a  -> B\n",
        "B : b  -> F4\n",
        "B : c  -> F3\n",
        "\n",
        "\n",
        "''')\n"
      ],
      "execution_count": null,
      "outputs": []
    },
    {
      "cell_type": "code",
      "metadata": {
        "id": "WxvfDL7TcdUd"
      },
      "source": [
        "dotObj_nfa(nfa1)"
      ],
      "execution_count": null,
      "outputs": []
    },
    {
      "cell_type": "markdown",
      "metadata": {
        "id": "-xz2QT_ZcdUd"
      },
      "source": [
        "##  {IMPORTANT Answer cells below - RE from nfa1 by inspection and the checks asked}"
      ]
    },
    {
      "cell_type": "markdown",
      "metadata": {
        "id": "b6bWV4AZ1Fan"
      },
      "source": [
        "### Part b: Obtain an RE by looking at nfa1\n",
        "\n",
        "* Follow all paths\n",
        "\n",
        "* Summarize the paths in your head, using the Star operator suitably\n",
        "\n",
        "\n"
      ]
    },
    {
      "cell_type": "code",
      "metadata": {
        "id": "W2GdlsN01Fan"
      },
      "source": [
        "# RE1_hand = \" ... your RE here... \"\n",
        "\n",
        "RE1_hand = ... FILL THIS ..."
      ],
      "execution_count": null,
      "outputs": []
    },
    {
      "cell_type": "markdown",
      "metadata": {
        "id": "bGYz3uiLcdUd"
      },
      "source": [
        "### Part c : Obtain a DFA out of this RE and confirm it appears OK\n",
        "\n",
        "### we will later check RE1_hand against RE1_automated -- that will catch mistakes if any !!\n"
      ]
    },
    {
      "cell_type": "code",
      "metadata": {
        "id": "xQBKk_FCcdUd"
      },
      "source": [
        "DFA_RE1_hand = min_dfa(nfa2dfa(re2nfa(RE1_hand)))"
      ],
      "execution_count": null,
      "outputs": []
    },
    {
      "cell_type": "code",
      "metadata": {
        "id": "dkEJo4W1cdUd"
      },
      "source": [
        "dotObj_dfa(DFA_RE1_hand, FuseEdges=True)"
      ],
      "execution_count": null,
      "outputs": []
    },
    {
      "cell_type": "markdown",
      "metadata": {
        "id": "5tn3lrpW1Fap"
      },
      "source": [
        "##  Question 4: Understanding del_gnfa_states"
      ]
    },
    {
      "cell_type": "markdown",
      "metadata": {
        "id": "Fqhsan3o1Fao"
      },
      "source": [
        "### Part d: Understand del_gnfa_states via help\n",
        "\n",
        "*Run help( del_gnfa_states )\n",
        "\n",
        "* Now, FULLY understand how to specify its arguments.\n",
        "\n",
        "* YOU CAN FIND MULTIPLE USES OF THIS FUNCTION IN VARIOUS NOTEBOOKS. Please study these notebooks and understand how it works.\n",
        "\n",
        "* In particular, note that you can specify a state elimination order to del_gnfa_states. Youll get to understand and use this in \n",
        " \n",
        "### To do this you need a GNFA and so understand the call mk_gnfa also"
      ]
    },
    {
      "cell_type": "code",
      "metadata": {
        "id": "poNtfHhncdUe"
      },
      "source": [
        "help(mk_gnfa)"
      ],
      "execution_count": null,
      "outputs": []
    },
    {
      "cell_type": "code",
      "metadata": {
        "id": "St7Zo8AY1Fao"
      },
      "source": [
        "\n",
        "help(del_gnfa_states) "
      ],
      "execution_count": null,
      "outputs": []
    },
    {
      "cell_type": "markdown",
      "metadata": {
        "id": "eOmufZDa1Fap"
      },
      "source": [
        "### Perform del_gnfa_states on the gnfa obtained from nfa1"
      ]
    },
    {
      "cell_type": "code",
      "metadata": {
        "id": "4XkJaoDL1Far"
      },
      "source": [
        "(Gfinal, DO, RE1_automated) = del_gnfa_states(mk_gnfa(nfa1))"
      ],
      "execution_count": null,
      "outputs": []
    },
    {
      "cell_type": "markdown",
      "metadata": {
        "id": "g8S4XfTecdUe"
      },
      "source": [
        "### {Answer cells : Obtain RE1_automated and check it is equivalent to RE1_hand by isomorphism of min_DFAs}"
      ]
    },
    {
      "cell_type": "code",
      "metadata": {
        "id": "zvc3WnQb1Far"
      },
      "source": [
        "RE1_automated"
      ],
      "execution_count": null,
      "outputs": []
    },
    {
      "cell_type": "code",
      "metadata": {
        "id": "mnywvY1bcdUe"
      },
      "source": [
        "DFA_RE1_automated = ... FILL THIS ..."
      ],
      "execution_count": null,
      "outputs": []
    },
    {
      "cell_type": "code",
      "metadata": {
        "id": "GER4DkmOcdUe"
      },
      "source": [
        "dotObj_dfa(DFA_RE1_automated, FuseEdges=True)"
      ],
      "execution_count": null,
      "outputs": []
    },
    {
      "cell_type": "markdown",
      "metadata": {
        "id": "AOeS95lZcdUf"
      },
      "source": [
        "## {IMPORTANT Answer cell below: this iso_dfa must pass -- if not, debug RE1_hand !! }"
      ]
    },
    {
      "cell_type": "code",
      "metadata": {
        "id": "R-npMmX9cdUf"
      },
      "source": [
        "iso_dfa(DFA_RE1_hand, DFA_RE1_automated)"
      ],
      "execution_count": null,
      "outputs": []
    },
    {
      "cell_type": "markdown",
      "metadata": {
        "id": "SrFKBgbl1Fau"
      },
      "source": [
        "### Part e: List DO[0], DO[1], ... and also GFinal\n",
        "\n"
      ]
    },
    {
      "cell_type": "code",
      "metadata": {
        "id": "ITE6hltC1Fau"
      },
      "source": [
        "dotObj_gnfa(Gfinal)"
      ],
      "execution_count": null,
      "outputs": []
    },
    {
      "cell_type": "markdown",
      "metadata": {
        "id": "iLubK__IcdUf"
      },
      "source": [
        "### {Answer cells below: Explain how DO[0], DO[1] etc  correspond with the NFA to RE conversion you learned. Explain each DO[n] in some bullets"
      ]
    },
    {
      "cell_type": "markdown",
      "metadata": {
        "id": "cYB-LgOvcdUf"
      },
      "source": [
        "*\n",
        "* DO[0] captures THIS ... (one sentence saying which state was eliminated and what happens as a result - or whether a GNFA was buit out of the given NFA1)\n",
        "*"
      ]
    },
    {
      "cell_type": "code",
      "metadata": {
        "id": "0xAbgXJFcdUf"
      },
      "source": [
        "DO[0]"
      ],
      "execution_count": null,
      "outputs": []
    },
    {
      "cell_type": "markdown",
      "metadata": {
        "id": "ejuQf9WFcdUg"
      },
      "source": [
        "*\n",
        "* DO[1] captures THIS ... (one sentence - which state was eliminated and what happened as a result)\n",
        "*"
      ]
    },
    {
      "cell_type": "code",
      "metadata": {
        "id": "uGM-Sa24cdUg"
      },
      "source": [
        "DO[1]"
      ],
      "execution_count": null,
      "outputs": []
    },
    {
      "cell_type": "markdown",
      "metadata": {
        "id": "ODNsuj8UcdUg"
      },
      "source": [
        "*\n",
        "* DO[2] captures THIS ... (one sentence - which state was eliminated and what happened as a result)\n",
        "*"
      ]
    },
    {
      "cell_type": "code",
      "metadata": {
        "id": "wFMzoEI9cdUg"
      },
      "source": [
        "DO[2]"
      ],
      "execution_count": null,
      "outputs": []
    },
    {
      "cell_type": "markdown",
      "metadata": {
        "id": "Meat89_CcdUh"
      },
      "source": [
        "*\n",
        "* DO[3] captures THIS ... (one sentence - which state was eliminated and what happened as a result)\n",
        "*"
      ]
    },
    {
      "cell_type": "code",
      "metadata": {
        "id": "pDSBAaXzcdUh"
      },
      "source": [
        "DO[3]"
      ],
      "execution_count": null,
      "outputs": []
    },
    {
      "cell_type": "markdown",
      "metadata": {
        "id": "55WZiqJccdUh"
      },
      "source": [
        "*\n",
        "* DO[4] captures THIS ... (one sentence - which state was eliminated and what happened as a result)\n",
        "*"
      ]
    },
    {
      "cell_type": "code",
      "metadata": {
        "id": "SxTHLCzPcdUh"
      },
      "source": [
        "DO[4]"
      ],
      "execution_count": null,
      "outputs": []
    },
    {
      "cell_type": "markdown",
      "metadata": {
        "id": "HTME8zf_cdUh"
      },
      "source": [
        "*\n",
        "* DO[5] captures THIS ... (one sentence - which state was eliminated and what happened as a result)\n",
        "*"
      ]
    },
    {
      "cell_type": "code",
      "metadata": {
        "id": "qrpknlJ7cdUh"
      },
      "source": [
        "DO[5]"
      ],
      "execution_count": null,
      "outputs": []
    },
    {
      "cell_type": "code",
      "metadata": {
        "id": "JjRVHYT9cdUi"
      },
      "source": [
        ""
      ],
      "execution_count": null,
      "outputs": []
    },
    {
      "cell_type": "markdown",
      "metadata": {
        "id": "V9nRzOHS1Fax"
      },
      "source": [
        "# END\n"
      ]
    }
  ]
}