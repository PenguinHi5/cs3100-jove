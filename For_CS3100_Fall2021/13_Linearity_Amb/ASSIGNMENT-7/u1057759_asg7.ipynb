{
  "nbformat": 4,
  "nbformat_minor": 0,
  "metadata": {
    "colab": {
      "name": "u1234567_asg7_Prob1234.ipynb",
      "provenance": []
    },
    "kernelspec": {
      "display_name": "Python 3",
      "language": "python",
      "name": "python3"
    },
    "language_info": {
      "codemirror_mode": {
        "name": "ipython",
        "version": 3
      },
      "file_extension": ".py",
      "mimetype": "text/x-python",
      "name": "python",
      "nbconvert_exporter": "python",
      "pygments_lexer": "ipython3",
      "version": "3.7.3"
    },
    "toc": {
      "colors": {
        "hover_highlight": "#DAA520",
        "running_highlight": "#FF0000",
        "selected_highlight": "#FFD700"
      },
      "moveMenuLeft": true,
      "nav_menu": {
        "height": "121px",
        "width": "252px"
      },
      "navigate_menu": true,
      "number_sections": true,
      "sideBar": true,
      "threshold": 4,
      "toc_cell": false,
      "toc_section_display": "block",
      "toc_window_display": false,
      "widenNotebook": false
    }
  },
  "cells": [
    {
      "cell_type": "markdown",
      "metadata": {
        "id": "U8MukhkMCJxW"
      },
      "source": [
        "# Question 1 (25 points, split as follows):  Contains some practice that you do for your own learning towards MT-2 and then more work that will be graded. Please read on.\n",
        "\n",
        "Go to the directory 13_Linearity_Amb/, and look at the Jove notebook CH11_Linearity_Ambiguity.ipynb. Run it.\n",
        "\n",
        "* The first thing you will be running is a segment that illustrates \"A CFG with purely right-linear productions is equivalent to an NFA.\"\n",
        "\n",
        "* At or near cell 4, you'll be asked to write RE_for_this_nfa = ... . Please write this RE for your own edification.\n",
        "\n",
        "* Do the iso_dfa check. Move on\n",
        "\n",
        "* Run nfa_if_sndlast_then_1 = md2mc ... . This is the same NFA that is cast in a form where we can obtain a CFG for it\n",
        "\n",
        "* Then you'll run pda_if_sndlast_then_1 = ... . This is the PDA derived from this NFA. Make sure you understand this PDA.\n",
        "\n",
        "* The explore_pda commands essentially run this PDA whose behavior matches that of the NFA.\n",
        "\n",
        "* We now teach you how to reverse a CFG, under pda_rev\n",
        "\n",
        "* Now you'll explore this PDA ... thus recognizing the reverse of the original NFA's strings\n",
        "\n",
        "* Then pause at reversed PDA works but needs STKMAX=9\n",
        "\n",
        "* Then you will see that a string that ought to be rejected is rejected, even if we give a stack of 12.\n",
        "\n",
        "* WHY DID WE NEED A STKMAX=9 ? Let's solve the mystery by animating the PDA. This will be super-cool! For this, run the cell AnimatePDA(pda_rev, FuseEdges=True). Give the string 0101001 and STKMAX=9 (by using the slider that increases the stack size to 9). Now hit the play button i.e. \"|>\" and see the animation!"
      ]
    },
    {
      "cell_type": "markdown",
      "metadata": {
        "id": "-F32zZso7lnh"
      },
      "source": [
        "## Question 1(a) (5 points): Why did you require a stack size of 9? Does this value relate to the length of the string? What stack size is needed for an accepting string of length 12?"
      ]
    },
    {
      "cell_type": "markdown",
      "metadata": {
        "id": "oFG57Qt97lni"
      },
      "source": [
        "# ==> STUDENT ANSWER : Replace !!!! when mentioned with your answer! <==\n",
        "\n",
        "* I observed during the animation that the stack contained THIS (reading top to bottom) : S#\n",
        "\n",
        "* Then the stack contained THIS (reading top to bottom)\n",
        "\n",
        "- answer : !!!!\n",
        "\n",
        "* Then the stack contained THIS\n",
        "\n",
        "- answer : !!!!\n",
        "\n",
        "* This went on till the stack contained THIS\n",
        "\n",
        "- answer : !!!!\n",
        "\n",
        "* Then the stack did THIS\n",
        "\n",
        "- answer : !!!! \n",
        "\n",
        "* This whole occurred because the grammar is now LEFT-LINEAR / RIGHT-LINEAR\n",
        "\n",
        "- answer : !!!!  \n",
        "\n",
        "* If the input were an accepted input of length \"n\", the stack would have grown to O(n) / O(n^2) / OTHER\n",
        "\n",
        "- answer : !!!! "
      ]
    },
    {
      "cell_type": "markdown",
      "metadata": {
        "id": "L4jV4wqF7lnj"
      },
      "source": [
        "## Question 1(b) (5 points):  Now in the territory of inherently ambiguous languages. Do these problems.\n",
        "\n",
        "* Run explore_pda('abc', pda_inh_amb)\n",
        "\n",
        "* Then AnimatePDA(pda_inh_amb, FuseEdges=True) for the string ```aaabbbccc```\n",
        "\n",
        "* When you click Animate, there are two Path: options in a pull down\n",
        "\n",
        "* Animate Path 1 (default)\n",
        "\n",
        "* Animate Path 2 (default)\n",
        "\n",
        "* Answer this question below"
      ]
    },
    {
      "cell_type": "markdown",
      "metadata": {
        "id": "uHKJT9tL7lnj"
      },
      "source": [
        "# ==> STUDENT ANSWER <==\n",
        "\n",
        "* When I animated Path 2, I found that THIS matched with THIS\n",
        "* CLARIFICATION: THIS input symbol matched THIS stack-top. Then THIS input symbol matched THIS stack-top,... etc. till all the input was consumed.\n",
        "\n",
        "- answer :   !!!! \n",
        "\n",
        "* This was evidenced by the stack finally containing THIS piece of the input string that was finally moved over\n",
        "\n",
        "- answer :   !!!! "
      ]
    },
    {
      "cell_type": "markdown",
      "metadata": {
        "id": "0H_nfXVI7lnk"
      },
      "source": [
        "## Question 1(c) (15 points - graded by a general inspection of your answers against the answer prompts in the STUDENT ANSWER fields): We will now make the md2mc parser \"chatty\". \n",
        "\n",
        "* Around Cell 26, you do the import ```from jove.Def_md2mc_chatty import *```\n",
        "\n",
        "* You'll now watch how ```pda_inh_amb = md2mc(....something....)``` processes the md2mc call\n",
        "\n",
        "* You will see printed messages ```Got a Jove markdown comment```, ```Parsed one line...```, etc.\n",
        "\n",
        "* Locate the source file Jove/jove/Def_md2mc_chatty.py . A good way to locate and read through this file is to go to the URL ```github.com/ganeshutah/Jove/tree/master/jove/Def_md2mc_chatty.py```. This will show the contents of this Python file in your browser. Then search for these printed message text items. For instance, ```Got a Jove markdown comment``` is in this line that defines the ```t_COMMENT``` function:  ``` def t_COMMENT(t):```\n",
        "\n",
        "\n"
      ]
    },
    {
      "cell_type": "markdown",
      "metadata": {
        "id": "ve6oLhje7lnk"
      },
      "source": [
        "# ==> STUDENT ANSWER <==\n",
        "\n",
        "* I now see that Jove's comments starting with !! are handled by Jove's LEXER / PARSER. The function name is this:\n",
        "\n",
        "- answer :  !!!!  \n",
        "\n",
        "* I see that even multiple newlines in a sequence are a single token recognized by the lexer!! The RE is any number of newlines. The definition is in t_NEWLINE. The RE is this:\n",
        "\n",
        "- answer : !!!!  \n",
        "\n",
        "* I see that comments are defined by this RE and this means the following in English\n",
        "\n",
        "- answer : !!!!  "
      ]
    },
    {
      "cell_type": "markdown",
      "metadata": {
        "id": "4pp0mwvVHl7G"
      },
      "source": [
        "* There are about 17 grammar rules against the p_functions.  \n",
        "\n",
        "* Describe the rules in short sentences. At least the prompted ones below. PLUS two more of your choosing (called \"extras\" below)\n",
        " \n",
        "```\n",
        "MODEL ANSWER:  \n",
        "\n",
        "\n",
        "def p_you_are_hosed(t):\n",
        "    '''md : error'''\n",
        "    --> THE STUDENT WRITES <-- \n",
        "    \"This rule does error-handling\"\n",
        "    \n",
        "\n",
        "def_p_one_line(t):\n",
        "    \"This rule handles what one line contains. Note that one line is a state followed by a COLON\n",
        "     followed by labels and ARROW and then states. This handles a DFA's transition, an NFA's transition,\n",
        "     a PDA's transition, and a TM's transition. The difference is in how '''labels''' and other things\n",
        "     differ across machines.\"\n",
        "    \n",
        "...OTHERS REQUESTED BELOW MUST BE FILLED BY YOU AS PART OF YOUR ANSWER BELOW !!...\n",
        "\n",
        "...For p_one_label3, you must indicate whether this is recognizing a PDA or an NFA or a DFA transition ...\n",
        " \n",
        "... Write the CFG production involved in the usual CFG production syntax such as  A --> a A . Use any such writing style ... \n"
      ]
    },
    {
      "cell_type": "markdown",
      "metadata": {
        "id": "A_iAjlb9K_5c"
      },
      "source": [
        "# ==> STUDENT ANSWER <==\n",
        "\n",
        "* p_labels2 does this (write in some detail - 2-3 lines):\n",
        "\n",
        "- answer: !!!!  \n",
        "\n",
        "\n",
        "* p_one_label3 does this (write in some detail - 2-3 lines):\n",
        "\n",
        "- answer: !!!!   \n",
        "                \n",
        "* p_state2 does this (write in some detail - 2-3 lines):\n",
        "\n",
        "- answer: !!!!  \n",
        "\n",
        "* I CHOSE THIS RULE as my required extras\n",
        "\n",
        "- answer: THIS RULE DOES THIS\n",
        "\n",
        "* I CHOSE THIS RULE as my required extras\n",
        "\n",
        "- answer: THIS RULE DOES THIS"
      ]
    },
    {
      "cell_type": "markdown",
      "metadata": {
        "id": "ImDA0-IbNIPf"
      },
      "source": [
        "# Question 2 (25 points):\n",
        "\n",
        "## File 14_Calculator/Calculator_For_Asg7.ipynb contains a calculator \n",
        "\n",
        "# ==> Submit the modified Calculator_For_Asg7.ipynb when you upload, along with the main Jove file containing the assignment <==\n",
        "\n",
        "* where we wish to add the SUCC (successor) operator. \n",
        "\n",
        "* Note that the calculator prompt loop that you get is exited with an “END” (else it throws an error); then you can come to later cells in this notebook. \n",
        "\n",
        "* This calculator code nearly works, but it throws an error on things like !5. \n",
        "\n",
        "* Note that !5 is used to encode \"successor of 5\" and not \"factorial 5\". Reasons for this choice: I used up too many symbols in my parser!\n",
        "\n",
        "* Right now, this calculator basically ignores ! (maybe issues an error like ```Illegal character``` which the user may not see) and moves on, which is dangerous (for the intended meaning). \n",
        "\n"
      ]
    },
    {
      "cell_type": "markdown",
      "metadata": {
        "id": "oUafWCSONRhV"
      },
      "source": [
        "## Question 2(a) (9 points): I’ve asked you (near the “<==” arrows) to add additional code. \n",
        "\n",
        "* Now locate this markdown which says \"If you implemented SUCC correctly, the expression below will work without errors.\"\n",
        "\n",
        "* and make sure that the calculation below does indeed work without errors:\n",
        "\n",
        "*  ```calcparser.parse(\"3 * !!3 + !!3 * !!!3\", lexer=calclexer)```\n",
        "\n",
        "* Your answer: List all the changes you made to the code and details, including tokenization (how the SUCC token is generated), associativity, precedence with respect to unary negation, and semantics-handling. Then confirm that the handling of SUCC works."
      ]
    },
    {
      "cell_type": "markdown",
      "metadata": {
        "id": "dvSiJ_KzNsvj"
      },
      "source": [
        "## Question 2(b) (16 points)\n",
        "\n",
        "* For the test strings test_strings = ``` [’2+3’, ’2+!-3’, ’3 + 3 * -!!3 + !3 * !!!-3’, ’x=3’, ’y=4’, ’z=x+y’, ’z’, ’z=x+!y’, ’z’] ```, obtain the actual output generated by your code. Justify all the calculations that occured.\n"
      ]
    },
    {
      "cell_type": "markdown",
      "metadata": {
        "id": "HrsuDQ3_ycDK"
      },
      "source": [
        "# ==> STUDENT ANSWER <===\n",
        "\n",
        "\n",
        "\n",
        "* Prompt: Expression result FOR  ```calcparser.parse(\"3 * !!3 + !!3 * !!!3\", lexer=calclexer)```\n",
        "  - answer:  !!!!  \n",
        "  \n",
        "* Prompt: Tokenization, i.e. what token-stream was generated? \n",
        "* CLARIFICATION ADDED: Specifically, list the tokens generated by this input one after the other. This is the \"string\" that the parser sees.\n",
        "  - Answer: ``` added .... token ``` !!!!  \n",
        "  \n",
        "* Precedence for SUCC IS the highest / lowest / in-between\n",
        "\n",
        "  - Answer: ``` one phrase ```  !!!!  \n",
        "  \n",
        "* Associativity for SUCC is right / left\n",
        "\n",
        "  - Answer: ``` one phrase ```  !!!!  \n",
        "  \n",
        "* Semantics of SUCC is this -- it adds / subtracts / takes log of\n",
        "\n",
        "  - Answer: ```one sentence ``` !!!!  \n",
        "\n",
        "The test_strings and their results below\n",
        "\n",
        "```\n",
        "\n",
        "test_strings = ['2+3', '2+!-3', '3 + 3 * -!!3 + !3 * !!!-3', 'x=3', 'y=4', 'z=x+y', 'z', 'z=x+!y', 'z']\n",
        "\n",
        "```\n",
        "\n",
        "** ANSWER OUTPUT AND REASON FOR EACH PRINTOUT **\n",
        "\n",
        "# IMITATE THE MODEL ANSWER FOR 0 in filling your answers below\n",
        "\n",
        "* FIRST ANSWER is 5 because it is 2 + 3\n",
        "\n",
        "* SECOND ANSWER is 0 because\n",
        "\n",
        "- It gets parsed as \n",
        "- (2 + !(-3)) which is \n",
        "- (2 + -2) which is \n",
        "- 0\n",
        "\n",
        "* THIRD ANSWER IS .... !!!! -12\n",
        "* BECAUSE\n",
        "\n",
        " !!!! ... use many lines and provide a detailed set of steps where each line is  \n",
        " !!!! ... simplified into the next line\n",
        "\n",
        "* FOURTH + FIFTH (put in a register and read out of register) ANSWER IS  !!!! 7 \n",
        "* BECAUSE\n",
        "!!!! \n",
        "\n",
        "* PUT z = x+!y in a register and print z gives  !!!! 8\n",
        "* BECAUSE\n",
        "\n",
        "* !!!!  \n",
        "\n",
        "```"
      ]
    },
    {
      "cell_type": "markdown",
      "metadata": {
        "id": "4X9UYoSl7lnr"
      },
      "source": [
        "# Question 3 (25 Points)\n",
        "\n",
        "## Do 11.9.1, 3(b,c), Page 157 (the “prove that” part). Write the PL steps in neat bulletted steps.\n",
        "\n",
        "* CFG rules for 3(b) are:\n",
        " - ... !!!! S -> ...\n",
        " - ... !!!!  \n",
        " - ... !!!!  \n",
        "\n",
        " \n",
        "* PROOF of the intersection not being CF is this\n",
        "\n",
        "- ... !!!!  \n",
        "\n",
        "- ... !!!! many lines, clear steps"
      ]
    },
    {
      "cell_type": "markdown",
      "metadata": {
        "id": "JxBpp7tf7lnr"
      },
      "source": [
        "# Question 4 (25 Points)\n",
        "\n",
        "## Do Problem 4 of Page 159. Write your answer in neat bulletted steps.\n",
        "\n",
        "* ... !!!!  \n",
        "\n",
        "* ... !!!!  many lines, clear steps"
      ]
    },
    {
      "cell_type": "markdown",
      "metadata": {
        "id": "h0nqiFD7ycDM"
      },
      "source": [
        "# END\n"
      ]
    }
  ]
}