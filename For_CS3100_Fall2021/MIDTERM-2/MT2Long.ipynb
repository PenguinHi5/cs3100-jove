{
  "nbformat": 4,
  "nbformat_minor": 0,
  "metadata": {
    "kernelspec": {
      "display_name": "Python 3",
      "language": "python",
      "name": "python3"
    },
    "language_info": {
      "codemirror_mode": {
        "name": "ipython",
        "version": 3
      },
      "file_extension": ".py",
      "mimetype": "text/x-python",
      "name": "python",
      "nbconvert_exporter": "python",
      "pygments_lexer": "ipython3",
      "version": "3.8.5"
    },
    "toc": {
      "colors": {
        "hover_highlight": "#DAA520",
        "running_highlight": "#FF0000",
        "selected_highlight": "#FFD700"
      },
      "moveMenuLeft": true,
      "nav_menu": {
        "height": "318px",
        "width": "252px"
      },
      "navigate_menu": true,
      "number_sections": true,
      "sideBar": true,
      "threshold": 4,
      "toc_cell": false,
      "toc_section_display": "block",
      "toc_window_display": false,
      "widenNotebook": false
    },
    "colab": {
      "name": "MT2Long.ipynb",
      "provenance": []
    }
  },
  "cells": [
    {
      "cell_type": "code",
      "metadata": {
        "run_control": {
          "frozen": false,
          "read_only": false
        },
        "id": "LNw7q8h9N1b5",
        "colab": {
          "base_uri": "https://localhost:8080/"
        },
        "outputId": "8b8286d8-3ce2-4e95-fcc8-80d3f45d0b8a"
      },
      "source": [
        "#~~~~~~~~~~~~~~~~~~~~~~~~~~~~~~~~~~~~~~~~~~~~~~~~~~~~~~~\n",
        "import sys\n",
        "\n",
        "# -- Detect if in Own Install or in Colab\n",
        "try:\n",
        "    import google.colab\n",
        "    OWN_INSTALL = False\n",
        "except:\n",
        "    OWN_INSTALL = True\n",
        "    \n",
        "if OWN_INSTALL:\n",
        "    \n",
        "  #---- Leave these definitions ON if running on laptop\n",
        "  #---- Else turn OFF by putting them between ''' ... '''\n",
        "\n",
        "  sys.path[0:0] = ['../../../../..',  '../../../../../3rdparty',  \n",
        "                   '../../../..',  '../../../../3rdparty',  \n",
        "                   '../../..',     '../../../3rdparty', \n",
        "                   '../..',        '../../3rdparty',\n",
        "                   '..',           '../3rdparty' ]\n",
        "\n",
        "else: # In colab\n",
        "  ! if [ ! -d Jove ]; then git clone https://github.com/ganeshutah/Jove Jove; fi\n",
        "  sys.path.append('./Jove')\n",
        "  sys.path.append('./Jove/jove')\n",
        "\n",
        "# -- common imports --\n",
        "from jove.DotBashers import *\n",
        "from jove.Def_DFA import *\n",
        "from jove.Def_NFA import *\n",
        "from jove.Def_RE2NFA import *\n",
        "from jove.Def_NFA2RE import *\n",
        "from jove.Def_md2mc import *\n",
        "from jove.JoveEditor import *\n",
        "#~~~~~~~~~~~~~~~~~~~~~~~~~~~~~~~~~~~~~~~~~~~~~~~~~~~~~~~"
      ],
      "execution_count": 1,
      "outputs": [
        {
          "output_type": "stream",
          "name": "stdout",
          "text": [
            "Cloning into 'Jove'...\n",
            "remote: Enumerating objects: 5094, done.\u001b[K\n",
            "remote: Counting objects: 100% (460/460), done.\u001b[K\n",
            "remote: Compressing objects: 100% (321/321), done.\u001b[K\n",
            "remote: Total 5094 (delta 265), reused 308 (delta 124), pack-reused 4634\u001b[K\n",
            "Receiving objects: 100% (5094/5094), 7.64 MiB | 21.91 MiB/s, done.\n",
            "Resolving deltas: 100% (3270/3270), done.\n",
            "You may use any of these help commands:\n",
            "help(ResetStNum)\n",
            "help(NxtStateStr)\n",
            "\n",
            "You may use any of these help commands:\n",
            "help(mkp_dfa)\n",
            "help(mk_dfa)\n",
            "help(totalize_dfa)\n",
            "help(addtosigma_delta)\n",
            "help(step_dfa)\n",
            "help(run_dfa)\n",
            "help(accepts_dfa)\n",
            "help(comp_dfa)\n",
            "help(union_dfa)\n",
            "help(intersect_dfa)\n",
            "help(pruneUnreach)\n",
            "help(iso_dfa)\n",
            "help(langeq_dfa)\n",
            "help(same_status)\n",
            "help(h_langeq_dfa)\n",
            "help(fixptDist)\n",
            "help(min_dfa)\n",
            "help(pairFR)\n",
            "help(state_combos)\n",
            "help(sepFinNonFin)\n",
            "help(bash_eql_classes)\n",
            "help(listminus)\n",
            "help(bash_1)\n",
            "help(mk_rep_eqc)\n",
            "help(F_of)\n",
            "help(rep_of_s)\n",
            "help(q0_of)\n",
            "help(Delta_of)\n",
            "help(mk_state_eqc_name)\n",
            "\n",
            "You may use any of these help commands:\n",
            "help(mk_nfa)\n",
            "help(totalize_nfa)\n",
            "help(step_nfa)\n",
            "help(run_nfa)\n",
            "help(ec_step_nfa)\n",
            "help(Eclosure)\n",
            "help(Echelp)\n",
            "help(accepts_nfa)\n",
            "help(nfa2dfa)\n",
            "help(n2d)\n",
            "help(inSets)\n",
            "help(rev_dfa)\n",
            "help(min_dfa_brz)\n",
            "\n",
            "You may use any of these help commands:\n",
            "help(re2nfa)\n",
            "\n",
            "You may use any of these help commands:\n",
            "help(RE2Str)\n",
            "help(mk_gnfa)\n",
            "help(mk_gnfa_from_D)\n",
            "help(dfa2nfa)\n",
            "help(del_gnfa_states)\n",
            "help(gnfa_w_REStr)\n",
            "help(del_one_gnfa_state)\n",
            "help(Edges_Exist_Via)\n",
            "help(choose_state_to_del)\n",
            "help(form_alt_RE)\n",
            "help(form_concat_RE)\n",
            "help(form_kleene_RE)\n",
            "\n",
            "You may use any of these help commands:\n",
            "help(md2mc)\n",
            ".. and if you want to dig more, then ..\n",
            "help(default_line_attr)\n",
            "help(length_ok_input_items)\n",
            "help(union_line_attr_list_fld)\n",
            "help(extend_rsltdict)\n",
            "help(form_delta)\n",
            "help(get_machine_components)\n",
            "\n",
            " \"help(JoveEditor)\" gives you info on the generic animation panel that animates all machines. \n"
          ]
        }
      ]
    },
    {
      "cell_type": "markdown",
      "metadata": {
        "id": "A_l8ZnrGN1b8"
      },
      "source": [
        "# Question 1, Part (a) : Develop a CFG and then a PDA that directly encodes this CFG for the language Labcd\n",
        "\n",
        " \n",
        "## Labcd = { a^i b^j c^k d^l : if i=2 then j=k else l > k }\n",
        "\n",
        "### NOTE it is d raised to \"ell\" not d raised to \"one\" (as l and 1  -- ELL and ONE -- often look similar)\n",
        "\n",
        "## Type the PDA Design directly below\n",
        "\n",
        "## But begin the PDA design with the CFG productions you developed\n",
        "\n",
        "## Then, for each PDA transition, put the CFG rule it encodes as comments\n",
        "\n",
        "## See additional details below\n",
        "\n",
        "# You may begin your design with nonterminal names of > 1 character\n",
        "\n",
        "## BUT finally, you need single-character non-terminals for Jove's CFG simulation using PDA"
      ]
    },
    {
      "cell_type": "code",
      "metadata": {
        "id": "_nkU9MO7N1b-",
        "colab": {
          "base_uri": "https://localhost:8080/"
        },
        "outputId": "4aca6f41-e344-411e-ba2f-5ad5d290201a"
      },
      "source": [
        "\n",
        "#----- MY FINAL PRODUCTION  RULES ARE HERE after I turned all non-terminals into 1-character non-terminals ------\n",
        "'''\n",
        "\n",
        "S -> aBCd | BCd | aaWU | aaaAS\n",
        "A -> aA | ''\n",
        "W -> bWc\n",
        "U -> dU | ''\n",
        "B -> bB | ''\n",
        "C -> cCd | d | ''\n",
        "\n",
        "\n",
        "'''\n",
        "#----- MY PDA IS BELOW\n",
        "\n",
        "\n",
        "\n",
        "\n",
        "\n",
        "Labcd = md2mc('''\n",
        "\n",
        "PDA\n",
        "\n",
        "I : '', # ; # -> S\n",
        "\n",
        "S : a, '' ; a -> S\n",
        "S : '', a ; '' -> X\n",
        "X : '', a ; '' -> Y\n",
        "Y : '', a ; '' -> B\n",
        "\n",
        "S : b, '' ; '' -> B\n",
        "S : c, '' ; c -> C\n",
        "S : '', '' ; '' -> D\n",
        "\n",
        "B : '', a ; '' -> B\n",
        "B : b, '' ; '' -> B\n",
        "B : c, '' ; c -> C\n",
        "B : '', '' ; '' -> D\n",
        "\n",
        "C : c, '' ; c -> C\n",
        "C : d, c ; '' -> D\n",
        "\n",
        "D : d, c ; '' -> D\n",
        "D : d, # ; # -> D\n",
        "D : d, # ; # -> F\n",
        "\n",
        "!! 2 a's\n",
        "Y : b, '' ; b -> W\n",
        "Y : '', '' ; '' -> U\n",
        "W : b, '' ; b -> W\n",
        "W : c, b ; '' -> V\n",
        "\n",
        "V : c, b ; '' -> V\n",
        "V : '', # ; # -> F\n",
        "\n",
        "V : d, '' ; '' -> U\n",
        "U : d, '' ; '' -> U\n",
        "U : '', '' ; '' -> F\n",
        "\n",
        "!!--- be neat and careful as you have to avoid mistakes ---\n",
        "\n",
        "!! PUT YOUR CFG PRODUCTION RULE OR RULES HERE\n",
        "!! S -> aBCd | BCd | aaWU | aaaAS\n",
        "!! PUT WHAT PDA TRANSITIONS IT GENERATED, BELOW\n",
        "!! S : '', a ; '' -> X\n",
        "!! X : '', a ; '' -> Y\n",
        "!! Y : '', a ; '' -> B\n",
        "!! S : b, '' ; '' -> B\n",
        "!! S : c, '' ; c -> C\n",
        "!! S : '', '' ; '' -> D\n",
        "!! B : c, '' ; c -> C\n",
        "!! B : '', '' ; '' -> D\n",
        "!! Y : '', '' ; '' -> U\n",
        "\n",
        "!! PUT YOUR CFG PRODUCTION RULE OR RULES HERE\n",
        "!! A -> aA | ''\n",
        "!! PUT WHAT PDA TRANSITIONS IT GENERATED, BELOW\n",
        "!! B : '', a ; '' -> B\n",
        "\n",
        "!! PUT YOUR CFG PRODUCTION RULE OR RULES HERE\n",
        "!! W -> bWc\n",
        "!! PUT WHAT PDA TRANSITIONS IT GENERATED, BELOW\n",
        "!! Y : b, '' ; b -> W\n",
        "!! W : b, '' ; b -> W\n",
        "!! W : c, b ; '' -> V\n",
        "!! V : c, b ; '' -> V\n",
        "!! V : '', # ; # -> F\n",
        "\n",
        "!! PUT YOUR CFG PRODUCTION RULE OR RULES HERE\n",
        "!! U -> dU | ''\n",
        "!! PUT WHAT PDA TRANSITIONS IT GENERATED, BELOW\n",
        "!! V : d, '' ; '' -> U\n",
        "!! U : d, '' ; '' -> U\n",
        "!! U : '', '' ; '' -> F\n",
        "\n",
        "!! PUT YOUR CFG PRODUCTION RULE OR RULES HERE\n",
        "!! B -> bB | ''\n",
        "!! PUT WHAT PDA TRANSITIONS IT GENERATED, BELOW\n",
        "!! B : b, '' ; '' -> B\n",
        "\n",
        "!! PUT YOUR CFG PRODUCTION RULE OR RULES HERE\n",
        "!! C -> cCd | d | ''\n",
        "!! PUT WHAT PDA TRANSITIONS IT GENERATED, BELOW\n",
        "!! C : c, '' ; c -> C\n",
        "!! C : d, c ; '' -> D\n",
        "!! D : d, c ; '' -> D\n",
        "!! D : d, # ; # -> D\n",
        "!! D : d, # ; # -> F\n",
        "\n",
        " \n",
        "\n",
        "\n",
        "''')\n"
      ],
      "execution_count": 2,
      "outputs": [
        {
          "output_type": "stream",
          "name": "stderr",
          "text": [
            "Generating LALR tables\n"
          ]
        }
      ]
    },
    {
      "cell_type": "code",
      "metadata": {
        "id": "pjsWfJVAN1b-",
        "colab": {
          "base_uri": "https://localhost:8080/",
          "height": 412
        },
        "outputId": "876bb41d-d149-442c-aa51-ac5d3b54fb96"
      },
      "source": [
        "dotObj_pda(Labcd, FuseEdges=True)"
      ],
      "execution_count": 3,
      "outputs": [
        {
          "output_type": "execute_result",
          "data": {
            "text/plain": [
              "<graphviz.dot.Digraph at 0x7f3be05ee810>"
            ],
            "image/svg+xml": "<?xml version=\"1.0\" encoding=\"UTF-8\" standalone=\"no\"?>\n<!DOCTYPE svg PUBLIC \"-//W3C//DTD SVG 1.1//EN\"\n \"http://www.w3.org/Graphics/SVG/1.1/DTD/svg11.dtd\">\n<!-- Generated by graphviz version 2.40.1 (20161225.0304)\n -->\n<!-- Title: %3 Pages: 1 -->\n<svg width=\"917pt\" height=\"293pt\"\n viewBox=\"0.00 0.00 917.00 293.50\" xmlns=\"http://www.w3.org/2000/svg\" xmlns:xlink=\"http://www.w3.org/1999/xlink\">\n<g id=\"graph0\" class=\"graph\" transform=\"scale(1 1) rotate(0) translate(4 289.4983)\">\n<title>%3</title>\n<polygon fill=\"#ffffff\" stroke=\"transparent\" points=\"-4,4 -4,-289.4983 912.9965,-289.4983 912.9965,4 -4,4\"/>\n<!-- EMPTY -->\n<g id=\"node1\" class=\"node\">\n<title>EMPTY</title>\n</g>\n<!-- I -->\n<g id=\"node11\" class=\"node\">\n<title>I</title>\n<ellipse fill=\"none\" stroke=\"#000000\" cx=\"109\" cy=\"-67\" rx=\"18\" ry=\"18\"/>\n<text text-anchor=\"middle\" x=\"109\" y=\"-63.3\" font-family=\"Times,serif\" font-size=\"14.00\" fill=\"#000000\">I</text>\n</g>\n<!-- EMPTY&#45;&gt;I -->\n<g id=\"edge1\" class=\"edge\">\n<title>EMPTY&#45;&gt;I</title>\n<path fill=\"none\" stroke=\"#000000\" d=\"M54.3048,-67C62.6909,-67 71.9407,-67 80.4103,-67\"/>\n<polygon fill=\"#000000\" stroke=\"#000000\" points=\"80.5976,-70.5001 90.5976,-67 80.5976,-63.5001 80.5976,-70.5001\"/>\n</g>\n<!-- C -->\n<g id=\"node2\" class=\"node\">\n<title>C</title>\n<ellipse fill=\"none\" stroke=\"#000000\" cx=\"656.9965\" cy=\"-46\" rx=\"18\" ry=\"18\"/>\n<text text-anchor=\"middle\" x=\"656.9965\" y=\"-42.3\" font-family=\"Times,serif\" font-size=\"14.00\" fill=\"#000000\">C</text>\n</g>\n<!-- C&#45;&gt;C -->\n<g id=\"edge13\" class=\"edge\">\n<title>C&#45;&gt;C</title>\n<path fill=\"none\" stroke=\"#000000\" d=\"M647.7639,-61.5414C645.1651,-71.9087 648.2426,-82 656.9965,-82 662.7413,-82 666.0414,-77.654 666.897,-71.7362\"/>\n<polygon fill=\"#000000\" stroke=\"#000000\" points=\"670.3754,-71.2913 666.2292,-61.5414 663.3904,-71.7489 670.3754,-71.2913\"/>\n<text text-anchor=\"middle\" x=\"656.9965\" y=\"-85.8\" font-family=\"Times,serif\" font-size=\"14.00\" fill=\"#000000\">c, &#39;&#39; ; c</text>\n</g>\n<!-- D -->\n<g id=\"node3\" class=\"node\">\n<title>D</title>\n<ellipse fill=\"none\" stroke=\"#000000\" cx=\"767.4965\" cy=\"-68\" rx=\"18\" ry=\"18\"/>\n<text text-anchor=\"middle\" x=\"767.4965\" y=\"-64.3\" font-family=\"Times,serif\" font-size=\"14.00\" fill=\"#000000\">D</text>\n</g>\n<!-- C&#45;&gt;D -->\n<g id=\"edge14\" class=\"edge\">\n<title>C&#45;&gt;D</title>\n<path fill=\"none\" stroke=\"#000000\" d=\"M674.7503,-49.5347C692.3099,-53.0307 719.4372,-58.4316 739.8257,-62.4909\"/>\n<polygon fill=\"#000000\" stroke=\"#000000\" points=\"739.2959,-65.954 749.7869,-64.4741 740.6628,-59.0888 739.2959,-65.954\"/>\n<text text-anchor=\"middle\" x=\"711.4965\" y=\"-63.8\" font-family=\"Times,serif\" font-size=\"14.00\" fill=\"#000000\">d, c ; &#39;&#39;</text>\n</g>\n<!-- D&#45;&gt;D -->\n<g id=\"edge15\" class=\"edge\">\n<title>D&#45;&gt;D</title>\n<path fill=\"none\" stroke=\"#000000\" d=\"M757.922,-83.5414C755.2269,-93.9087 758.4184,-104 767.4965,-104 773.4541,-104 776.8764,-99.654 777.7637,-93.7362\"/>\n<polygon fill=\"#000000\" stroke=\"#000000\" points=\"781.2409,-93.2812 777.0711,-83.5414 774.257,-93.7557 781.2409,-93.2812\"/>\n<text text-anchor=\"middle\" x=\"767.4965\" y=\"-122.8\" font-family=\"Times,serif\" font-size=\"14.00\" fill=\"#000000\">d, c ; &#39;&#39; </text>\n<text text-anchor=\"middle\" x=\"767.4965\" y=\"-107.8\" font-family=\"Times,serif\" font-size=\"14.00\" fill=\"#000000\"> d, # ; #</text>\n</g>\n<!-- F -->\n<g id=\"node12\" class=\"node\">\n<title>F</title>\n<ellipse fill=\"none\" stroke=\"#000000\" cx=\"886.9965\" cy=\"-177\" rx=\"18\" ry=\"18\"/>\n<ellipse fill=\"none\" stroke=\"#000000\" cx=\"886.9965\" cy=\"-177\" rx=\"22\" ry=\"22\"/>\n<text text-anchor=\"middle\" x=\"886.9965\" y=\"-173.3\" font-family=\"Times,serif\" font-size=\"14.00\" fill=\"#000000\">F</text>\n</g>\n<!-- D&#45;&gt;F -->\n<g id=\"edge16\" class=\"edge\">\n<title>D&#45;&gt;F</title>\n<path fill=\"none\" stroke=\"#000000\" d=\"M781.2047,-80.5037C801.1197,-98.6688 838.3496,-132.6274 862.9065,-155.0267\"/>\n<polygon fill=\"#000000\" stroke=\"#000000\" points=\"860.6494,-157.7052 870.3963,-161.8583 865.3667,-152.5334 860.6494,-157.7052\"/>\n<text text-anchor=\"middle\" x=\"825.9965\" y=\"-141.8\" font-family=\"Times,serif\" font-size=\"14.00\" fill=\"#000000\">d, # ; #</text>\n</g>\n<!-- U -->\n<g id=\"node4\" class=\"node\">\n<title>U</title>\n<ellipse fill=\"none\" stroke=\"#000000\" cx=\"767.4965\" cy=\"-177\" rx=\"18\" ry=\"18\"/>\n<text text-anchor=\"middle\" x=\"767.4965\" y=\"-173.3\" font-family=\"Times,serif\" font-size=\"14.00\" fill=\"#000000\">U</text>\n</g>\n<!-- U&#45;&gt;U -->\n<g id=\"edge24\" class=\"edge\">\n<title>U&#45;&gt;U</title>\n<path fill=\"none\" stroke=\"#000000\" d=\"M757.922,-192.5414C755.2269,-202.9087 758.4184,-213 767.4965,-213 773.4541,-213 776.8764,-208.654 777.7637,-202.7362\"/>\n<polygon fill=\"#000000\" stroke=\"#000000\" points=\"781.2409,-202.2812 777.0711,-192.5414 774.257,-202.7557 781.2409,-202.2812\"/>\n<text text-anchor=\"middle\" x=\"767.4965\" y=\"-216.8\" font-family=\"Times,serif\" font-size=\"14.00\" fill=\"#000000\">d, &#39;&#39; ; &#39;&#39;</text>\n</g>\n<!-- U&#45;&gt;F -->\n<g id=\"edge25\" class=\"edge\">\n<title>U&#45;&gt;F</title>\n<path fill=\"none\" stroke=\"#000000\" d=\"M785.646,-177C803.8259,-177 832.2063,-177 854.316,-177\"/>\n<polygon fill=\"#000000\" stroke=\"#000000\" points=\"854.594,-180.5001 864.594,-177 854.594,-173.5001 854.594,-180.5001\"/>\n<text text-anchor=\"middle\" x=\"825.9965\" y=\"-180.8\" font-family=\"Times,serif\" font-size=\"14.00\" fill=\"#000000\">&#39;&#39;, &#39;&#39; ; &#39;&#39;</text>\n</g>\n<!-- X -->\n<g id=\"node5\" class=\"node\">\n<title>X</title>\n<ellipse fill=\"none\" stroke=\"#000000\" cx=\"326\" cy=\"-139\" rx=\"18\" ry=\"18\"/>\n<text text-anchor=\"middle\" x=\"326\" y=\"-135.3\" font-family=\"Times,serif\" font-size=\"14.00\" fill=\"#000000\">X</text>\n</g>\n<!-- Y -->\n<g id=\"node8\" class=\"node\">\n<title>Y</title>\n<ellipse fill=\"none\" stroke=\"#000000\" cx=\"434\" cy=\"-158\" rx=\"18\" ry=\"18\"/>\n<text text-anchor=\"middle\" x=\"434\" y=\"-154.3\" font-family=\"Times,serif\" font-size=\"14.00\" fill=\"#000000\">Y</text>\n</g>\n<!-- X&#45;&gt;Y -->\n<g id=\"edge5\" class=\"edge\">\n<title>X&#45;&gt;Y</title>\n<path fill=\"none\" stroke=\"#000000\" d=\"M343.834,-142.1375C360.7962,-145.1215 386.5693,-149.6557 406.2227,-153.1133\"/>\n<polygon fill=\"#000000\" stroke=\"#000000\" points=\"405.6843,-156.5722 416.1395,-154.8579 406.8972,-149.6781 405.6843,-156.5722\"/>\n<text text-anchor=\"middle\" x=\"380\" y=\"-154.8\" font-family=\"Times,serif\" font-size=\"14.00\" fill=\"#000000\">&#39;&#39;, a ; &#39;&#39;</text>\n</g>\n<!-- B -->\n<g id=\"node6\" class=\"node\">\n<title>B</title>\n<ellipse fill=\"none\" stroke=\"#000000\" cx=\"546.4983\" cy=\"-92\" rx=\"18\" ry=\"18\"/>\n<text text-anchor=\"middle\" x=\"546.4983\" y=\"-88.3\" font-family=\"Times,serif\" font-size=\"14.00\" fill=\"#000000\">B</text>\n</g>\n<!-- B&#45;&gt;C -->\n<g id=\"edge11\" class=\"edge\">\n<title>B&#45;&gt;C</title>\n<path fill=\"none\" stroke=\"#000000\" d=\"M563.2806,-85.0136C581.2098,-77.5497 609.8684,-65.6193 630.7782,-56.9146\"/>\n<polygon fill=\"#000000\" stroke=\"#000000\" points=\"632.1695,-60.1267 640.0563,-53.0522 629.4791,-53.6643 632.1695,-60.1267\"/>\n<text text-anchor=\"middle\" x=\"602.4965\" y=\"-78.8\" font-family=\"Times,serif\" font-size=\"14.00\" fill=\"#000000\">c, &#39;&#39; ; c</text>\n</g>\n<!-- B&#45;&gt;D -->\n<g id=\"edge12\" class=\"edge\">\n<title>B&#45;&gt;D</title>\n<path fill=\"none\" stroke=\"#000000\" d=\"M564.1021,-97.2615C588.9925,-103.9456 635.8083,-113.7358 674.9965,-106 698.8529,-101.2907 724.2936,-90.3596 742.4439,-81.4245\"/>\n<polygon fill=\"#000000\" stroke=\"#000000\" points=\"744.3864,-84.3637 751.7209,-76.7181 741.2194,-78.1211 744.3864,-84.3637\"/>\n<text text-anchor=\"middle\" x=\"656.9965\" y=\"-111.8\" font-family=\"Times,serif\" font-size=\"14.00\" fill=\"#000000\">&#39;&#39;, &#39;&#39; ; &#39;&#39;</text>\n</g>\n<!-- B&#45;&gt;B -->\n<g id=\"edge10\" class=\"edge\">\n<title>B&#45;&gt;B</title>\n<path fill=\"none\" stroke=\"#000000\" d=\"M537.2656,-107.5414C534.6668,-117.9087 537.7444,-128 546.4983,-128 552.243,-128 555.5432,-123.654 556.3987,-117.7362\"/>\n<polygon fill=\"#000000\" stroke=\"#000000\" points=\"559.8772,-117.2913 555.7309,-107.5414 552.8921,-117.7489 559.8772,-117.2913\"/>\n<text text-anchor=\"middle\" x=\"546.4983\" y=\"-146.8\" font-family=\"Times,serif\" font-size=\"14.00\" fill=\"#000000\">&#39;&#39;, a ; &#39;&#39; </text>\n<text text-anchor=\"middle\" x=\"546.4983\" y=\"-131.8\" font-family=\"Times,serif\" font-size=\"14.00\" fill=\"#000000\"> b, &#39;&#39; ; &#39;&#39;</text>\n</g>\n<!-- V -->\n<g id=\"node7\" class=\"node\">\n<title>V</title>\n<ellipse fill=\"none\" stroke=\"#000000\" cx=\"656.9965\" cy=\"-233\" rx=\"18\" ry=\"18\"/>\n<text text-anchor=\"middle\" x=\"656.9965\" y=\"-229.3\" font-family=\"Times,serif\" font-size=\"14.00\" fill=\"#000000\">V</text>\n</g>\n<!-- V&#45;&gt;U -->\n<g id=\"edge23\" class=\"edge\">\n<title>V&#45;&gt;U</title>\n<path fill=\"none\" stroke=\"#000000\" d=\"M673.808,-226.1121C688.7915,-219.8063 711.1943,-209.9653 729.9965,-200 734.4841,-197.6216 739.1706,-194.9268 743.65,-192.2406\"/>\n<polygon fill=\"#000000\" stroke=\"#000000\" points=\"745.7404,-195.0639 752.4234,-186.8427 742.0722,-189.1019 745.7404,-195.0639\"/>\n<text text-anchor=\"middle\" x=\"711.4965\" y=\"-220.8\" font-family=\"Times,serif\" font-size=\"14.00\" fill=\"#000000\">d, &#39;&#39; ; &#39;&#39;</text>\n</g>\n<!-- V&#45;&gt;V -->\n<g id=\"edge21\" class=\"edge\">\n<title>V&#45;&gt;V</title>\n<path fill=\"none\" stroke=\"#000000\" d=\"M647.7639,-248.5414C645.1651,-258.9087 648.2426,-269 656.9965,-269 662.7413,-269 666.0414,-264.654 666.897,-258.7362\"/>\n<polygon fill=\"#000000\" stroke=\"#000000\" points=\"670.3754,-258.2913 666.2292,-248.5414 663.3904,-258.7489 670.3754,-258.2913\"/>\n<text text-anchor=\"middle\" x=\"656.9965\" y=\"-272.8\" font-family=\"Times,serif\" font-size=\"14.00\" fill=\"#000000\">c, b ; &#39;&#39;</text>\n</g>\n<!-- V&#45;&gt;F -->\n<g id=\"edge22\" class=\"edge\">\n<title>V&#45;&gt;F</title>\n<path fill=\"none\" stroke=\"#000000\" d=\"M674.6328,-236.7962C700.0067,-241.5347 748.0447,-247.789 786.9965,-237 814.7459,-229.3139 842.526,-211.6501 861.7386,-197.4668\"/>\n<polygon fill=\"#000000\" stroke=\"#000000\" points=\"864.0858,-200.0791 869.9322,-191.2434 859.8518,-194.5047 864.0858,-200.0791\"/>\n<text text-anchor=\"middle\" x=\"767.4965\" y=\"-245.8\" font-family=\"Times,serif\" font-size=\"14.00\" fill=\"#000000\">&#39;&#39;, # ; #</text>\n</g>\n<!-- Y&#45;&gt;U -->\n<g id=\"edge18\" class=\"edge\">\n<title>Y&#45;&gt;U</title>\n<path fill=\"none\" stroke=\"#000000\" d=\"M452.1522,-160.0543C470.8794,-162.1036 500.9459,-165.199 527,-167 603.6427,-172.2979 694.2336,-175.1438 739.2137,-176.3272\"/>\n<polygon fill=\"#000000\" stroke=\"#000000\" points=\"739.2902,-179.8301 749.3762,-176.5864 739.4688,-172.8324 739.2902,-179.8301\"/>\n<text text-anchor=\"middle\" x=\"602.4965\" y=\"-175.8\" font-family=\"Times,serif\" font-size=\"14.00\" fill=\"#000000\">&#39;&#39;, &#39;&#39; ; &#39;&#39;</text>\n</g>\n<!-- Y&#45;&gt;B -->\n<g id=\"edge6\" class=\"edge\">\n<title>Y&#45;&gt;B</title>\n<path fill=\"none\" stroke=\"#000000\" d=\"M449.6424,-148.823C468.3432,-137.8517 499.8662,-119.3579 521.8524,-106.4591\"/>\n<polygon fill=\"#000000\" stroke=\"#000000\" points=\"523.7719,-109.3909 530.6261,-101.3118 520.2297,-103.3533 523.7719,-109.3909\"/>\n<text text-anchor=\"middle\" x=\"489.5\" y=\"-139.8\" font-family=\"Times,serif\" font-size=\"14.00\" fill=\"#000000\">&#39;&#39;, a ; &#39;&#39;</text>\n</g>\n<!-- W -->\n<g id=\"node10\" class=\"node\">\n<title>W</title>\n<ellipse fill=\"none\" stroke=\"#000000\" cx=\"546.4983\" cy=\"-233\" rx=\"19.4965\" ry=\"19.4965\"/>\n<text text-anchor=\"middle\" x=\"546.4983\" y=\"-229.3\" font-family=\"Times,serif\" font-size=\"14.00\" fill=\"#000000\">W</text>\n</g>\n<!-- Y&#45;&gt;W -->\n<g id=\"edge17\" class=\"edge\">\n<title>Y&#45;&gt;W</title>\n<path fill=\"none\" stroke=\"#000000\" d=\"M444.272,-173.1279C450.8204,-181.8821 459.9467,-192.5971 470,-200 484.384,-210.5919 502.6932,-218.6444 517.7928,-224.1425\"/>\n<polygon fill=\"#000000\" stroke=\"#000000\" points=\"517.0512,-227.589 527.6459,-227.5407 519.3335,-220.9715 517.0512,-227.589\"/>\n<text text-anchor=\"middle\" x=\"489.5\" y=\"-223.8\" font-family=\"Times,serif\" font-size=\"14.00\" fill=\"#000000\">b, &#39;&#39; ; b</text>\n</g>\n<!-- S -->\n<g id=\"node9\" class=\"node\">\n<title>S</title>\n<ellipse fill=\"none\" stroke=\"#000000\" cx=\"220\" cy=\"-67\" rx=\"18\" ry=\"18\"/>\n<text text-anchor=\"middle\" x=\"220\" y=\"-63.3\" font-family=\"Times,serif\" font-size=\"14.00\" fill=\"#000000\">S</text>\n</g>\n<!-- S&#45;&gt;C -->\n<g id=\"edge8\" class=\"edge\">\n<title>S&#45;&gt;C</title>\n<path fill=\"none\" stroke=\"#000000\" d=\"M237.4208,-61.3724C258.2549,-55.1519 294.2948,-46 326,-46 326,-46 326,-46 546.4983,-46 574.3596,-46 606.1726,-46 628.4862,-46\"/>\n<polygon fill=\"#000000\" stroke=\"#000000\" points=\"628.6182,-49.5001 638.6181,-46 628.6181,-42.5001 628.6182,-49.5001\"/>\n<text text-anchor=\"middle\" x=\"434\" y=\"-49.8\" font-family=\"Times,serif\" font-size=\"14.00\" fill=\"#000000\">c, &#39;&#39; ; c</text>\n</g>\n<!-- S&#45;&gt;D -->\n<g id=\"edge9\" class=\"edge\">\n<title>S&#45;&gt;D</title>\n<path fill=\"none\" stroke=\"#000000\" d=\"M231.8168,-53.1176C249.9225,-33.4928 286.595,0 326,0 326,0 326,0 656.9965,0 693.3488,0 727.7814,-27.0236 748.268,-46.9994\"/>\n<polygon fill=\"#000000\" stroke=\"#000000\" points=\"745.8967,-49.5794 755.4118,-54.2392 750.8794,-44.6627 745.8967,-49.5794\"/>\n<text text-anchor=\"middle\" x=\"489.5\" y=\"-3.8\" font-family=\"Times,serif\" font-size=\"14.00\" fill=\"#000000\">&#39;&#39;, &#39;&#39; ; &#39;&#39;</text>\n</g>\n<!-- S&#45;&gt;X -->\n<g id=\"edge4\" class=\"edge\">\n<title>S&#45;&gt;X</title>\n<path fill=\"none\" stroke=\"#000000\" d=\"M231.6882,-81.1348C238.3024,-88.5544 247.029,-97.4403 256,-104 269.4151,-113.8093 285.9905,-122.2349 299.644,-128.3597\"/>\n<polygon fill=\"#000000\" stroke=\"#000000\" points=\"298.4149,-131.6414 308.9826,-132.3998 301.1944,-125.2168 298.4149,-131.6414\"/>\n<text text-anchor=\"middle\" x=\"273\" y=\"-126.8\" font-family=\"Times,serif\" font-size=\"14.00\" fill=\"#000000\">&#39;&#39;, a ; &#39;&#39;</text>\n</g>\n<!-- S&#45;&gt;B -->\n<g id=\"edge7\" class=\"edge\">\n<title>S&#45;&gt;B</title>\n<path fill=\"none\" stroke=\"#000000\" d=\"M238.019,-68.3797C292.0923,-72.5201 453.2535,-84.8602 518.5551,-89.8604\"/>\n<polygon fill=\"#000000\" stroke=\"#000000\" points=\"518.2969,-93.3508 528.5349,-90.6245 518.8314,-86.3712 518.2969,-93.3508\"/>\n<text text-anchor=\"middle\" x=\"380\" y=\"-83.8\" font-family=\"Times,serif\" font-size=\"14.00\" fill=\"#000000\">b, &#39;&#39; ; &#39;&#39;</text>\n</g>\n<!-- S&#45;&gt;S -->\n<g id=\"edge3\" class=\"edge\">\n<title>S&#45;&gt;S</title>\n<path fill=\"none\" stroke=\"#000000\" d=\"M211.0212,-82.916C208.679,-93.1504 211.6719,-103 220,-103 225.4653,-103 228.633,-98.7581 229.503,-92.9494\"/>\n<polygon fill=\"#000000\" stroke=\"#000000\" points=\"232.9958,-92.7198 228.9788,-82.916 226.0054,-93.0851 232.9958,-92.7198\"/>\n<text text-anchor=\"middle\" x=\"220\" y=\"-106.8\" font-family=\"Times,serif\" font-size=\"14.00\" fill=\"#000000\">a, &#39;&#39; ; a</text>\n</g>\n<!-- W&#45;&gt;V -->\n<g id=\"edge20\" class=\"edge\">\n<title>W&#45;&gt;V</title>\n<path fill=\"none\" stroke=\"#000000\" d=\"M565.9988,-233C583.3544,-233 608.9581,-233 628.5892,-233\"/>\n<polygon fill=\"#000000\" stroke=\"#000000\" points=\"628.7907,-236.5001 638.7906,-233 628.7906,-229.5001 628.7907,-236.5001\"/>\n<text text-anchor=\"middle\" x=\"602.4965\" y=\"-236.8\" font-family=\"Times,serif\" font-size=\"14.00\" fill=\"#000000\">c, b ; &#39;&#39;</text>\n</g>\n<!-- W&#45;&gt;W -->\n<g id=\"edge19\" class=\"edge\">\n<title>W&#45;&gt;W</title>\n<path fill=\"none\" stroke=\"#000000\" d=\"M537.0061,-250.3576C534.8967,-260.7331 538.0608,-270.4983 546.4983,-270.4983 552.0354,-270.4983 555.3014,-266.2928 556.2964,-260.4691\"/>\n<polygon fill=\"#000000\" stroke=\"#000000\" points=\"559.7913,-260.2472 555.9905,-250.3576 552.7945,-260.4589 559.7913,-260.2472\"/>\n<text text-anchor=\"middle\" x=\"546.4983\" y=\"-274.2983\" font-family=\"Times,serif\" font-size=\"14.00\" fill=\"#000000\">b, &#39;&#39; ; b</text>\n</g>\n<!-- I&#45;&gt;S -->\n<g id=\"edge2\" class=\"edge\">\n<title>I&#45;&gt;S</title>\n<path fill=\"none\" stroke=\"#000000\" d=\"M127.3294,-67C144.7627,-67 171.2518,-67 191.4511,-67\"/>\n<polygon fill=\"#000000\" stroke=\"#000000\" points=\"191.6434,-70.5001 201.6434,-67 191.6433,-63.5001 191.6434,-70.5001\"/>\n<text text-anchor=\"middle\" x=\"164.5\" y=\"-70.8\" font-family=\"Times,serif\" font-size=\"14.00\" fill=\"#000000\">&#39;&#39;, # ; #</text>\n</g>\n</g>\n</svg>\n"
          },
          "metadata": {},
          "execution_count": 3
        }
      ]
    },
    {
      "cell_type": "markdown",
      "metadata": {
        "id": "MPOU6xBQN1b_"
      },
      "source": [
        "# Question 1, Part (b) : "
      ]
    },
    {
      "cell_type": "code",
      "metadata": {
        "id": "vYEz5XbON1b_",
        "colab": {
          "base_uri": "https://localhost:8080/"
        },
        "outputId": "fb02eed6-c49e-469d-e65c-8602bfbe45d7"
      },
      "source": [
        "explore_pda('d', Labcd)"
      ],
      "execution_count": 4,
      "outputs": [
        {
          "output_type": "stream",
          "name": "stdout",
          "text": [
            "String d accepted by your PDA in 1 ways :-) \n",
            "Here are the ways: \n",
            "Final state  ('F', '', '#')\n",
            "Reached as follows:\n",
            "->  ('I', 'd', '#')\n",
            "->  ('S', 'd', '#')\n",
            "->  ('D', 'd', '#')\n",
            "->  ('F', '', '#') .\n"
          ]
        }
      ]
    },
    {
      "cell_type": "code",
      "metadata": {
        "id": "n6R9t6O6N1cA",
        "colab": {
          "base_uri": "https://localhost:8080/"
        },
        "outputId": "69ac0c2c-fa37-419a-a1d4-e7ed5defa8be"
      },
      "source": [
        "explore_pda('dd', Labcd)"
      ],
      "execution_count": 5,
      "outputs": [
        {
          "output_type": "stream",
          "name": "stdout",
          "text": [
            "String dd accepted by your PDA in 1 ways :-) \n",
            "Here are the ways: \n",
            "Final state  ('F', '', '#')\n",
            "Reached as follows:\n",
            "->  ('I', 'dd', '#')\n",
            "->  ('S', 'dd', '#')\n",
            "->  ('D', 'dd', '#')\n",
            "->  ('D', 'd', '#')\n",
            "->  ('F', '', '#') .\n"
          ]
        }
      ]
    },
    {
      "cell_type": "code",
      "metadata": {
        "id": "z1QDsrF2N1cA",
        "colab": {
          "base_uri": "https://localhost:8080/"
        },
        "outputId": "c766031c-cb1b-4f31-934b-241b090d8fec"
      },
      "source": [
        "explore_pda('cdd', Labcd)"
      ],
      "execution_count": 6,
      "outputs": [
        {
          "output_type": "stream",
          "name": "stdout",
          "text": [
            "String cdd accepted by your PDA in 1 ways :-) \n",
            "Here are the ways: \n",
            "Final state  ('F', '', '#')\n",
            "Reached as follows:\n",
            "->  ('I', 'cdd', '#')\n",
            "->  ('S', 'cdd', '#')\n",
            "->  ('C', 'dd', 'c#')\n",
            "->  ('D', 'd', '#')\n",
            "->  ('F', '', '#') .\n"
          ]
        }
      ]
    },
    {
      "cell_type": "code",
      "metadata": {
        "id": "pZJOGHaPN1cB",
        "colab": {
          "base_uri": "https://localhost:8080/"
        },
        "outputId": "0ba93a5e-cfce-40c8-e453-e01d9b617a46"
      },
      "source": [
        "explore_pda('ccdd', Labcd)"
      ],
      "execution_count": 7,
      "outputs": [
        {
          "output_type": "stream",
          "name": "stdout",
          "text": [
            "String ccdd rejected by your PDA :-(\n",
            "Visited states are:\n",
            "{('I', 'ccdd', '#'), ('C', 'cdd', 'c#'), ('D', 'd', 'c#'), ('D', '', '#'), ('C', 'dd', 'cc#'), ('D', 'ccdd', '#'), ('S', 'ccdd', '#')}\n"
          ]
        }
      ]
    },
    {
      "cell_type": "code",
      "metadata": {
        "id": "LzlN4xH4N1cB",
        "colab": {
          "base_uri": "https://localhost:8080/"
        },
        "outputId": "03525f6f-f330-41ed-d5fa-1dcea51da5e6"
      },
      "source": [
        "explore_pda('ccd', Labcd)"
      ],
      "execution_count": 8,
      "outputs": [
        {
          "output_type": "stream",
          "name": "stdout",
          "text": [
            "String ccd rejected by your PDA :-(\n",
            "Visited states are:\n",
            "{('C', 'cd', 'c#'), ('I', 'ccd', '#'), ('C', 'd', 'cc#'), ('D', 'ccd', '#'), ('D', '', 'c#'), ('S', 'ccd', '#')}\n"
          ]
        }
      ]
    },
    {
      "cell_type": "code",
      "metadata": {
        "id": "Cex9HoFON1cC",
        "colab": {
          "base_uri": "https://localhost:8080/"
        },
        "outputId": "0a48a4e9-ab29-4784-c5d8-3f1542fbc3a6"
      },
      "source": [
        "explore_pda('acd', Labcd)"
      ],
      "execution_count": 9,
      "outputs": [
        {
          "output_type": "stream",
          "name": "stdout",
          "text": [
            "String acd rejected by your PDA :-(\n",
            "Visited states are:\n",
            "{('S', 'cd', 'a#'), ('S', 'acd', '#'), ('D', '', 'a#'), ('D', 'cd', 'a#'), ('D', 'acd', '#'), ('C', 'd', 'ca#'), ('I', 'acd', '#'), ('X', 'cd', '#')}\n"
          ]
        }
      ]
    },
    {
      "cell_type": "code",
      "metadata": {
        "id": "63ezy3chN1cC",
        "colab": {
          "base_uri": "https://localhost:8080/"
        },
        "outputId": "2914c85b-acfb-4153-e303-85c05b66193d"
      },
      "source": [
        "explore_pda('aacd', Labcd)"
      ],
      "execution_count": 10,
      "outputs": [
        {
          "output_type": "stream",
          "name": "stdout",
          "text": [
            "String aacd rejected by your PDA :-(\n",
            "Visited states are:\n",
            "{('D', '', 'aa#'), ('S', 'aacd', '#'), ('U', 'cd', '#'), ('S', 'acd', 'a#'), ('D', 'cd', 'aa#'), ('X', 'cd', 'a#'), ('X', 'acd', '#'), ('F', 'cd', '#'), ('D', 'aacd', '#'), ('C', 'd', 'caa#'), ('D', 'acd', 'a#'), ('I', 'aacd', '#'), ('S', 'cd', 'aa#'), ('Y', 'cd', '#')}\n"
          ]
        }
      ]
    },
    {
      "cell_type": "code",
      "metadata": {
        "id": "YcOLKdaAN1cD",
        "colab": {
          "base_uri": "https://localhost:8080/"
        },
        "outputId": "9fb79bfd-465a-4617-aa08-974d9b0ee634"
      },
      "source": [
        "explore_pda('aaad', Labcd)"
      ],
      "execution_count": 11,
      "outputs": [
        {
          "output_type": "stream",
          "name": "stdout",
          "text": [
            "String aaad accepted by your PDA in 2 ways :-) \n",
            "Here are the ways: \n",
            "Final state  ('F', '', 'a#')\n",
            "Reached as follows:\n",
            "->  ('I', 'aaad', '#')\n",
            "->  ('S', 'aaad', '#')\n",
            "->  ('S', 'aad', 'a#')\n",
            "->  ('S', 'ad', 'aa#')\n",
            "->  ('S', 'd', 'aaa#')\n",
            "->  ('X', 'd', 'aa#')\n",
            "->  ('Y', 'd', 'a#')\n",
            "->  ('U', 'd', 'a#')\n",
            "->  ('U', '', 'a#')\n",
            "->  ('F', '', 'a#') .\n",
            "Final state  ('F', '', '#')\n",
            "Reached as follows:\n",
            "->  ('I', 'aaad', '#')\n",
            "->  ('S', 'aaad', '#')\n",
            "->  ('S', 'aad', 'a#')\n",
            "->  ('S', 'ad', 'aa#')\n",
            "->  ('S', 'd', 'aaa#')\n",
            "->  ('X', 'd', 'aa#')\n",
            "->  ('Y', 'd', 'a#')\n",
            "->  ('B', 'd', '#')\n",
            "->  ('D', 'd', '#')\n",
            "->  ('F', '', '#') .\n"
          ]
        }
      ]
    },
    {
      "cell_type": "code",
      "metadata": {
        "id": "tAcQwG_GN1cD",
        "colab": {
          "base_uri": "https://localhost:8080/"
        },
        "outputId": "99a3228b-67e8-4eef-ae35-788267e5d887"
      },
      "source": [
        "explore_pda('aaaccdd', Labcd)"
      ],
      "execution_count": 12,
      "outputs": [
        {
          "output_type": "stream",
          "name": "stdout",
          "text": [
            "String aaaccdd rejected by your PDA :-(\n",
            "Visited states are:\n",
            "{('D', 'accdd', 'aa#'), ('D', 'd', 'c#'), ('D', 'aaccdd', 'a#'), ('S', 'aaaccdd', '#'), ('D', '', '#'), ('F', 'accdd', '#'), ('U', 'accdd', '#'), ('X', 'aaccdd', '#'), ('Y', 'accdd', '#'), ('I', 'aaaccdd', '#'), ('S', 'ccdd', 'aaa#'), ('B', 'ccdd', '#'), ('C', 'cdd', 'c#'), ('D', 'ccdd', 'aaa#'), ('D', 'd', 'caaa#'), ('C', 'dd', 'cc#'), ('D', 'ccdd', '#'), ('X', 'ccdd', 'aa#'), ('D', '', 'aaa#'), ('S', 'accdd', 'aa#'), ('S', 'aaccdd', 'a#'), ('D', 'aaaccdd', '#'), ('C', 'dd', 'ccaaa#'), ('Y', 'ccdd', 'a#'), ('F', 'ccdd', 'a#'), ('X', 'accdd', 'a#'), ('U', 'ccdd', 'a#'), ('C', 'cdd', 'caaa#')}\n"
          ]
        }
      ]
    },
    {
      "cell_type": "code",
      "metadata": {
        "id": "_ig5QCWpN1cD",
        "colab": {
          "base_uri": "https://localhost:8080/"
        },
        "outputId": "cdde5037-c359-48fe-dc37-c99d356611db"
      },
      "source": [
        "explore_pda('aaaccddd', Labcd)"
      ],
      "execution_count": 13,
      "outputs": [
        {
          "output_type": "stream",
          "name": "stdout",
          "text": [
            "String aaaccddd accepted by your PDA in 1 ways :-) \n",
            "Here are the ways: \n",
            "Final state  ('F', '', '#')\n",
            "Reached as follows:\n",
            "->  ('I', 'aaaccddd', '#')\n",
            "->  ('S', 'aaaccddd', '#')\n",
            "->  ('S', 'aaccddd', 'a#')\n",
            "->  ('S', 'accddd', 'aa#')\n",
            "->  ('S', 'ccddd', 'aaa#')\n",
            "->  ('X', 'ccddd', 'aa#')\n",
            "->  ('Y', 'ccddd', 'a#')\n",
            "->  ('B', 'ccddd', '#')\n",
            "->  ('C', 'cddd', 'c#')\n",
            "->  ('C', 'ddd', 'cc#')\n",
            "->  ('D', 'dd', 'c#')\n",
            "->  ('D', 'd', '#')\n",
            "->  ('F', '', '#') .\n"
          ]
        }
      ]
    },
    {
      "cell_type": "code",
      "metadata": {
        "id": "CGJ0HcZhN1cE",
        "colab": {
          "base_uri": "https://localhost:8080/"
        },
        "outputId": "1d44c83e-a6b2-4a86-cbbf-6f41eccf8dd0"
      },
      "source": [
        "explore_pda('aa', Labcd)"
      ],
      "execution_count": 14,
      "outputs": [
        {
          "output_type": "stream",
          "name": "stdout",
          "text": [
            "String aa accepted by your PDA in 1 ways :-) \n",
            "Here are the ways: \n",
            "Final state  ('F', '', '#')\n",
            "Reached as follows:\n",
            "->  ('I', 'aa', '#')\n",
            "->  ('S', 'aa', '#')\n",
            "->  ('S', 'a', 'a#')\n",
            "->  ('S', '', 'aa#')\n",
            "->  ('X', '', 'a#')\n",
            "->  ('Y', '', '#')\n",
            "->  ('U', '', '#')\n",
            "->  ('F', '', '#') .\n"
          ]
        }
      ]
    },
    {
      "cell_type": "code",
      "metadata": {
        "id": "vZP5Bbmw5WSr",
        "colab": {
          "base_uri": "https://localhost:8080/"
        },
        "outputId": "ff223fc6-cd5d-49fc-842a-5bfad49e91ff"
      },
      "source": [
        "explore_pda('aab', Labcd)"
      ],
      "execution_count": 15,
      "outputs": [
        {
          "output_type": "stream",
          "name": "stdout",
          "text": [
            "String aab rejected by your PDA :-(\n",
            "Visited states are:\n",
            "{('D', '', 'aa#'), ('B', '', 'aa#'), ('U', 'b', '#'), ('D', '', '#'), ('F', 'b', '#'), ('Y', 'b', '#'), ('B', '', '#'), ('X', 'b', 'a#'), ('D', 'b', 'aa#'), ('D', 'ab', 'a#'), ('S', 'aab', '#'), ('X', 'ab', '#'), ('B', '', 'a#'), ('S', 'ab', 'a#'), ('S', 'b', 'aa#'), ('D', 'aab', '#'), ('D', '', 'a#'), ('I', 'aab', '#'), ('W', '', 'b#')}\n"
          ]
        }
      ]
    },
    {
      "cell_type": "code",
      "metadata": {
        "id": "yULsX2LZ5Zyo",
        "colab": {
          "base_uri": "https://localhost:8080/"
        },
        "outputId": "04c74c84-b56e-4e0d-8d41-53ae9707200d"
      },
      "source": [
        "explore_pda('aabc', Labcd)"
      ],
      "execution_count": 16,
      "outputs": [
        {
          "output_type": "stream",
          "name": "stdout",
          "text": [
            "String aabc accepted by your PDA in 1 ways :-) \n",
            "Here are the ways: \n",
            "Final state  ('F', '', '#')\n",
            "Reached as follows:\n",
            "->  ('I', 'aabc', '#')\n",
            "->  ('S', 'aabc', '#')\n",
            "->  ('S', 'abc', 'a#')\n",
            "->  ('S', 'bc', 'aa#')\n",
            "->  ('X', 'bc', 'a#')\n",
            "->  ('Y', 'bc', '#')\n",
            "->  ('W', 'c', 'b#')\n",
            "->  ('V', '', '#')\n",
            "->  ('F', '', '#') .\n"
          ]
        }
      ]
    },
    {
      "cell_type": "code",
      "metadata": {
        "id": "PTOC69ja5d5r",
        "colab": {
          "base_uri": "https://localhost:8080/"
        },
        "outputId": "838a9de8-763f-4255-ca05-f8c91a24bce0"
      },
      "source": [
        "explore_pda('aabbccd', Labcd)"
      ],
      "execution_count": 17,
      "outputs": [
        {
          "output_type": "stream",
          "name": "stdout",
          "text": [
            "String aabbccd accepted by your PDA in 1 ways :-) \n",
            "Here are the ways: \n",
            "Final state  ('F', '', '#')\n",
            "Reached as follows:\n",
            "->  ('I', 'aabbccd', '#')\n",
            "->  ('S', 'aabbccd', '#')\n",
            "->  ('S', 'abbccd', 'a#')\n",
            "->  ('S', 'bbccd', 'aa#')\n",
            "->  ('X', 'bbccd', 'a#')\n",
            "->  ('Y', 'bbccd', '#')\n",
            "->  ('W', 'bccd', 'b#')\n",
            "->  ('W', 'ccd', 'bb#')\n",
            "->  ('V', 'cd', 'b#')\n",
            "->  ('V', 'd', '#')\n",
            "->  ('U', '', '#')\n",
            "->  ('F', '', '#') .\n"
          ]
        }
      ]
    },
    {
      "cell_type": "code",
      "metadata": {
        "id": "sLm_UYPf5_9l",
        "colab": {
          "base_uri": "https://localhost:8080/"
        },
        "outputId": "78323ec3-05a9-4241-9340-20a7c2e59fd7"
      },
      "source": [
        "explore_pda('aabcddddd', Labcd)"
      ],
      "execution_count": 18,
      "outputs": [
        {
          "output_type": "stream",
          "name": "stdout",
          "text": [
            "String aabcddddd accepted by your PDA in 2 ways :-) \n",
            "Here are the ways: \n",
            "Final state  ('F', '', '#')\n",
            "Reached as follows:\n",
            "->  ('I', 'aabcddddd', '#')\n",
            "->  ('S', 'aabcddddd', '#')\n",
            "->  ('S', 'abcddddd', 'a#')\n",
            "->  ('S', 'bcddddd', 'aa#')\n",
            "->  ('B', 'cddddd', 'aa#')\n",
            "->  ('B', 'cddddd', 'a#')\n",
            "->  ('B', 'cddddd', '#')\n",
            "->  ('C', 'ddddd', 'c#')\n",
            "->  ('D', 'dddd', '#')\n",
            "->  ('D', 'ddd', '#')\n",
            "->  ('D', 'dd', '#')\n",
            "->  ('D', 'd', '#')\n",
            "->  ('F', '', '#') .\n",
            "Final state  ('F', '', '#')\n",
            "Reached as follows:\n",
            "->  ('I', 'aabcddddd', '#')\n",
            "->  ('S', 'aabcddddd', '#')\n",
            "->  ('S', 'abcddddd', 'a#')\n",
            "->  ('S', 'bcddddd', 'aa#')\n",
            "->  ('X', 'bcddddd', 'a#')\n",
            "->  ('Y', 'bcddddd', '#')\n",
            "->  ('W', 'cddddd', 'b#')\n",
            "->  ('V', 'ddddd', '#')\n",
            "->  ('U', 'dddd', '#')\n",
            "->  ('U', 'ddd', '#')\n",
            "->  ('U', 'dd', '#')\n",
            "->  ('U', 'd', '#')\n",
            "->  ('U', '', '#')\n",
            "->  ('F', '', '#') .\n"
          ]
        }
      ]
    },
    {
      "cell_type": "code",
      "metadata": {
        "id": "_WQdDrGq6FRU",
        "colab": {
          "base_uri": "https://localhost:8080/"
        },
        "outputId": "c371d33c-87d6-4449-f15d-56c8afbf9ea0"
      },
      "source": [
        "explore_pda('aabcc', Labcd)"
      ],
      "execution_count": 19,
      "outputs": [
        {
          "output_type": "stream",
          "name": "stdout",
          "text": [
            "String aabcc rejected by your PDA :-(\n",
            "Visited states are:\n",
            "{('V', 'c', '#'), ('D', 'aabcc', '#'), ('X', 'bcc', 'a#'), ('S', 'abcc', 'a#'), ('Y', 'bcc', '#'), ('D', 'cc', 'a#'), ('D', 'bcc', 'aa#'), ('S', 'aabcc', '#'), ('F', 'bcc', '#'), ('X', 'abcc', '#'), ('U', 'bcc', '#'), ('I', 'aabcc', '#'), ('W', 'cc', 'b#'), ('C', 'c', 'c#'), ('D', 'cc', 'aa#'), ('C', '', 'cc#'), ('C', 'c', 'caa#'), ('B', 'cc', 'aa#'), ('D', 'cc', '#'), ('C', 'c', 'ca#'), ('B', 'cc', '#'), ('C', '', 'ccaa#'), ('D', 'abcc', 'a#'), ('F', 'c', '#'), ('S', 'bcc', 'aa#'), ('B', 'cc', 'a#'), ('C', '', 'cca#')}\n"
          ]
        }
      ]
    },
    {
      "cell_type": "code",
      "metadata": {
        "id": "4npjx-7yHkwT",
        "colab": {
          "base_uri": "https://localhost:8080/"
        },
        "outputId": "6afa8a0d-e65a-4243-9e34-d9d007891d2c"
      },
      "source": [
        "explore_pda('aaaaaaaaaabcdd', Labcd)"
      ],
      "execution_count": 20,
      "outputs": [
        {
          "output_type": "stream",
          "name": "stdout",
          "text": [
            "String aaaaaaaaaabcdd accepted by your PDA in 10 ways :-) \n",
            "Here are the ways: \n",
            "Final state  ('F', '', 'aaaaaaaa#')\n",
            "Reached as follows:\n",
            "->  ('I', 'aaaaaaaaaabcdd', '#')\n",
            "->  ('S', 'aaaaaaaaaabcdd', '#')\n",
            "->  ('S', 'aaaaaaaaabcdd', 'a#')\n",
            "->  ('S', 'aaaaaaaabcdd', 'aa#')\n",
            "->  ('S', 'aaaaaaabcdd', 'aaa#')\n",
            "->  ('S', 'aaaaaabcdd', 'aaaa#')\n",
            "->  ('S', 'aaaaabcdd', 'aaaaa#')\n",
            "->  ('S', 'aaaabcdd', 'aaaaaa#')\n",
            "->  ('S', 'aaabcdd', 'aaaaaaa#')\n",
            "->  ('S', 'aabcdd', 'aaaaaaaa#')\n",
            "->  ('S', 'abcdd', 'aaaaaaaaa#')\n",
            "->  ('S', 'bcdd', 'aaaaaaaaaa#')\n",
            "->  ('X', 'bcdd', 'aaaaaaaaa#')\n",
            "->  ('Y', 'bcdd', 'aaaaaaaa#')\n",
            "->  ('W', 'cdd', 'baaaaaaaa#')\n",
            "->  ('V', 'dd', 'aaaaaaaa#')\n",
            "->  ('U', 'd', 'aaaaaaaa#')\n",
            "->  ('U', '', 'aaaaaaaa#')\n",
            "->  ('F', '', 'aaaaaaaa#') .\n",
            "Final state  ('F', '', '#')\n",
            "Reached as follows:\n",
            "->  ('I', 'aaaaaaaaaabcdd', '#')\n",
            "->  ('S', 'aaaaaaaaaabcdd', '#')\n",
            "->  ('S', 'aaaaaaaaabcdd', 'a#')\n",
            "->  ('S', 'aaaaaaaabcdd', 'aa#')\n",
            "->  ('S', 'aaaaaaabcdd', 'aaa#')\n",
            "->  ('S', 'aaaaaabcdd', 'aaaa#')\n",
            "->  ('S', 'aaaaabcdd', 'aaaaa#')\n",
            "->  ('S', 'aaaabcdd', 'aaaaaa#')\n",
            "->  ('S', 'aaabcdd', 'aaaaaaa#')\n",
            "->  ('S', 'aabcdd', 'aaaaaaaa#')\n",
            "->  ('S', 'abcdd', 'aaaaaaaaa#')\n",
            "->  ('S', 'bcdd', 'aaaaaaaaaa#')\n",
            "->  ('X', 'bcdd', 'aaaaaaaaa#')\n",
            "->  ('Y', 'bcdd', 'aaaaaaaa#')\n",
            "->  ('B', 'bcdd', 'aaaaaaa#')\n",
            "->  ('B', 'bcdd', 'aaaaaa#')\n",
            "->  ('B', 'bcdd', 'aaaaa#')\n",
            "->  ('B', 'bcdd', 'aaaa#')\n",
            "->  ('B', 'bcdd', 'aaa#')\n",
            "->  ('B', 'bcdd', 'aa#')\n",
            "->  ('B', 'bcdd', 'a#')\n",
            "->  ('B', 'bcdd', '#')\n",
            "->  ('B', 'cdd', '#')\n",
            "->  ('C', 'dd', 'c#')\n",
            "->  ('D', 'd', '#')\n",
            "->  ('F', '', '#') .\n",
            "Final state  ('F', '', '#')\n",
            "Reached as follows:\n",
            "->  ('I', 'aaaaaaaaaabcdd', '#')\n",
            "->  ('S', 'aaaaaaaaaabcdd', '#')\n",
            "->  ('S', 'aaaaaaaaabcdd', 'a#')\n",
            "->  ('S', 'aaaaaaaabcdd', 'aa#')\n",
            "->  ('S', 'aaaaaaabcdd', 'aaa#')\n",
            "->  ('S', 'aaaaaabcdd', 'aaaa#')\n",
            "->  ('S', 'aaaaabcdd', 'aaaaa#')\n",
            "->  ('S', 'aaaabcdd', 'aaaaaa#')\n",
            "->  ('S', 'aaabcdd', 'aaaaaaa#')\n",
            "->  ('S', 'aabcdd', 'aaaaaaaa#')\n",
            "->  ('S', 'abcdd', 'aaaaaaaaa#')\n",
            "->  ('S', 'bcdd', 'aaaaaaaaaa#')\n",
            "->  ('X', 'bcdd', 'aaaaaaaaa#')\n",
            "->  ('Y', 'bcdd', 'aaaaaaaa#')\n",
            "->  ('B', 'bcdd', 'aaaaaaa#')\n",
            "->  ('B', 'bcdd', 'aaaaaa#')\n",
            "->  ('B', 'bcdd', 'aaaaa#')\n",
            "->  ('B', 'bcdd', 'aaaa#')\n",
            "->  ('B', 'bcdd', 'aaa#')\n",
            "->  ('B', 'bcdd', 'aa#')\n",
            "->  ('B', 'bcdd', 'a#')\n",
            "->  ('B', 'cdd', 'a#')\n",
            "->  ('B', 'cdd', '#')\n",
            "->  ('C', 'dd', 'c#')\n",
            "->  ('D', 'd', '#')\n",
            "->  ('F', '', '#') .\n",
            "Final state  ('F', '', '#')\n",
            "Reached as follows:\n",
            "->  ('I', 'aaaaaaaaaabcdd', '#')\n",
            "->  ('S', 'aaaaaaaaaabcdd', '#')\n",
            "->  ('S', 'aaaaaaaaabcdd', 'a#')\n",
            "->  ('S', 'aaaaaaaabcdd', 'aa#')\n",
            "->  ('S', 'aaaaaaabcdd', 'aaa#')\n",
            "->  ('S', 'aaaaaabcdd', 'aaaa#')\n",
            "->  ('S', 'aaaaabcdd', 'aaaaa#')\n",
            "->  ('S', 'aaaabcdd', 'aaaaaa#')\n",
            "->  ('S', 'aaabcdd', 'aaaaaaa#')\n",
            "->  ('S', 'aabcdd', 'aaaaaaaa#')\n",
            "->  ('S', 'abcdd', 'aaaaaaaaa#')\n",
            "->  ('S', 'bcdd', 'aaaaaaaaaa#')\n",
            "->  ('X', 'bcdd', 'aaaaaaaaa#')\n",
            "->  ('Y', 'bcdd', 'aaaaaaaa#')\n",
            "->  ('B', 'bcdd', 'aaaaaaa#')\n",
            "->  ('B', 'bcdd', 'aaaaaa#')\n",
            "->  ('B', 'bcdd', 'aaaaa#')\n",
            "->  ('B', 'bcdd', 'aaaa#')\n",
            "->  ('B', 'bcdd', 'aaa#')\n",
            "->  ('B', 'bcdd', 'aa#')\n",
            "->  ('B', 'cdd', 'aa#')\n",
            "->  ('B', 'cdd', 'a#')\n",
            "->  ('B', 'cdd', '#')\n",
            "->  ('C', 'dd', 'c#')\n",
            "->  ('D', 'd', '#')\n",
            "->  ('F', '', '#') .\n",
            "Final state  ('F', '', '#')\n",
            "Reached as follows:\n",
            "->  ('I', 'aaaaaaaaaabcdd', '#')\n",
            "->  ('S', 'aaaaaaaaaabcdd', '#')\n",
            "->  ('S', 'aaaaaaaaabcdd', 'a#')\n",
            "->  ('S', 'aaaaaaaabcdd', 'aa#')\n",
            "->  ('S', 'aaaaaaabcdd', 'aaa#')\n",
            "->  ('S', 'aaaaaabcdd', 'aaaa#')\n",
            "->  ('S', 'aaaaabcdd', 'aaaaa#')\n",
            "->  ('S', 'aaaabcdd', 'aaaaaa#')\n",
            "->  ('S', 'aaabcdd', 'aaaaaaa#')\n",
            "->  ('S', 'aabcdd', 'aaaaaaaa#')\n",
            "->  ('S', 'abcdd', 'aaaaaaaaa#')\n",
            "->  ('S', 'bcdd', 'aaaaaaaaaa#')\n",
            "->  ('X', 'bcdd', 'aaaaaaaaa#')\n",
            "->  ('Y', 'bcdd', 'aaaaaaaa#')\n",
            "->  ('B', 'bcdd', 'aaaaaaa#')\n",
            "->  ('B', 'bcdd', 'aaaaaa#')\n",
            "->  ('B', 'bcdd', 'aaaaa#')\n",
            "->  ('B', 'bcdd', 'aaaa#')\n",
            "->  ('B', 'bcdd', 'aaa#')\n",
            "->  ('B', 'cdd', 'aaa#')\n",
            "->  ('B', 'cdd', 'aa#')\n",
            "->  ('B', 'cdd', 'a#')\n",
            "->  ('B', 'cdd', '#')\n",
            "->  ('C', 'dd', 'c#')\n",
            "->  ('D', 'd', '#')\n",
            "->  ('F', '', '#') .\n",
            "Final state  ('F', '', '#')\n",
            "Reached as follows:\n",
            "->  ('I', 'aaaaaaaaaabcdd', '#')\n",
            "->  ('S', 'aaaaaaaaaabcdd', '#')\n",
            "->  ('S', 'aaaaaaaaabcdd', 'a#')\n",
            "->  ('S', 'aaaaaaaabcdd', 'aa#')\n",
            "->  ('S', 'aaaaaaabcdd', 'aaa#')\n",
            "->  ('S', 'aaaaaabcdd', 'aaaa#')\n",
            "->  ('S', 'aaaaabcdd', 'aaaaa#')\n",
            "->  ('S', 'aaaabcdd', 'aaaaaa#')\n",
            "->  ('S', 'aaabcdd', 'aaaaaaa#')\n",
            "->  ('S', 'aabcdd', 'aaaaaaaa#')\n",
            "->  ('S', 'abcdd', 'aaaaaaaaa#')\n",
            "->  ('S', 'bcdd', 'aaaaaaaaaa#')\n",
            "->  ('X', 'bcdd', 'aaaaaaaaa#')\n",
            "->  ('Y', 'bcdd', 'aaaaaaaa#')\n",
            "->  ('B', 'bcdd', 'aaaaaaa#')\n",
            "->  ('B', 'bcdd', 'aaaaaa#')\n",
            "->  ('B', 'bcdd', 'aaaaa#')\n",
            "->  ('B', 'bcdd', 'aaaa#')\n",
            "->  ('B', 'cdd', 'aaaa#')\n",
            "->  ('B', 'cdd', 'aaa#')\n",
            "->  ('B', 'cdd', 'aa#')\n",
            "->  ('B', 'cdd', 'a#')\n",
            "->  ('B', 'cdd', '#')\n",
            "->  ('C', 'dd', 'c#')\n",
            "->  ('D', 'd', '#')\n",
            "->  ('F', '', '#') .\n",
            "Final state  ('F', '', '#')\n",
            "Reached as follows:\n",
            "->  ('I', 'aaaaaaaaaabcdd', '#')\n",
            "->  ('S', 'aaaaaaaaaabcdd', '#')\n",
            "->  ('S', 'aaaaaaaaabcdd', 'a#')\n",
            "->  ('S', 'aaaaaaaabcdd', 'aa#')\n",
            "->  ('S', 'aaaaaaabcdd', 'aaa#')\n",
            "->  ('S', 'aaaaaabcdd', 'aaaa#')\n",
            "->  ('S', 'aaaaabcdd', 'aaaaa#')\n",
            "->  ('S', 'aaaabcdd', 'aaaaaa#')\n",
            "->  ('S', 'aaabcdd', 'aaaaaaa#')\n",
            "->  ('S', 'aabcdd', 'aaaaaaaa#')\n",
            "->  ('S', 'abcdd', 'aaaaaaaaa#')\n",
            "->  ('S', 'bcdd', 'aaaaaaaaaa#')\n",
            "->  ('X', 'bcdd', 'aaaaaaaaa#')\n",
            "->  ('Y', 'bcdd', 'aaaaaaaa#')\n",
            "->  ('B', 'bcdd', 'aaaaaaa#')\n",
            "->  ('B', 'bcdd', 'aaaaaa#')\n",
            "->  ('B', 'bcdd', 'aaaaa#')\n",
            "->  ('B', 'cdd', 'aaaaa#')\n",
            "->  ('B', 'cdd', 'aaaa#')\n",
            "->  ('B', 'cdd', 'aaa#')\n",
            "->  ('B', 'cdd', 'aa#')\n",
            "->  ('B', 'cdd', 'a#')\n",
            "->  ('B', 'cdd', '#')\n",
            "->  ('C', 'dd', 'c#')\n",
            "->  ('D', 'd', '#')\n",
            "->  ('F', '', '#') .\n",
            "Final state  ('F', '', '#')\n",
            "Reached as follows:\n",
            "->  ('I', 'aaaaaaaaaabcdd', '#')\n",
            "->  ('S', 'aaaaaaaaaabcdd', '#')\n",
            "->  ('S', 'aaaaaaaaabcdd', 'a#')\n",
            "->  ('S', 'aaaaaaaabcdd', 'aa#')\n",
            "->  ('S', 'aaaaaaabcdd', 'aaa#')\n",
            "->  ('S', 'aaaaaabcdd', 'aaaa#')\n",
            "->  ('S', 'aaaaabcdd', 'aaaaa#')\n",
            "->  ('S', 'aaaabcdd', 'aaaaaa#')\n",
            "->  ('S', 'aaabcdd', 'aaaaaaa#')\n",
            "->  ('S', 'aabcdd', 'aaaaaaaa#')\n",
            "->  ('S', 'abcdd', 'aaaaaaaaa#')\n",
            "->  ('S', 'bcdd', 'aaaaaaaaaa#')\n",
            "->  ('X', 'bcdd', 'aaaaaaaaa#')\n",
            "->  ('Y', 'bcdd', 'aaaaaaaa#')\n",
            "->  ('B', 'bcdd', 'aaaaaaa#')\n",
            "->  ('B', 'bcdd', 'aaaaaa#')\n",
            "->  ('B', 'cdd', 'aaaaaa#')\n",
            "->  ('B', 'cdd', 'aaaaa#')\n",
            "->  ('B', 'cdd', 'aaaa#')\n",
            "->  ('B', 'cdd', 'aaa#')\n",
            "->  ('B', 'cdd', 'aa#')\n",
            "->  ('B', 'cdd', 'a#')\n",
            "->  ('B', 'cdd', '#')\n",
            "->  ('C', 'dd', 'c#')\n",
            "->  ('D', 'd', '#')\n",
            "->  ('F', '', '#') .\n",
            "Final state  ('F', '', '#')\n",
            "Reached as follows:\n",
            "->  ('I', 'aaaaaaaaaabcdd', '#')\n",
            "->  ('S', 'aaaaaaaaaabcdd', '#')\n",
            "->  ('S', 'aaaaaaaaabcdd', 'a#')\n",
            "->  ('S', 'aaaaaaaabcdd', 'aa#')\n",
            "->  ('S', 'aaaaaaabcdd', 'aaa#')\n",
            "->  ('S', 'aaaaaabcdd', 'aaaa#')\n",
            "->  ('S', 'aaaaabcdd', 'aaaaa#')\n",
            "->  ('S', 'aaaabcdd', 'aaaaaa#')\n",
            "->  ('S', 'aaabcdd', 'aaaaaaa#')\n",
            "->  ('S', 'aabcdd', 'aaaaaaaa#')\n",
            "->  ('S', 'abcdd', 'aaaaaaaaa#')\n",
            "->  ('S', 'bcdd', 'aaaaaaaaaa#')\n",
            "->  ('X', 'bcdd', 'aaaaaaaaa#')\n",
            "->  ('Y', 'bcdd', 'aaaaaaaa#')\n",
            "->  ('B', 'bcdd', 'aaaaaaa#')\n",
            "->  ('B', 'cdd', 'aaaaaaa#')\n",
            "->  ('B', 'cdd', 'aaaaaa#')\n",
            "->  ('B', 'cdd', 'aaaaa#')\n",
            "->  ('B', 'cdd', 'aaaa#')\n",
            "->  ('B', 'cdd', 'aaa#')\n",
            "->  ('B', 'cdd', 'aa#')\n",
            "->  ('B', 'cdd', 'a#')\n",
            "->  ('B', 'cdd', '#')\n",
            "->  ('C', 'dd', 'c#')\n",
            "->  ('D', 'd', '#')\n",
            "->  ('F', '', '#') .\n",
            "Final state  ('F', '', '#')\n",
            "Reached as follows:\n",
            "->  ('I', 'aaaaaaaaaabcdd', '#')\n",
            "->  ('S', 'aaaaaaaaaabcdd', '#')\n",
            "->  ('S', 'aaaaaaaaabcdd', 'a#')\n",
            "->  ('S', 'aaaaaaaabcdd', 'aa#')\n",
            "->  ('S', 'aaaaaaabcdd', 'aaa#')\n",
            "->  ('S', 'aaaaaabcdd', 'aaaa#')\n",
            "->  ('S', 'aaaaabcdd', 'aaaaa#')\n",
            "->  ('S', 'aaaabcdd', 'aaaaaa#')\n",
            "->  ('S', 'aaabcdd', 'aaaaaaa#')\n",
            "->  ('S', 'aabcdd', 'aaaaaaaa#')\n",
            "->  ('S', 'abcdd', 'aaaaaaaaa#')\n",
            "->  ('S', 'bcdd', 'aaaaaaaaaa#')\n",
            "->  ('B', 'cdd', 'aaaaaaaaaa#')\n",
            "->  ('B', 'cdd', 'aaaaaaaaa#')\n",
            "->  ('B', 'cdd', 'aaaaaaaa#')\n",
            "->  ('B', 'cdd', 'aaaaaaa#')\n",
            "->  ('B', 'cdd', 'aaaaaa#')\n",
            "->  ('B', 'cdd', 'aaaaa#')\n",
            "->  ('B', 'cdd', 'aaaa#')\n",
            "->  ('B', 'cdd', 'aaa#')\n",
            "->  ('B', 'cdd', 'aa#')\n",
            "->  ('B', 'cdd', 'a#')\n",
            "->  ('B', 'cdd', '#')\n",
            "->  ('C', 'dd', 'c#')\n",
            "->  ('D', 'd', '#')\n",
            "->  ('F', '', '#') .\n"
          ]
        }
      ]
    },
    {
      "cell_type": "markdown",
      "metadata": {
        "id": "ZF496Ja6N1cE"
      },
      "source": [
        "# Questions 2 and 3: Now do the PL proofs of MT2\n",
        "## Check Canvas for the actual question wording. \n",
        "## You have to answer this on Canvas."
      ]
    },
    {
      "cell_type": "markdown",
      "metadata": {
        "id": "jJiDLutTP_ng"
      },
      "source": [
        "# Question 2:\n",
        "\n",
        "Assume that Labcd is regular.\n",
        "\n",
        "There exists a pumping constant p for Labcd.\n",
        "\n",
        "There exists a string in Labcd called w.\n",
        "\n",
        "There are 4 cases. a^i where i = 2, i = 0, i = 1 and i > 2\n",
        "\n",
        "\n",
        "##Case 1: i > 2\n",
        "\n",
        "w = a^(p+3) b^p c^p d^(p+1)\n",
        "\n",
        "Looking at all decompositions:\n",
        "\n",
        "*   x = c^α\n",
        "*   y = c^β\n",
        "*   z = c^(p-α-β)\n",
        "\n",
        "Choose a t s.t. x y^t z is not an element of Labcd\n",
        "\n",
        "t = 2\n",
        "\n",
        "xy^2z = a^(p+3) b^p c^α c^β c^β c^(p-α-β) d^(p+1)\n",
        "\n",
        "After canceling out terms we get = a^(p+3) b^p c^(p+β) d^(p+1)\n",
        "\n",
        "β >= 1 which means that l is not greater than k and it is not in the language.\n",
        "\n",
        "\n",
        "##Case 2: i = 1\n",
        "\n",
        "w = a^1 b^p c^p d^(p+1)\n",
        "\n",
        "Looking at all decompositions:\n",
        "\n",
        "*   x = c^α\n",
        "*   y = c^β\n",
        "*   z = c^(p-α-β)\n",
        "\n",
        "Choose a t s.t. x y^t z is not an element of Labcd\n",
        "\n",
        "t = 2\n",
        "\n",
        "xy^2z = a^1 b^p c^α c^β c^β c^(p-α-β) d^(p+1)\n",
        "\n",
        "After canceling out terms we get = a^1 b^p c^(p+β) d^(p+1)\n",
        "\n",
        "β >= 1 which means that l is not greater than k and it is not in the language.\n",
        "\n",
        "\n",
        "##Case 3: i = 0\n",
        "\n",
        "w = a^0 b^p c^p d^(p+1)\n",
        "\n",
        "Looking at all decompositions:\n",
        "\n",
        "*   x = c^α\n",
        "*   y = c^β\n",
        "*   z = c^(p-α-β)\n",
        "\n",
        "Choose a t s.t. x y^t z is not an element of Labcd\n",
        "\n",
        "t = 2\n",
        "\n",
        "xy^2z = a^0 b^p c^α c^β c^β c^(p-α-β) d^(p+1)\n",
        "\n",
        "After canceling out terms we get = b^p c^(p+β) d^(p+1)\n",
        "\n",
        "β >= 1 which means that l is not greater than k and it is not in the language.\n",
        "\n",
        "\n",
        "##Case 4: i = 2\n",
        "\n",
        "w = a^2 b^p c^p d^p\n",
        "\n",
        "Looking at all decompositions:\n",
        "\n",
        "*   x = b^α\n",
        "*   y = b^β\n",
        "*   z = b^(p-α-β)\n",
        "\n",
        "Choose a t s.t. x y^t z is not an element of Labcd\n",
        "\n",
        "t = 0\n",
        "\n",
        "xy^0z = a^2 b^α b^(p-α-β) c^p d^p\n",
        "\n",
        "After canceling out terms we get = a^2 b^(p-β) c^p d^p\n",
        "\n",
        "β >= 1 which means that j != k and it is not in the language.\n",
        "\n",
        "##Conclusion\n",
        "\n",
        "All possible cases are cannot be pumped which means that the language is not regular."
      ]
    }
  ]
}