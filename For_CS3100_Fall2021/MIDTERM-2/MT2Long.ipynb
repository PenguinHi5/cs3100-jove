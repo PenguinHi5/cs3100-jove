{
  "nbformat": 4,
  "nbformat_minor": 0,
  "metadata": {
    "kernelspec": {
      "display_name": "Python 3",
      "language": "python",
      "name": "python3"
    },
    "language_info": {
      "codemirror_mode": {
        "name": "ipython",
        "version": 3
      },
      "file_extension": ".py",
      "mimetype": "text/x-python",
      "name": "python",
      "nbconvert_exporter": "python",
      "pygments_lexer": "ipython3",
      "version": "3.8.5"
    },
    "toc": {
      "colors": {
        "hover_highlight": "#DAA520",
        "running_highlight": "#FF0000",
        "selected_highlight": "#FFD700"
      },
      "moveMenuLeft": true,
      "nav_menu": {
        "height": "318px",
        "width": "252px"
      },
      "navigate_menu": true,
      "number_sections": true,
      "sideBar": true,
      "threshold": 4,
      "toc_cell": false,
      "toc_section_display": "block",
      "toc_window_display": false,
      "widenNotebook": false
    },
    "colab": {
      "name": "MT2Long.ipynb",
      "provenance": []
    }
  },
  "cells": [
    {
      "cell_type": "code",
      "metadata": {
        "run_control": {
          "frozen": false,
          "read_only": false
        },
        "id": "LNw7q8h9N1b5"
      },
      "source": [
        "#~~~~~~~~~~~~~~~~~~~~~~~~~~~~~~~~~~~~~~~~~~~~~~~~~~~~~~~\n",
        "import sys\n",
        "\n",
        "# -- Detect if in Own Install or in Colab\n",
        "try:\n",
        "    import google.colab\n",
        "    OWN_INSTALL = False\n",
        "except:\n",
        "    OWN_INSTALL = True\n",
        "    \n",
        "if OWN_INSTALL:\n",
        "    \n",
        "  #---- Leave these definitions ON if running on laptop\n",
        "  #---- Else turn OFF by putting them between ''' ... '''\n",
        "\n",
        "  sys.path[0:0] = ['../../../../..',  '../../../../../3rdparty',  \n",
        "                   '../../../..',  '../../../../3rdparty',  \n",
        "                   '../../..',     '../../../3rdparty', \n",
        "                   '../..',        '../../3rdparty',\n",
        "                   '..',           '../3rdparty' ]\n",
        "\n",
        "else: # In colab\n",
        "  ! if [ ! -d Jove ]; then git clone https://github.com/ganeshutah/Jove Jove; fi\n",
        "  sys.path.append('./Jove')\n",
        "  sys.path.append('./Jove/jove')\n",
        "\n",
        "# -- common imports --\n",
        "from jove.DotBashers import *\n",
        "from jove.Def_DFA import *\n",
        "from jove.Def_NFA import *\n",
        "from jove.Def_RE2NFA import *\n",
        "from jove.Def_NFA2RE import *\n",
        "from jove.Def_md2mc import *\n",
        "from jove.JoveEditor import *\n",
        "#~~~~~~~~~~~~~~~~~~~~~~~~~~~~~~~~~~~~~~~~~~~~~~~~~~~~~~~"
      ],
      "execution_count": 165,
      "outputs": []
    },
    {
      "cell_type": "markdown",
      "metadata": {
        "id": "A_l8ZnrGN1b8"
      },
      "source": [
        "# Question 1, Part (a) : Develop a CFG and then a PDA that directly encodes this CFG for the language Labcd\n",
        "\n",
        " \n",
        "## Labcd = { a^i b^j c^k d^l : if i=2 then j=k else l > k }\n",
        "\n",
        "### NOTE it is d raised to \"ell\" not d raised to \"one\" (as l and 1  -- ELL and ONE -- often look similar)\n",
        "\n",
        "## Type the PDA Design directly below\n",
        "\n",
        "## But begin the PDA design with the CFG productions you developed\n",
        "\n",
        "## Then, for each PDA transition, put the CFG rule it encodes as comments\n",
        "\n",
        "## See additional details below\n",
        "\n",
        "# You may begin your design with nonterminal names of > 1 character\n",
        "\n",
        "## BUT finally, you need single-character non-terminals for Jove's CFG simulation using PDA"
      ]
    },
    {
      "cell_type": "code",
      "metadata": {
        "id": "_nkU9MO7N1b-"
      },
      "source": [
        "\n",
        "#----- MY FINAL PRODUCTION  RULES ARE HERE after I turned all non-terminals into 1-character non-terminals ------\n",
        "'''\n",
        "\n",
        "S -> aBCd | BCd | aaWU | aaaAS\n",
        "A -> aA | ''\n",
        "W -> bWc\n",
        "U -> dU | ''\n",
        "B -> bB | ''\n",
        "C -> cCd | d | ''\n",
        "\n",
        "\n",
        "'''\n",
        "#----- MY PDA IS BELOW\n",
        "\n",
        "\n",
        "\n",
        "\n",
        "\n",
        "Labcd = md2mc('''\n",
        "\n",
        "PDA\n",
        "\n",
        "I : '', # ; # -> S\n",
        "\n",
        "S : a, '' ; a -> S\n",
        "S : '', a ; '' -> X\n",
        "X : '', a ; '' -> Y\n",
        "Y : '', a ; '' -> B\n",
        "\n",
        "S : b, '' ; '' -> B\n",
        "S : c, '' ; c -> C\n",
        "S : '', '' ; '' -> D\n",
        "\n",
        "B : '', a ; '' -> B\n",
        "B : b, '' ; '' -> B\n",
        "B : c, '' ; c -> C\n",
        "B : '', '' ; '' -> D\n",
        "\n",
        "C : c, '' ; c -> C\n",
        "C : d, c ; '' -> D\n",
        "\n",
        "D : d, c ; '' -> D\n",
        "D : d, # ; # -> D\n",
        "D : d, # ; # -> F\n",
        "\n",
        "!! 2 a's\n",
        "Y : b, '' ; b -> W\n",
        "Y : '', '' ; '' -> F\n",
        "W : b, '' ; b -> W\n",
        "W : c, b ; '' -> V\n",
        "\n",
        "V : c, b ; '' -> V\n",
        "V : '', # ; # -> F\n",
        "\n",
        "V : d, '' ; '' -> U\n",
        "U : d, '' ; '' -> U\n",
        "U : '', '' ; '' -> F\n",
        "\n",
        "!!--- be neat and careful as you have to avoid mistakes ---\n",
        "\n",
        "!! PUT YOUR CFG PRODUCTION RULE OR RULES HERE\n",
        "!! S -> aBCd | BCd | aaWU | aaaAS\n",
        "!! PUT WHAT PDA TRANSITIONS IT GENERATED, BELOW\n",
        "!! S : '', a ; '' -> X\n",
        "!! X : '', a ; '' -> Y\n",
        "!! Y : '', a ; '' -> B\n",
        "!! S : b, '' ; '' -> B\n",
        "!! S : c, '' ; c -> C\n",
        "!! S : '', '' ; '' -> D\n",
        "!! B : c, '' ; c -> C\n",
        "!! B : '', '' ; '' -> D\n",
        "!! Y : '', '' ; '' -> F\n",
        "\n",
        "!! PUT YOUR CFG PRODUCTION RULE OR RULES HERE\n",
        "!! A -> aA | ''\n",
        "!! PUT WHAT PDA TRANSITIONS IT GENERATED, BELOW\n",
        "!! B : '', a ; '' -> B\n",
        "\n",
        "!! PUT YOUR CFG PRODUCTION RULE OR RULES HERE\n",
        "!! W -> bWc\n",
        "!! PUT WHAT PDA TRANSITIONS IT GENERATED, BELOW\n",
        "!! Y : b, '' ; b -> W\n",
        "!! W : b, '' ; b -> W\n",
        "!! W : c, b ; '' -> V\n",
        "!! V : c, b ; '' -> V\n",
        "!! V : '', # ; # -> F\n",
        "\n",
        "!! PUT YOUR CFG PRODUCTION RULE OR RULES HERE\n",
        "!! U -> dU | ''\n",
        "!! PUT WHAT PDA TRANSITIONS IT GENERATED, BELOW\n",
        "!! V : d, '' ; '' -> U\n",
        "!! U : d, '' ; '' -> U\n",
        "!! U : '', '' ; '' -> F\n",
        "\n",
        "!! PUT YOUR CFG PRODUCTION RULE OR RULES HERE\n",
        "!! B -> bB | ''\n",
        "!! PUT WHAT PDA TRANSITIONS IT GENERATED, BELOW\n",
        "!! B : b, '' ; '' -> B\n",
        "\n",
        "!! PUT YOUR CFG PRODUCTION RULE OR RULES HERE\n",
        "!! C -> cCd | d | ''\n",
        "!! PUT WHAT PDA TRANSITIONS IT GENERATED, BELOW\n",
        "!! C : c, '' ; c -> C\n",
        "!! C : d, c ; '' -> D\n",
        "!! D : d, c ; '' -> D\n",
        "!! D : d, # ; # -> D\n",
        "!! D : d, # ; # -> F\n",
        "\n",
        " \n",
        "\n",
        "\n",
        "''')\n"
      ],
      "execution_count": 166,
      "outputs": []
    },
    {
      "cell_type": "code",
      "metadata": {
        "id": "pjsWfJVAN1b-",
        "outputId": "0883c968-f009-4e05-a903-6acf60700c49",
        "colab": {
          "base_uri": "https://localhost:8080/",
          "height": 436
        }
      },
      "source": [
        "dotObj_pda(Labcd, FuseEdges=True)"
      ],
      "execution_count": 167,
      "outputs": [
        {
          "output_type": "execute_result",
          "data": {
            "text/plain": [
              "<graphviz.dot.Digraph at 0x7fd7d2efc4d0>"
            ],
            "image/svg+xml": "<?xml version=\"1.0\" encoding=\"UTF-8\" standalone=\"no\"?>\n<!DOCTYPE svg PUBLIC \"-//W3C//DTD SVG 1.1//EN\"\n \"http://www.w3.org/Graphics/SVG/1.1/DTD/svg11.dtd\">\n<!-- Generated by graphviz version 2.40.1 (20161225.0304)\n -->\n<!-- Title: %3 Pages: 1 -->\n<svg width=\"917pt\" height=\"311pt\"\n viewBox=\"0.00 0.00 917.00 311.00\" xmlns=\"http://www.w3.org/2000/svg\" xmlns:xlink=\"http://www.w3.org/1999/xlink\">\n<g id=\"graph0\" class=\"graph\" transform=\"scale(1 1) rotate(0) translate(4 307)\">\n<title>%3</title>\n<polygon fill=\"#ffffff\" stroke=\"transparent\" points=\"-4,4 -4,-307 912.9965,-307 912.9965,4 -4,4\"/>\n<!-- EMPTY -->\n<g id=\"node1\" class=\"node\">\n<title>EMPTY</title>\n</g>\n<!-- I -->\n<g id=\"node10\" class=\"node\">\n<title>I</title>\n<ellipse fill=\"none\" stroke=\"#000000\" cx=\"109\" cy=\"-67\" rx=\"18\" ry=\"18\"/>\n<text text-anchor=\"middle\" x=\"109\" y=\"-63.3\" font-family=\"Times,serif\" font-size=\"14.00\" fill=\"#000000\">I</text>\n</g>\n<!-- EMPTY&#45;&gt;I -->\n<g id=\"edge1\" class=\"edge\">\n<title>EMPTY&#45;&gt;I</title>\n<path fill=\"none\" stroke=\"#000000\" d=\"M54.3048,-67C62.6909,-67 71.9407,-67 80.4103,-67\"/>\n<polygon fill=\"#000000\" stroke=\"#000000\" points=\"80.5976,-70.5001 90.5976,-67 80.5976,-63.5001 80.5976,-70.5001\"/>\n</g>\n<!-- C -->\n<g id=\"node2\" class=\"node\">\n<title>C</title>\n<ellipse fill=\"none\" stroke=\"#000000\" cx=\"656.9965\" cy=\"-46\" rx=\"18\" ry=\"18\"/>\n<text text-anchor=\"middle\" x=\"656.9965\" y=\"-42.3\" font-family=\"Times,serif\" font-size=\"14.00\" fill=\"#000000\">C</text>\n</g>\n<!-- C&#45;&gt;C -->\n<g id=\"edge13\" class=\"edge\">\n<title>C&#45;&gt;C</title>\n<path fill=\"none\" stroke=\"#000000\" d=\"M647.7639,-61.5414C645.1651,-71.9087 648.2426,-82 656.9965,-82 662.7413,-82 666.0414,-77.654 666.897,-71.7362\"/>\n<polygon fill=\"#000000\" stroke=\"#000000\" points=\"670.3754,-71.2913 666.2292,-61.5414 663.3904,-71.7489 670.3754,-71.2913\"/>\n<text text-anchor=\"middle\" x=\"656.9965\" y=\"-85.8\" font-family=\"Times,serif\" font-size=\"14.00\" fill=\"#000000\">c, &#39;&#39; ; c</text>\n</g>\n<!-- D -->\n<g id=\"node9\" class=\"node\">\n<title>D</title>\n<ellipse fill=\"none\" stroke=\"#000000\" cx=\"767.4965\" cy=\"-53\" rx=\"18\" ry=\"18\"/>\n<text text-anchor=\"middle\" x=\"767.4965\" y=\"-49.3\" font-family=\"Times,serif\" font-size=\"14.00\" fill=\"#000000\">D</text>\n</g>\n<!-- C&#45;&gt;D -->\n<g id=\"edge14\" class=\"edge\">\n<title>C&#45;&gt;D</title>\n<path fill=\"none\" stroke=\"#000000\" d=\"M675.2434,-47.1559C692.5982,-48.2553 718.9679,-49.9258 739.0762,-51.1996\"/>\n<polygon fill=\"#000000\" stroke=\"#000000\" points=\"739.0213,-54.7031 749.2226,-51.8424 739.4639,-47.7171 739.0213,-54.7031\"/>\n<text text-anchor=\"middle\" x=\"711.4965\" y=\"-53.8\" font-family=\"Times,serif\" font-size=\"14.00\" fill=\"#000000\">d, c ; &#39;&#39;</text>\n</g>\n<!-- Y -->\n<g id=\"node3\" class=\"node\">\n<title>Y</title>\n<ellipse fill=\"none\" stroke=\"#000000\" cx=\"434\" cy=\"-147\" rx=\"18\" ry=\"18\"/>\n<text text-anchor=\"middle\" x=\"434\" y=\"-143.3\" font-family=\"Times,serif\" font-size=\"14.00\" fill=\"#000000\">Y</text>\n</g>\n<!-- W -->\n<g id=\"node6\" class=\"node\">\n<title>W</title>\n<ellipse fill=\"none\" stroke=\"#000000\" cx=\"546.4983\" cy=\"-195\" rx=\"19.4965\" ry=\"19.4965\"/>\n<text text-anchor=\"middle\" x=\"546.4983\" y=\"-191.3\" font-family=\"Times,serif\" font-size=\"14.00\" fill=\"#000000\">W</text>\n</g>\n<!-- Y&#45;&gt;W -->\n<g id=\"edge17\" class=\"edge\">\n<title>Y&#45;&gt;W</title>\n<path fill=\"none\" stroke=\"#000000\" d=\"M450.5995,-154.0826C468.6203,-161.7715 497.6881,-174.174 519.1036,-183.3114\"/>\n<polygon fill=\"#000000\" stroke=\"#000000\" points=\"517.7662,-186.546 528.3376,-187.2513 520.5134,-180.1076 517.7662,-186.546\"/>\n<text text-anchor=\"middle\" x=\"489.5\" y=\"-181.8\" font-family=\"Times,serif\" font-size=\"14.00\" fill=\"#000000\">b, &#39;&#39; ; b</text>\n</g>\n<!-- B -->\n<g id=\"node8\" class=\"node\">\n<title>B</title>\n<ellipse fill=\"none\" stroke=\"#000000\" cx=\"546.4983\" cy=\"-92\" rx=\"18\" ry=\"18\"/>\n<text text-anchor=\"middle\" x=\"546.4983\" y=\"-88.3\" font-family=\"Times,serif\" font-size=\"14.00\" fill=\"#000000\">B</text>\n</g>\n<!-- Y&#45;&gt;B -->\n<g id=\"edge6\" class=\"edge\">\n<title>Y&#45;&gt;B</title>\n<path fill=\"none\" stroke=\"#000000\" d=\"M450.5995,-138.8846C469.1503,-129.8152 499.4075,-115.0225 520.9729,-104.4793\"/>\n<polygon fill=\"#000000\" stroke=\"#000000\" points=\"522.7499,-107.5065 530.1964,-99.9699 519.6753,-101.2178 522.7499,-107.5065\"/>\n<text text-anchor=\"middle\" x=\"489.5\" y=\"-132.8\" font-family=\"Times,serif\" font-size=\"14.00\" fill=\"#000000\">&#39;&#39;, a ; &#39;&#39;</text>\n</g>\n<!-- F -->\n<g id=\"node12\" class=\"node\">\n<title>F</title>\n<ellipse fill=\"none\" stroke=\"#000000\" cx=\"886.9965\" cy=\"-183\" rx=\"18\" ry=\"18\"/>\n<ellipse fill=\"none\" stroke=\"#000000\" cx=\"886.9965\" cy=\"-183\" rx=\"22\" ry=\"22\"/>\n<text text-anchor=\"middle\" x=\"886.9965\" y=\"-179.3\" font-family=\"Times,serif\" font-size=\"14.00\" fill=\"#000000\">F</text>\n</g>\n<!-- Y&#45;&gt;F -->\n<g id=\"edge18\" class=\"edge\">\n<title>Y&#45;&gt;F</title>\n<path fill=\"none\" stroke=\"#000000\" d=\"M438.891,-164.5727C450.6007,-202.3702 484.023,-288 546.4983,-288 546.4983,-288 546.4983,-288 767.4965,-288 813.9984,-288 851.0257,-242.5761 870.9247,-211.4816\"/>\n<polygon fill=\"#000000\" stroke=\"#000000\" points=\"874.0395,-213.0985 876.3095,-202.7497 868.0814,-209.4242 874.0395,-213.0985\"/>\n<text text-anchor=\"middle\" x=\"656.9965\" y=\"-291.8\" font-family=\"Times,serif\" font-size=\"14.00\" fill=\"#000000\">&#39;&#39;, &#39;&#39; ; &#39;&#39;</text>\n</g>\n<!-- U -->\n<g id=\"node4\" class=\"node\">\n<title>U</title>\n<ellipse fill=\"none\" stroke=\"#000000\" cx=\"767.4965\" cy=\"-209\" rx=\"18\" ry=\"18\"/>\n<text text-anchor=\"middle\" x=\"767.4965\" y=\"-205.3\" font-family=\"Times,serif\" font-size=\"14.00\" fill=\"#000000\">U</text>\n</g>\n<!-- U&#45;&gt;U -->\n<g id=\"edge24\" class=\"edge\">\n<title>U&#45;&gt;U</title>\n<path fill=\"none\" stroke=\"#000000\" d=\"M757.922,-224.5414C755.2269,-234.9087 758.4184,-245 767.4965,-245 773.4541,-245 776.8764,-240.654 777.7637,-234.7362\"/>\n<polygon fill=\"#000000\" stroke=\"#000000\" points=\"781.2409,-234.2812 777.0711,-224.5414 774.257,-234.7557 781.2409,-234.2812\"/>\n<text text-anchor=\"middle\" x=\"767.4965\" y=\"-248.8\" font-family=\"Times,serif\" font-size=\"14.00\" fill=\"#000000\">d, &#39;&#39; ; &#39;&#39;</text>\n</g>\n<!-- U&#45;&gt;F -->\n<g id=\"edge25\" class=\"edge\">\n<title>U&#45;&gt;F</title>\n<path fill=\"none\" stroke=\"#000000\" d=\"M785.1292,-205.1636C803.5959,-201.1457 832.9836,-194.7518 855.4587,-189.8618\"/>\n<polygon fill=\"#000000\" stroke=\"#000000\" points=\"856.2074,-193.2809 865.2347,-187.7348 854.7192,-186.4409 856.2074,-193.2809\"/>\n<text text-anchor=\"middle\" x=\"825.9965\" y=\"-203.8\" font-family=\"Times,serif\" font-size=\"14.00\" fill=\"#000000\">&#39;&#39;, &#39;&#39; ; &#39;&#39;</text>\n</g>\n<!-- S -->\n<g id=\"node5\" class=\"node\">\n<title>S</title>\n<ellipse fill=\"none\" stroke=\"#000000\" cx=\"220\" cy=\"-67\" rx=\"18\" ry=\"18\"/>\n<text text-anchor=\"middle\" x=\"220\" y=\"-63.3\" font-family=\"Times,serif\" font-size=\"14.00\" fill=\"#000000\">S</text>\n</g>\n<!-- S&#45;&gt;C -->\n<g id=\"edge8\" class=\"edge\">\n<title>S&#45;&gt;C</title>\n<path fill=\"none\" stroke=\"#000000\" d=\"M237.4208,-61.3724C258.2549,-55.1519 294.2948,-46 326,-46 326,-46 326,-46 546.4983,-46 574.3596,-46 606.1726,-46 628.4862,-46\"/>\n<polygon fill=\"#000000\" stroke=\"#000000\" points=\"628.6182,-49.5001 638.6181,-46 628.6181,-42.5001 628.6182,-49.5001\"/>\n<text text-anchor=\"middle\" x=\"434\" y=\"-49.8\" font-family=\"Times,serif\" font-size=\"14.00\" fill=\"#000000\">c, &#39;&#39; ; c</text>\n</g>\n<!-- S&#45;&gt;S -->\n<g id=\"edge3\" class=\"edge\">\n<title>S&#45;&gt;S</title>\n<path fill=\"none\" stroke=\"#000000\" d=\"M211.0212,-82.916C208.679,-93.1504 211.6719,-103 220,-103 225.4653,-103 228.633,-98.7581 229.503,-92.9494\"/>\n<polygon fill=\"#000000\" stroke=\"#000000\" points=\"232.9958,-92.7198 228.9788,-82.916 226.0054,-93.0851 232.9958,-92.7198\"/>\n<text text-anchor=\"middle\" x=\"220\" y=\"-106.8\" font-family=\"Times,serif\" font-size=\"14.00\" fill=\"#000000\">a, &#39;&#39; ; a</text>\n</g>\n<!-- X -->\n<g id=\"node7\" class=\"node\">\n<title>X</title>\n<ellipse fill=\"none\" stroke=\"#000000\" cx=\"326\" cy=\"-138\" rx=\"18\" ry=\"18\"/>\n<text text-anchor=\"middle\" x=\"326\" y=\"-134.3\" font-family=\"Times,serif\" font-size=\"14.00\" fill=\"#000000\">X</text>\n</g>\n<!-- S&#45;&gt;X -->\n<g id=\"edge4\" class=\"edge\">\n<title>S&#45;&gt;X</title>\n<path fill=\"none\" stroke=\"#000000\" d=\"M231.6582,-81.176C238.2637,-88.6077 246.9915,-97.4919 256,-104 269.3951,-113.6771 285.9697,-121.8685 299.6277,-127.7848\"/>\n<polygon fill=\"#000000\" stroke=\"#000000\" points=\"298.3934,-131.0622 308.9703,-131.6795 301.0869,-124.6011 298.3934,-131.0622\"/>\n<text text-anchor=\"middle\" x=\"273\" y=\"-126.8\" font-family=\"Times,serif\" font-size=\"14.00\" fill=\"#000000\">&#39;&#39;, a ; &#39;&#39;</text>\n</g>\n<!-- S&#45;&gt;B -->\n<g id=\"edge7\" class=\"edge\">\n<title>S&#45;&gt;B</title>\n<path fill=\"none\" stroke=\"#000000\" d=\"M238.019,-68.3797C292.0923,-72.5201 453.2535,-84.8602 518.5551,-89.8604\"/>\n<polygon fill=\"#000000\" stroke=\"#000000\" points=\"518.2969,-93.3508 528.5349,-90.6245 518.8314,-86.3712 518.2969,-93.3508\"/>\n<text text-anchor=\"middle\" x=\"380\" y=\"-83.8\" font-family=\"Times,serif\" font-size=\"14.00\" fill=\"#000000\">b, &#39;&#39; ; &#39;&#39;</text>\n</g>\n<!-- S&#45;&gt;D -->\n<g id=\"edge9\" class=\"edge\">\n<title>S&#45;&gt;D</title>\n<path fill=\"none\" stroke=\"#000000\" d=\"M231.8168,-53.1176C249.9225,-33.4928 286.595,0 326,0 326,0 326,0 656.9965,0 690.2827,0 724.153,-19.7934 745.4624,-35.1882\"/>\n<polygon fill=\"#000000\" stroke=\"#000000\" points=\"743.422,-38.0329 753.5206,-41.2376 747.6246,-32.4348 743.422,-38.0329\"/>\n<text text-anchor=\"middle\" x=\"489.5\" y=\"-3.8\" font-family=\"Times,serif\" font-size=\"14.00\" fill=\"#000000\">&#39;&#39;, &#39;&#39; ; &#39;&#39;</text>\n</g>\n<!-- W&#45;&gt;W -->\n<g id=\"edge19\" class=\"edge\">\n<title>W&#45;&gt;W</title>\n<path fill=\"none\" stroke=\"#000000\" d=\"M537.0061,-212.3576C534.8967,-222.7331 538.0608,-232.4983 546.4983,-232.4983 552.0354,-232.4983 555.3014,-228.2928 556.2964,-222.4691\"/>\n<polygon fill=\"#000000\" stroke=\"#000000\" points=\"559.7913,-222.2472 555.9905,-212.3576 552.7945,-222.4589 559.7913,-222.2472\"/>\n<text text-anchor=\"middle\" x=\"546.4983\" y=\"-236.2983\" font-family=\"Times,serif\" font-size=\"14.00\" fill=\"#000000\">b, &#39;&#39; ; b</text>\n</g>\n<!-- V -->\n<g id=\"node11\" class=\"node\">\n<title>V</title>\n<ellipse fill=\"none\" stroke=\"#000000\" cx=\"656.9965\" cy=\"-195\" rx=\"18\" ry=\"18\"/>\n<text text-anchor=\"middle\" x=\"656.9965\" y=\"-191.3\" font-family=\"Times,serif\" font-size=\"14.00\" fill=\"#000000\">V</text>\n</g>\n<!-- W&#45;&gt;V -->\n<g id=\"edge20\" class=\"edge\">\n<title>W&#45;&gt;V</title>\n<path fill=\"none\" stroke=\"#000000\" d=\"M565.9988,-195C583.3544,-195 608.9581,-195 628.5892,-195\"/>\n<polygon fill=\"#000000\" stroke=\"#000000\" points=\"628.7907,-198.5001 638.7906,-195 628.7906,-191.5001 628.7907,-198.5001\"/>\n<text text-anchor=\"middle\" x=\"602.4965\" y=\"-198.8\" font-family=\"Times,serif\" font-size=\"14.00\" fill=\"#000000\">c, b ; &#39;&#39;</text>\n</g>\n<!-- X&#45;&gt;Y -->\n<g id=\"edge5\" class=\"edge\">\n<title>X&#45;&gt;Y</title>\n<path fill=\"none\" stroke=\"#000000\" d=\"M344.3207,-139.5267C361.179,-140.9316 386.4349,-143.0362 405.853,-144.6544\"/>\n<polygon fill=\"#000000\" stroke=\"#000000\" points=\"405.6937,-148.1532 415.9498,-145.4958 406.2751,-141.1774 405.6937,-148.1532\"/>\n<text text-anchor=\"middle\" x=\"380\" y=\"-146.8\" font-family=\"Times,serif\" font-size=\"14.00\" fill=\"#000000\">&#39;&#39;, a ; &#39;&#39;</text>\n</g>\n<!-- B&#45;&gt;C -->\n<g id=\"edge11\" class=\"edge\">\n<title>B&#45;&gt;C</title>\n<path fill=\"none\" stroke=\"#000000\" d=\"M563.2806,-85.0136C581.2098,-77.5497 609.8684,-65.6193 630.7782,-56.9146\"/>\n<polygon fill=\"#000000\" stroke=\"#000000\" points=\"632.1695,-60.1267 640.0563,-53.0522 629.4791,-53.6643 632.1695,-60.1267\"/>\n<text text-anchor=\"middle\" x=\"602.4965\" y=\"-78.8\" font-family=\"Times,serif\" font-size=\"14.00\" fill=\"#000000\">c, &#39;&#39; ; c</text>\n</g>\n<!-- B&#45;&gt;B -->\n<g id=\"edge10\" class=\"edge\">\n<title>B&#45;&gt;B</title>\n<path fill=\"none\" stroke=\"#000000\" d=\"M537.2656,-107.5414C534.6668,-117.9087 537.7444,-128 546.4983,-128 552.243,-128 555.5432,-123.654 556.3987,-117.7362\"/>\n<polygon fill=\"#000000\" stroke=\"#000000\" points=\"559.8772,-117.2913 555.7309,-107.5414 552.8921,-117.7489 559.8772,-117.2913\"/>\n<text text-anchor=\"middle\" x=\"546.4983\" y=\"-146.8\" font-family=\"Times,serif\" font-size=\"14.00\" fill=\"#000000\">&#39;&#39;, a ; &#39;&#39; </text>\n<text text-anchor=\"middle\" x=\"546.4983\" y=\"-131.8\" font-family=\"Times,serif\" font-size=\"14.00\" fill=\"#000000\"> b, &#39;&#39; ; &#39;&#39;</text>\n</g>\n<!-- B&#45;&gt;D -->\n<g id=\"edge12\" class=\"edge\">\n<title>B&#45;&gt;D</title>\n<path fill=\"none\" stroke=\"#000000\" d=\"M563.8452,-97.8422C588.8219,-105.371 636.1793,-116.3327 674.9965,-106 700.7363,-99.1484 726.7688,-83.2507 744.6303,-70.643\"/>\n<polygon fill=\"#000000\" stroke=\"#000000\" points=\"747.1584,-73.1318 753.1812,-64.4153 743.0373,-67.4734 747.1584,-73.1318\"/>\n<text text-anchor=\"middle\" x=\"656.9965\" y=\"-113.8\" font-family=\"Times,serif\" font-size=\"14.00\" fill=\"#000000\">&#39;&#39;, &#39;&#39; ; &#39;&#39;</text>\n</g>\n<!-- D&#45;&gt;D -->\n<g id=\"edge15\" class=\"edge\">\n<title>D&#45;&gt;D</title>\n<path fill=\"none\" stroke=\"#000000\" d=\"M757.922,-68.5414C755.2269,-78.9087 758.4184,-89 767.4965,-89 773.4541,-89 776.8764,-84.654 777.7637,-78.7362\"/>\n<polygon fill=\"#000000\" stroke=\"#000000\" points=\"781.2409,-78.2812 777.0711,-68.5414 774.257,-78.7557 781.2409,-78.2812\"/>\n<text text-anchor=\"middle\" x=\"767.4965\" y=\"-107.8\" font-family=\"Times,serif\" font-size=\"14.00\" fill=\"#000000\">d, # ; # </text>\n<text text-anchor=\"middle\" x=\"767.4965\" y=\"-92.8\" font-family=\"Times,serif\" font-size=\"14.00\" fill=\"#000000\"> d, c ; &#39;&#39;</text>\n</g>\n<!-- D&#45;&gt;F -->\n<g id=\"edge16\" class=\"edge\">\n<title>D&#45;&gt;F</title>\n<path fill=\"none\" stroke=\"#000000\" d=\"M781.4058,-64.981C797.8427,-79.4288 825.6526,-104.7978 846.9965,-129 854.4819,-137.4877 862.0375,-147.2961 868.5355,-156.2058\"/>\n<polygon fill=\"#000000\" stroke=\"#000000\" points=\"865.7363,-158.3084 874.4047,-164.4002 871.4272,-154.2323 865.7363,-158.3084\"/>\n<text text-anchor=\"middle\" x=\"825.9965\" y=\"-132.8\" font-family=\"Times,serif\" font-size=\"14.00\" fill=\"#000000\">d, # ; #</text>\n</g>\n<!-- I&#45;&gt;S -->\n<g id=\"edge2\" class=\"edge\">\n<title>I&#45;&gt;S</title>\n<path fill=\"none\" stroke=\"#000000\" d=\"M127.3294,-67C144.7627,-67 171.2518,-67 191.4511,-67\"/>\n<polygon fill=\"#000000\" stroke=\"#000000\" points=\"191.6434,-70.5001 201.6434,-67 191.6433,-63.5001 191.6434,-70.5001\"/>\n<text text-anchor=\"middle\" x=\"164.5\" y=\"-70.8\" font-family=\"Times,serif\" font-size=\"14.00\" fill=\"#000000\">&#39;&#39;, # ; #</text>\n</g>\n<!-- V&#45;&gt;U -->\n<g id=\"edge23\" class=\"edge\">\n<title>V&#45;&gt;U</title>\n<path fill=\"none\" stroke=\"#000000\" d=\"M675.2434,-197.3118C692.7021,-199.5238 719.2841,-202.8916 739.4368,-205.4449\"/>\n<polygon fill=\"#000000\" stroke=\"#000000\" points=\"739.2286,-208.9464 749.5892,-206.7312 740.1085,-202.002 739.2286,-208.9464\"/>\n<text text-anchor=\"middle\" x=\"711.4965\" y=\"-207.8\" font-family=\"Times,serif\" font-size=\"14.00\" fill=\"#000000\">d, &#39;&#39; ; &#39;&#39;</text>\n</g>\n<!-- V&#45;&gt;V -->\n<g id=\"edge21\" class=\"edge\">\n<title>V&#45;&gt;V</title>\n<path fill=\"none\" stroke=\"#000000\" d=\"M647.7639,-210.5414C645.1651,-220.9087 648.2426,-231 656.9965,-231 662.7413,-231 666.0414,-226.654 666.897,-220.7362\"/>\n<polygon fill=\"#000000\" stroke=\"#000000\" points=\"670.3754,-220.2913 666.2292,-210.5414 663.3904,-220.7489 670.3754,-220.2913\"/>\n<text text-anchor=\"middle\" x=\"656.9965\" y=\"-234.8\" font-family=\"Times,serif\" font-size=\"14.00\" fill=\"#000000\">c, b ; &#39;&#39;</text>\n</g>\n<!-- V&#45;&gt;F -->\n<g id=\"edge22\" class=\"edge\">\n<title>V&#45;&gt;F</title>\n<path fill=\"none\" stroke=\"#000000\" d=\"M673.7508,-188.1853C691.7459,-181.2624 721.3529,-171.0063 747.9965,-167 784.8457,-161.4591 827.4441,-168.3039 855.6699,-174.6803\"/>\n<polygon fill=\"#000000\" stroke=\"#000000\" points=\"855.2037,-178.1669 865.742,-177.0744 856.8225,-171.3567 855.2037,-178.1669\"/>\n<text text-anchor=\"middle\" x=\"767.4965\" y=\"-170.8\" font-family=\"Times,serif\" font-size=\"14.00\" fill=\"#000000\">&#39;&#39;, # ; #</text>\n</g>\n</g>\n</svg>\n"
          },
          "metadata": {},
          "execution_count": 167
        }
      ]
    },
    {
      "cell_type": "markdown",
      "metadata": {
        "id": "MPOU6xBQN1b_"
      },
      "source": [
        "# Question 1, Part (b) : "
      ]
    },
    {
      "cell_type": "code",
      "metadata": {
        "id": "vYEz5XbON1b_",
        "outputId": "53bcb378-c8cf-4c28-ca95-4edb92bc8285",
        "colab": {
          "base_uri": "https://localhost:8080/"
        }
      },
      "source": [
        "explore_pda('d', Labcd)"
      ],
      "execution_count": 168,
      "outputs": [
        {
          "output_type": "stream",
          "name": "stdout",
          "text": [
            "String d accepted by your PDA in 1 ways :-) \n",
            "Here are the ways: \n",
            "Final state  ('F', '', '#')\n",
            "Reached as follows:\n",
            "->  ('I', 'd', '#')\n",
            "->  ('S', 'd', '#')\n",
            "->  ('D', 'd', '#')\n",
            "->  ('F', '', '#') .\n"
          ]
        }
      ]
    },
    {
      "cell_type": "code",
      "metadata": {
        "id": "n6R9t6O6N1cA",
        "outputId": "139cc2f4-5d60-44bc-87b7-80632107186b",
        "colab": {
          "base_uri": "https://localhost:8080/"
        }
      },
      "source": [
        "explore_pda('dd', Labcd)"
      ],
      "execution_count": 169,
      "outputs": [
        {
          "output_type": "stream",
          "name": "stdout",
          "text": [
            "String dd accepted by your PDA in 1 ways :-) \n",
            "Here are the ways: \n",
            "Final state  ('F', '', '#')\n",
            "Reached as follows:\n",
            "->  ('I', 'dd', '#')\n",
            "->  ('S', 'dd', '#')\n",
            "->  ('D', 'dd', '#')\n",
            "->  ('D', 'd', '#')\n",
            "->  ('F', '', '#') .\n"
          ]
        }
      ]
    },
    {
      "cell_type": "code",
      "metadata": {
        "id": "z1QDsrF2N1cA",
        "outputId": "0418dcc6-883c-4339-a682-2aa40068fbbf",
        "colab": {
          "base_uri": "https://localhost:8080/"
        }
      },
      "source": [
        "explore_pda('cdd', Labcd)"
      ],
      "execution_count": 170,
      "outputs": [
        {
          "output_type": "stream",
          "name": "stdout",
          "text": [
            "String cdd accepted by your PDA in 1 ways :-) \n",
            "Here are the ways: \n",
            "Final state  ('F', '', '#')\n",
            "Reached as follows:\n",
            "->  ('I', 'cdd', '#')\n",
            "->  ('S', 'cdd', '#')\n",
            "->  ('C', 'dd', 'c#')\n",
            "->  ('D', 'd', '#')\n",
            "->  ('F', '', '#') .\n"
          ]
        }
      ]
    },
    {
      "cell_type": "code",
      "metadata": {
        "id": "pZJOGHaPN1cB",
        "outputId": "973b34e5-6335-451d-ac46-e31983edcb58",
        "colab": {
          "base_uri": "https://localhost:8080/"
        }
      },
      "source": [
        "explore_pda('ccdd', Labcd)"
      ],
      "execution_count": 171,
      "outputs": [
        {
          "output_type": "stream",
          "name": "stdout",
          "text": [
            "String ccdd rejected by your PDA :-(\n",
            "Visited states are:\n",
            "{('C', 'cdd', 'c#'), ('S', 'ccdd', '#'), ('D', '', '#'), ('I', 'ccdd', '#'), ('D', 'd', 'c#'), ('C', 'dd', 'cc#'), ('D', 'ccdd', '#')}\n"
          ]
        }
      ]
    },
    {
      "cell_type": "code",
      "metadata": {
        "id": "LzlN4xH4N1cB",
        "outputId": "c52796a4-c88e-42b5-ae24-501d7f553b23",
        "colab": {
          "base_uri": "https://localhost:8080/"
        }
      },
      "source": [
        "explore_pda('ccd', Labcd)"
      ],
      "execution_count": 172,
      "outputs": [
        {
          "output_type": "stream",
          "name": "stdout",
          "text": [
            "String ccd rejected by your PDA :-(\n",
            "Visited states are:\n",
            "{('D', '', 'c#'), ('C', 'cd', 'c#'), ('I', 'ccd', '#'), ('D', 'ccd', '#'), ('C', 'd', 'cc#'), ('S', 'ccd', '#')}\n"
          ]
        }
      ]
    },
    {
      "cell_type": "code",
      "metadata": {
        "id": "Cex9HoFON1cC",
        "outputId": "24c7e87b-46b7-4888-f919-f58bfc6c0706",
        "colab": {
          "base_uri": "https://localhost:8080/"
        }
      },
      "source": [
        "explore_pda('acd', Labcd)"
      ],
      "execution_count": 173,
      "outputs": [
        {
          "output_type": "stream",
          "name": "stdout",
          "text": [
            "String acd rejected by your PDA :-(\n",
            "Visited states are:\n",
            "{('S', 'acd', '#'), ('D', 'cd', 'a#'), ('X', 'cd', '#'), ('D', 'acd', '#'), ('D', '', 'a#'), ('C', 'd', 'ca#'), ('I', 'acd', '#'), ('S', 'cd', 'a#')}\n"
          ]
        }
      ]
    },
    {
      "cell_type": "code",
      "metadata": {
        "id": "63ezy3chN1cC",
        "outputId": "8fe253c9-a44f-4f1a-a15a-f1841dfdc179",
        "colab": {
          "base_uri": "https://localhost:8080/"
        }
      },
      "source": [
        "explore_pda('aacd', Labcd)"
      ],
      "execution_count": 174,
      "outputs": [
        {
          "output_type": "stream",
          "name": "stdout",
          "text": [
            "String aacd rejected by your PDA :-(\n",
            "Visited states are:\n",
            "{('D', 'cd', 'aa#'), ('S', 'aacd', '#'), ('S', 'cd', 'aa#'), ('D', '', 'aa#'), ('X', 'cd', 'a#'), ('D', 'acd', 'a#'), ('F', 'cd', '#'), ('S', 'acd', 'a#'), ('D', 'aacd', '#'), ('X', 'acd', '#'), ('C', 'd', 'caa#'), ('Y', 'cd', '#'), ('I', 'aacd', '#')}\n"
          ]
        }
      ]
    },
    {
      "cell_type": "code",
      "metadata": {
        "id": "YcOLKdaAN1cD",
        "outputId": "abfdf666-bdbb-4024-d1ce-212ab3d8ef4e",
        "colab": {
          "base_uri": "https://localhost:8080/"
        }
      },
      "source": [
        "explore_pda('aaad', Labcd)"
      ],
      "execution_count": 175,
      "outputs": [
        {
          "output_type": "stream",
          "name": "stdout",
          "text": [
            "String aaad accepted by your PDA in 1 ways :-) \n",
            "Here are the ways: \n",
            "Final state  ('F', '', '#')\n",
            "Reached as follows:\n",
            "->  ('I', 'aaad', '#')\n",
            "->  ('S', 'aaad', '#')\n",
            "->  ('S', 'aad', 'a#')\n",
            "->  ('S', 'ad', 'aa#')\n",
            "->  ('S', 'd', 'aaa#')\n",
            "->  ('X', 'd', 'aa#')\n",
            "->  ('Y', 'd', 'a#')\n",
            "->  ('B', 'd', '#')\n",
            "->  ('D', 'd', '#')\n",
            "->  ('F', '', '#') .\n"
          ]
        }
      ]
    },
    {
      "cell_type": "code",
      "metadata": {
        "id": "tAcQwG_GN1cD",
        "outputId": "cde2b8c3-bd32-4689-ee2f-3a5f204a6a61",
        "colab": {
          "base_uri": "https://localhost:8080/"
        }
      },
      "source": [
        "explore_pda('aaaccdd', Labcd)"
      ],
      "execution_count": 176,
      "outputs": [
        {
          "output_type": "stream",
          "name": "stdout",
          "text": [
            "String aaaccdd rejected by your PDA :-(\n",
            "Visited states are:\n",
            "{('C', 'cdd', 'c#'), ('D', 'accdd', 'aa#'), ('F', 'ccdd', 'a#'), ('S', 'aaaccdd', '#'), ('S', 'aaccdd', 'a#'), ('C', 'dd', 'ccaaa#'), ('D', 'ccdd', 'aaa#'), ('D', 'd', 'c#'), ('B', 'ccdd', '#'), ('S', 'ccdd', 'aaa#'), ('X', 'accdd', 'a#'), ('D', 'd', 'caaa#'), ('D', 'aaaccdd', '#'), ('S', 'accdd', 'aa#'), ('D', 'aaccdd', 'a#'), ('I', 'aaaccdd', '#'), ('F', 'accdd', '#'), ('D', '', '#'), ('D', '', 'aaa#'), ('D', 'ccdd', '#'), ('C', 'cdd', 'caaa#'), ('Y', 'ccdd', 'a#'), ('X', 'ccdd', 'aa#'), ('Y', 'accdd', '#'), ('C', 'dd', 'cc#'), ('X', 'aaccdd', '#')}\n"
          ]
        }
      ]
    },
    {
      "cell_type": "code",
      "metadata": {
        "id": "_ig5QCWpN1cD",
        "outputId": "e9ee7145-bd31-44d3-f073-564d287bea96",
        "colab": {
          "base_uri": "https://localhost:8080/"
        }
      },
      "source": [
        "explore_pda('aaaccddd', Labcd)"
      ],
      "execution_count": 177,
      "outputs": [
        {
          "output_type": "stream",
          "name": "stdout",
          "text": [
            "String aaaccddd accepted by your PDA in 1 ways :-) \n",
            "Here are the ways: \n",
            "Final state  ('F', '', '#')\n",
            "Reached as follows:\n",
            "->  ('I', 'aaaccddd', '#')\n",
            "->  ('S', 'aaaccddd', '#')\n",
            "->  ('S', 'aaccddd', 'a#')\n",
            "->  ('S', 'accddd', 'aa#')\n",
            "->  ('S', 'ccddd', 'aaa#')\n",
            "->  ('X', 'ccddd', 'aa#')\n",
            "->  ('Y', 'ccddd', 'a#')\n",
            "->  ('B', 'ccddd', '#')\n",
            "->  ('C', 'cddd', 'c#')\n",
            "->  ('C', 'ddd', 'cc#')\n",
            "->  ('D', 'dd', 'c#')\n",
            "->  ('D', 'd', '#')\n",
            "->  ('F', '', '#') .\n"
          ]
        }
      ]
    },
    {
      "cell_type": "code",
      "metadata": {
        "id": "CGJ0HcZhN1cE",
        "outputId": "0b41ef34-93d3-44c7-b0c1-7c5654abb694",
        "colab": {
          "base_uri": "https://localhost:8080/"
        }
      },
      "source": [
        "explore_pda('aa', Labcd)"
      ],
      "execution_count": 178,
      "outputs": [
        {
          "output_type": "stream",
          "name": "stdout",
          "text": [
            "String aa accepted by your PDA in 1 ways :-) \n",
            "Here are the ways: \n",
            "Final state  ('F', '', '#')\n",
            "Reached as follows:\n",
            "->  ('I', 'aa', '#')\n",
            "->  ('S', 'aa', '#')\n",
            "->  ('S', 'a', 'a#')\n",
            "->  ('S', '', 'aa#')\n",
            "->  ('X', '', 'a#')\n",
            "->  ('Y', '', '#')\n",
            "->  ('F', '', '#') .\n"
          ]
        }
      ]
    },
    {
      "cell_type": "code",
      "metadata": {
        "id": "vZP5Bbmw5WSr",
        "outputId": "7a4f0ca3-11cf-4691-e50e-077a2faafd28",
        "colab": {
          "base_uri": "https://localhost:8080/"
        }
      },
      "source": [
        "explore_pda('aab', Labcd)"
      ],
      "execution_count": 179,
      "outputs": [
        {
          "output_type": "stream",
          "name": "stdout",
          "text": [
            "String aab rejected by your PDA :-(\n",
            "Visited states are:\n",
            "{('D', 'b', 'aa#'), ('B', '', '#'), ('S', 'b', 'aa#'), ('I', 'aab', '#'), ('D', '', 'aa#'), ('D', '', 'a#'), ('D', 'aab', '#'), ('X', 'ab', '#'), ('D', '', '#'), ('S', 'ab', 'a#'), ('W', '', 'b#'), ('F', 'b', '#'), ('B', '', 'aa#'), ('S', 'aab', '#'), ('Y', 'b', '#'), ('B', '', 'a#'), ('X', 'b', 'a#'), ('D', 'ab', 'a#')}\n"
          ]
        }
      ]
    },
    {
      "cell_type": "code",
      "metadata": {
        "id": "yULsX2LZ5Zyo",
        "outputId": "69850103-cf7c-4dba-9769-b7519c4b5fdd",
        "colab": {
          "base_uri": "https://localhost:8080/"
        }
      },
      "source": [
        "explore_pda('aabc', Labcd)"
      ],
      "execution_count": 180,
      "outputs": [
        {
          "output_type": "stream",
          "name": "stdout",
          "text": [
            "String aabc accepted by your PDA in 1 ways :-) \n",
            "Here are the ways: \n",
            "Final state  ('F', '', '#')\n",
            "Reached as follows:\n",
            "->  ('I', 'aabc', '#')\n",
            "->  ('S', 'aabc', '#')\n",
            "->  ('S', 'abc', 'a#')\n",
            "->  ('S', 'bc', 'aa#')\n",
            "->  ('X', 'bc', 'a#')\n",
            "->  ('Y', 'bc', '#')\n",
            "->  ('W', 'c', 'b#')\n",
            "->  ('V', '', '#')\n",
            "->  ('F', '', '#') .\n"
          ]
        }
      ]
    },
    {
      "cell_type": "code",
      "metadata": {
        "id": "PTOC69ja5d5r",
        "outputId": "37c96baa-eabd-4a2b-dd2d-836336f8d379",
        "colab": {
          "base_uri": "https://localhost:8080/"
        }
      },
      "source": [
        "explore_pda('aabbccd', Labcd)"
      ],
      "execution_count": 181,
      "outputs": [
        {
          "output_type": "stream",
          "name": "stdout",
          "text": [
            "String aabbccd accepted by your PDA in 1 ways :-) \n",
            "Here are the ways: \n",
            "Final state  ('F', '', '#')\n",
            "Reached as follows:\n",
            "->  ('I', 'aabbccd', '#')\n",
            "->  ('S', 'aabbccd', '#')\n",
            "->  ('S', 'abbccd', 'a#')\n",
            "->  ('S', 'bbccd', 'aa#')\n",
            "->  ('X', 'bbccd', 'a#')\n",
            "->  ('Y', 'bbccd', '#')\n",
            "->  ('W', 'bccd', 'b#')\n",
            "->  ('W', 'ccd', 'bb#')\n",
            "->  ('V', 'cd', 'b#')\n",
            "->  ('V', 'd', '#')\n",
            "->  ('U', '', '#')\n",
            "->  ('F', '', '#') .\n"
          ]
        }
      ]
    },
    {
      "cell_type": "code",
      "metadata": {
        "id": "sLm_UYPf5_9l",
        "outputId": "5ca9d23c-f712-4b5e-94be-dd8eea049ca9",
        "colab": {
          "base_uri": "https://localhost:8080/"
        }
      },
      "source": [
        "explore_pda('aabcddddd', Labcd)"
      ],
      "execution_count": 182,
      "outputs": [
        {
          "output_type": "stream",
          "name": "stdout",
          "text": [
            "String aabcddddd accepted by your PDA in 2 ways :-) \n",
            "Here are the ways: \n",
            "Final state  ('F', '', '#')\n",
            "Reached as follows:\n",
            "->  ('I', 'aabcddddd', '#')\n",
            "->  ('S', 'aabcddddd', '#')\n",
            "->  ('S', 'abcddddd', 'a#')\n",
            "->  ('S', 'bcddddd', 'aa#')\n",
            "->  ('B', 'cddddd', 'aa#')\n",
            "->  ('B', 'cddddd', 'a#')\n",
            "->  ('B', 'cddddd', '#')\n",
            "->  ('C', 'ddddd', 'c#')\n",
            "->  ('D', 'dddd', '#')\n",
            "->  ('D', 'ddd', '#')\n",
            "->  ('D', 'dd', '#')\n",
            "->  ('D', 'd', '#')\n",
            "->  ('F', '', '#') .\n",
            "Final state  ('F', '', '#')\n",
            "Reached as follows:\n",
            "->  ('I', 'aabcddddd', '#')\n",
            "->  ('S', 'aabcddddd', '#')\n",
            "->  ('S', 'abcddddd', 'a#')\n",
            "->  ('S', 'bcddddd', 'aa#')\n",
            "->  ('X', 'bcddddd', 'a#')\n",
            "->  ('Y', 'bcddddd', '#')\n",
            "->  ('W', 'cddddd', 'b#')\n",
            "->  ('V', 'ddddd', '#')\n",
            "->  ('U', 'dddd', '#')\n",
            "->  ('U', 'ddd', '#')\n",
            "->  ('U', 'dd', '#')\n",
            "->  ('U', 'd', '#')\n",
            "->  ('U', '', '#')\n",
            "->  ('F', '', '#') .\n"
          ]
        }
      ]
    },
    {
      "cell_type": "code",
      "metadata": {
        "id": "_WQdDrGq6FRU",
        "outputId": "2518cf1d-c822-438b-e413-1f8f1956f10c",
        "colab": {
          "base_uri": "https://localhost:8080/"
        }
      },
      "source": [
        "explore_pda('aabcc', Labcd)"
      ],
      "execution_count": 183,
      "outputs": [
        {
          "output_type": "stream",
          "name": "stdout",
          "text": [
            "String aabcc rejected by your PDA :-(\n",
            "Visited states are:\n",
            "{('V', 'c', '#'), ('S', 'abcc', 'a#'), ('B', 'cc', 'aa#'), ('X', 'abcc', '#'), ('B', 'cc', 'a#'), ('D', 'cc', '#'), ('W', 'cc', 'b#'), ('C', 'c', 'c#'), ('S', 'aabcc', '#'), ('C', '', 'ccaa#'), ('C', '', 'cc#'), ('X', 'bcc', 'a#'), ('F', 'c', '#'), ('D', 'cc', 'aa#'), ('S', 'bcc', 'aa#'), ('C', 'c', 'ca#'), ('D', 'cc', 'a#'), ('B', 'cc', '#'), ('Y', 'bcc', '#'), ('C', '', 'cca#'), ('D', 'aabcc', '#'), ('C', 'c', 'caa#'), ('D', 'bcc', 'aa#'), ('F', 'bcc', '#'), ('D', 'abcc', 'a#'), ('I', 'aabcc', '#')}\n"
          ]
        }
      ]
    },
    {
      "cell_type": "code",
      "metadata": {
        "id": "4npjx-7yHkwT",
        "outputId": "7a4e84b9-eac6-4363-a09d-69fb25b5b14c",
        "colab": {
          "base_uri": "https://localhost:8080/"
        }
      },
      "source": [
        "explore_pda('aaaaaaaaaabcdd', Labcd)"
      ],
      "execution_count": 184,
      "outputs": [
        {
          "output_type": "stream",
          "name": "stdout",
          "text": [
            "String aaaaaaaaaabcdd accepted by your PDA in 10 ways :-) \n",
            "Here are the ways: \n",
            "Final state  ('F', '', 'aaaaaaaa#')\n",
            "Reached as follows:\n",
            "->  ('I', 'aaaaaaaaaabcdd', '#')\n",
            "->  ('S', 'aaaaaaaaaabcdd', '#')\n",
            "->  ('S', 'aaaaaaaaabcdd', 'a#')\n",
            "->  ('S', 'aaaaaaaabcdd', 'aa#')\n",
            "->  ('S', 'aaaaaaabcdd', 'aaa#')\n",
            "->  ('S', 'aaaaaabcdd', 'aaaa#')\n",
            "->  ('S', 'aaaaabcdd', 'aaaaa#')\n",
            "->  ('S', 'aaaabcdd', 'aaaaaa#')\n",
            "->  ('S', 'aaabcdd', 'aaaaaaa#')\n",
            "->  ('S', 'aabcdd', 'aaaaaaaa#')\n",
            "->  ('S', 'abcdd', 'aaaaaaaaa#')\n",
            "->  ('S', 'bcdd', 'aaaaaaaaaa#')\n",
            "->  ('X', 'bcdd', 'aaaaaaaaa#')\n",
            "->  ('Y', 'bcdd', 'aaaaaaaa#')\n",
            "->  ('W', 'cdd', 'baaaaaaaa#')\n",
            "->  ('V', 'dd', 'aaaaaaaa#')\n",
            "->  ('U', 'd', 'aaaaaaaa#')\n",
            "->  ('U', '', 'aaaaaaaa#')\n",
            "->  ('F', '', 'aaaaaaaa#') .\n",
            "Final state  ('F', '', '#')\n",
            "Reached as follows:\n",
            "->  ('I', 'aaaaaaaaaabcdd', '#')\n",
            "->  ('S', 'aaaaaaaaaabcdd', '#')\n",
            "->  ('S', 'aaaaaaaaabcdd', 'a#')\n",
            "->  ('S', 'aaaaaaaabcdd', 'aa#')\n",
            "->  ('S', 'aaaaaaabcdd', 'aaa#')\n",
            "->  ('S', 'aaaaaabcdd', 'aaaa#')\n",
            "->  ('S', 'aaaaabcdd', 'aaaaa#')\n",
            "->  ('S', 'aaaabcdd', 'aaaaaa#')\n",
            "->  ('S', 'aaabcdd', 'aaaaaaa#')\n",
            "->  ('S', 'aabcdd', 'aaaaaaaa#')\n",
            "->  ('S', 'abcdd', 'aaaaaaaaa#')\n",
            "->  ('S', 'bcdd', 'aaaaaaaaaa#')\n",
            "->  ('X', 'bcdd', 'aaaaaaaaa#')\n",
            "->  ('Y', 'bcdd', 'aaaaaaaa#')\n",
            "->  ('B', 'bcdd', 'aaaaaaa#')\n",
            "->  ('B', 'bcdd', 'aaaaaa#')\n",
            "->  ('B', 'bcdd', 'aaaaa#')\n",
            "->  ('B', 'bcdd', 'aaaa#')\n",
            "->  ('B', 'bcdd', 'aaa#')\n",
            "->  ('B', 'bcdd', 'aa#')\n",
            "->  ('B', 'bcdd', 'a#')\n",
            "->  ('B', 'bcdd', '#')\n",
            "->  ('B', 'cdd', '#')\n",
            "->  ('C', 'dd', 'c#')\n",
            "->  ('D', 'd', '#')\n",
            "->  ('F', '', '#') .\n",
            "Final state  ('F', '', '#')\n",
            "Reached as follows:\n",
            "->  ('I', 'aaaaaaaaaabcdd', '#')\n",
            "->  ('S', 'aaaaaaaaaabcdd', '#')\n",
            "->  ('S', 'aaaaaaaaabcdd', 'a#')\n",
            "->  ('S', 'aaaaaaaabcdd', 'aa#')\n",
            "->  ('S', 'aaaaaaabcdd', 'aaa#')\n",
            "->  ('S', 'aaaaaabcdd', 'aaaa#')\n",
            "->  ('S', 'aaaaabcdd', 'aaaaa#')\n",
            "->  ('S', 'aaaabcdd', 'aaaaaa#')\n",
            "->  ('S', 'aaabcdd', 'aaaaaaa#')\n",
            "->  ('S', 'aabcdd', 'aaaaaaaa#')\n",
            "->  ('S', 'abcdd', 'aaaaaaaaa#')\n",
            "->  ('S', 'bcdd', 'aaaaaaaaaa#')\n",
            "->  ('X', 'bcdd', 'aaaaaaaaa#')\n",
            "->  ('Y', 'bcdd', 'aaaaaaaa#')\n",
            "->  ('B', 'bcdd', 'aaaaaaa#')\n",
            "->  ('B', 'bcdd', 'aaaaaa#')\n",
            "->  ('B', 'bcdd', 'aaaaa#')\n",
            "->  ('B', 'bcdd', 'aaaa#')\n",
            "->  ('B', 'bcdd', 'aaa#')\n",
            "->  ('B', 'bcdd', 'aa#')\n",
            "->  ('B', 'bcdd', 'a#')\n",
            "->  ('B', 'cdd', 'a#')\n",
            "->  ('B', 'cdd', '#')\n",
            "->  ('C', 'dd', 'c#')\n",
            "->  ('D', 'd', '#')\n",
            "->  ('F', '', '#') .\n",
            "Final state  ('F', '', '#')\n",
            "Reached as follows:\n",
            "->  ('I', 'aaaaaaaaaabcdd', '#')\n",
            "->  ('S', 'aaaaaaaaaabcdd', '#')\n",
            "->  ('S', 'aaaaaaaaabcdd', 'a#')\n",
            "->  ('S', 'aaaaaaaabcdd', 'aa#')\n",
            "->  ('S', 'aaaaaaabcdd', 'aaa#')\n",
            "->  ('S', 'aaaaaabcdd', 'aaaa#')\n",
            "->  ('S', 'aaaaabcdd', 'aaaaa#')\n",
            "->  ('S', 'aaaabcdd', 'aaaaaa#')\n",
            "->  ('S', 'aaabcdd', 'aaaaaaa#')\n",
            "->  ('S', 'aabcdd', 'aaaaaaaa#')\n",
            "->  ('S', 'abcdd', 'aaaaaaaaa#')\n",
            "->  ('S', 'bcdd', 'aaaaaaaaaa#')\n",
            "->  ('X', 'bcdd', 'aaaaaaaaa#')\n",
            "->  ('Y', 'bcdd', 'aaaaaaaa#')\n",
            "->  ('B', 'bcdd', 'aaaaaaa#')\n",
            "->  ('B', 'bcdd', 'aaaaaa#')\n",
            "->  ('B', 'bcdd', 'aaaaa#')\n",
            "->  ('B', 'bcdd', 'aaaa#')\n",
            "->  ('B', 'bcdd', 'aaa#')\n",
            "->  ('B', 'bcdd', 'aa#')\n",
            "->  ('B', 'cdd', 'aa#')\n",
            "->  ('B', 'cdd', 'a#')\n",
            "->  ('B', 'cdd', '#')\n",
            "->  ('C', 'dd', 'c#')\n",
            "->  ('D', 'd', '#')\n",
            "->  ('F', '', '#') .\n",
            "Final state  ('F', '', '#')\n",
            "Reached as follows:\n",
            "->  ('I', 'aaaaaaaaaabcdd', '#')\n",
            "->  ('S', 'aaaaaaaaaabcdd', '#')\n",
            "->  ('S', 'aaaaaaaaabcdd', 'a#')\n",
            "->  ('S', 'aaaaaaaabcdd', 'aa#')\n",
            "->  ('S', 'aaaaaaabcdd', 'aaa#')\n",
            "->  ('S', 'aaaaaabcdd', 'aaaa#')\n",
            "->  ('S', 'aaaaabcdd', 'aaaaa#')\n",
            "->  ('S', 'aaaabcdd', 'aaaaaa#')\n",
            "->  ('S', 'aaabcdd', 'aaaaaaa#')\n",
            "->  ('S', 'aabcdd', 'aaaaaaaa#')\n",
            "->  ('S', 'abcdd', 'aaaaaaaaa#')\n",
            "->  ('S', 'bcdd', 'aaaaaaaaaa#')\n",
            "->  ('X', 'bcdd', 'aaaaaaaaa#')\n",
            "->  ('Y', 'bcdd', 'aaaaaaaa#')\n",
            "->  ('B', 'bcdd', 'aaaaaaa#')\n",
            "->  ('B', 'bcdd', 'aaaaaa#')\n",
            "->  ('B', 'bcdd', 'aaaaa#')\n",
            "->  ('B', 'bcdd', 'aaaa#')\n",
            "->  ('B', 'bcdd', 'aaa#')\n",
            "->  ('B', 'cdd', 'aaa#')\n",
            "->  ('B', 'cdd', 'aa#')\n",
            "->  ('B', 'cdd', 'a#')\n",
            "->  ('B', 'cdd', '#')\n",
            "->  ('C', 'dd', 'c#')\n",
            "->  ('D', 'd', '#')\n",
            "->  ('F', '', '#') .\n",
            "Final state  ('F', '', '#')\n",
            "Reached as follows:\n",
            "->  ('I', 'aaaaaaaaaabcdd', '#')\n",
            "->  ('S', 'aaaaaaaaaabcdd', '#')\n",
            "->  ('S', 'aaaaaaaaabcdd', 'a#')\n",
            "->  ('S', 'aaaaaaaabcdd', 'aa#')\n",
            "->  ('S', 'aaaaaaabcdd', 'aaa#')\n",
            "->  ('S', 'aaaaaabcdd', 'aaaa#')\n",
            "->  ('S', 'aaaaabcdd', 'aaaaa#')\n",
            "->  ('S', 'aaaabcdd', 'aaaaaa#')\n",
            "->  ('S', 'aaabcdd', 'aaaaaaa#')\n",
            "->  ('S', 'aabcdd', 'aaaaaaaa#')\n",
            "->  ('S', 'abcdd', 'aaaaaaaaa#')\n",
            "->  ('S', 'bcdd', 'aaaaaaaaaa#')\n",
            "->  ('X', 'bcdd', 'aaaaaaaaa#')\n",
            "->  ('Y', 'bcdd', 'aaaaaaaa#')\n",
            "->  ('B', 'bcdd', 'aaaaaaa#')\n",
            "->  ('B', 'bcdd', 'aaaaaa#')\n",
            "->  ('B', 'bcdd', 'aaaaa#')\n",
            "->  ('B', 'bcdd', 'aaaa#')\n",
            "->  ('B', 'cdd', 'aaaa#')\n",
            "->  ('B', 'cdd', 'aaa#')\n",
            "->  ('B', 'cdd', 'aa#')\n",
            "->  ('B', 'cdd', 'a#')\n",
            "->  ('B', 'cdd', '#')\n",
            "->  ('C', 'dd', 'c#')\n",
            "->  ('D', 'd', '#')\n",
            "->  ('F', '', '#') .\n",
            "Final state  ('F', '', '#')\n",
            "Reached as follows:\n",
            "->  ('I', 'aaaaaaaaaabcdd', '#')\n",
            "->  ('S', 'aaaaaaaaaabcdd', '#')\n",
            "->  ('S', 'aaaaaaaaabcdd', 'a#')\n",
            "->  ('S', 'aaaaaaaabcdd', 'aa#')\n",
            "->  ('S', 'aaaaaaabcdd', 'aaa#')\n",
            "->  ('S', 'aaaaaabcdd', 'aaaa#')\n",
            "->  ('S', 'aaaaabcdd', 'aaaaa#')\n",
            "->  ('S', 'aaaabcdd', 'aaaaaa#')\n",
            "->  ('S', 'aaabcdd', 'aaaaaaa#')\n",
            "->  ('S', 'aabcdd', 'aaaaaaaa#')\n",
            "->  ('S', 'abcdd', 'aaaaaaaaa#')\n",
            "->  ('S', 'bcdd', 'aaaaaaaaaa#')\n",
            "->  ('X', 'bcdd', 'aaaaaaaaa#')\n",
            "->  ('Y', 'bcdd', 'aaaaaaaa#')\n",
            "->  ('B', 'bcdd', 'aaaaaaa#')\n",
            "->  ('B', 'bcdd', 'aaaaaa#')\n",
            "->  ('B', 'bcdd', 'aaaaa#')\n",
            "->  ('B', 'cdd', 'aaaaa#')\n",
            "->  ('B', 'cdd', 'aaaa#')\n",
            "->  ('B', 'cdd', 'aaa#')\n",
            "->  ('B', 'cdd', 'aa#')\n",
            "->  ('B', 'cdd', 'a#')\n",
            "->  ('B', 'cdd', '#')\n",
            "->  ('C', 'dd', 'c#')\n",
            "->  ('D', 'd', '#')\n",
            "->  ('F', '', '#') .\n",
            "Final state  ('F', '', '#')\n",
            "Reached as follows:\n",
            "->  ('I', 'aaaaaaaaaabcdd', '#')\n",
            "->  ('S', 'aaaaaaaaaabcdd', '#')\n",
            "->  ('S', 'aaaaaaaaabcdd', 'a#')\n",
            "->  ('S', 'aaaaaaaabcdd', 'aa#')\n",
            "->  ('S', 'aaaaaaabcdd', 'aaa#')\n",
            "->  ('S', 'aaaaaabcdd', 'aaaa#')\n",
            "->  ('S', 'aaaaabcdd', 'aaaaa#')\n",
            "->  ('S', 'aaaabcdd', 'aaaaaa#')\n",
            "->  ('S', 'aaabcdd', 'aaaaaaa#')\n",
            "->  ('S', 'aabcdd', 'aaaaaaaa#')\n",
            "->  ('S', 'abcdd', 'aaaaaaaaa#')\n",
            "->  ('S', 'bcdd', 'aaaaaaaaaa#')\n",
            "->  ('X', 'bcdd', 'aaaaaaaaa#')\n",
            "->  ('Y', 'bcdd', 'aaaaaaaa#')\n",
            "->  ('B', 'bcdd', 'aaaaaaa#')\n",
            "->  ('B', 'bcdd', 'aaaaaa#')\n",
            "->  ('B', 'cdd', 'aaaaaa#')\n",
            "->  ('B', 'cdd', 'aaaaa#')\n",
            "->  ('B', 'cdd', 'aaaa#')\n",
            "->  ('B', 'cdd', 'aaa#')\n",
            "->  ('B', 'cdd', 'aa#')\n",
            "->  ('B', 'cdd', 'a#')\n",
            "->  ('B', 'cdd', '#')\n",
            "->  ('C', 'dd', 'c#')\n",
            "->  ('D', 'd', '#')\n",
            "->  ('F', '', '#') .\n",
            "Final state  ('F', '', '#')\n",
            "Reached as follows:\n",
            "->  ('I', 'aaaaaaaaaabcdd', '#')\n",
            "->  ('S', 'aaaaaaaaaabcdd', '#')\n",
            "->  ('S', 'aaaaaaaaabcdd', 'a#')\n",
            "->  ('S', 'aaaaaaaabcdd', 'aa#')\n",
            "->  ('S', 'aaaaaaabcdd', 'aaa#')\n",
            "->  ('S', 'aaaaaabcdd', 'aaaa#')\n",
            "->  ('S', 'aaaaabcdd', 'aaaaa#')\n",
            "->  ('S', 'aaaabcdd', 'aaaaaa#')\n",
            "->  ('S', 'aaabcdd', 'aaaaaaa#')\n",
            "->  ('S', 'aabcdd', 'aaaaaaaa#')\n",
            "->  ('S', 'abcdd', 'aaaaaaaaa#')\n",
            "->  ('S', 'bcdd', 'aaaaaaaaaa#')\n",
            "->  ('X', 'bcdd', 'aaaaaaaaa#')\n",
            "->  ('Y', 'bcdd', 'aaaaaaaa#')\n",
            "->  ('B', 'bcdd', 'aaaaaaa#')\n",
            "->  ('B', 'cdd', 'aaaaaaa#')\n",
            "->  ('B', 'cdd', 'aaaaaa#')\n",
            "->  ('B', 'cdd', 'aaaaa#')\n",
            "->  ('B', 'cdd', 'aaaa#')\n",
            "->  ('B', 'cdd', 'aaa#')\n",
            "->  ('B', 'cdd', 'aa#')\n",
            "->  ('B', 'cdd', 'a#')\n",
            "->  ('B', 'cdd', '#')\n",
            "->  ('C', 'dd', 'c#')\n",
            "->  ('D', 'd', '#')\n",
            "->  ('F', '', '#') .\n",
            "Final state  ('F', '', '#')\n",
            "Reached as follows:\n",
            "->  ('I', 'aaaaaaaaaabcdd', '#')\n",
            "->  ('S', 'aaaaaaaaaabcdd', '#')\n",
            "->  ('S', 'aaaaaaaaabcdd', 'a#')\n",
            "->  ('S', 'aaaaaaaabcdd', 'aa#')\n",
            "->  ('S', 'aaaaaaabcdd', 'aaa#')\n",
            "->  ('S', 'aaaaaabcdd', 'aaaa#')\n",
            "->  ('S', 'aaaaabcdd', 'aaaaa#')\n",
            "->  ('S', 'aaaabcdd', 'aaaaaa#')\n",
            "->  ('S', 'aaabcdd', 'aaaaaaa#')\n",
            "->  ('S', 'aabcdd', 'aaaaaaaa#')\n",
            "->  ('S', 'abcdd', 'aaaaaaaaa#')\n",
            "->  ('S', 'bcdd', 'aaaaaaaaaa#')\n",
            "->  ('B', 'cdd', 'aaaaaaaaaa#')\n",
            "->  ('B', 'cdd', 'aaaaaaaaa#')\n",
            "->  ('B', 'cdd', 'aaaaaaaa#')\n",
            "->  ('B', 'cdd', 'aaaaaaa#')\n",
            "->  ('B', 'cdd', 'aaaaaa#')\n",
            "->  ('B', 'cdd', 'aaaaa#')\n",
            "->  ('B', 'cdd', 'aaaa#')\n",
            "->  ('B', 'cdd', 'aaa#')\n",
            "->  ('B', 'cdd', 'aa#')\n",
            "->  ('B', 'cdd', 'a#')\n",
            "->  ('B', 'cdd', '#')\n",
            "->  ('C', 'dd', 'c#')\n",
            "->  ('D', 'd', '#')\n",
            "->  ('F', '', '#') .\n"
          ]
        }
      ]
    },
    {
      "cell_type": "markdown",
      "metadata": {
        "id": "ZF496Ja6N1cE"
      },
      "source": [
        "# Questions 2 and 3: Now do the PL proofs of MT2\n",
        "## Check Canvas for the actual question wording. \n",
        "## You have to answer this on Canvas."
      ]
    },
    {
      "cell_type": "markdown",
      "metadata": {
        "id": "jJiDLutTP_ng"
      },
      "source": [
        "Question 2:\n",
        "\n",
        "Assume that Labcd is regular\n",
        "\n"
      ]
    }
  ]
}