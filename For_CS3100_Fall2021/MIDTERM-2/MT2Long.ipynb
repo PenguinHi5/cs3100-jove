{
  "nbformat": 4,
  "nbformat_minor": 0,
  "metadata": {
    "kernelspec": {
      "display_name": "Python 3",
      "language": "python",
      "name": "python3"
    },
    "language_info": {
      "codemirror_mode": {
        "name": "ipython",
        "version": 3
      },
      "file_extension": ".py",
      "mimetype": "text/x-python",
      "name": "python",
      "nbconvert_exporter": "python",
      "pygments_lexer": "ipython3",
      "version": "3.8.5"
    },
    "toc": {
      "colors": {
        "hover_highlight": "#DAA520",
        "running_highlight": "#FF0000",
        "selected_highlight": "#FFD700"
      },
      "moveMenuLeft": true,
      "nav_menu": {
        "height": "318px",
        "width": "252px"
      },
      "navigate_menu": true,
      "number_sections": true,
      "sideBar": true,
      "threshold": 4,
      "toc_cell": false,
      "toc_section_display": "block",
      "toc_window_display": false,
      "widenNotebook": false
    },
    "colab": {
      "name": "MT2Long.ipynb",
      "provenance": []
    }
  },
  "cells": [
    {
      "cell_type": "code",
      "metadata": {
        "run_control": {
          "frozen": false,
          "read_only": false
        },
        "id": "LNw7q8h9N1b5"
      },
      "source": [
        "#~~~~~~~~~~~~~~~~~~~~~~~~~~~~~~~~~~~~~~~~~~~~~~~~~~~~~~~\n",
        "import sys\n",
        "\n",
        "# -- Detect if in Own Install or in Colab\n",
        "try:\n",
        "    import google.colab\n",
        "    OWN_INSTALL = False\n",
        "except:\n",
        "    OWN_INSTALL = True\n",
        "    \n",
        "if OWN_INSTALL:\n",
        "    \n",
        "  #---- Leave these definitions ON if running on laptop\n",
        "  #---- Else turn OFF by putting them between ''' ... '''\n",
        "\n",
        "  sys.path[0:0] = ['../../../../..',  '../../../../../3rdparty',  \n",
        "                   '../../../..',  '../../../../3rdparty',  \n",
        "                   '../../..',     '../../../3rdparty', \n",
        "                   '../..',        '../../3rdparty',\n",
        "                   '..',           '../3rdparty' ]\n",
        "\n",
        "else: # In colab\n",
        "  ! if [ ! -d Jove ]; then git clone https://github.com/ganeshutah/Jove Jove; fi\n",
        "  sys.path.append('./Jove')\n",
        "  sys.path.append('./Jove/jove')\n",
        "\n",
        "# -- common imports --\n",
        "from jove.DotBashers import *\n",
        "from jove.Def_DFA import *\n",
        "from jove.Def_NFA import *\n",
        "from jove.Def_RE2NFA import *\n",
        "from jove.Def_NFA2RE import *\n",
        "from jove.Def_md2mc import *\n",
        "from jove.JoveEditor import *\n",
        "#~~~~~~~~~~~~~~~~~~~~~~~~~~~~~~~~~~~~~~~~~~~~~~~~~~~~~~~"
      ],
      "execution_count": null,
      "outputs": []
    },
    {
      "cell_type": "markdown",
      "metadata": {
        "id": "A_l8ZnrGN1b8"
      },
      "source": [
        "# Question 1, Part (a) : Develop a CFG and then a PDA that directly encodes this CFG for the language Labcd\n",
        "\n",
        " \n",
        "## Labcd = { a^i b^j c^k d^l : if i=2 then j=k else l > k }\n",
        "\n",
        "### NOTE it is d raised to \"ell\" not d raised to \"one\" (as l and 1  -- ELL and ONE -- often look similar)\n",
        "\n",
        "## Type the PDA Design directly below\n",
        "\n",
        "## But begin the PDA design with the CFG productions you developed\n",
        "\n",
        "## Then, for each PDA transition, put the CFG rule it encodes as comments\n",
        "\n",
        "## See additional details below\n",
        "\n",
        "# You may begin your design with nonterminal names of > 1 character\n",
        "\n",
        "## BUT finally, you need single-character non-terminals for Jove's CFG simulation using PDA"
      ]
    },
    {
      "cell_type": "code",
      "metadata": {
        "id": "_nkU9MO7N1b-"
      },
      "source": [
        "\n",
        "#----- MY FINAL PRODUCTION  RULES ARE HERE after I turned all non-terminals into 1-character non-terminals ------\n",
        "'''\n",
        "\n",
        "S -> aBCd | BCd | aaWU | aaaAS\n",
        "A -> aA | ''\n",
        "W -> bWc\n",
        "U -> dU | ''\n",
        "B -> bB | ''\n",
        "C -> cCd | d | ''\n",
        "\n",
        "\n",
        "'''\n",
        "#----- MY PDA IS BELOW\n",
        "\n",
        "\n",
        "\n",
        "\n",
        "\n",
        "Labcd = md2mc('''\n",
        "\n",
        "PDA\n",
        "\n",
        "I : '', # ; # -> S\n",
        "\n",
        "S : a, '' ; a -> S\n",
        "S : '', a ; '' -> X\n",
        "X : '', a ; '' -> Y\n",
        "Y : '', a ; '' -> B\n",
        "\n",
        "S : b, '' ; '' -> B\n",
        "S : c, '' ; c -> C\n",
        "S : '', '' ; '' -> D\n",
        "\n",
        "B : '', a ; '' -> B\n",
        "B : b, '' ; '' -> B\n",
        "B : c, '' ; c -> C\n",
        "B : '', '' ; '' -> D\n",
        "\n",
        "C : c, '' ; c -> C\n",
        "C : d, c ; '' -> D\n",
        "\n",
        "D : d, c ; '' -> D\n",
        "D : d, # ; # -> D\n",
        "D : d, # ; # -> F\n",
        "\n",
        "!! 2 a's\n",
        "Y : b, '' ; b -> W\n",
        "Y : '', '' ; '' -> U\n",
        "W : b, '' ; b -> W\n",
        "W : c, b ; '' -> V\n",
        "\n",
        "V : c, b ; '' -> V\n",
        "V : '', # ; # -> F\n",
        "\n",
        "V : d, '' ; '' -> U\n",
        "U : d, '' ; '' -> U\n",
        "U : '', '' ; '' -> F\n",
        "\n",
        "!!--- be neat and careful as you have to avoid mistakes ---\n",
        "\n",
        "!! PUT YOUR CFG PRODUCTION RULE OR RULES HERE\n",
        "!! S -> aBCd | BCd | aaWU | aaaAS\n",
        "!! PUT WHAT PDA TRANSITIONS IT GENERATED, BELOW\n",
        "!! S : '', a ; '' -> X\n",
        "!! X : '', a ; '' -> Y\n",
        "!! Y : '', a ; '' -> B\n",
        "!! S : b, '' ; '' -> B\n",
        "!! S : c, '' ; c -> C\n",
        "!! S : '', '' ; '' -> D\n",
        "!! B : c, '' ; c -> C\n",
        "!! B : '', '' ; '' -> D\n",
        "!! Y : '', '' ; '' -> U\n",
        "\n",
        "!! PUT YOUR CFG PRODUCTION RULE OR RULES HERE\n",
        "!! A -> aA | ''\n",
        "!! PUT WHAT PDA TRANSITIONS IT GENERATED, BELOW\n",
        "!! B : '', a ; '' -> B\n",
        "\n",
        "!! PUT YOUR CFG PRODUCTION RULE OR RULES HERE\n",
        "!! W -> bWc\n",
        "!! PUT WHAT PDA TRANSITIONS IT GENERATED, BELOW\n",
        "!! Y : b, '' ; b -> W\n",
        "!! W : b, '' ; b -> W\n",
        "!! W : c, b ; '' -> V\n",
        "!! V : c, b ; '' -> V\n",
        "!! V : '', # ; # -> F\n",
        "\n",
        "!! PUT YOUR CFG PRODUCTION RULE OR RULES HERE\n",
        "!! U -> dU | ''\n",
        "!! PUT WHAT PDA TRANSITIONS IT GENERATED, BELOW\n",
        "!! V : d, '' ; '' -> U\n",
        "!! U : d, '' ; '' -> U\n",
        "!! U : '', '' ; '' -> F\n",
        "\n",
        "!! PUT YOUR CFG PRODUCTION RULE OR RULES HERE\n",
        "!! B -> bB | ''\n",
        "!! PUT WHAT PDA TRANSITIONS IT GENERATED, BELOW\n",
        "!! B : b, '' ; '' -> B\n",
        "\n",
        "!! PUT YOUR CFG PRODUCTION RULE OR RULES HERE\n",
        "!! C -> cCd | d | ''\n",
        "!! PUT WHAT PDA TRANSITIONS IT GENERATED, BELOW\n",
        "!! C : c, '' ; c -> C\n",
        "!! C : d, c ; '' -> D\n",
        "!! D : d, c ; '' -> D\n",
        "!! D : d, # ; # -> D\n",
        "!! D : d, # ; # -> F\n",
        "\n",
        " \n",
        "\n",
        "\n",
        "''')\n"
      ],
      "execution_count": null,
      "outputs": []
    },
    {
      "cell_type": "code",
      "metadata": {
        "id": "pjsWfJVAN1b-",
        "colab": {
          "base_uri": "https://localhost:8080/",
          "height": 428
        },
        "outputId": "4426411b-20c0-46dc-f620-65343634ff6d"
      },
      "source": [
        "dotObj_pda(Labcd, FuseEdges=True)"
      ],
      "execution_count": null,
      "outputs": [
        {
          "output_type": "execute_result",
          "data": {
            "text/plain": [
              "<graphviz.dot.Digraph at 0x7fd7d2f37610>"
            ],
            "image/svg+xml": "<?xml version=\"1.0\" encoding=\"UTF-8\" standalone=\"no\"?>\n<!DOCTYPE svg PUBLIC \"-//W3C//DTD SVG 1.1//EN\"\n \"http://www.w3.org/Graphics/SVG/1.1/DTD/svg11.dtd\">\n<!-- Generated by graphviz version 2.40.1 (20161225.0304)\n -->\n<!-- Title: %3 Pages: 1 -->\n<svg width=\"917pt\" height=\"305pt\"\n viewBox=\"0.00 0.00 917.00 305.00\" xmlns=\"http://www.w3.org/2000/svg\" xmlns:xlink=\"http://www.w3.org/1999/xlink\">\n<g id=\"graph0\" class=\"graph\" transform=\"scale(1 1) rotate(0) translate(4 301)\">\n<title>%3</title>\n<polygon fill=\"#ffffff\" stroke=\"transparent\" points=\"-4,4 -4,-301 912.9965,-301 912.9965,4 -4,4\"/>\n<!-- EMPTY -->\n<g id=\"node1\" class=\"node\">\n<title>EMPTY</title>\n</g>\n<!-- I -->\n<g id=\"node10\" class=\"node\">\n<title>I</title>\n<ellipse fill=\"none\" stroke=\"#000000\" cx=\"109\" cy=\"-67\" rx=\"18\" ry=\"18\"/>\n<text text-anchor=\"middle\" x=\"109\" y=\"-63.3\" font-family=\"Times,serif\" font-size=\"14.00\" fill=\"#000000\">I</text>\n</g>\n<!-- EMPTY&#45;&gt;I -->\n<g id=\"edge1\" class=\"edge\">\n<title>EMPTY&#45;&gt;I</title>\n<path fill=\"none\" stroke=\"#000000\" d=\"M54.3048,-67C62.6909,-67 71.9407,-67 80.4103,-67\"/>\n<polygon fill=\"#000000\" stroke=\"#000000\" points=\"80.5976,-70.5001 90.5976,-67 80.5976,-63.5001 80.5976,-70.5001\"/>\n</g>\n<!-- C -->\n<g id=\"node2\" class=\"node\">\n<title>C</title>\n<ellipse fill=\"none\" stroke=\"#000000\" cx=\"656.9965\" cy=\"-46\" rx=\"18\" ry=\"18\"/>\n<text text-anchor=\"middle\" x=\"656.9965\" y=\"-42.3\" font-family=\"Times,serif\" font-size=\"14.00\" fill=\"#000000\">C</text>\n</g>\n<!-- C&#45;&gt;C -->\n<g id=\"edge13\" class=\"edge\">\n<title>C&#45;&gt;C</title>\n<path fill=\"none\" stroke=\"#000000\" d=\"M647.7639,-61.5414C645.1651,-71.9087 648.2426,-82 656.9965,-82 662.7413,-82 666.0414,-77.654 666.897,-71.7362\"/>\n<polygon fill=\"#000000\" stroke=\"#000000\" points=\"670.3754,-71.2913 666.2292,-61.5414 663.3904,-71.7489 670.3754,-71.2913\"/>\n<text text-anchor=\"middle\" x=\"656.9965\" y=\"-85.8\" font-family=\"Times,serif\" font-size=\"14.00\" fill=\"#000000\">c, &#39;&#39; ; c</text>\n</g>\n<!-- D -->\n<g id=\"node9\" class=\"node\">\n<title>D</title>\n<ellipse fill=\"none\" stroke=\"#000000\" cx=\"767.4965\" cy=\"-70\" rx=\"18\" ry=\"18\"/>\n<text text-anchor=\"middle\" x=\"767.4965\" y=\"-66.3\" font-family=\"Times,serif\" font-size=\"14.00\" fill=\"#000000\">D</text>\n</g>\n<!-- C&#45;&gt;D -->\n<g id=\"edge14\" class=\"edge\">\n<title>C&#45;&gt;D</title>\n<path fill=\"none\" stroke=\"#000000\" d=\"M674.7503,-49.856C692.3099,-53.6699 719.4372,-59.5618 739.8257,-63.99\"/>\n<polygon fill=\"#000000\" stroke=\"#000000\" points=\"739.2718,-67.4513 749.7869,-66.1536 740.7576,-60.6108 739.2718,-67.4513\"/>\n<text text-anchor=\"middle\" x=\"711.4965\" y=\"-64.8\" font-family=\"Times,serif\" font-size=\"14.00\" fill=\"#000000\">d, c ; &#39;&#39;</text>\n</g>\n<!-- Y -->\n<g id=\"node3\" class=\"node\">\n<title>Y</title>\n<ellipse fill=\"none\" stroke=\"#000000\" cx=\"434\" cy=\"-175\" rx=\"18\" ry=\"18\"/>\n<text text-anchor=\"middle\" x=\"434\" y=\"-171.3\" font-family=\"Times,serif\" font-size=\"14.00\" fill=\"#000000\">Y</text>\n</g>\n<!-- U -->\n<g id=\"node4\" class=\"node\">\n<title>U</title>\n<ellipse fill=\"none\" stroke=\"#000000\" cx=\"767.4965\" cy=\"-246\" rx=\"18\" ry=\"18\"/>\n<text text-anchor=\"middle\" x=\"767.4965\" y=\"-242.3\" font-family=\"Times,serif\" font-size=\"14.00\" fill=\"#000000\">U</text>\n</g>\n<!-- Y&#45;&gt;U -->\n<g id=\"edge18\" class=\"edge\">\n<title>Y&#45;&gt;U</title>\n<path fill=\"none\" stroke=\"#000000\" d=\"M444.9635,-189.5836C460.6371,-209.0767 491.5084,-242.7109 527,-256 600.1594,-283.3931 694.7135,-265.4474 740.4052,-253.7714\"/>\n<polygon fill=\"#000000\" stroke=\"#000000\" points=\"741.393,-257.1304 750.16,-251.1814 739.5967,-250.3648 741.393,-257.1304\"/>\n<text text-anchor=\"middle\" x=\"602.4965\" y=\"-273.8\" font-family=\"Times,serif\" font-size=\"14.00\" fill=\"#000000\">&#39;&#39;, &#39;&#39; ; &#39;&#39;</text>\n</g>\n<!-- W -->\n<g id=\"node6\" class=\"node\">\n<title>W</title>\n<ellipse fill=\"none\" stroke=\"#000000\" cx=\"546.4983\" cy=\"-195\" rx=\"19.4965\" ry=\"19.4965\"/>\n<text text-anchor=\"middle\" x=\"546.4983\" y=\"-191.3\" font-family=\"Times,serif\" font-size=\"14.00\" fill=\"#000000\">W</text>\n</g>\n<!-- Y&#45;&gt;W -->\n<g id=\"edge17\" class=\"edge\">\n<title>Y&#45;&gt;W</title>\n<path fill=\"none\" stroke=\"#000000\" d=\"M451.8257,-178.1691C469.4222,-181.2974 496.6284,-186.1341 517.3683,-189.8213\"/>\n<polygon fill=\"#000000\" stroke=\"#000000\" points=\"516.7908,-193.2734 527.249,-191.5779 518.0161,-186.3815 516.7908,-193.2734\"/>\n<text text-anchor=\"middle\" x=\"489.5\" y=\"-190.8\" font-family=\"Times,serif\" font-size=\"14.00\" fill=\"#000000\">b, &#39;&#39; ; b</text>\n</g>\n<!-- B -->\n<g id=\"node8\" class=\"node\">\n<title>B</title>\n<ellipse fill=\"none\" stroke=\"#000000\" cx=\"546.4983\" cy=\"-92\" rx=\"18\" ry=\"18\"/>\n<text text-anchor=\"middle\" x=\"546.4983\" y=\"-88.3\" font-family=\"Times,serif\" font-size=\"14.00\" fill=\"#000000\">B</text>\n</g>\n<!-- Y&#45;&gt;B -->\n<g id=\"edge6\" class=\"edge\">\n<title>Y&#45;&gt;B</title>\n<path fill=\"none\" stroke=\"#000000\" d=\"M448.7072,-164.1492C467.7408,-150.1064 501.1128,-125.4849 523.5083,-108.9617\"/>\n<polygon fill=\"#000000\" stroke=\"#000000\" points=\"525.8185,-111.6069 531.7875,-102.8535 521.6626,-105.974 525.8185,-111.6069\"/>\n<text text-anchor=\"middle\" x=\"489.5\" y=\"-151.8\" font-family=\"Times,serif\" font-size=\"14.00\" fill=\"#000000\">&#39;&#39;, a ; &#39;&#39;</text>\n</g>\n<!-- U&#45;&gt;U -->\n<g id=\"edge24\" class=\"edge\">\n<title>U&#45;&gt;U</title>\n<path fill=\"none\" stroke=\"#000000\" d=\"M757.922,-261.5414C755.2269,-271.9087 758.4184,-282 767.4965,-282 773.4541,-282 776.8764,-277.654 777.7637,-271.7362\"/>\n<polygon fill=\"#000000\" stroke=\"#000000\" points=\"781.2409,-271.2812 777.0711,-261.5414 774.257,-271.7557 781.2409,-271.2812\"/>\n<text text-anchor=\"middle\" x=\"767.4965\" y=\"-285.8\" font-family=\"Times,serif\" font-size=\"14.00\" fill=\"#000000\">d, &#39;&#39; ; &#39;&#39;</text>\n</g>\n<!-- F -->\n<g id=\"node12\" class=\"node\">\n<title>F</title>\n<ellipse fill=\"none\" stroke=\"#000000\" cx=\"886.9965\" cy=\"-195\" rx=\"18\" ry=\"18\"/>\n<ellipse fill=\"none\" stroke=\"#000000\" cx=\"886.9965\" cy=\"-195\" rx=\"22\" ry=\"22\"/>\n<text text-anchor=\"middle\" x=\"886.9965\" y=\"-191.3\" font-family=\"Times,serif\" font-size=\"14.00\" fill=\"#000000\">F</text>\n</g>\n<!-- U&#45;&gt;F -->\n<g id=\"edge25\" class=\"edge\">\n<title>U&#45;&gt;F</title>\n<path fill=\"none\" stroke=\"#000000\" d=\"M784.1125,-238.9087C802.9672,-230.8619 834.0921,-217.5785 857.1788,-207.7256\"/>\n<polygon fill=\"#000000\" stroke=\"#000000\" points=\"858.6981,-210.8826 866.5217,-203.7382 855.9504,-204.4444 858.6981,-210.8826\"/>\n<text text-anchor=\"middle\" x=\"825.9965\" y=\"-232.8\" font-family=\"Times,serif\" font-size=\"14.00\" fill=\"#000000\">&#39;&#39;, &#39;&#39; ; &#39;&#39;</text>\n</g>\n<!-- S -->\n<g id=\"node5\" class=\"node\">\n<title>S</title>\n<ellipse fill=\"none\" stroke=\"#000000\" cx=\"220\" cy=\"-67\" rx=\"18\" ry=\"18\"/>\n<text text-anchor=\"middle\" x=\"220\" y=\"-63.3\" font-family=\"Times,serif\" font-size=\"14.00\" fill=\"#000000\">S</text>\n</g>\n<!-- S&#45;&gt;C -->\n<g id=\"edge8\" class=\"edge\">\n<title>S&#45;&gt;C</title>\n<path fill=\"none\" stroke=\"#000000\" d=\"M237.4208,-61.3724C258.2549,-55.1519 294.2948,-46 326,-46 326,-46 326,-46 546.4983,-46 574.3596,-46 606.1726,-46 628.4862,-46\"/>\n<polygon fill=\"#000000\" stroke=\"#000000\" points=\"628.6182,-49.5001 638.6181,-46 628.6181,-42.5001 628.6182,-49.5001\"/>\n<text text-anchor=\"middle\" x=\"434\" y=\"-49.8\" font-family=\"Times,serif\" font-size=\"14.00\" fill=\"#000000\">c, &#39;&#39; ; c</text>\n</g>\n<!-- S&#45;&gt;S -->\n<g id=\"edge3\" class=\"edge\">\n<title>S&#45;&gt;S</title>\n<path fill=\"none\" stroke=\"#000000\" d=\"M211.0212,-82.916C208.679,-93.1504 211.6719,-103 220,-103 225.4653,-103 228.633,-98.7581 229.503,-92.9494\"/>\n<polygon fill=\"#000000\" stroke=\"#000000\" points=\"232.9958,-92.7198 228.9788,-82.916 226.0054,-93.0851 232.9958,-92.7198\"/>\n<text text-anchor=\"middle\" x=\"220\" y=\"-106.8\" font-family=\"Times,serif\" font-size=\"14.00\" fill=\"#000000\">a, &#39;&#39; ; a</text>\n</g>\n<!-- X -->\n<g id=\"node7\" class=\"node\">\n<title>X</title>\n<ellipse fill=\"none\" stroke=\"#000000\" cx=\"326\" cy=\"-142\" rx=\"18\" ry=\"18\"/>\n<text text-anchor=\"middle\" x=\"326\" y=\"-138.3\" font-family=\"Times,serif\" font-size=\"14.00\" fill=\"#000000\">X</text>\n</g>\n<!-- S&#45;&gt;X -->\n<g id=\"edge4\" class=\"edge\">\n<title>S&#45;&gt;X</title>\n<path fill=\"none\" stroke=\"#000000\" d=\"M231.7773,-81.015C238.4177,-88.3995 247.1408,-97.2901 256,-104 269.5714,-114.2789 286.2794,-123.4601 299.9681,-130.2219\"/>\n<polygon fill=\"#000000\" stroke=\"#000000\" points=\"298.7833,-133.5352 309.314,-134.6991 301.8076,-127.2222 298.7833,-133.5352\"/>\n<text text-anchor=\"middle\" x=\"273\" y=\"-127.8\" font-family=\"Times,serif\" font-size=\"14.00\" fill=\"#000000\">&#39;&#39;, a ; &#39;&#39;</text>\n</g>\n<!-- S&#45;&gt;B -->\n<g id=\"edge7\" class=\"edge\">\n<title>S&#45;&gt;B</title>\n<path fill=\"none\" stroke=\"#000000\" d=\"M238.019,-68.3797C292.0923,-72.5201 453.2535,-84.8602 518.5551,-89.8604\"/>\n<polygon fill=\"#000000\" stroke=\"#000000\" points=\"518.2969,-93.3508 528.5349,-90.6245 518.8314,-86.3712 518.2969,-93.3508\"/>\n<text text-anchor=\"middle\" x=\"380\" y=\"-83.8\" font-family=\"Times,serif\" font-size=\"14.00\" fill=\"#000000\">b, &#39;&#39; ; &#39;&#39;</text>\n</g>\n<!-- S&#45;&gt;D -->\n<g id=\"edge9\" class=\"edge\">\n<title>S&#45;&gt;D</title>\n<path fill=\"none\" stroke=\"#000000\" d=\"M231.8168,-53.1176C249.9225,-33.4928 286.595,0 326,0 326,0 326,0 656.9965,0 693.847,0 728.3783,-28.125 748.7245,-48.72\"/>\n<polygon fill=\"#000000\" stroke=\"#000000\" points=\"746.3778,-51.3315 755.8031,-56.1703 751.4525,-46.5099 746.3778,-51.3315\"/>\n<text text-anchor=\"middle\" x=\"489.5\" y=\"-3.8\" font-family=\"Times,serif\" font-size=\"14.00\" fill=\"#000000\">&#39;&#39;, &#39;&#39; ; &#39;&#39;</text>\n</g>\n<!-- W&#45;&gt;W -->\n<g id=\"edge19\" class=\"edge\">\n<title>W&#45;&gt;W</title>\n<path fill=\"none\" stroke=\"#000000\" d=\"M537.0061,-212.3576C534.8967,-222.7331 538.0608,-232.4983 546.4983,-232.4983 552.0354,-232.4983 555.3014,-228.2928 556.2964,-222.4691\"/>\n<polygon fill=\"#000000\" stroke=\"#000000\" points=\"559.7913,-222.2472 555.9905,-212.3576 552.7945,-222.4589 559.7913,-222.2472\"/>\n<text text-anchor=\"middle\" x=\"546.4983\" y=\"-236.2983\" font-family=\"Times,serif\" font-size=\"14.00\" fill=\"#000000\">b, &#39;&#39; ; b</text>\n</g>\n<!-- V -->\n<g id=\"node11\" class=\"node\">\n<title>V</title>\n<ellipse fill=\"none\" stroke=\"#000000\" cx=\"656.9965\" cy=\"-195\" rx=\"18\" ry=\"18\"/>\n<text text-anchor=\"middle\" x=\"656.9965\" y=\"-191.3\" font-family=\"Times,serif\" font-size=\"14.00\" fill=\"#000000\">V</text>\n</g>\n<!-- W&#45;&gt;V -->\n<g id=\"edge20\" class=\"edge\">\n<title>W&#45;&gt;V</title>\n<path fill=\"none\" stroke=\"#000000\" d=\"M565.9988,-195C583.3544,-195 608.9581,-195 628.5892,-195\"/>\n<polygon fill=\"#000000\" stroke=\"#000000\" points=\"628.7907,-198.5001 638.7906,-195 628.7906,-191.5001 628.7907,-198.5001\"/>\n<text text-anchor=\"middle\" x=\"602.4965\" y=\"-198.8\" font-family=\"Times,serif\" font-size=\"14.00\" fill=\"#000000\">c, b ; &#39;&#39;</text>\n</g>\n<!-- X&#45;&gt;Y -->\n<g id=\"edge5\" class=\"edge\">\n<title>X&#45;&gt;Y</title>\n<path fill=\"none\" stroke=\"#000000\" d=\"M343.3521,-147.302C360.5144,-152.5461 387.028,-160.6474 406.9552,-166.7363\"/>\n<polygon fill=\"#000000\" stroke=\"#000000\" points=\"406.1047,-170.1361 416.691,-169.7111 408.1503,-163.4416 406.1047,-170.1361\"/>\n<text text-anchor=\"middle\" x=\"380\" y=\"-166.8\" font-family=\"Times,serif\" font-size=\"14.00\" fill=\"#000000\">&#39;&#39;, a ; &#39;&#39;</text>\n</g>\n<!-- B&#45;&gt;C -->\n<g id=\"edge11\" class=\"edge\">\n<title>B&#45;&gt;C</title>\n<path fill=\"none\" stroke=\"#000000\" d=\"M563.2806,-85.0136C581.2098,-77.5497 609.8684,-65.6193 630.7782,-56.9146\"/>\n<polygon fill=\"#000000\" stroke=\"#000000\" points=\"632.1695,-60.1267 640.0563,-53.0522 629.4791,-53.6643 632.1695,-60.1267\"/>\n<text text-anchor=\"middle\" x=\"602.4965\" y=\"-78.8\" font-family=\"Times,serif\" font-size=\"14.00\" fill=\"#000000\">c, &#39;&#39; ; c</text>\n</g>\n<!-- B&#45;&gt;B -->\n<g id=\"edge10\" class=\"edge\">\n<title>B&#45;&gt;B</title>\n<path fill=\"none\" stroke=\"#000000\" d=\"M537.2656,-107.5414C534.6668,-117.9087 537.7444,-128 546.4983,-128 552.243,-128 555.5432,-123.654 556.3987,-117.7362\"/>\n<polygon fill=\"#000000\" stroke=\"#000000\" points=\"559.8772,-117.2913 555.7309,-107.5414 552.8921,-117.7489 559.8772,-117.2913\"/>\n<text text-anchor=\"middle\" x=\"546.4983\" y=\"-146.8\" font-family=\"Times,serif\" font-size=\"14.00\" fill=\"#000000\">&#39;&#39;, a ; &#39;&#39; </text>\n<text text-anchor=\"middle\" x=\"546.4983\" y=\"-131.8\" font-family=\"Times,serif\" font-size=\"14.00\" fill=\"#000000\"> b, &#39;&#39; ; &#39;&#39;</text>\n</g>\n<!-- B&#45;&gt;D -->\n<g id=\"edge12\" class=\"edge\">\n<title>B&#45;&gt;D</title>\n<path fill=\"none\" stroke=\"#000000\" d=\"M564.0825,-97.1597C588.9496,-103.7228 635.7379,-113.3703 674.9965,-106 698.5753,-101.5734 723.865,-91.3146 742.0315,-82.8761\"/>\n<polygon fill=\"#000000\" stroke=\"#000000\" points=\"743.8255,-85.8978 751.335,-78.4239 740.8038,-79.5835 743.8255,-85.8978\"/>\n<text text-anchor=\"middle\" x=\"656.9965\" y=\"-111.8\" font-family=\"Times,serif\" font-size=\"14.00\" fill=\"#000000\">&#39;&#39;, &#39;&#39; ; &#39;&#39;</text>\n</g>\n<!-- D&#45;&gt;D -->\n<g id=\"edge15\" class=\"edge\">\n<title>D&#45;&gt;D</title>\n<path fill=\"none\" stroke=\"#000000\" d=\"M757.922,-85.5414C755.2269,-95.9087 758.4184,-106 767.4965,-106 773.4541,-106 776.8764,-101.654 777.7637,-95.7362\"/>\n<polygon fill=\"#000000\" stroke=\"#000000\" points=\"781.2409,-95.2812 777.0711,-85.5414 774.257,-95.7557 781.2409,-95.2812\"/>\n<text text-anchor=\"middle\" x=\"767.4965\" y=\"-124.8\" font-family=\"Times,serif\" font-size=\"14.00\" fill=\"#000000\">d, # ; # </text>\n<text text-anchor=\"middle\" x=\"767.4965\" y=\"-109.8\" font-family=\"Times,serif\" font-size=\"14.00\" fill=\"#000000\"> d, c ; &#39;&#39;</text>\n</g>\n<!-- D&#45;&gt;F -->\n<g id=\"edge16\" class=\"edge\">\n<title>D&#45;&gt;F</title>\n<path fill=\"none\" stroke=\"#000000\" d=\"M780.2851,-83.3772C800.3653,-104.3816 839.5618,-145.3821 864.4515,-171.4173\"/>\n<polygon fill=\"#000000\" stroke=\"#000000\" points=\"862.2394,-174.1683 871.6796,-178.9781 867.2992,-169.3311 862.2394,-174.1683\"/>\n<text text-anchor=\"middle\" x=\"825.9965\" y=\"-154.8\" font-family=\"Times,serif\" font-size=\"14.00\" fill=\"#000000\">d, # ; #</text>\n</g>\n<!-- I&#45;&gt;S -->\n<g id=\"edge2\" class=\"edge\">\n<title>I&#45;&gt;S</title>\n<path fill=\"none\" stroke=\"#000000\" d=\"M127.3294,-67C144.7627,-67 171.2518,-67 191.4511,-67\"/>\n<polygon fill=\"#000000\" stroke=\"#000000\" points=\"191.6434,-70.5001 201.6434,-67 191.6433,-63.5001 191.6434,-70.5001\"/>\n<text text-anchor=\"middle\" x=\"164.5\" y=\"-70.8\" font-family=\"Times,serif\" font-size=\"14.00\" fill=\"#000000\">&#39;&#39;, # ; #</text>\n</g>\n<!-- V&#45;&gt;U -->\n<g id=\"edge23\" class=\"edge\">\n<title>V&#45;&gt;U</title>\n<path fill=\"none\" stroke=\"#000000\" d=\"M673.7791,-202.7458C691.8129,-211.0691 720.7013,-224.4022 741.6417,-234.067\"/>\n<polygon fill=\"#000000\" stroke=\"#000000\" points=\"740.3718,-237.3356 750.9181,-238.3484 743.3052,-230.9799 740.3718,-237.3356\"/>\n<text text-anchor=\"middle\" x=\"711.4965\" y=\"-231.8\" font-family=\"Times,serif\" font-size=\"14.00\" fill=\"#000000\">d, &#39;&#39; ; &#39;&#39;</text>\n</g>\n<!-- V&#45;&gt;V -->\n<g id=\"edge21\" class=\"edge\">\n<title>V&#45;&gt;V</title>\n<path fill=\"none\" stroke=\"#000000\" d=\"M647.7639,-210.5414C645.1651,-220.9087 648.2426,-231 656.9965,-231 662.7413,-231 666.0414,-226.654 666.897,-220.7362\"/>\n<polygon fill=\"#000000\" stroke=\"#000000\" points=\"670.3754,-220.2913 666.2292,-210.5414 663.3904,-220.7489 670.3754,-220.2913\"/>\n<text text-anchor=\"middle\" x=\"656.9965\" y=\"-234.8\" font-family=\"Times,serif\" font-size=\"14.00\" fill=\"#000000\">c, b ; &#39;&#39;</text>\n</g>\n<!-- V&#45;&gt;F -->\n<g id=\"edge22\" class=\"edge\">\n<title>V&#45;&gt;F</title>\n<path fill=\"none\" stroke=\"#000000\" d=\"M675.0443,-195C713.8176,-195 805.5245,-195 854.6308,-195\"/>\n<polygon fill=\"#000000\" stroke=\"#000000\" points=\"854.7146,-198.5001 864.7146,-195 854.7145,-191.5001 854.7146,-198.5001\"/>\n<text text-anchor=\"middle\" x=\"767.4965\" y=\"-198.8\" font-family=\"Times,serif\" font-size=\"14.00\" fill=\"#000000\">&#39;&#39;, # ; #</text>\n</g>\n</g>\n</svg>\n"
          },
          "metadata": {},
          "execution_count": 187
        }
      ]
    },
    {
      "cell_type": "markdown",
      "metadata": {
        "id": "MPOU6xBQN1b_"
      },
      "source": [
        "# Question 1, Part (b) : "
      ]
    },
    {
      "cell_type": "code",
      "metadata": {
        "id": "vYEz5XbON1b_",
        "colab": {
          "base_uri": "https://localhost:8080/"
        },
        "outputId": "ad78c68d-26ce-4f81-965e-61db78c8b6d5"
      },
      "source": [
        "explore_pda('d', Labcd)"
      ],
      "execution_count": null,
      "outputs": [
        {
          "output_type": "stream",
          "name": "stdout",
          "text": [
            "String d accepted by your PDA in 1 ways :-) \n",
            "Here are the ways: \n",
            "Final state  ('F', '', '#')\n",
            "Reached as follows:\n",
            "->  ('I', 'd', '#')\n",
            "->  ('S', 'd', '#')\n",
            "->  ('D', 'd', '#')\n",
            "->  ('F', '', '#') .\n"
          ]
        }
      ]
    },
    {
      "cell_type": "code",
      "metadata": {
        "id": "n6R9t6O6N1cA",
        "colab": {
          "base_uri": "https://localhost:8080/"
        },
        "outputId": "6ff13855-f39b-43f7-8092-c95b88cc87c8"
      },
      "source": [
        "explore_pda('dd', Labcd)"
      ],
      "execution_count": null,
      "outputs": [
        {
          "output_type": "stream",
          "name": "stdout",
          "text": [
            "String dd accepted by your PDA in 1 ways :-) \n",
            "Here are the ways: \n",
            "Final state  ('F', '', '#')\n",
            "Reached as follows:\n",
            "->  ('I', 'dd', '#')\n",
            "->  ('S', 'dd', '#')\n",
            "->  ('D', 'dd', '#')\n",
            "->  ('D', 'd', '#')\n",
            "->  ('F', '', '#') .\n"
          ]
        }
      ]
    },
    {
      "cell_type": "code",
      "metadata": {
        "id": "z1QDsrF2N1cA",
        "colab": {
          "base_uri": "https://localhost:8080/"
        },
        "outputId": "b75f2b31-3017-40ba-be84-86d917cb11c7"
      },
      "source": [
        "explore_pda('cdd', Labcd)"
      ],
      "execution_count": null,
      "outputs": [
        {
          "output_type": "stream",
          "name": "stdout",
          "text": [
            "String cdd accepted by your PDA in 1 ways :-) \n",
            "Here are the ways: \n",
            "Final state  ('F', '', '#')\n",
            "Reached as follows:\n",
            "->  ('I', 'cdd', '#')\n",
            "->  ('S', 'cdd', '#')\n",
            "->  ('C', 'dd', 'c#')\n",
            "->  ('D', 'd', '#')\n",
            "->  ('F', '', '#') .\n"
          ]
        }
      ]
    },
    {
      "cell_type": "code",
      "metadata": {
        "id": "pZJOGHaPN1cB",
        "colab": {
          "base_uri": "https://localhost:8080/"
        },
        "outputId": "dc2ddbc6-8854-44c6-c598-f944949ff04d"
      },
      "source": [
        "explore_pda('ccdd', Labcd)"
      ],
      "execution_count": null,
      "outputs": [
        {
          "output_type": "stream",
          "name": "stdout",
          "text": [
            "String ccdd rejected by your PDA :-(\n",
            "Visited states are:\n",
            "{('C', 'cdd', 'c#'), ('S', 'ccdd', '#'), ('D', '', '#'), ('I', 'ccdd', '#'), ('D', 'd', 'c#'), ('C', 'dd', 'cc#'), ('D', 'ccdd', '#')}\n"
          ]
        }
      ]
    },
    {
      "cell_type": "code",
      "metadata": {
        "id": "LzlN4xH4N1cB",
        "colab": {
          "base_uri": "https://localhost:8080/"
        },
        "outputId": "03b0d78f-ad6e-4dd9-927e-3d5c6cdca16d"
      },
      "source": [
        "explore_pda('ccd', Labcd)"
      ],
      "execution_count": null,
      "outputs": [
        {
          "output_type": "stream",
          "name": "stdout",
          "text": [
            "String ccd rejected by your PDA :-(\n",
            "Visited states are:\n",
            "{('D', '', 'c#'), ('C', 'cd', 'c#'), ('I', 'ccd', '#'), ('D', 'ccd', '#'), ('C', 'd', 'cc#'), ('S', 'ccd', '#')}\n"
          ]
        }
      ]
    },
    {
      "cell_type": "code",
      "metadata": {
        "id": "Cex9HoFON1cC",
        "colab": {
          "base_uri": "https://localhost:8080/"
        },
        "outputId": "22f3574a-6f24-44c1-e188-fc19d4e83042"
      },
      "source": [
        "explore_pda('acd', Labcd)"
      ],
      "execution_count": null,
      "outputs": [
        {
          "output_type": "stream",
          "name": "stdout",
          "text": [
            "String acd rejected by your PDA :-(\n",
            "Visited states are:\n",
            "{('S', 'acd', '#'), ('D', 'cd', 'a#'), ('X', 'cd', '#'), ('D', 'acd', '#'), ('D', '', 'a#'), ('C', 'd', 'ca#'), ('I', 'acd', '#'), ('S', 'cd', 'a#')}\n"
          ]
        }
      ]
    },
    {
      "cell_type": "code",
      "metadata": {
        "id": "63ezy3chN1cC",
        "colab": {
          "base_uri": "https://localhost:8080/"
        },
        "outputId": "96bf6348-4a16-4017-ff03-8af1103f86d7"
      },
      "source": [
        "explore_pda('aacd', Labcd)"
      ],
      "execution_count": null,
      "outputs": [
        {
          "output_type": "stream",
          "name": "stdout",
          "text": [
            "String aacd rejected by your PDA :-(\n",
            "Visited states are:\n",
            "{('D', 'cd', 'aa#'), ('S', 'aacd', '#'), ('U', 'cd', '#'), ('S', 'cd', 'aa#'), ('D', '', 'aa#'), ('X', 'cd', 'a#'), ('D', 'acd', 'a#'), ('F', 'cd', '#'), ('S', 'acd', 'a#'), ('D', 'aacd', '#'), ('X', 'acd', '#'), ('C', 'd', 'caa#'), ('Y', 'cd', '#'), ('I', 'aacd', '#')}\n"
          ]
        }
      ]
    },
    {
      "cell_type": "code",
      "metadata": {
        "id": "YcOLKdaAN1cD",
        "colab": {
          "base_uri": "https://localhost:8080/"
        },
        "outputId": "2e1a0643-c72c-4196-9331-fb0aa298d64a"
      },
      "source": [
        "explore_pda('aaad', Labcd)"
      ],
      "execution_count": null,
      "outputs": [
        {
          "output_type": "stream",
          "name": "stdout",
          "text": [
            "String aaad accepted by your PDA in 2 ways :-) \n",
            "Here are the ways: \n",
            "Final state  ('F', '', 'a#')\n",
            "Reached as follows:\n",
            "->  ('I', 'aaad', '#')\n",
            "->  ('S', 'aaad', '#')\n",
            "->  ('S', 'aad', 'a#')\n",
            "->  ('S', 'ad', 'aa#')\n",
            "->  ('S', 'd', 'aaa#')\n",
            "->  ('X', 'd', 'aa#')\n",
            "->  ('Y', 'd', 'a#')\n",
            "->  ('U', 'd', 'a#')\n",
            "->  ('U', '', 'a#')\n",
            "->  ('F', '', 'a#') .\n",
            "Final state  ('F', '', '#')\n",
            "Reached as follows:\n",
            "->  ('I', 'aaad', '#')\n",
            "->  ('S', 'aaad', '#')\n",
            "->  ('S', 'aad', 'a#')\n",
            "->  ('S', 'ad', 'aa#')\n",
            "->  ('S', 'd', 'aaa#')\n",
            "->  ('X', 'd', 'aa#')\n",
            "->  ('Y', 'd', 'a#')\n",
            "->  ('B', 'd', '#')\n",
            "->  ('D', 'd', '#')\n",
            "->  ('F', '', '#') .\n"
          ]
        }
      ]
    },
    {
      "cell_type": "code",
      "metadata": {
        "id": "tAcQwG_GN1cD",
        "colab": {
          "base_uri": "https://localhost:8080/"
        },
        "outputId": "67145f62-b69d-4654-c3c2-fb202ed5708b"
      },
      "source": [
        "explore_pda('aaaccdd', Labcd)"
      ],
      "execution_count": null,
      "outputs": [
        {
          "output_type": "stream",
          "name": "stdout",
          "text": [
            "String aaaccdd rejected by your PDA :-(\n",
            "Visited states are:\n",
            "{('C', 'cdd', 'c#'), ('D', 'accdd', 'aa#'), ('F', 'ccdd', 'a#'), ('S', 'aaaccdd', '#'), ('S', 'aaccdd', 'a#'), ('C', 'dd', 'ccaaa#'), ('D', 'ccdd', 'aaa#'), ('D', 'd', 'c#'), ('B', 'ccdd', '#'), ('S', 'ccdd', 'aaa#'), ('X', 'accdd', 'a#'), ('D', 'd', 'caaa#'), ('D', 'aaaccdd', '#'), ('S', 'accdd', 'aa#'), ('D', 'aaccdd', 'a#'), ('U', 'ccdd', 'a#'), ('I', 'aaaccdd', '#'), ('F', 'accdd', '#'), ('D', '', '#'), ('D', '', 'aaa#'), ('D', 'ccdd', '#'), ('C', 'cdd', 'caaa#'), ('Y', 'ccdd', 'a#'), ('X', 'ccdd', 'aa#'), ('Y', 'accdd', '#'), ('C', 'dd', 'cc#'), ('U', 'accdd', '#'), ('X', 'aaccdd', '#')}\n"
          ]
        }
      ]
    },
    {
      "cell_type": "code",
      "metadata": {
        "id": "_ig5QCWpN1cD",
        "colab": {
          "base_uri": "https://localhost:8080/"
        },
        "outputId": "cb684743-0573-43ab-e8e5-eb89d0d45377"
      },
      "source": [
        "explore_pda('aaaccddd', Labcd)"
      ],
      "execution_count": null,
      "outputs": [
        {
          "output_type": "stream",
          "name": "stdout",
          "text": [
            "String aaaccddd accepted by your PDA in 1 ways :-) \n",
            "Here are the ways: \n",
            "Final state  ('F', '', '#')\n",
            "Reached as follows:\n",
            "->  ('I', 'aaaccddd', '#')\n",
            "->  ('S', 'aaaccddd', '#')\n",
            "->  ('S', 'aaccddd', 'a#')\n",
            "->  ('S', 'accddd', 'aa#')\n",
            "->  ('S', 'ccddd', 'aaa#')\n",
            "->  ('X', 'ccddd', 'aa#')\n",
            "->  ('Y', 'ccddd', 'a#')\n",
            "->  ('B', 'ccddd', '#')\n",
            "->  ('C', 'cddd', 'c#')\n",
            "->  ('C', 'ddd', 'cc#')\n",
            "->  ('D', 'dd', 'c#')\n",
            "->  ('D', 'd', '#')\n",
            "->  ('F', '', '#') .\n"
          ]
        }
      ]
    },
    {
      "cell_type": "code",
      "metadata": {
        "id": "CGJ0HcZhN1cE",
        "colab": {
          "base_uri": "https://localhost:8080/"
        },
        "outputId": "f0ed2f69-3edc-4eca-83a4-cf246f45c825"
      },
      "source": [
        "explore_pda('aa', Labcd)"
      ],
      "execution_count": null,
      "outputs": [
        {
          "output_type": "stream",
          "name": "stdout",
          "text": [
            "String aa accepted by your PDA in 1 ways :-) \n",
            "Here are the ways: \n",
            "Final state  ('F', '', '#')\n",
            "Reached as follows:\n",
            "->  ('I', 'aa', '#')\n",
            "->  ('S', 'aa', '#')\n",
            "->  ('S', 'a', 'a#')\n",
            "->  ('S', '', 'aa#')\n",
            "->  ('X', '', 'a#')\n",
            "->  ('Y', '', '#')\n",
            "->  ('U', '', '#')\n",
            "->  ('F', '', '#') .\n"
          ]
        }
      ]
    },
    {
      "cell_type": "code",
      "metadata": {
        "id": "vZP5Bbmw5WSr",
        "colab": {
          "base_uri": "https://localhost:8080/"
        },
        "outputId": "c3cad1e8-6c66-4c0b-e571-40f17163b276"
      },
      "source": [
        "explore_pda('aab', Labcd)"
      ],
      "execution_count": null,
      "outputs": [
        {
          "output_type": "stream",
          "name": "stdout",
          "text": [
            "String aab rejected by your PDA :-(\n",
            "Visited states are:\n",
            "{('D', 'b', 'aa#'), ('B', '', '#'), ('S', 'b', 'aa#'), ('U', 'b', '#'), ('I', 'aab', '#'), ('D', '', 'aa#'), ('D', '', 'a#'), ('D', 'aab', '#'), ('X', 'ab', '#'), ('D', '', '#'), ('S', 'ab', 'a#'), ('W', '', 'b#'), ('F', 'b', '#'), ('B', '', 'aa#'), ('S', 'aab', '#'), ('Y', 'b', '#'), ('B', '', 'a#'), ('X', 'b', 'a#'), ('D', 'ab', 'a#')}\n"
          ]
        }
      ]
    },
    {
      "cell_type": "code",
      "metadata": {
        "id": "yULsX2LZ5Zyo",
        "colab": {
          "base_uri": "https://localhost:8080/"
        },
        "outputId": "773a85a0-1746-454e-c431-dc517ca6b1cd"
      },
      "source": [
        "explore_pda('aabc', Labcd)"
      ],
      "execution_count": null,
      "outputs": [
        {
          "output_type": "stream",
          "name": "stdout",
          "text": [
            "String aabc accepted by your PDA in 1 ways :-) \n",
            "Here are the ways: \n",
            "Final state  ('F', '', '#')\n",
            "Reached as follows:\n",
            "->  ('I', 'aabc', '#')\n",
            "->  ('S', 'aabc', '#')\n",
            "->  ('S', 'abc', 'a#')\n",
            "->  ('S', 'bc', 'aa#')\n",
            "->  ('X', 'bc', 'a#')\n",
            "->  ('Y', 'bc', '#')\n",
            "->  ('W', 'c', 'b#')\n",
            "->  ('V', '', '#')\n",
            "->  ('F', '', '#') .\n"
          ]
        }
      ]
    },
    {
      "cell_type": "code",
      "metadata": {
        "id": "PTOC69ja5d5r",
        "colab": {
          "base_uri": "https://localhost:8080/"
        },
        "outputId": "bf21d9b5-cd0e-4757-a822-26fd4d16bbaa"
      },
      "source": [
        "explore_pda('aabbccd', Labcd)"
      ],
      "execution_count": null,
      "outputs": [
        {
          "output_type": "stream",
          "name": "stdout",
          "text": [
            "String aabbccd accepted by your PDA in 1 ways :-) \n",
            "Here are the ways: \n",
            "Final state  ('F', '', '#')\n",
            "Reached as follows:\n",
            "->  ('I', 'aabbccd', '#')\n",
            "->  ('S', 'aabbccd', '#')\n",
            "->  ('S', 'abbccd', 'a#')\n",
            "->  ('S', 'bbccd', 'aa#')\n",
            "->  ('X', 'bbccd', 'a#')\n",
            "->  ('Y', 'bbccd', '#')\n",
            "->  ('W', 'bccd', 'b#')\n",
            "->  ('W', 'ccd', 'bb#')\n",
            "->  ('V', 'cd', 'b#')\n",
            "->  ('V', 'd', '#')\n",
            "->  ('U', '', '#')\n",
            "->  ('F', '', '#') .\n"
          ]
        }
      ]
    },
    {
      "cell_type": "code",
      "metadata": {
        "id": "sLm_UYPf5_9l",
        "colab": {
          "base_uri": "https://localhost:8080/"
        },
        "outputId": "b5386a46-f856-4e53-c898-ce57f4d8b1b1"
      },
      "source": [
        "explore_pda('aabcddddd', Labcd)"
      ],
      "execution_count": null,
      "outputs": [
        {
          "output_type": "stream",
          "name": "stdout",
          "text": [
            "String aabcddddd accepted by your PDA in 2 ways :-) \n",
            "Here are the ways: \n",
            "Final state  ('F', '', '#')\n",
            "Reached as follows:\n",
            "->  ('I', 'aabcddddd', '#')\n",
            "->  ('S', 'aabcddddd', '#')\n",
            "->  ('S', 'abcddddd', 'a#')\n",
            "->  ('S', 'bcddddd', 'aa#')\n",
            "->  ('B', 'cddddd', 'aa#')\n",
            "->  ('B', 'cddddd', 'a#')\n",
            "->  ('B', 'cddddd', '#')\n",
            "->  ('C', 'ddddd', 'c#')\n",
            "->  ('D', 'dddd', '#')\n",
            "->  ('D', 'ddd', '#')\n",
            "->  ('D', 'dd', '#')\n",
            "->  ('D', 'd', '#')\n",
            "->  ('F', '', '#') .\n",
            "Final state  ('F', '', '#')\n",
            "Reached as follows:\n",
            "->  ('I', 'aabcddddd', '#')\n",
            "->  ('S', 'aabcddddd', '#')\n",
            "->  ('S', 'abcddddd', 'a#')\n",
            "->  ('S', 'bcddddd', 'aa#')\n",
            "->  ('X', 'bcddddd', 'a#')\n",
            "->  ('Y', 'bcddddd', '#')\n",
            "->  ('W', 'cddddd', 'b#')\n",
            "->  ('V', 'ddddd', '#')\n",
            "->  ('U', 'dddd', '#')\n",
            "->  ('U', 'ddd', '#')\n",
            "->  ('U', 'dd', '#')\n",
            "->  ('U', 'd', '#')\n",
            "->  ('U', '', '#')\n",
            "->  ('F', '', '#') .\n"
          ]
        }
      ]
    },
    {
      "cell_type": "code",
      "metadata": {
        "id": "_WQdDrGq6FRU",
        "colab": {
          "base_uri": "https://localhost:8080/"
        },
        "outputId": "df77ada4-0ace-48ee-edbc-f915069afb23"
      },
      "source": [
        "explore_pda('aabcc', Labcd)"
      ],
      "execution_count": null,
      "outputs": [
        {
          "output_type": "stream",
          "name": "stdout",
          "text": [
            "String aabcc rejected by your PDA :-(\n",
            "Visited states are:\n",
            "{('V', 'c', '#'), ('S', 'abcc', 'a#'), ('B', 'cc', 'aa#'), ('X', 'abcc', '#'), ('B', 'cc', 'a#'), ('D', 'cc', '#'), ('W', 'cc', 'b#'), ('C', 'c', 'c#'), ('S', 'aabcc', '#'), ('C', '', 'ccaa#'), ('C', '', 'cc#'), ('X', 'bcc', 'a#'), ('F', 'c', '#'), ('D', 'cc', 'aa#'), ('S', 'bcc', 'aa#'), ('C', 'c', 'ca#'), ('D', 'cc', 'a#'), ('B', 'cc', '#'), ('Y', 'bcc', '#'), ('C', '', 'cca#'), ('U', 'bcc', '#'), ('D', 'aabcc', '#'), ('C', 'c', 'caa#'), ('D', 'bcc', 'aa#'), ('F', 'bcc', '#'), ('D', 'abcc', 'a#'), ('I', 'aabcc', '#')}\n"
          ]
        }
      ]
    },
    {
      "cell_type": "code",
      "metadata": {
        "id": "4npjx-7yHkwT",
        "colab": {
          "base_uri": "https://localhost:8080/"
        },
        "outputId": "ea004d96-6977-4934-cf85-d2463a9dd0e9"
      },
      "source": [
        "explore_pda('aaaaaaaaaabcdd', Labcd)"
      ],
      "execution_count": null,
      "outputs": [
        {
          "output_type": "stream",
          "name": "stdout",
          "text": [
            "String aaaaaaaaaabcdd accepted by your PDA in 10 ways :-) \n",
            "Here are the ways: \n",
            "Final state  ('F', '', 'aaaaaaaa#')\n",
            "Reached as follows:\n",
            "->  ('I', 'aaaaaaaaaabcdd', '#')\n",
            "->  ('S', 'aaaaaaaaaabcdd', '#')\n",
            "->  ('S', 'aaaaaaaaabcdd', 'a#')\n",
            "->  ('S', 'aaaaaaaabcdd', 'aa#')\n",
            "->  ('S', 'aaaaaaabcdd', 'aaa#')\n",
            "->  ('S', 'aaaaaabcdd', 'aaaa#')\n",
            "->  ('S', 'aaaaabcdd', 'aaaaa#')\n",
            "->  ('S', 'aaaabcdd', 'aaaaaa#')\n",
            "->  ('S', 'aaabcdd', 'aaaaaaa#')\n",
            "->  ('S', 'aabcdd', 'aaaaaaaa#')\n",
            "->  ('S', 'abcdd', 'aaaaaaaaa#')\n",
            "->  ('S', 'bcdd', 'aaaaaaaaaa#')\n",
            "->  ('X', 'bcdd', 'aaaaaaaaa#')\n",
            "->  ('Y', 'bcdd', 'aaaaaaaa#')\n",
            "->  ('W', 'cdd', 'baaaaaaaa#')\n",
            "->  ('V', 'dd', 'aaaaaaaa#')\n",
            "->  ('U', 'd', 'aaaaaaaa#')\n",
            "->  ('U', '', 'aaaaaaaa#')\n",
            "->  ('F', '', 'aaaaaaaa#') .\n",
            "Final state  ('F', '', '#')\n",
            "Reached as follows:\n",
            "->  ('I', 'aaaaaaaaaabcdd', '#')\n",
            "->  ('S', 'aaaaaaaaaabcdd', '#')\n",
            "->  ('S', 'aaaaaaaaabcdd', 'a#')\n",
            "->  ('S', 'aaaaaaaabcdd', 'aa#')\n",
            "->  ('S', 'aaaaaaabcdd', 'aaa#')\n",
            "->  ('S', 'aaaaaabcdd', 'aaaa#')\n",
            "->  ('S', 'aaaaabcdd', 'aaaaa#')\n",
            "->  ('S', 'aaaabcdd', 'aaaaaa#')\n",
            "->  ('S', 'aaabcdd', 'aaaaaaa#')\n",
            "->  ('S', 'aabcdd', 'aaaaaaaa#')\n",
            "->  ('S', 'abcdd', 'aaaaaaaaa#')\n",
            "->  ('S', 'bcdd', 'aaaaaaaaaa#')\n",
            "->  ('X', 'bcdd', 'aaaaaaaaa#')\n",
            "->  ('Y', 'bcdd', 'aaaaaaaa#')\n",
            "->  ('B', 'bcdd', 'aaaaaaa#')\n",
            "->  ('B', 'bcdd', 'aaaaaa#')\n",
            "->  ('B', 'bcdd', 'aaaaa#')\n",
            "->  ('B', 'bcdd', 'aaaa#')\n",
            "->  ('B', 'bcdd', 'aaa#')\n",
            "->  ('B', 'bcdd', 'aa#')\n",
            "->  ('B', 'bcdd', 'a#')\n",
            "->  ('B', 'bcdd', '#')\n",
            "->  ('B', 'cdd', '#')\n",
            "->  ('C', 'dd', 'c#')\n",
            "->  ('D', 'd', '#')\n",
            "->  ('F', '', '#') .\n",
            "Final state  ('F', '', '#')\n",
            "Reached as follows:\n",
            "->  ('I', 'aaaaaaaaaabcdd', '#')\n",
            "->  ('S', 'aaaaaaaaaabcdd', '#')\n",
            "->  ('S', 'aaaaaaaaabcdd', 'a#')\n",
            "->  ('S', 'aaaaaaaabcdd', 'aa#')\n",
            "->  ('S', 'aaaaaaabcdd', 'aaa#')\n",
            "->  ('S', 'aaaaaabcdd', 'aaaa#')\n",
            "->  ('S', 'aaaaabcdd', 'aaaaa#')\n",
            "->  ('S', 'aaaabcdd', 'aaaaaa#')\n",
            "->  ('S', 'aaabcdd', 'aaaaaaa#')\n",
            "->  ('S', 'aabcdd', 'aaaaaaaa#')\n",
            "->  ('S', 'abcdd', 'aaaaaaaaa#')\n",
            "->  ('S', 'bcdd', 'aaaaaaaaaa#')\n",
            "->  ('X', 'bcdd', 'aaaaaaaaa#')\n",
            "->  ('Y', 'bcdd', 'aaaaaaaa#')\n",
            "->  ('B', 'bcdd', 'aaaaaaa#')\n",
            "->  ('B', 'bcdd', 'aaaaaa#')\n",
            "->  ('B', 'bcdd', 'aaaaa#')\n",
            "->  ('B', 'bcdd', 'aaaa#')\n",
            "->  ('B', 'bcdd', 'aaa#')\n",
            "->  ('B', 'bcdd', 'aa#')\n",
            "->  ('B', 'bcdd', 'a#')\n",
            "->  ('B', 'cdd', 'a#')\n",
            "->  ('B', 'cdd', '#')\n",
            "->  ('C', 'dd', 'c#')\n",
            "->  ('D', 'd', '#')\n",
            "->  ('F', '', '#') .\n",
            "Final state  ('F', '', '#')\n",
            "Reached as follows:\n",
            "->  ('I', 'aaaaaaaaaabcdd', '#')\n",
            "->  ('S', 'aaaaaaaaaabcdd', '#')\n",
            "->  ('S', 'aaaaaaaaabcdd', 'a#')\n",
            "->  ('S', 'aaaaaaaabcdd', 'aa#')\n",
            "->  ('S', 'aaaaaaabcdd', 'aaa#')\n",
            "->  ('S', 'aaaaaabcdd', 'aaaa#')\n",
            "->  ('S', 'aaaaabcdd', 'aaaaa#')\n",
            "->  ('S', 'aaaabcdd', 'aaaaaa#')\n",
            "->  ('S', 'aaabcdd', 'aaaaaaa#')\n",
            "->  ('S', 'aabcdd', 'aaaaaaaa#')\n",
            "->  ('S', 'abcdd', 'aaaaaaaaa#')\n",
            "->  ('S', 'bcdd', 'aaaaaaaaaa#')\n",
            "->  ('X', 'bcdd', 'aaaaaaaaa#')\n",
            "->  ('Y', 'bcdd', 'aaaaaaaa#')\n",
            "->  ('B', 'bcdd', 'aaaaaaa#')\n",
            "->  ('B', 'bcdd', 'aaaaaa#')\n",
            "->  ('B', 'bcdd', 'aaaaa#')\n",
            "->  ('B', 'bcdd', 'aaaa#')\n",
            "->  ('B', 'bcdd', 'aaa#')\n",
            "->  ('B', 'bcdd', 'aa#')\n",
            "->  ('B', 'cdd', 'aa#')\n",
            "->  ('B', 'cdd', 'a#')\n",
            "->  ('B', 'cdd', '#')\n",
            "->  ('C', 'dd', 'c#')\n",
            "->  ('D', 'd', '#')\n",
            "->  ('F', '', '#') .\n",
            "Final state  ('F', '', '#')\n",
            "Reached as follows:\n",
            "->  ('I', 'aaaaaaaaaabcdd', '#')\n",
            "->  ('S', 'aaaaaaaaaabcdd', '#')\n",
            "->  ('S', 'aaaaaaaaabcdd', 'a#')\n",
            "->  ('S', 'aaaaaaaabcdd', 'aa#')\n",
            "->  ('S', 'aaaaaaabcdd', 'aaa#')\n",
            "->  ('S', 'aaaaaabcdd', 'aaaa#')\n",
            "->  ('S', 'aaaaabcdd', 'aaaaa#')\n",
            "->  ('S', 'aaaabcdd', 'aaaaaa#')\n",
            "->  ('S', 'aaabcdd', 'aaaaaaa#')\n",
            "->  ('S', 'aabcdd', 'aaaaaaaa#')\n",
            "->  ('S', 'abcdd', 'aaaaaaaaa#')\n",
            "->  ('S', 'bcdd', 'aaaaaaaaaa#')\n",
            "->  ('X', 'bcdd', 'aaaaaaaaa#')\n",
            "->  ('Y', 'bcdd', 'aaaaaaaa#')\n",
            "->  ('B', 'bcdd', 'aaaaaaa#')\n",
            "->  ('B', 'bcdd', 'aaaaaa#')\n",
            "->  ('B', 'bcdd', 'aaaaa#')\n",
            "->  ('B', 'bcdd', 'aaaa#')\n",
            "->  ('B', 'bcdd', 'aaa#')\n",
            "->  ('B', 'cdd', 'aaa#')\n",
            "->  ('B', 'cdd', 'aa#')\n",
            "->  ('B', 'cdd', 'a#')\n",
            "->  ('B', 'cdd', '#')\n",
            "->  ('C', 'dd', 'c#')\n",
            "->  ('D', 'd', '#')\n",
            "->  ('F', '', '#') .\n",
            "Final state  ('F', '', '#')\n",
            "Reached as follows:\n",
            "->  ('I', 'aaaaaaaaaabcdd', '#')\n",
            "->  ('S', 'aaaaaaaaaabcdd', '#')\n",
            "->  ('S', 'aaaaaaaaabcdd', 'a#')\n",
            "->  ('S', 'aaaaaaaabcdd', 'aa#')\n",
            "->  ('S', 'aaaaaaabcdd', 'aaa#')\n",
            "->  ('S', 'aaaaaabcdd', 'aaaa#')\n",
            "->  ('S', 'aaaaabcdd', 'aaaaa#')\n",
            "->  ('S', 'aaaabcdd', 'aaaaaa#')\n",
            "->  ('S', 'aaabcdd', 'aaaaaaa#')\n",
            "->  ('S', 'aabcdd', 'aaaaaaaa#')\n",
            "->  ('S', 'abcdd', 'aaaaaaaaa#')\n",
            "->  ('S', 'bcdd', 'aaaaaaaaaa#')\n",
            "->  ('X', 'bcdd', 'aaaaaaaaa#')\n",
            "->  ('Y', 'bcdd', 'aaaaaaaa#')\n",
            "->  ('B', 'bcdd', 'aaaaaaa#')\n",
            "->  ('B', 'bcdd', 'aaaaaa#')\n",
            "->  ('B', 'bcdd', 'aaaaa#')\n",
            "->  ('B', 'bcdd', 'aaaa#')\n",
            "->  ('B', 'cdd', 'aaaa#')\n",
            "->  ('B', 'cdd', 'aaa#')\n",
            "->  ('B', 'cdd', 'aa#')\n",
            "->  ('B', 'cdd', 'a#')\n",
            "->  ('B', 'cdd', '#')\n",
            "->  ('C', 'dd', 'c#')\n",
            "->  ('D', 'd', '#')\n",
            "->  ('F', '', '#') .\n",
            "Final state  ('F', '', '#')\n",
            "Reached as follows:\n",
            "->  ('I', 'aaaaaaaaaabcdd', '#')\n",
            "->  ('S', 'aaaaaaaaaabcdd', '#')\n",
            "->  ('S', 'aaaaaaaaabcdd', 'a#')\n",
            "->  ('S', 'aaaaaaaabcdd', 'aa#')\n",
            "->  ('S', 'aaaaaaabcdd', 'aaa#')\n",
            "->  ('S', 'aaaaaabcdd', 'aaaa#')\n",
            "->  ('S', 'aaaaabcdd', 'aaaaa#')\n",
            "->  ('S', 'aaaabcdd', 'aaaaaa#')\n",
            "->  ('S', 'aaabcdd', 'aaaaaaa#')\n",
            "->  ('S', 'aabcdd', 'aaaaaaaa#')\n",
            "->  ('S', 'abcdd', 'aaaaaaaaa#')\n",
            "->  ('S', 'bcdd', 'aaaaaaaaaa#')\n",
            "->  ('X', 'bcdd', 'aaaaaaaaa#')\n",
            "->  ('Y', 'bcdd', 'aaaaaaaa#')\n",
            "->  ('B', 'bcdd', 'aaaaaaa#')\n",
            "->  ('B', 'bcdd', 'aaaaaa#')\n",
            "->  ('B', 'bcdd', 'aaaaa#')\n",
            "->  ('B', 'cdd', 'aaaaa#')\n",
            "->  ('B', 'cdd', 'aaaa#')\n",
            "->  ('B', 'cdd', 'aaa#')\n",
            "->  ('B', 'cdd', 'aa#')\n",
            "->  ('B', 'cdd', 'a#')\n",
            "->  ('B', 'cdd', '#')\n",
            "->  ('C', 'dd', 'c#')\n",
            "->  ('D', 'd', '#')\n",
            "->  ('F', '', '#') .\n",
            "Final state  ('F', '', '#')\n",
            "Reached as follows:\n",
            "->  ('I', 'aaaaaaaaaabcdd', '#')\n",
            "->  ('S', 'aaaaaaaaaabcdd', '#')\n",
            "->  ('S', 'aaaaaaaaabcdd', 'a#')\n",
            "->  ('S', 'aaaaaaaabcdd', 'aa#')\n",
            "->  ('S', 'aaaaaaabcdd', 'aaa#')\n",
            "->  ('S', 'aaaaaabcdd', 'aaaa#')\n",
            "->  ('S', 'aaaaabcdd', 'aaaaa#')\n",
            "->  ('S', 'aaaabcdd', 'aaaaaa#')\n",
            "->  ('S', 'aaabcdd', 'aaaaaaa#')\n",
            "->  ('S', 'aabcdd', 'aaaaaaaa#')\n",
            "->  ('S', 'abcdd', 'aaaaaaaaa#')\n",
            "->  ('S', 'bcdd', 'aaaaaaaaaa#')\n",
            "->  ('X', 'bcdd', 'aaaaaaaaa#')\n",
            "->  ('Y', 'bcdd', 'aaaaaaaa#')\n",
            "->  ('B', 'bcdd', 'aaaaaaa#')\n",
            "->  ('B', 'bcdd', 'aaaaaa#')\n",
            "->  ('B', 'cdd', 'aaaaaa#')\n",
            "->  ('B', 'cdd', 'aaaaa#')\n",
            "->  ('B', 'cdd', 'aaaa#')\n",
            "->  ('B', 'cdd', 'aaa#')\n",
            "->  ('B', 'cdd', 'aa#')\n",
            "->  ('B', 'cdd', 'a#')\n",
            "->  ('B', 'cdd', '#')\n",
            "->  ('C', 'dd', 'c#')\n",
            "->  ('D', 'd', '#')\n",
            "->  ('F', '', '#') .\n",
            "Final state  ('F', '', '#')\n",
            "Reached as follows:\n",
            "->  ('I', 'aaaaaaaaaabcdd', '#')\n",
            "->  ('S', 'aaaaaaaaaabcdd', '#')\n",
            "->  ('S', 'aaaaaaaaabcdd', 'a#')\n",
            "->  ('S', 'aaaaaaaabcdd', 'aa#')\n",
            "->  ('S', 'aaaaaaabcdd', 'aaa#')\n",
            "->  ('S', 'aaaaaabcdd', 'aaaa#')\n",
            "->  ('S', 'aaaaabcdd', 'aaaaa#')\n",
            "->  ('S', 'aaaabcdd', 'aaaaaa#')\n",
            "->  ('S', 'aaabcdd', 'aaaaaaa#')\n",
            "->  ('S', 'aabcdd', 'aaaaaaaa#')\n",
            "->  ('S', 'abcdd', 'aaaaaaaaa#')\n",
            "->  ('S', 'bcdd', 'aaaaaaaaaa#')\n",
            "->  ('X', 'bcdd', 'aaaaaaaaa#')\n",
            "->  ('Y', 'bcdd', 'aaaaaaaa#')\n",
            "->  ('B', 'bcdd', 'aaaaaaa#')\n",
            "->  ('B', 'cdd', 'aaaaaaa#')\n",
            "->  ('B', 'cdd', 'aaaaaa#')\n",
            "->  ('B', 'cdd', 'aaaaa#')\n",
            "->  ('B', 'cdd', 'aaaa#')\n",
            "->  ('B', 'cdd', 'aaa#')\n",
            "->  ('B', 'cdd', 'aa#')\n",
            "->  ('B', 'cdd', 'a#')\n",
            "->  ('B', 'cdd', '#')\n",
            "->  ('C', 'dd', 'c#')\n",
            "->  ('D', 'd', '#')\n",
            "->  ('F', '', '#') .\n",
            "Final state  ('F', '', '#')\n",
            "Reached as follows:\n",
            "->  ('I', 'aaaaaaaaaabcdd', '#')\n",
            "->  ('S', 'aaaaaaaaaabcdd', '#')\n",
            "->  ('S', 'aaaaaaaaabcdd', 'a#')\n",
            "->  ('S', 'aaaaaaaabcdd', 'aa#')\n",
            "->  ('S', 'aaaaaaabcdd', 'aaa#')\n",
            "->  ('S', 'aaaaaabcdd', 'aaaa#')\n",
            "->  ('S', 'aaaaabcdd', 'aaaaa#')\n",
            "->  ('S', 'aaaabcdd', 'aaaaaa#')\n",
            "->  ('S', 'aaabcdd', 'aaaaaaa#')\n",
            "->  ('S', 'aabcdd', 'aaaaaaaa#')\n",
            "->  ('S', 'abcdd', 'aaaaaaaaa#')\n",
            "->  ('S', 'bcdd', 'aaaaaaaaaa#')\n",
            "->  ('B', 'cdd', 'aaaaaaaaaa#')\n",
            "->  ('B', 'cdd', 'aaaaaaaaa#')\n",
            "->  ('B', 'cdd', 'aaaaaaaa#')\n",
            "->  ('B', 'cdd', 'aaaaaaa#')\n",
            "->  ('B', 'cdd', 'aaaaaa#')\n",
            "->  ('B', 'cdd', 'aaaaa#')\n",
            "->  ('B', 'cdd', 'aaaa#')\n",
            "->  ('B', 'cdd', 'aaa#')\n",
            "->  ('B', 'cdd', 'aa#')\n",
            "->  ('B', 'cdd', 'a#')\n",
            "->  ('B', 'cdd', '#')\n",
            "->  ('C', 'dd', 'c#')\n",
            "->  ('D', 'd', '#')\n",
            "->  ('F', '', '#') .\n"
          ]
        }
      ]
    },
    {
      "cell_type": "markdown",
      "metadata": {
        "id": "ZF496Ja6N1cE"
      },
      "source": [
        "# Questions 2 and 3: Now do the PL proofs of MT2\n",
        "## Check Canvas for the actual question wording. \n",
        "## You have to answer this on Canvas."
      ]
    },
    {
      "cell_type": "markdown",
      "metadata": {
        "id": "jJiDLutTP_ng"
      },
      "source": [
        "# Question 2:\n",
        "\n",
        "Assume that Labcd is regular.\n",
        "\n",
        "There exists a pumping constant p for Labcd.\n",
        "\n",
        "There exists a string in Labcd called w.\n",
        "\n",
        "There are 4 cases. a^i where i = 2, i = 0, i = 1 and i > 2\n",
        "\n",
        "\n",
        "##Case 1: i > 2\n",
        "\n",
        "w = a^(p+3) b^p c^p d^(p+1)\n",
        "\n",
        "Looking at all decompositions:\n",
        "\n",
        "*   x = c^α\n",
        "*   y = c^β\n",
        "*   z = c^(p-α-β)\n",
        "\n",
        "Choose a t s.t. x y^t z is not an element of Labcd\n",
        "\n",
        "t = 2\n",
        "\n",
        "xy^2z = a^(p+3) b^p c^α c^β c^β c^(p-α-β) d^(p+1)\n",
        "\n",
        "After canceling out terms we get = a^(p+3) b^p c^(p+β) d^(p+1)\n",
        "\n",
        "β >= 1 which means that l is not greater than k and it is not in the language.\n",
        "\n",
        "\n",
        "##Case 2: i = 1\n",
        "\n",
        "w = a^1 b^p c^p d^(p+1)\n",
        "\n",
        "Looking at all decompositions:\n",
        "\n",
        "*   x = c^α\n",
        "*   y = c^β\n",
        "*   z = c^(p-α-β)\n",
        "\n",
        "Choose a t s.t. x y^t z is not an element of Labcd\n",
        "\n",
        "t = 2\n",
        "\n",
        "xy^2z = a^1 b^p c^α c^β c^β c^(p-α-β) d^(p+1)\n",
        "\n",
        "After canceling out terms we get = a^1 b^p c^(p+β) d^(p+1)\n",
        "\n",
        "β >= 1 which means that l is not greater than k and it is not in the language.\n",
        "\n",
        "\n",
        "##Case 3: i = 0\n",
        "\n",
        "w = a^0 b^p c^p d^(p+1)\n",
        "\n",
        "Looking at all decompositions:\n",
        "\n",
        "*   x = c^α\n",
        "*   y = c^β\n",
        "*   z = c^(p-α-β)\n",
        "\n",
        "Choose a t s.t. x y^t z is not an element of Labcd\n",
        "\n",
        "t = 2\n",
        "\n",
        "xy^2z = a^0 b^p c^α c^β c^β c^(p-α-β) d^(p+1)\n",
        "\n",
        "After canceling out terms we get = b^p c^(p+β) d^(p+1)\n",
        "\n",
        "β >= 1 which means that l is not greater than k and it is not in the language.\n",
        "\n",
        "\n",
        "##Case 4: i = 2\n",
        "\n",
        "w = a^2 b^p c^p d^p\n",
        "\n",
        "Looking at all decompositions:\n",
        "\n",
        "*   x = b^α\n",
        "*   y = b^β\n",
        "*   z = b^(p-α-β)\n",
        "\n",
        "Choose a t s.t. x y^t z is not an element of Labcd\n",
        "\n",
        "t = 0\n",
        "\n",
        "xy^0z = a^2 b^α b^(p-α-β) c^p d^p\n",
        "\n",
        "After canceling out terms we get = a^2 b^(p-β) c^p d^p\n",
        "\n",
        "β >= 1 which means that j != k and it is not in the language.\n",
        "\n",
        "##Conclusion\n",
        "\n",
        "All possible cases are cannot be pumped which means that the language is not regular."
      ]
    }
  ]
}