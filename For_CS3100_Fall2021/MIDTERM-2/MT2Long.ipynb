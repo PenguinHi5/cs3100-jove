{
  "nbformat": 4,
  "nbformat_minor": 0,
  "metadata": {
    "kernelspec": {
      "display_name": "Python 3",
      "language": "python",
      "name": "python3"
    },
    "language_info": {
      "codemirror_mode": {
        "name": "ipython",
        "version": 3
      },
      "file_extension": ".py",
      "mimetype": "text/x-python",
      "name": "python",
      "nbconvert_exporter": "python",
      "pygments_lexer": "ipython3",
      "version": "3.8.5"
    },
    "toc": {
      "colors": {
        "hover_highlight": "#DAA520",
        "running_highlight": "#FF0000",
        "selected_highlight": "#FFD700"
      },
      "moveMenuLeft": true,
      "nav_menu": {
        "height": "318px",
        "width": "252px"
      },
      "navigate_menu": true,
      "number_sections": true,
      "sideBar": true,
      "threshold": 4,
      "toc_cell": false,
      "toc_section_display": "block",
      "toc_window_display": false,
      "widenNotebook": false
    },
    "colab": {
      "name": "MT2Long.ipynb",
      "provenance": []
    }
  },
  "cells": [
    {
      "cell_type": "code",
      "metadata": {
        "run_control": {
          "frozen": false,
          "read_only": false
        },
        "id": "LNw7q8h9N1b5",
        "outputId": "138e9312-0447-4e9c-f60a-83c9250efe29"
      },
      "source": [
        "#~~~~~~~~~~~~~~~~~~~~~~~~~~~~~~~~~~~~~~~~~~~~~~~~~~~~~~~\n",
        "import sys\n",
        "\n",
        "# -- Detect if in Own Install or in Colab\n",
        "try:\n",
        "    import google.colab\n",
        "    OWN_INSTALL = False\n",
        "except:\n",
        "    OWN_INSTALL = True\n",
        "    \n",
        "if OWN_INSTALL:\n",
        "    \n",
        "  #---- Leave these definitions ON if running on laptop\n",
        "  #---- Else turn OFF by putting them between ''' ... '''\n",
        "\n",
        "  sys.path[0:0] = ['../../../../..',  '../../../../../3rdparty',  \n",
        "                   '../../../..',  '../../../../3rdparty',  \n",
        "                   '../../..',     '../../../3rdparty', \n",
        "                   '../..',        '../../3rdparty',\n",
        "                   '..',           '../3rdparty' ]\n",
        "\n",
        "else: # In colab\n",
        "  ! if [ ! -d Jove ]; then git clone https://github.com/ganeshutah/Jove Jove; fi\n",
        "  sys.path.append('./Jove')\n",
        "  sys.path.append('./Jove/jove')\n",
        "\n",
        "# -- common imports --\n",
        "from jove.DotBashers import *\n",
        "from jove.Def_DFA import *\n",
        "from jove.Def_NFA import *\n",
        "from jove.Def_RE2NFA import *\n",
        "from jove.Def_NFA2RE import *\n",
        "from jove.Def_md2mc import *\n",
        "from jove.JoveEditor import *\n",
        "#~~~~~~~~~~~~~~~~~~~~~~~~~~~~~~~~~~~~~~~~~~~~~~~~~~~~~~~"
      ],
      "execution_count": null,
      "outputs": [
        {
          "name": "stdout",
          "output_type": "stream",
          "text": [
            "You may use any of these help commands:\n",
            "help(ResetStNum)\n",
            "help(NxtStateStr)\n",
            "\n",
            "You may use any of these help commands:\n",
            "help(mkp_dfa)\n",
            "help(mk_dfa)\n",
            "help(totalize_dfa)\n",
            "help(addtosigma_delta)\n",
            "help(step_dfa)\n",
            "help(run_dfa)\n",
            "help(accepts_dfa)\n",
            "help(comp_dfa)\n",
            "help(union_dfa)\n",
            "help(intersect_dfa)\n",
            "help(pruneUnreach)\n",
            "help(iso_dfa)\n",
            "help(langeq_dfa)\n",
            "help(same_status)\n",
            "help(h_langeq_dfa)\n",
            "help(fixptDist)\n",
            "help(min_dfa)\n",
            "help(pairFR)\n",
            "help(state_combos)\n",
            "help(sepFinNonFin)\n",
            "help(bash_eql_classes)\n",
            "help(listminus)\n",
            "help(bash_1)\n",
            "help(mk_rep_eqc)\n",
            "help(F_of)\n",
            "help(rep_of_s)\n",
            "help(q0_of)\n",
            "help(Delta_of)\n",
            "help(mk_state_eqc_name)\n",
            "\n",
            "You may use any of these help commands:\n",
            "help(mk_nfa)\n",
            "help(totalize_nfa)\n",
            "help(step_nfa)\n",
            "help(run_nfa)\n",
            "help(ec_step_nfa)\n",
            "help(Eclosure)\n",
            "help(Echelp)\n",
            "help(accepts_nfa)\n",
            "help(nfa2dfa)\n",
            "help(n2d)\n",
            "help(inSets)\n",
            "help(rev_dfa)\n",
            "help(min_dfa_brz)\n",
            "\n",
            "You may use any of these help commands:\n",
            "help(re2nfa)\n",
            "\n",
            "You may use any of these help commands:\n",
            "help(RE2Str)\n",
            "help(mk_gnfa)\n",
            "help(mk_gnfa_from_D)\n",
            "help(dfa2nfa)\n",
            "help(del_gnfa_states)\n",
            "help(gnfa_w_REStr)\n",
            "help(del_one_gnfa_state)\n",
            "help(Edges_Exist_Via)\n",
            "help(choose_state_to_del)\n",
            "help(form_alt_RE)\n",
            "help(form_concat_RE)\n",
            "help(form_kleene_RE)\n",
            "\n",
            "You may use any of these help commands:\n",
            "help(md2mc)\n",
            ".. and if you want to dig more, then ..\n",
            "help(default_line_attr)\n",
            "help(length_ok_input_items)\n",
            "help(union_line_attr_list_fld)\n",
            "help(extend_rsltdict)\n",
            "help(form_delta)\n",
            "help(get_machine_components)\n",
            "\n"
          ]
        }
      ]
    },
    {
      "cell_type": "markdown",
      "metadata": {
        "id": "A_l8ZnrGN1b8"
      },
      "source": [
        "# Question 1, Part (a) : Develop a CFG and then a PDA that directly encodes this CFG for the language Labcd\n",
        "\n",
        " \n",
        "## Labcd = { a^i b^j c^k d^l : if i=2 then j=k else l > k }\n",
        "\n",
        "### NOTE it is d raised to \"ell\" not d raised to \"one\" (as l and 1  -- ELL and ONE -- often look similar)\n",
        "\n",
        "## Type the PDA Design directly below\n",
        "\n",
        "## But begin the PDA design with the CFG productions you developed\n",
        "\n",
        "## Then, for each PDA transition, put the CFG rule it encodes as comments\n",
        "\n",
        "## See additional details below\n",
        "\n",
        "# You may begin your design with nonterminal names of > 1 character\n",
        "\n",
        "## BUT finally, you need single-character non-terminals for Jove's CFG simulation using PDA"
      ]
    },
    {
      "cell_type": "code",
      "metadata": {
        "id": "_nkU9MO7N1b-"
      },
      "source": [
        "\n",
        "#----- MY FINAL PRODUCTION  RULES ARE HERE after I turned all non-terminals into 1-character non-terminals ------\n",
        "\n",
        "....\n",
        "S -> ...\n",
        "....\n",
        "\n",
        "#----- MY PDA IS BELOW\n",
        "\n",
        "\n",
        "\n",
        "\n",
        "\n",
        "Labcd = md2mc('''\n",
        "\n",
        "PDA\n",
        "\n",
        "I : '', # ; S# -> W\n",
        "\n",
        "!!--- be neat and careful as you have to avoid mistakes ---\n",
        "\n",
        "!! PUT YOUR CFG PRODUCTION RULE OR RULES HERE\n",
        "!! FILL-ME\n",
        "!! PUT WHAT PDA TRANSITIONS IT GENERATED, BELOW\n",
        "!! FILL-ME\n",
        "\n",
        "!! PUT YOUR CFG PRODUCTION RULE OR RULES HERE\n",
        "!! FILL-ME\n",
        "!! PUT WHAT PDA TRANSITIONS IT GENERATED, BELOW\n",
        "!! FILL-ME\n",
        "\n",
        "!! PUT YOUR CFG PRODUCTION RULE OR RULES HERE\n",
        "!! FILL-ME\n",
        "!! PUT WHAT PDA TRANSITIONS IT GENERATED, BELOW\n",
        "!! FILL-ME\n",
        "\n",
        "!! PUT YOUR CFG PRODUCTION RULE OR RULES HERE\n",
        "!! FILL-ME\n",
        "!! PUT WHAT PDA TRANSITIONS IT GENERATED, BELOW\n",
        "!! FILL-ME\n",
        "\n",
        " \n",
        "\n",
        "\n",
        "''')\n"
      ],
      "execution_count": null,
      "outputs": []
    },
    {
      "cell_type": "code",
      "metadata": {
        "id": "pjsWfJVAN1b-"
      },
      "source": [
        "dotObj_pda(Labcd, FuseEdges=True)"
      ],
      "execution_count": null,
      "outputs": []
    },
    {
      "cell_type": "markdown",
      "metadata": {
        "id": "MPOU6xBQN1b_"
      },
      "source": [
        "# Question 1, Part (b) : "
      ]
    },
    {
      "cell_type": "code",
      "metadata": {
        "id": "vYEz5XbON1b_"
      },
      "source": [
        "explore_pda('d', Labcd)"
      ],
      "execution_count": null,
      "outputs": []
    },
    {
      "cell_type": "code",
      "metadata": {
        "id": "n6R9t6O6N1cA"
      },
      "source": [
        "explore_pda('dd', Labcd)"
      ],
      "execution_count": null,
      "outputs": []
    },
    {
      "cell_type": "code",
      "metadata": {
        "id": "z1QDsrF2N1cA"
      },
      "source": [
        "explore_pda('cdd', Labcd)"
      ],
      "execution_count": null,
      "outputs": []
    },
    {
      "cell_type": "code",
      "metadata": {
        "id": "pZJOGHaPN1cB"
      },
      "source": [
        "explore_pda('ccdd', Labcd)"
      ],
      "execution_count": null,
      "outputs": []
    },
    {
      "cell_type": "code",
      "metadata": {
        "id": "LzlN4xH4N1cB"
      },
      "source": [
        "explore_pda('ccd', Labcd)"
      ],
      "execution_count": null,
      "outputs": []
    },
    {
      "cell_type": "code",
      "metadata": {
        "id": "Cex9HoFON1cC"
      },
      "source": [
        "explore_pda('acd', Labcd)"
      ],
      "execution_count": null,
      "outputs": []
    },
    {
      "cell_type": "code",
      "metadata": {
        "id": "63ezy3chN1cC"
      },
      "source": [
        "explore_pda('aacd', Labcd)"
      ],
      "execution_count": null,
      "outputs": []
    },
    {
      "cell_type": "code",
      "metadata": {
        "id": "YcOLKdaAN1cD"
      },
      "source": [
        "explore_pda('aaad', Labcd)"
      ],
      "execution_count": null,
      "outputs": []
    },
    {
      "cell_type": "code",
      "metadata": {
        "id": "tAcQwG_GN1cD"
      },
      "source": [
        "explore_pda('aaaccdd', Labcd)"
      ],
      "execution_count": null,
      "outputs": []
    },
    {
      "cell_type": "code",
      "metadata": {
        "id": "_ig5QCWpN1cD"
      },
      "source": [
        "explore_pda('aaaccddd', Labcd)"
      ],
      "execution_count": null,
      "outputs": []
    },
    {
      "cell_type": "code",
      "metadata": {
        "id": "CGJ0HcZhN1cE"
      },
      "source": [
        ""
      ],
      "execution_count": null,
      "outputs": []
    },
    {
      "cell_type": "markdown",
      "metadata": {
        "id": "ZF496Ja6N1cE"
      },
      "source": [
        "# Questions 2 and 3: Now do the PL proofs of MT2\n",
        "## Check Canvas for the actual question wording. \n",
        "## You have to answer this on Canvas."
      ]
    }
  ]
}